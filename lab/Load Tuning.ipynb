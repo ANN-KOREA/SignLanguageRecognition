{
 "cells": [
  {
   "cell_type": "code",
   "execution_count": 1,
   "metadata": {
    "collapsed": true
   },
   "outputs": [
    {
     "name": "stdout",
     "output_type": "stream",
     "text": [
      "{'computer': 1, 'deutschland': 2, 'hallo': 3, 'welt': 4}\n"
     ]
    }
   ],
   "source": [
    "%config IPCompleter.greedy=True\n",
    "\n",
    "# Imports\n",
    "import os\n",
    "import warnings\n",
    "import tools\n",
    "import pandas as pd\n",
    "import numpy as np\n",
    "import tensorflow as tf\n",
    "from tensorflow.keras.utils import to_categorical\n",
    "from sklearn.model_selection import train_test_split\n",
    "from tensorflow.keras.preprocessing import sequence\n",
    "from tensorflow.keras import layers, models\n",
    "from tensorflow.keras.models import Sequential\n",
    "from tensorflow.keras import layers\n",
    "from tensorflow.keras import optimizers\n",
    "from tensorflow.keras.layers import SimpleRNN, Dense\n",
    "from tensorflow.keras.layers import Bidirectional\n",
    "from matplotlib import pyplot\n",
    "\n",
    "# Ignore future warnings\n",
    "warnings.simplefilter(action='ignore', category=FutureWarning)\n",
    "\n",
    "# Root CSV files directory\n",
    "dirname = \"./data/\"\n",
    "\n",
    "# Constant frame count.\n",
    "frames = 100\n",
    "\n",
    "listfile = os.listdir(dirname)\n",
    "data = []\n",
    "for wordname in listfile:\n",
    "    if wordname == \".DS_Store\":\n",
    "        continue\n",
    "    for csv in os.listdir(dirname + wordname):\n",
    "        filepath = os.path.join(dirname, wordname, csv)\n",
    "        content = pd.read_csv(filepath, sep=';')\n",
    "        content = content.reindex(list(range(0, frames)), fill_value=0.0)\n",
    "        content.fillna(0.0, inplace = True) \n",
    "        data.append((wordname, content))\n",
    "        \n",
    "features = [n[1] for n in data]\n",
    "features = [f.to_numpy() for f in features]\n",
    "labels = [n[0] for n in data]\n",
    "x_train, x_val, y_train, y_val = train_test_split(features, labels, test_size=0.40, random_state=42)\n",
    "x_val, x_test, y_val, y_test = train_test_split(x_val, y_val, test_size=0.50, random_state=42)\n",
    "\n",
    "\n",
    "tokenizer = tools.tokenize(dirname)\n",
    "print(tokenizer.word_index)\n",
    "encoded_train=tokenizer.texts_to_sequences([y_train])[0]\n",
    "encoded_val=tokenizer.texts_to_sequences([y_val])[0]\n",
    "encoded_test=tokenizer.texts_to_sequences([y_test])[0]\n",
    "y_train = to_categorical(encoded_train)\n",
    "y_val = to_categorical(encoded_val)\n",
    "y_test = to_categorical(encoded_test)\n",
    "\n",
    "# Making numpy arrays\n",
    "x_train=np.array(x_train)\n",
    "y_train=np.array(y_train)\n",
    "x_val=np.array(x_val)\n",
    "y_val=np.array(y_val)\n",
    "x_test=np.array(x_test)\n",
    "y_test=np.array(y_test)\n"
   ]
  },
  {
   "cell_type": "code",
   "execution_count": 3,
   "metadata": {
    "collapsed": true
   },
   "outputs": [],
   "source": [
    "def build_model(hp):\n",
    "    model = Sequential()\n",
    "    \n",
    "    model.add(layers.LSTM(hp.Int(\"LSTM_input\", min_value =32, max_value=256,step=32), \n",
    "                            return_sequences=True,\n",
    "                            input_shape=(x_train.shape[1], x_train.shape[2])))\n",
    "    \n",
    "    for i in range(hp.Int(\"n_layers\" , 1, 4)):    \n",
    "        model.add(layers.LSTM(hp.Int(f\"LSTM_{i}_units\", min_value =32, max_value=256,step=32),\n",
    "                                return_sequences=True))\n",
    "    \n",
    "    model.add(layers.LSTM(hp.Int(f\"LSTM_End\", min_value =32, max_value=256,step=32)))\n",
    "    model.add(layers.Dense(5, activation='softmax'))\n",
    "    model.compile(loss='categorical_crossentropy',\n",
    "                  optimizer='rmsprop',\n",
    "                  metrics=['accuracy',tf.keras.metrics.Precision(),tf.keras.metrics.Recall()])\n",
    "    model.summary()\n",
    "    return model\n"
   ]
  },
  {
   "cell_type": "markdown",
   "metadata": {},
   "source": [
    "## Alternative 1\n",
    "Reload a Keras-Tuner LOG_DIR.... For this, the Tuner has to instantiated exactly like in the learning phase. LOG_DIR currently not included\n"
   ]
  },
  {
   "cell_type": "code",
   "execution_count": null,
   "metadata": {
    "collapsed": true
   },
   "outputs": [],
   "source": [
    "from kerastuner.tuners import Hyperband\n",
    "from kerastuner.engine.hyperparameters import HyperParameters\n",
    "\n",
    "tuner  = Hyperband(\n",
    "    build_model,\n",
    "    objective = \"val_accuracy\",\n",
    "    max_epochs=90,    \n",
    "    directory = \".\\Optimization_2020_04_07_121150\",\n",
    "    project_name='SignLagnuageModelOptimization'\n",
    "    )\n",
    "\n",
    "tuner.reload() \n",
    "\n"
   ]
  },
  {
   "cell_type": "code",
   "execution_count": null,
   "metadata": {
    "collapsed": true
   },
   "outputs": [],
   "source": [
    "best_hp = tuner.get_best_hyperparameters()[0]\n",
    "model= tuner.hypermodel.build(best_hp)\n",
    "\n",
    "history = model.fit(x_train,y_train,epochs=80,batch_size=32,validation_data=(x_val,y_val),shuffle=False)\n"
   ]
  },
  {
   "cell_type": "markdown",
   "metadata": {},
   "source": [
    "## Alternative 2\n",
    "Load Pickle object from learning/searching phase"
   ]
  },
  {
   "cell_type": "code",
   "execution_count": 4,
   "metadata": {},
   "outputs": [
    {
     "name": "stdout",
     "output_type": "stream",
     "text": [
      "Model: \"sequential\"\n",
      "_________________________________________________________________\n",
      "Layer (type)                 Output Shape              Param #   \n",
      "=================================================================\n",
      "lstm (LSTM)                  (None, 100, 256)          351232    \n",
      "_________________________________________________________________\n",
      "lstm_1 (LSTM)                (None, 100, 64)           82176     \n",
      "_________________________________________________________________\n",
      "lstm_2 (LSTM)                (None, 100, 64)           33024     \n",
      "_________________________________________________________________\n",
      "lstm_3 (LSTM)                (None, 64)                33024     \n",
      "_________________________________________________________________\n",
      "dense (Dense)                (None, 5)                 325       \n",
      "=================================================================\n",
      "Total params: 499,781\n",
      "Trainable params: 499,781\n",
      "Non-trainable params: 0\n",
      "_________________________________________________________________\n",
      "Train on 208 samples, validate on 69 samples\n",
      "Epoch 1/80\n",
      "208/208 [==============================] - ETA: 31s - loss: 1.6095 - accuracy: 0.1250 - precision: 0.0000e+00 - recall: 0.0000e+ - ETA: 13s - loss: 1.6058 - accuracy: 0.1875 - precision: 0.0000e+00 - recall: 0.0000e+ - ETA: 7s - loss: 1.5718 - accuracy: 0.2604 - precision: 0.0000e+00 - recall: 0.0000e+00 - ETA: 4s - loss: 1.5718 - accuracy: 0.2656 - precision: 1.0000 - recall: 0.0078        - ETA: 2s - loss: 1.5601 - accuracy: 0.2500 - precision: 1.0000 - recall: 0.006 - ETA: 0s - loss: 1.5024 - accuracy: 0.2969 - precision: 1.0000 - recall: 0.036 - 9s 43ms/sample - loss: 1.4873 - accuracy: 0.2981 - precision: 0.7857 - recall: 0.0529 - val_loss: 1.5604 - val_accuracy: 0.2754 - val_precision: 1.0000 - val_recall: 0.0145\n",
      "Epoch 2/80\n",
      "208/208 [==============================] - ETA: 1s - loss: 1.6096 - accuracy: 0.1562 - precision: 0.0000e+00 - recall: 0.0000e+0 - ETA: 1s - loss: 1.4370 - accuracy: 0.2969 - precision: 1.0000 - recall: 0.0625        - ETA: 1s - loss: 1.9057 - accuracy: 0.2604 - precision: 0.3030 - recall: 0.104 - ETA: 0s - loss: 1.7590 - accuracy: 0.2734 - precision: 0.3429 - recall: 0.093 - ETA: 0s - loss: 1.6572 - accuracy: 0.2812 - precision: 0.3947 - recall: 0.093 - ETA: 0s - loss: 1.5666 - accuracy: 0.3177 - precision: 0.4894 - recall: 0.119 - 2s 11ms/sample - loss: 1.5301 - accuracy: 0.3221 - precision: 0.5200 - recall: 0.1250 - val_loss: 1.1577 - val_accuracy: 0.4058 - val_precision: 0.7778 - val_recall: 0.2029\n",
      "Epoch 3/80\n",
      "208/208 [==============================] - ETA: 1s - loss: 1.0835 - accuracy: 0.5625 - precision: 0.8571 - recall: 0.187 - ETA: 1s - loss: 1.0356 - accuracy: 0.5781 - precision: 0.9333 - recall: 0.218 - ETA: 1s - loss: 1.0807 - accuracy: 0.5208 - precision: 0.8636 - recall: 0.197 - ETA: 0s - loss: 1.0756 - accuracy: 0.5078 - precision: 0.8929 - recall: 0.195 - ETA: 0s - loss: 1.0886 - accuracy: 0.5000 - precision: 0.8824 - recall: 0.187 - ETA: 0s - loss: 1.0812 - accuracy: 0.5052 - precision: 0.8837 - recall: 0.197 - 2s 10ms/sample - loss: 1.0755 - accuracy: 0.5000 - precision: 0.8913 - recall: 0.1971 - val_loss: 1.0633 - val_accuracy: 0.4348 - val_precision: 0.7368 - val_recall: 0.2029\n",
      "Epoch 4/80\n",
      "208/208 [==============================] - ETA: 1s - loss: 1.0245 - accuracy: 0.5938 - precision: 0.8571 - recall: 0.187 - ETA: 1s - loss: 0.9807 - accuracy: 0.5625 - precision: 0.7500 - recall: 0.234 - ETA: 1s - loss: 1.0321 - accuracy: 0.5208 - precision: 0.7917 - recall: 0.197 - ETA: 0s - loss: 1.0266 - accuracy: 0.5078 - precision: 0.7429 - recall: 0.203 - ETA: 0s - loss: 1.0473 - accuracy: 0.4812 - precision: 0.7692 - recall: 0.187 - ETA: 0s - loss: 1.1126 - accuracy: 0.4844 - precision: 0.6522 - recall: 0.234 - 2s 10ms/sample - loss: 1.1044 - accuracy: 0.4712 - precision: 0.6667 - recall: 0.2308 - val_loss: 1.0815 - val_accuracy: 0.4348 - val_precision: 0.7500 - val_recall: 0.2174\n",
      "Epoch 5/80\n",
      "208/208 [==============================] - ETA: 1s - loss: 1.0198 - accuracy: 0.5938 - precision: 0.8750 - recall: 0.218 - ETA: 1s - loss: 0.9475 - accuracy: 0.5938 - precision: 0.8824 - recall: 0.234 - ETA: 1s - loss: 0.9797 - accuracy: 0.5729 - precision: 0.8462 - recall: 0.229 - ETA: 0s - loss: 0.9936 - accuracy: 0.5547 - precision: 0.8333 - recall: 0.234 - ETA: 0s - loss: 1.0070 - accuracy: 0.5312 - precision: 0.8478 - recall: 0.243 - ETA: 0s - loss: 1.0065 - accuracy: 0.5312 - precision: 0.8571 - recall: 0.250 - 2s 10ms/sample - loss: 1.0025 - accuracy: 0.5192 - precision: 0.8667 - recall: 0.2500 - val_loss: 0.9962 - val_accuracy: 0.4928 - val_precision: 0.8421 - val_recall: 0.2319\n",
      "Epoch 6/80\n",
      "208/208 [==============================] - ETA: 1s - loss: 0.9824 - accuracy: 0.5938 - precision: 0.8571 - recall: 0.187 - ETA: 1s - loss: 0.9725 - accuracy: 0.5625 - precision: 0.7500 - recall: 0.234 - ETA: 0s - loss: 0.9862 - accuracy: 0.5625 - precision: 0.8148 - recall: 0.229 - ETA: 0s - loss: 0.9818 - accuracy: 0.5391 - precision: 0.8108 - recall: 0.234 - ETA: 0s - loss: 0.9784 - accuracy: 0.5250 - precision: 0.8163 - recall: 0.250 - ETA: 0s - loss: 0.9731 - accuracy: 0.5417 - precision: 0.8361 - recall: 0.265 - 2s 10ms/sample - loss: 0.9697 - accuracy: 0.5288 - precision: 0.8462 - recall: 0.2644 - val_loss: 0.9273 - val_accuracy: 0.5507 - val_precision: 0.8214 - val_recall: 0.3333\n",
      "Epoch 7/80\n",
      "208/208 [==============================] - ETA: 1s - loss: 0.8313 - accuracy: 0.7500 - precision: 0.8462 - recall: 0.343 - ETA: 1s - loss: 0.8457 - accuracy: 0.6719 - precision: 0.8000 - recall: 0.312 - ETA: 1s - loss: 0.8845 - accuracy: 0.6354 - precision: 0.8333 - recall: 0.312 - ETA: 0s - loss: 0.8957 - accuracy: 0.6094 - precision: 0.8511 - recall: 0.312 - ETA: 0s - loss: 0.9193 - accuracy: 0.5688 - precision: 0.7619 - recall: 0.300 - ETA: 0s - loss: 0.9343 - accuracy: 0.5677 - precision: 0.7703 - recall: 0.296 - 2s 10ms/sample - loss: 0.9705 - accuracy: 0.5577 - precision: 0.7079 - recall: 0.3029 - val_loss: 0.9299 - val_accuracy: 0.5942 - val_precision: 0.8696 - val_recall: 0.2899\n",
      "Epoch 8/80\n",
      "208/208 [==============================] - ETA: 1s - loss: 1.0119 - accuracy: 0.4062 - precision: 0.8889 - recall: 0.250 - ETA: 1s - loss: 0.9067 - accuracy: 0.4688 - precision: 0.7391 - recall: 0.265 - ETA: 1s - loss: 0.9200 - accuracy: 0.5000 - precision: 0.7879 - recall: 0.270 - ETA: 0s - loss: 0.9083 - accuracy: 0.5234 - precision: 0.8182 - recall: 0.281 - ETA: 0s - loss: 1.0211 - accuracy: 0.5000 - precision: 0.7000 - recall: 0.306 - ETA: 0s - loss: 1.0358 - accuracy: 0.5000 - precision: 0.7089 - recall: 0.291 - 2s 10ms/sample - loss: 1.0300 - accuracy: 0.4904 - precision: 0.7108 - recall: 0.2837 - val_loss: 0.8906 - val_accuracy: 0.6087 - val_precision: 0.8261 - val_recall: 0.2754\n",
      "Epoch 9/80\n",
      "208/208 [==============================] - ETA: 1s - loss: 0.8642 - accuracy: 0.7812 - precision: 1.0000 - recall: 0.218 - ETA: 1s - loss: 0.8615 - accuracy: 0.6406 - precision: 0.8000 - recall: 0.250 - ETA: 1s - loss: 0.8914 - accuracy: 0.6146 - precision: 0.8387 - recall: 0.270 - ETA: 0s - loss: 0.8934 - accuracy: 0.6094 - precision: 0.8605 - recall: 0.289 - ETA: 0s - loss: 0.8854 - accuracy: 0.5938 - precision: 0.8421 - recall: 0.300 - ETA: 0s - loss: 0.8866 - accuracy: 0.6042 - precision: 0.8551 - recall: 0.307 - 2s 11ms/sample - loss: 0.8937 - accuracy: 0.5817 - precision: 0.8493 - recall: 0.2981 - val_loss: 0.8259 - val_accuracy: 0.5942 - val_precision: 0.8966 - val_recall: 0.3768\n",
      "Epoch 10/80\n",
      "208/208 [==============================] - ETA: 1s - loss: 0.8194 - accuracy: 0.7188 - precision: 0.8182 - recall: 0.281 - ETA: 1s - loss: 0.8968 - accuracy: 0.6094 - precision: 0.6429 - recall: 0.281 - ETA: 1s - loss: 0.8940 - accuracy: 0.6042 - precision: 0.7436 - recall: 0.302 - ETA: 0s - loss: 0.8800 - accuracy: 0.6094 - precision: 0.7800 - recall: 0.304 - ETA: 0s - loss: 0.9620 - accuracy: 0.5938 - precision: 0.6842 - recall: 0.325 - ETA: 0s - loss: 0.9643 - accuracy: 0.5781 - precision: 0.7176 - recall: 0.317 - 2s 10ms/sample - loss: 0.9605 - accuracy: 0.5673 - precision: 0.7191 - recall: 0.3077 - val_loss: 0.9396 - val_accuracy: 0.6087 - val_precision: 0.7568 - val_recall: 0.4058\n",
      "Epoch 11/80\n"
     ]
    },
    {
     "name": "stdout",
     "output_type": "stream",
     "text": [
      "208/208 [==============================] - ETA: 1s - loss: 0.7579 - accuracy: 0.7500 - precision: 0.8667 - recall: 0.406 - ETA: 1s - loss: 0.7841 - accuracy: 0.6562 - precision: 0.6889 - recall: 0.484 - ETA: 1s - loss: 0.8237 - accuracy: 0.6354 - precision: 0.7321 - recall: 0.427 - ETA: 0s - loss: 0.8357 - accuracy: 0.6094 - precision: 0.7313 - recall: 0.382 - ETA: 0s - loss: 0.8784 - accuracy: 0.6000 - precision: 0.6889 - recall: 0.387 - ETA: 0s - loss: 0.8833 - accuracy: 0.5990 - precision: 0.7100 - recall: 0.369 - 2s 11ms/sample - loss: 0.8881 - accuracy: 0.5817 - precision: 0.7184 - recall: 0.3558 - val_loss: 0.8554 - val_accuracy: 0.6087 - val_precision: 0.8710 - val_recall: 0.3913\n",
      "Epoch 12/80\n",
      "208/208 [==============================] - ETA: 1s - loss: 0.6968 - accuracy: 0.7812 - precision: 0.8333 - recall: 0.312 - ETA: 1s - loss: 0.7575 - accuracy: 0.6719 - precision: 0.6512 - recall: 0.437 - ETA: 1s - loss: 0.7993 - accuracy: 0.6458 - precision: 0.6909 - recall: 0.395 - ETA: 0s - loss: 0.8334 - accuracy: 0.6094 - precision: 0.6912 - recall: 0.367 - ETA: 0s - loss: 0.8996 - accuracy: 0.5938 - precision: 0.6421 - recall: 0.381 - ETA: 0s - loss: 0.9020 - accuracy: 0.5833 - precision: 0.6667 - recall: 0.364 - 2s 11ms/sample - loss: 0.8946 - accuracy: 0.5865 - precision: 0.6759 - recall: 0.3510 - val_loss: 0.8549 - val_accuracy: 0.5797 - val_precision: 0.8889 - val_recall: 0.3478\n",
      "Epoch 13/80\n",
      "208/208 [==============================] - ETA: 1s - loss: 0.8188 - accuracy: 0.6875 - precision: 0.8000 - recall: 0.250 - ETA: 1s - loss: 0.7958 - accuracy: 0.6250 - precision: 0.6500 - recall: 0.406 - ETA: 1s - loss: 0.8072 - accuracy: 0.6250 - precision: 0.6522 - recall: 0.468 - ETA: 0s - loss: 0.8026 - accuracy: 0.6250 - precision: 0.6867 - recall: 0.445 - ETA: 0s - loss: 0.8493 - accuracy: 0.6062 - precision: 0.6636 - recall: 0.443 - ETA: 0s - loss: 0.8626 - accuracy: 0.5990 - precision: 0.6838 - recall: 0.416 - 2s 11ms/sample - loss: 0.8709 - accuracy: 0.5769 - precision: 0.6860 - recall: 0.3990 - val_loss: 0.8585 - val_accuracy: 0.6087 - val_precision: 0.8710 - val_recall: 0.3913\n",
      "Epoch 14/80\n",
      "208/208 [==============================] - ETA: 1s - loss: 0.7535 - accuracy: 0.7188 - precision: 0.8182 - recall: 0.281 - ETA: 1s - loss: 0.7462 - accuracy: 0.6719 - precision: 0.7000 - recall: 0.437 - ETA: 1s - loss: 0.7856 - accuracy: 0.6458 - precision: 0.6714 - recall: 0.489 - ETA: 0s - loss: 0.7976 - accuracy: 0.6172 - precision: 0.6588 - recall: 0.437 - ETA: 0s - loss: 0.8338 - accuracy: 0.6000 - precision: 0.6481 - recall: 0.437 - ETA: 0s - loss: 0.8467 - accuracy: 0.5938 - precision: 0.6695 - recall: 0.411 - 2s 11ms/sample - loss: 0.8407 - accuracy: 0.5769 - precision: 0.6721 - recall: 0.3942 - val_loss: 1.3968 - val_accuracy: 0.4783 - val_precision: 0.5000 - val_recall: 0.3768\n",
      "Epoch 15/80\n",
      "208/208 [==============================] - ETA: 1s - loss: 1.0580 - accuracy: 0.5312 - precision: 0.4545 - recall: 0.312 - ETA: 1s - loss: 0.9574 - accuracy: 0.5312 - precision: 0.5192 - recall: 0.421 - ETA: 1s - loss: 0.9127 - accuracy: 0.5729 - precision: 0.5769 - recall: 0.468 - ETA: 0s - loss: 0.8785 - accuracy: 0.5781 - precision: 0.5810 - recall: 0.476 - ETA: 0s - loss: 0.8700 - accuracy: 0.5750 - precision: 0.6066 - recall: 0.462 - ETA: 0s - loss: 0.8672 - accuracy: 0.5833 - precision: 0.6343 - recall: 0.442 - 2s 10ms/sample - loss: 0.8516 - accuracy: 0.5769 - precision: 0.6429 - recall: 0.4327 - val_loss: 0.7460 - val_accuracy: 0.6232 - val_precision: 0.6418 - val_recall: 0.6232\n",
      "Epoch 16/80\n",
      "208/208 [==============================] - ETA: 1s - loss: 0.7347 - accuracy: 0.7500 - precision: 0.7742 - recall: 0.750 - ETA: 1s - loss: 0.6817 - accuracy: 0.7031 - precision: 0.7097 - recall: 0.687 - ETA: 1s - loss: 0.7167 - accuracy: 0.6771 - precision: 0.6809 - recall: 0.666 - ETA: 0s - loss: 0.7560 - accuracy: 0.6250 - precision: 0.6270 - recall: 0.617 - ETA: 0s - loss: 0.7570 - accuracy: 0.6187 - precision: 0.6483 - recall: 0.587 - ETA: 0s - loss: 0.8044 - accuracy: 0.6042 - precision: 0.6667 - recall: 0.541 - 2s 10ms/sample - loss: 0.8166 - accuracy: 0.5865 - precision: 0.6750 - recall: 0.5192 - val_loss: 0.8515 - val_accuracy: 0.5652 - val_precision: 0.6230 - val_recall: 0.5507\n",
      "Epoch 17/80\n",
      "208/208 [==============================] - ETA: 1s - loss: 0.7664 - accuracy: 0.6875 - precision: 0.7333 - recall: 0.687 - ETA: 1s - loss: 0.7426 - accuracy: 0.6250 - precision: 0.6780 - recall: 0.625 - ETA: 1s - loss: 0.7834 - accuracy: 0.6042 - precision: 0.7200 - recall: 0.562 - ETA: 0s - loss: 0.8042 - accuracy: 0.5859 - precision: 0.7273 - recall: 0.500 - ETA: 0s - loss: 0.7838 - accuracy: 0.5875 - precision: 0.7404 - recall: 0.481 - ETA: 0s - loss: 0.8036 - accuracy: 0.5990 - precision: 0.7563 - recall: 0.468 - 2s 11ms/sample - loss: 0.8193 - accuracy: 0.5769 - precision: 0.7561 - recall: 0.4471 - val_loss: 0.7176 - val_accuracy: 0.6087 - val_precision: 0.6667 - val_recall: 0.5797\n",
      "Epoch 18/80\n",
      "208/208 [==============================] - ETA: 1s - loss: 0.7426 - accuracy: 0.7188 - precision: 0.7667 - recall: 0.718 - ETA: 1s - loss: 0.7233 - accuracy: 0.6406 - precision: 0.7407 - recall: 0.625 - ETA: 1s - loss: 0.7444 - accuracy: 0.6354 - precision: 0.7284 - recall: 0.614 - ETA: 0s - loss: 0.8460 - accuracy: 0.6016 - precision: 0.6731 - recall: 0.546 - ETA: 0s - loss: 0.8623 - accuracy: 0.5938 - precision: 0.6935 - recall: 0.537 - ETA: 0s - loss: 0.8650 - accuracy: 0.6146 - precision: 0.7007 - recall: 0.536 - 2s 11ms/sample - loss: 0.8473 - accuracy: 0.6298 - precision: 0.7070 - recall: 0.5337 - val_loss: 0.8927 - val_accuracy: 0.6232 - val_precision: 0.6324 - val_recall: 0.6232\n",
      "Epoch 19/80\n",
      "208/208 [==============================] - ETA: 1s - loss: 0.7205 - accuracy: 0.7500 - precision: 0.7742 - recall: 0.750 - ETA: 1s - loss: 0.7172 - accuracy: 0.6719 - precision: 0.6825 - recall: 0.671 - ETA: 0s - loss: 0.7269 - accuracy: 0.7188 - precision: 0.7294 - recall: 0.645 - ETA: 0s - loss: 0.7216 - accuracy: 0.7266 - precision: 0.7232 - recall: 0.632 - ETA: 0s - loss: 0.7273 - accuracy: 0.7188 - precision: 0.7163 - recall: 0.631 - ETA: 0s - loss: 0.7472 - accuracy: 0.7135 - precision: 0.7110 - recall: 0.640 - 2s 10ms/sample - loss: 0.7348 - accuracy: 0.7260 - precision: 0.7207 - recall: 0.6202 - val_loss: 0.7879 - val_accuracy: 0.6957 - val_precision: 0.7049 - val_recall: 0.6232\n",
      "Epoch 20/80\n",
      "208/208 [==============================] - ETA: 1s - loss: 0.6548 - accuracy: 0.7812 - precision: 0.7667 - recall: 0.718 - ETA: 1s - loss: 0.6535 - accuracy: 0.7344 - precision: 0.7288 - recall: 0.671 - ETA: 1s - loss: 0.7130 - accuracy: 0.6979 - precision: 0.6923 - recall: 0.656 - ETA: 0s - loss: 0.7700 - accuracy: 0.6719 - precision: 0.6667 - recall: 0.640 - ETA: 0s - loss: 0.7487 - accuracy: 0.6687 - precision: 0.6645 - recall: 0.643 - ETA: 0s - loss: 0.7577 - accuracy: 0.6615 - precision: 0.6860 - recall: 0.614 - 2s 11ms/sample - loss: 0.7437 - accuracy: 0.6490 - precision: 0.6702 - recall: 0.6058 - val_loss: 0.6716 - val_accuracy: 0.6812 - val_precision: 0.6812 - val_recall: 0.6812\n",
      "Epoch 21/80\n",
      "208/208 [==============================] - ETA: 1s - loss: 0.6070 - accuracy: 0.7812 - precision: 0.7812 - recall: 0.781 - ETA: 1s - loss: 0.5825 - accuracy: 0.7500 - precision: 0.7500 - recall: 0.750 - ETA: 1s - loss: 0.6347 - accuracy: 0.7292 - precision: 0.7292 - recall: 0.729 - ETA: 0s - loss: 0.7333 - accuracy: 0.6562 - precision: 0.6614 - recall: 0.656 - ETA: 0s - loss: 0.8098 - accuracy: 0.6500 - precision: 0.6561 - recall: 0.643 - ETA: 0s - loss: 0.7985 - accuracy: 0.6771 - precision: 0.6809 - recall: 0.666 - 2s 10ms/sample - loss: 0.7798 - accuracy: 0.6875 - precision: 0.6912 - recall: 0.6779 - val_loss: 0.6805 - val_accuracy: 0.7246 - val_precision: 0.7385 - val_recall: 0.6957\n",
      "Epoch 22/80\n"
     ]
    },
    {
     "name": "stdout",
     "output_type": "stream",
     "text": [
      "208/208 [==============================] - ETA: 1s - loss: 0.5940 - accuracy: 0.7812 - precision: 0.8065 - recall: 0.781 - ETA: 1s - loss: 0.5716 - accuracy: 0.7812 - precision: 0.8000 - recall: 0.750 - ETA: 0s - loss: 0.6155 - accuracy: 0.7708 - precision: 0.7753 - recall: 0.718 - ETA: 0s - loss: 0.6575 - accuracy: 0.7344 - precision: 0.7355 - recall: 0.695 - ETA: 0s - loss: 0.6840 - accuracy: 0.7375 - precision: 0.7351 - recall: 0.693 - ETA: 0s - loss: 0.6882 - accuracy: 0.7448 - precision: 0.7444 - recall: 0.697 - 2s 10ms/sample - loss: 0.6675 - accuracy: 0.7596 - precision: 0.7602 - recall: 0.7163 - val_loss: 0.7175 - val_accuracy: 0.7681 - val_precision: 0.7681 - val_recall: 0.7681\n",
      "Epoch 23/80\n",
      "208/208 [==============================] - ETA: 1s - loss: 0.6177 - accuracy: 0.7812 - precision: 0.7812 - recall: 0.781 - ETA: 1s - loss: 0.5699 - accuracy: 0.7969 - precision: 0.7937 - recall: 0.781 - ETA: 1s - loss: 0.6644 - accuracy: 0.7188 - precision: 0.7234 - recall: 0.708 - ETA: 0s - loss: 0.7163 - accuracy: 0.6797 - precision: 0.6825 - recall: 0.671 - ETA: 0s - loss: 0.7090 - accuracy: 0.6938 - precision: 0.7006 - recall: 0.687 - ETA: 0s - loss: 0.7058 - accuracy: 0.6979 - precision: 0.7059 - recall: 0.687 - 2s 11ms/sample - loss: 0.7108 - accuracy: 0.6875 - precision: 0.7000 - recall: 0.6731 - val_loss: 0.6853 - val_accuracy: 0.6232 - val_precision: 0.6232 - val_recall: 0.6232\n",
      "Epoch 24/80\n",
      "208/208 [==============================] - ETA: 1s - loss: 0.5440 - accuracy: 0.8125 - precision: 0.8065 - recall: 0.781 - ETA: 1s - loss: 0.6634 - accuracy: 0.7031 - precision: 0.7097 - recall: 0.687 - ETA: 1s - loss: 0.7614 - accuracy: 0.6562 - precision: 0.7381 - recall: 0.645 - ETA: 0s - loss: 0.7737 - accuracy: 0.6797 - precision: 0.7391 - recall: 0.664 - ETA: 0s - loss: 0.7590 - accuracy: 0.6812 - precision: 0.7279 - recall: 0.668 - ETA: 0s - loss: 0.7842 - accuracy: 0.6771 - precision: 0.7151 - recall: 0.666 - 2s 11ms/sample - loss: 0.8038 - accuracy: 0.6490 - precision: 0.6821 - recall: 0.6394 - val_loss: 0.7001 - val_accuracy: 0.7246 - val_precision: 0.7907 - val_recall: 0.4928\n",
      "Epoch 25/80\n",
      "208/208 [==============================] - ETA: 1s - loss: 0.7007 - accuracy: 0.6562 - precision: 0.8333 - recall: 0.625 - ETA: 1s - loss: 0.6538 - accuracy: 0.6875 - precision: 0.7600 - recall: 0.593 - ETA: 1s - loss: 0.6991 - accuracy: 0.6354 - precision: 0.7857 - recall: 0.572 - ETA: 0s - loss: 0.7071 - accuracy: 0.6719 - precision: 0.7935 - recall: 0.570 - ETA: 0s - loss: 0.7789 - accuracy: 0.6375 - precision: 0.7236 - recall: 0.556 - ETA: 0s - loss: 0.7808 - accuracy: 0.6667 - precision: 0.7347 - recall: 0.562 - 2s 11ms/sample - loss: 0.7641 - accuracy: 0.6779 - precision: 0.7423 - recall: 0.5817 - val_loss: 0.5938 - val_accuracy: 0.8116 - val_precision: 0.8088 - val_recall: 0.7971\n",
      "Epoch 26/80\n",
      "208/208 [==============================] - ETA: 1s - loss: 0.5959 - accuracy: 0.8438 - precision: 0.8710 - recall: 0.843 - ETA: 1s - loss: 0.5248 - accuracy: 0.8594 - precision: 0.8730 - recall: 0.859 - ETA: 1s - loss: 0.5169 - accuracy: 0.8542 - precision: 0.8632 - recall: 0.854 - ETA: 0s - loss: 0.5610 - accuracy: 0.8203 - precision: 0.8268 - recall: 0.820 - ETA: 0s - loss: 0.5521 - accuracy: 0.8250 - precision: 0.8302 - recall: 0.825 - ETA: 0s - loss: 0.5860 - accuracy: 0.8229 - precision: 0.8272 - recall: 0.822 - 2s 11ms/sample - loss: 0.5686 - accuracy: 0.8269 - precision: 0.8309 - recall: 0.8269 - val_loss: 0.4253 - val_accuracy: 0.8841 - val_precision: 0.8841 - val_recall: 0.8841\n",
      "Epoch 27/80\n",
      "208/208 [==============================] - ETA: 1s - loss: 0.5235 - accuracy: 0.8750 - precision: 0.9032 - recall: 0.875 - ETA: 1s - loss: 0.4389 - accuracy: 0.8906 - precision: 0.9048 - recall: 0.890 - ETA: 1s - loss: 0.4590 - accuracy: 0.8750 - precision: 0.8842 - recall: 0.875 - ETA: 0s - loss: 0.6287 - accuracy: 0.8359 - precision: 0.8413 - recall: 0.828 - ETA: 0s - loss: 0.6801 - accuracy: 0.7937 - precision: 0.7975 - recall: 0.787 - ETA: 0s - loss: 0.7080 - accuracy: 0.7760 - precision: 0.7789 - recall: 0.770 - 2s 11ms/sample - loss: 0.6873 - accuracy: 0.7788 - precision: 0.7816 - recall: 0.7740 - val_loss: 0.6468 - val_accuracy: 0.7246 - val_precision: 0.7246 - val_recall: 0.7246\n",
      "Epoch 28/80\n",
      "208/208 [==============================] - ETA: 2s - loss: 0.6716 - accuracy: 0.7500 - precision: 0.7500 - recall: 0.750 - ETA: 1s - loss: 0.6004 - accuracy: 0.7500 - precision: 0.7500 - recall: 0.750 - ETA: 1s - loss: 0.6356 - accuracy: 0.7292 - precision: 0.7292 - recall: 0.729 - ETA: 0s - loss: 0.6547 - accuracy: 0.7266 - precision: 0.7266 - recall: 0.726 - ETA: 0s - loss: 0.6473 - accuracy: 0.7125 - precision: 0.7125 - recall: 0.712 - ETA: 0s - loss: 0.6640 - accuracy: 0.7083 - precision: 0.7120 - recall: 0.708 - 3s 12ms/sample - loss: 0.6701 - accuracy: 0.6923 - precision: 0.6957 - recall: 0.6923 - val_loss: 0.6129 - val_accuracy: 0.7681 - val_precision: 0.7681 - val_recall: 0.7681\n",
      "Epoch 29/80\n",
      "208/208 [==============================] - ETA: 2s - loss: 0.6084 - accuracy: 0.8125 - precision: 0.8125 - recall: 0.812 - ETA: 1s - loss: 0.7577 - accuracy: 0.7656 - precision: 0.7656 - recall: 0.765 - ETA: 1s - loss: 0.7063 - accuracy: 0.7917 - precision: 0.7917 - recall: 0.791 - ETA: 0s - loss: 0.6759 - accuracy: 0.7969 - precision: 0.7969 - recall: 0.796 - ETA: 0s - loss: 0.6496 - accuracy: 0.8062 - precision: 0.8062 - recall: 0.806 - ETA: 0s - loss: 0.6456 - accuracy: 0.8073 - precision: 0.8073 - recall: 0.807 - 3s 13ms/sample - loss: 0.6300 - accuracy: 0.8125 - precision: 0.8125 - recall: 0.8125 - val_loss: 0.5309 - val_accuracy: 0.8551 - val_precision: 0.8657 - val_recall: 0.8406\n",
      "Epoch 30/80\n",
      "208/208 [==============================] - ETA: 1s - loss: 0.5882 - accuracy: 0.8125 - precision: 0.8000 - recall: 0.750 - ETA: 1s - loss: 0.5892 - accuracy: 0.7812 - precision: 0.7869 - recall: 0.750 - ETA: 1s - loss: 0.5825 - accuracy: 0.8021 - precision: 0.8065 - recall: 0.781 - ETA: 0s - loss: 0.6369 - accuracy: 0.7656 - precision: 0.7680 - recall: 0.750 - ETA: 0s - loss: 0.6389 - accuracy: 0.7688 - precision: 0.7707 - recall: 0.756 - ETA: 0s - loss: 0.6539 - accuracy: 0.7656 - precision: 0.7672 - recall: 0.755 - 2s 12ms/sample - loss: 0.6632 - accuracy: 0.7596 - precision: 0.7610 - recall: 0.7500 - val_loss: 0.8970 - val_accuracy: 0.6667 - val_precision: 0.6667 - val_recall: 0.6667\n",
      "Epoch 31/80\n",
      "208/208 [==============================] - ETA: 2s - loss: 1.1423 - accuracy: 0.5625 - precision: 0.5484 - recall: 0.531 - ETA: 1s - loss: 1.0230 - accuracy: 0.5781 - precision: 0.5806 - recall: 0.562 - ETA: 1s - loss: 0.9996 - accuracy: 0.5625 - precision: 0.5638 - recall: 0.552 - ETA: 0s - loss: 0.9637 - accuracy: 0.5703 - precision: 0.5966 - recall: 0.554 - ETA: 0s - loss: 0.9160 - accuracy: 0.6062 - precision: 0.6333 - recall: 0.593 - ETA: 0s - loss: 0.9022 - accuracy: 0.6146 - precision: 0.6374 - recall: 0.604 - 3s 13ms/sample - loss: 0.8953 - accuracy: 0.6058 - precision: 0.6224 - recall: 0.5865 - val_loss: 1.2136 - val_accuracy: 0.6232 - val_precision: 0.6786 - val_recall: 0.5507\n",
      "Epoch 32/80\n",
      "208/208 [==============================] - ETA: 1s - loss: 0.7704 - accuracy: 0.7812 - precision: 0.8519 - recall: 0.718 - ETA: 1s - loss: 0.7675 - accuracy: 0.7031 - precision: 0.7288 - recall: 0.671 - ETA: 1s - loss: 0.7480 - accuracy: 0.6875 - precision: 0.7033 - recall: 0.666 - ETA: 0s - loss: 0.7347 - accuracy: 0.6562 - precision: 0.7009 - recall: 0.585 - ETA: 0s - loss: 0.7729 - accuracy: 0.6687 - precision: 0.7000 - recall: 0.568 - ETA: 0s - loss: 0.7781 - accuracy: 0.6510 - precision: 0.7039 - recall: 0.557 - 3s 12ms/sample - loss: 0.8102 - accuracy: 0.6346 - precision: 0.6867 - recall: 0.5481 - val_loss: 0.7280 - val_accuracy: 0.8406 - val_precision: 0.9167 - val_recall: 0.4783\n",
      "Epoch 33/80\n"
     ]
    },
    {
     "name": "stdout",
     "output_type": "stream",
     "text": [
      "208/208 [==============================] - ETA: 1s - loss: 0.8486 - accuracy: 0.6250 - precision: 0.8750 - recall: 0.437 - ETA: 1s - loss: 0.7134 - accuracy: 0.6406 - precision: 0.7391 - recall: 0.531 - ETA: 1s - loss: 0.6961 - accuracy: 0.6771 - precision: 0.7761 - recall: 0.541 - ETA: 0s - loss: 0.7835 - accuracy: 0.6406 - precision: 0.7222 - recall: 0.507 - ETA: 0s - loss: 0.7865 - accuracy: 0.6375 - precision: 0.7025 - recall: 0.531 - ETA: 0s - loss: 0.7707 - accuracy: 0.6667 - precision: 0.7203 - recall: 0.536 - 3s 13ms/sample - loss: 0.7497 - accuracy: 0.6827 - precision: 0.7372 - recall: 0.5529 - val_loss: 0.7328 - val_accuracy: 0.6377 - val_precision: 0.6471 - val_recall: 0.6377\n",
      "Epoch 34/80\n",
      "208/208 [==============================] - ETA: 1s - loss: 0.5026 - accuracy: 0.8125 - precision: 0.8125 - recall: 0.812 - ETA: 1s - loss: 0.5107 - accuracy: 0.7500 - precision: 0.7931 - recall: 0.718 - ETA: 1s - loss: 0.5285 - accuracy: 0.7917 - precision: 0.8222 - recall: 0.770 - ETA: 0s - loss: 0.5655 - accuracy: 0.7734 - precision: 0.7951 - recall: 0.757 - ETA: 0s - loss: 0.5982 - accuracy: 0.7688 - precision: 0.7843 - recall: 0.750 - ETA: 0s - loss: 0.6082 - accuracy: 0.7708 - precision: 0.7838 - recall: 0.755 - 2s 12ms/sample - loss: 0.6303 - accuracy: 0.7452 - precision: 0.7562 - recall: 0.7308 - val_loss: 0.5706 - val_accuracy: 0.8116 - val_precision: 0.8462 - val_recall: 0.7971\n",
      "Epoch 35/80\n",
      "208/208 [==============================] - ETA: 1s - loss: 0.4340 - accuracy: 0.8750 - precision: 0.8750 - recall: 0.875 - ETA: 1s - loss: 0.4318 - accuracy: 0.8594 - precision: 0.8710 - recall: 0.843 - ETA: 1s - loss: 0.4379 - accuracy: 0.8438 - precision: 0.8602 - recall: 0.833 - ETA: 0s - loss: 0.4820 - accuracy: 0.8359 - precision: 0.8480 - recall: 0.828 - ETA: 0s - loss: 0.4882 - accuracy: 0.8313 - precision: 0.8452 - recall: 0.818 - ETA: 0s - loss: 0.5299 - accuracy: 0.8125 - precision: 0.8324 - recall: 0.802 - 3s 12ms/sample - loss: 0.5213 - accuracy: 0.8125 - precision: 0.8308 - recall: 0.8029 - val_loss: 0.5492 - val_accuracy: 0.7971 - val_precision: 0.7941 - val_recall: 0.7826\n",
      "Epoch 36/80\n",
      "208/208 [==============================] - ETA: 2s - loss: 0.5298 - accuracy: 0.8125 - precision: 0.8065 - recall: 0.781 - ETA: 1s - loss: 0.5558 - accuracy: 0.8281 - precision: 0.8333 - recall: 0.781 - ETA: 1s - loss: 0.4943 - accuracy: 0.8542 - precision: 0.8587 - recall: 0.822 - ETA: 0s - loss: 0.5969 - accuracy: 0.8203 - precision: 0.8226 - recall: 0.796 - ETA: 0s - loss: 0.6590 - accuracy: 0.7812 - precision: 0.7821 - recall: 0.762 - ETA: 0s - loss: 0.6518 - accuracy: 0.7865 - precision: 0.7872 - recall: 0.770 - 2s 12ms/sample - loss: 0.6221 - accuracy: 0.7933 - precision: 0.7941 - recall: 0.7788 - val_loss: 0.5236 - val_accuracy: 0.8261 - val_precision: 0.8261 - val_recall: 0.8261\n",
      "Epoch 37/80\n",
      "208/208 [==============================] - ETA: 1s - loss: 0.5016 - accuracy: 0.8125 - precision: 0.8387 - recall: 0.812 - ETA: 1s - loss: 0.3887 - accuracy: 0.8750 - precision: 0.8889 - recall: 0.875 - ETA: 1s - loss: 0.3728 - accuracy: 0.8854 - precision: 0.8947 - recall: 0.885 - ETA: 0s - loss: 0.4158 - accuracy: 0.8594 - precision: 0.8661 - recall: 0.859 - ETA: 0s - loss: 0.4363 - accuracy: 0.8562 - precision: 0.8616 - recall: 0.856 - ETA: 0s - loss: 0.4980 - accuracy: 0.8385 - precision: 0.8429 - recall: 0.838 - 2s 11ms/sample - loss: 0.4942 - accuracy: 0.8317 - precision: 0.8357 - recall: 0.8317 - val_loss: 1.0414 - val_accuracy: 0.6667 - val_precision: 0.6667 - val_recall: 0.6667\n",
      "Epoch 38/80\n",
      "208/208 [==============================] - ETA: 1s - loss: 0.9059 - accuracy: 0.7188 - precision: 0.7188 - recall: 0.718 - ETA: 1s - loss: 0.6124 - accuracy: 0.8125 - precision: 0.8125 - recall: 0.812 - ETA: 1s - loss: 0.5038 - accuracy: 0.8438 - precision: 0.8438 - recall: 0.843 - ETA: 0s - loss: 0.4989 - accuracy: 0.8516 - precision: 0.8516 - recall: 0.851 - ETA: 0s - loss: 0.4834 - accuracy: 0.8562 - precision: 0.8562 - recall: 0.856 - ETA: 0s - loss: 0.5101 - accuracy: 0.8438 - precision: 0.8438 - recall: 0.843 - 2s 11ms/sample - loss: 0.4848 - accuracy: 0.8510 - precision: 0.8510 - recall: 0.8510 - val_loss: 0.4315 - val_accuracy: 0.8986 - val_precision: 0.9118 - val_recall: 0.8986\n",
      "Epoch 39/80\n",
      "208/208 [==============================] - ETA: 1s - loss: 0.3413 - accuracy: 0.9062 - precision: 0.9032 - recall: 0.875 - ETA: 1s - loss: 0.2821 - accuracy: 0.9219 - precision: 0.9206 - recall: 0.906 - ETA: 0s - loss: 0.2822 - accuracy: 0.9167 - precision: 0.9158 - recall: 0.906 - ETA: 0s - loss: 0.3516 - accuracy: 0.8750 - precision: 0.8740 - recall: 0.867 - ETA: 0s - loss: 0.3769 - accuracy: 0.8750 - precision: 0.8742 - recall: 0.868 - ETA: 0s - loss: 0.4256 - accuracy: 0.8594 - precision: 0.8586 - recall: 0.854 - 2s 11ms/sample - loss: 0.4304 - accuracy: 0.8558 - precision: 0.8551 - recall: 0.8510 - val_loss: 0.6294 - val_accuracy: 0.7826 - val_precision: 0.7826 - val_recall: 0.7826\n",
      "Epoch 40/80\n",
      "208/208 [==============================] - ETA: 2s - loss: 0.6203 - accuracy: 0.8125 - precision: 0.8125 - recall: 0.812 - ETA: 1s - loss: 0.4233 - accuracy: 0.8750 - precision: 0.8750 - recall: 0.875 - ETA: 1s - loss: 0.3658 - accuracy: 0.8958 - precision: 0.8947 - recall: 0.885 - ETA: 0s - loss: 0.3903 - accuracy: 0.8906 - precision: 0.8898 - recall: 0.882 - ETA: 0s - loss: 0.4023 - accuracy: 0.8813 - precision: 0.8805 - recall: 0.875 - ETA: 0s - loss: 0.4323 - accuracy: 0.8750 - precision: 0.8743 - recall: 0.869 - 3s 13ms/sample - loss: 0.4125 - accuracy: 0.8798 - precision: 0.8792 - recall: 0.8750 - val_loss: 0.4447 - val_accuracy: 0.9130 - val_precision: 0.9130 - val_recall: 0.9130\n",
      "Epoch 41/80\n",
      "208/208 [==============================] - ETA: 1s - loss: 0.4601 - accuracy: 0.8438 - precision: 0.8438 - recall: 0.843 - ETA: 1s - loss: 0.8622 - accuracy: 0.7344 - precision: 0.7344 - recall: 0.734 - ETA: 1s - loss: 0.8192 - accuracy: 0.7292 - precision: 0.7292 - recall: 0.729 - ETA: 0s - loss: 0.8458 - accuracy: 0.6953 - precision: 0.6953 - recall: 0.695 - ETA: 0s - loss: 0.8028 - accuracy: 0.7000 - precision: 0.7000 - recall: 0.700 - ETA: 0s - loss: 0.7868 - accuracy: 0.7083 - precision: 0.7083 - recall: 0.708 - 2s 12ms/sample - loss: 0.7536 - accuracy: 0.7260 - precision: 0.7260 - recall: 0.7260 - val_loss: 0.7338 - val_accuracy: 0.7826 - val_precision: 0.7941 - val_recall: 0.7826\n",
      "Epoch 42/80\n",
      "208/208 [==============================] - ETA: 1s - loss: 0.7885 - accuracy: 0.6875 - precision: 0.6875 - recall: 0.687 - ETA: 1s - loss: 0.6940 - accuracy: 0.7344 - precision: 0.7344 - recall: 0.734 - ETA: 1s - loss: 0.6071 - accuracy: 0.7917 - precision: 0.7917 - recall: 0.791 - ETA: 0s - loss: 0.5777 - accuracy: 0.8047 - precision: 0.8031 - recall: 0.796 - ETA: 0s - loss: 0.7838 - accuracy: 0.7375 - precision: 0.7597 - recall: 0.731 - ETA: 0s - loss: 0.8673 - accuracy: 0.7135 - precision: 0.7293 - recall: 0.687 - 2s 11ms/sample - loss: 0.8626 - accuracy: 0.7260 - precision: 0.7316 - recall: 0.6683 - val_loss: 0.9751 - val_accuracy: 0.6667 - val_precision: 0.6667 - val_recall: 0.6667\n",
      "Epoch 43/80\n",
      "208/208 [==============================] - ETA: 1s - loss: 0.8055 - accuracy: 0.7812 - precision: 0.7812 - recall: 0.781 - ETA: 1s - loss: 0.8195 - accuracy: 0.7188 - precision: 0.7188 - recall: 0.718 - ETA: 1s - loss: 0.7946 - accuracy: 0.7083 - precision: 0.7083 - recall: 0.708 - ETA: 0s - loss: 0.7942 - accuracy: 0.6953 - precision: 0.6953 - recall: 0.695 - ETA: 0s - loss: 0.8024 - accuracy: 0.6812 - precision: 0.6812 - recall: 0.681 - ETA: 0s - loss: 0.8215 - accuracy: 0.6719 - precision: 0.6719 - recall: 0.671 - 2s 11ms/sample - loss: 0.7986 - accuracy: 0.6875 - precision: 0.6875 - recall: 0.6875 - val_loss: 0.7458 - val_accuracy: 0.6667 - val_precision: 0.6618 - val_recall: 0.6522\n",
      "Epoch 44/80\n"
     ]
    },
    {
     "name": "stdout",
     "output_type": "stream",
     "text": [
      "208/208 [==============================] - ETA: 1s - loss: 0.6035 - accuracy: 0.7812 - precision: 0.7812 - recall: 0.781 - ETA: 1s - loss: 0.5835 - accuracy: 0.7188 - precision: 0.7258 - recall: 0.703 - ETA: 1s - loss: 0.5986 - accuracy: 0.6979 - precision: 0.7531 - recall: 0.635 - ETA: 0s - loss: 0.6142 - accuracy: 0.6875 - precision: 0.7800 - recall: 0.609 - ETA: 0s - loss: 0.6296 - accuracy: 0.7000 - precision: 0.8000 - recall: 0.600 - ETA: 0s - loss: 0.6493 - accuracy: 0.6979 - precision: 0.8014 - recall: 0.609 - 2s 12ms/sample - loss: 0.6327 - accuracy: 0.7115 - precision: 0.8086 - recall: 0.6298 - val_loss: 0.9613 - val_accuracy: 0.6667 - val_precision: 0.6667 - val_recall: 0.6667\n",
      "Epoch 45/80\n",
      "208/208 [==============================] - ETA: 1s - loss: 0.9026 - accuracy: 0.7188 - precision: 0.7188 - recall: 0.718 - ETA: 1s - loss: 0.8835 - accuracy: 0.6875 - precision: 0.6875 - recall: 0.687 - ETA: 1s - loss: 0.8149 - accuracy: 0.6979 - precision: 0.6979 - recall: 0.697 - ETA: 0s - loss: 0.7928 - accuracy: 0.6797 - precision: 0.6772 - recall: 0.671 - ETA: 0s - loss: 0.7918 - accuracy: 0.6750 - precision: 0.6772 - recall: 0.668 - ETA: 0s - loss: 0.7883 - accuracy: 0.6823 - precision: 0.6989 - recall: 0.677 - 2s 11ms/sample - loss: 0.8043 - accuracy: 0.6779 - precision: 0.6935 - recall: 0.6635 - val_loss: 0.6269 - val_accuracy: 0.7536 - val_precision: 0.7500 - val_recall: 0.7391\n",
      "Epoch 46/80\n",
      "208/208 [==============================] - ETA: 1s - loss: 0.6481 - accuracy: 0.7812 - precision: 0.7812 - recall: 0.781 - ETA: 1s - loss: 0.8296 - accuracy: 0.6719 - precision: 0.6825 - recall: 0.671 - ETA: 1s - loss: 0.8659 - accuracy: 0.6875 - precision: 0.7262 - recall: 0.635 - ETA: 0s - loss: 0.7932 - accuracy: 0.7266 - precision: 0.7699 - recall: 0.679 - ETA: 0s - loss: 0.7865 - accuracy: 0.7250 - precision: 0.7622 - recall: 0.681 - ETA: 0s - loss: 0.7551 - accuracy: 0.7292 - precision: 0.7674 - recall: 0.687 - 2s 11ms/sample - loss: 0.7367 - accuracy: 0.7404 - precision: 0.7742 - recall: 0.6923 - val_loss: 0.6623 - val_accuracy: 0.8261 - val_precision: 0.8182 - val_recall: 0.7826\n",
      "Epoch 47/80\n",
      "208/208 [==============================] - ETA: 1s - loss: 0.6968 - accuracy: 0.7500 - precision: 0.7667 - recall: 0.718 - ETA: 1s - loss: 0.6588 - accuracy: 0.7500 - precision: 0.7705 - recall: 0.734 - ETA: 1s - loss: 0.5585 - accuracy: 0.7917 - precision: 0.8065 - recall: 0.781 - ETA: 0s - loss: 0.5450 - accuracy: 0.7969 - precision: 0.8080 - recall: 0.789 - ETA: 0s - loss: 0.5922 - accuracy: 0.7750 - precision: 0.7935 - recall: 0.768 - ETA: 0s - loss: 0.5981 - accuracy: 0.7812 - precision: 0.8000 - recall: 0.770 - 2s 11ms/sample - loss: 0.5802 - accuracy: 0.7933 - precision: 0.8109 - recall: 0.7837 - val_loss: 0.4780 - val_accuracy: 0.8986 - val_precision: 0.9118 - val_recall: 0.8986\n",
      "Epoch 48/80\n",
      "208/208 [==============================] - ETA: 2s - loss: 0.5854 - accuracy: 0.8750 - precision: 0.8750 - recall: 0.875 - ETA: 1s - loss: 0.4825 - accuracy: 0.8594 - precision: 0.8730 - recall: 0.859 - ETA: 1s - loss: 0.4418 - accuracy: 0.8854 - precision: 0.8947 - recall: 0.885 - ETA: 0s - loss: 0.4206 - accuracy: 0.8828 - precision: 0.8898 - recall: 0.882 - ETA: 0s - loss: 0.4921 - accuracy: 0.8375 - precision: 0.8471 - recall: 0.831 - ETA: 0s - loss: 0.5187 - accuracy: 0.8281 - precision: 0.8360 - recall: 0.822 - 2s 11ms/sample - loss: 0.4914 - accuracy: 0.8413 - precision: 0.8488 - recall: 0.8365 - val_loss: 0.4381 - val_accuracy: 0.9130 - val_precision: 0.9130 - val_recall: 0.9130\n",
      "Epoch 49/80\n",
      "208/208 [==============================] - ETA: 1s - loss: 0.3776 - accuracy: 0.9062 - precision: 0.9062 - recall: 0.906 - ETA: 1s - loss: 0.4579 - accuracy: 0.8750 - precision: 0.8750 - recall: 0.875 - ETA: 0s - loss: 0.4168 - accuracy: 0.8958 - precision: 0.8947 - recall: 0.885 - ETA: 0s - loss: 0.4292 - accuracy: 0.8828 - precision: 0.8819 - recall: 0.875 - ETA: 0s - loss: 0.4720 - accuracy: 0.8687 - precision: 0.8679 - recall: 0.862 - ETA: 0s - loss: 0.5054 - accuracy: 0.8594 - precision: 0.8586 - recall: 0.854 - 2s 10ms/sample - loss: 0.5023 - accuracy: 0.8606 - precision: 0.8599 - recall: 0.8558 - val_loss: 0.4713 - val_accuracy: 0.8986 - val_precision: 0.9118 - val_recall: 0.8986\n",
      "Epoch 50/80\n",
      "208/208 [==============================] - ETA: 1s - loss: 0.2988 - accuracy: 0.9375 - precision: 0.9375 - recall: 0.937 - ETA: 1s - loss: 0.3176 - accuracy: 0.9219 - precision: 0.9206 - recall: 0.906 - ETA: 1s - loss: 0.2987 - accuracy: 0.9271 - precision: 0.9263 - recall: 0.916 - ETA: 0s - loss: 0.3458 - accuracy: 0.8984 - precision: 0.8976 - recall: 0.890 - ETA: 0s - loss: 0.4330 - accuracy: 0.8625 - precision: 0.8616 - recall: 0.856 - ETA: 0s - loss: 0.4850 - accuracy: 0.8542 - precision: 0.8534 - recall: 0.849 - 2s 11ms/sample - loss: 0.5892 - accuracy: 0.8221 - precision: 0.8213 - recall: 0.8173 - val_loss: 1.0797 - val_accuracy: 0.6232 - val_precision: 0.6508 - val_recall: 0.5942\n",
      "Epoch 51/80\n",
      "208/208 [==============================] - ETA: 1s - loss: 1.0167 - accuracy: 0.6250 - precision: 0.6207 - recall: 0.562 - ETA: 1s - loss: 0.7064 - accuracy: 0.7500 - precision: 0.7458 - recall: 0.687 - ETA: 1s - loss: 0.5824 - accuracy: 0.7917 - precision: 0.8000 - recall: 0.750 - ETA: 0s - loss: 0.5576 - accuracy: 0.8047 - precision: 0.8115 - recall: 0.773 - ETA: 0s - loss: 0.5423 - accuracy: 0.8125 - precision: 0.8235 - recall: 0.787 - ETA: 0s - loss: 0.5289 - accuracy: 0.8229 - precision: 0.8370 - recall: 0.802 - 2s 10ms/sample - loss: 0.5021 - accuracy: 0.8365 - precision: 0.8500 - recall: 0.8173 - val_loss: 0.4199 - val_accuracy: 0.8986 - val_precision: 0.8986 - val_recall: 0.8986\n",
      "Epoch 52/80\n",
      "208/208 [==============================] - ETA: 1s - loss: 0.3698 - accuracy: 0.8750 - precision: 0.9032 - recall: 0.875 - ETA: 1s - loss: 0.3076 - accuracy: 0.9062 - precision: 0.9206 - recall: 0.906 - ETA: 1s - loss: 0.2982 - accuracy: 0.9062 - precision: 0.9149 - recall: 0.895 - ETA: 0s - loss: 0.3536 - accuracy: 0.8828 - precision: 0.8889 - recall: 0.875 - ETA: 0s - loss: 0.3699 - accuracy: 0.8813 - precision: 0.8861 - recall: 0.875 - ETA: 0s - loss: 0.3840 - accuracy: 0.8802 - precision: 0.8842 - recall: 0.875 - 2s 11ms/sample - loss: 0.3648 - accuracy: 0.8894 - precision: 0.8932 - recall: 0.8846 - val_loss: 0.4356 - val_accuracy: 0.9130 - val_precision: 0.9130 - val_recall: 0.9130\n",
      "Epoch 53/80\n",
      "208/208 [==============================] - ETA: 1s - loss: 0.2932 - accuracy: 0.9062 - precision: 0.9355 - recall: 0.906 - ETA: 1s - loss: 0.2597 - accuracy: 0.9219 - precision: 0.9365 - recall: 0.921 - ETA: 1s - loss: 0.2412 - accuracy: 0.9375 - precision: 0.9474 - recall: 0.937 - ETA: 0s - loss: 0.3054 - accuracy: 0.9141 - precision: 0.9213 - recall: 0.914 - ETA: 0s - loss: 0.3506 - accuracy: 0.9000 - precision: 0.9057 - recall: 0.900 - ETA: 0s - loss: 0.3828 - accuracy: 0.8958 - precision: 0.9005 - recall: 0.895 - 2s 11ms/sample - loss: 0.3631 - accuracy: 0.9038 - precision: 0.9082 - recall: 0.9038 - val_loss: 0.4379 - val_accuracy: 0.9130 - val_precision: 0.9130 - val_recall: 0.9130\n",
      "Epoch 54/80\n",
      "208/208 [==============================] - ETA: 1s - loss: 0.2794 - accuracy: 0.9062 - precision: 0.9062 - recall: 0.906 - ETA: 1s - loss: 0.3648 - accuracy: 0.8750 - precision: 0.8750 - recall: 0.875 - ETA: 1s - loss: 0.4803 - accuracy: 0.8438 - precision: 0.8438 - recall: 0.843 - ETA: 0s - loss: 0.4855 - accuracy: 0.8438 - precision: 0.8438 - recall: 0.843 - ETA: 0s - loss: 0.4558 - accuracy: 0.8625 - precision: 0.8625 - recall: 0.862 - ETA: 0s - loss: 0.4887 - accuracy: 0.8594 - precision: 0.8594 - recall: 0.859 - 2s 11ms/sample - loss: 0.4598 - accuracy: 0.8702 - precision: 0.8702 - recall: 0.8702 - val_loss: 0.4470 - val_accuracy: 0.9130 - val_precision: 0.9265 - val_recall: 0.9130\n",
      "Epoch 55/80\n"
     ]
    },
    {
     "name": "stdout",
     "output_type": "stream",
     "text": [
      "208/208 [==============================] - ETA: 1s - loss: 0.3625 - accuracy: 0.8750 - precision: 0.9032 - recall: 0.875 - ETA: 1s - loss: 0.3501 - accuracy: 0.8594 - precision: 0.8871 - recall: 0.859 - ETA: 1s - loss: 0.3373 - accuracy: 0.8646 - precision: 0.8830 - recall: 0.864 - ETA: 0s - loss: 0.3616 - accuracy: 0.8594 - precision: 0.8730 - recall: 0.859 - ETA: 0s - loss: 0.4021 - accuracy: 0.8500 - precision: 0.8662 - recall: 0.850 - ETA: 0s - loss: 0.4076 - accuracy: 0.8542 - precision: 0.8677 - recall: 0.854 - 2s 12ms/sample - loss: 0.3876 - accuracy: 0.8654 - precision: 0.8780 - recall: 0.8654 - val_loss: 0.4902 - val_accuracy: 0.8986 - val_precision: 0.8986 - val_recall: 0.8986\n",
      "Epoch 56/80\n",
      "208/208 [==============================] - ETA: 1s - loss: 0.5562 - accuracy: 0.8438 - precision: 0.8438 - recall: 0.843 - ETA: 1s - loss: 0.3833 - accuracy: 0.8906 - precision: 0.8906 - recall: 0.890 - ETA: 1s - loss: 0.3316 - accuracy: 0.9062 - precision: 0.9062 - recall: 0.906 - ETA: 0s - loss: 0.3457 - accuracy: 0.8984 - precision: 0.8984 - recall: 0.898 - ETA: 0s - loss: 0.3832 - accuracy: 0.8875 - precision: 0.8875 - recall: 0.887 - ETA: 0s - loss: 0.3892 - accuracy: 0.8854 - precision: 0.8854 - recall: 0.885 - 2s 12ms/sample - loss: 0.3675 - accuracy: 0.8942 - precision: 0.8942 - recall: 0.8942 - val_loss: 0.4388 - val_accuracy: 0.9130 - val_precision: 0.9130 - val_recall: 0.9130\n",
      "Epoch 57/80\n",
      "208/208 [==============================] - ETA: 1s - loss: 0.2711 - accuracy: 0.9062 - precision: 0.9062 - recall: 0.906 - ETA: 1s - loss: 0.2349 - accuracy: 0.9219 - precision: 0.9219 - recall: 0.921 - ETA: 1s - loss: 0.2171 - accuracy: 0.9271 - precision: 0.9271 - recall: 0.927 - ETA: 0s - loss: 0.2661 - accuracy: 0.9141 - precision: 0.9141 - recall: 0.914 - ETA: 0s - loss: 0.3201 - accuracy: 0.9000 - precision: 0.9000 - recall: 0.900 - ETA: 0s - loss: 0.3630 - accuracy: 0.8958 - precision: 0.8958 - recall: 0.895 - 3s 12ms/sample - loss: 0.3453 - accuracy: 0.8990 - precision: 0.8990 - recall: 0.8990 - val_loss: 0.5495 - val_accuracy: 0.8841 - val_precision: 0.8841 - val_recall: 0.8841\n",
      "Epoch 58/80\n",
      "208/208 [==============================] - ETA: 1s - loss: 0.2340 - accuracy: 0.9375 - precision: 0.9375 - recall: 0.937 - ETA: 1s - loss: 0.2802 - accuracy: 0.9219 - precision: 0.9219 - recall: 0.921 - ETA: 1s - loss: 0.3209 - accuracy: 0.8958 - precision: 0.8958 - recall: 0.895 - ETA: 0s - loss: 0.3889 - accuracy: 0.8594 - precision: 0.8661 - recall: 0.859 - ETA: 0s - loss: 0.4428 - accuracy: 0.8313 - precision: 0.8365 - recall: 0.831 - ETA: 0s - loss: 0.4728 - accuracy: 0.8333 - precision: 0.8421 - recall: 0.833 - 2s 11ms/sample - loss: 0.5629 - accuracy: 0.8173 - precision: 0.8252 - recall: 0.8173 - val_loss: 0.4721 - val_accuracy: 0.8986 - val_precision: 0.8986 - val_recall: 0.8986\n",
      "Epoch 59/80\n",
      "208/208 [==============================] - ETA: 1s - loss: 0.4971 - accuracy: 0.8750 - precision: 0.9000 - recall: 0.843 - ETA: 1s - loss: 0.3894 - accuracy: 0.8906 - precision: 0.9167 - recall: 0.859 - ETA: 1s - loss: 0.3876 - accuracy: 0.8958 - precision: 0.9130 - recall: 0.875 - ETA: 0s - loss: 0.3832 - accuracy: 0.8906 - precision: 0.9032 - recall: 0.875 - ETA: 0s - loss: 0.3846 - accuracy: 0.8938 - precision: 0.9026 - recall: 0.868 - ETA: 0s - loss: 0.4015 - accuracy: 0.8854 - precision: 0.8925 - recall: 0.864 - 2s 11ms/sample - loss: 0.3821 - accuracy: 0.8942 - precision: 0.9010 - recall: 0.8750 - val_loss: 0.5308 - val_accuracy: 0.8551 - val_precision: 0.8529 - val_recall: 0.8406\n",
      "Epoch 60/80\n",
      "208/208 [==============================] - ETA: 1s - loss: 0.7480 - accuracy: 0.7500 - precision: 0.7500 - recall: 0.750 - ETA: 1s - loss: 0.4836 - accuracy: 0.8438 - precision: 0.8413 - recall: 0.828 - ETA: 1s - loss: 0.4381 - accuracy: 0.8542 - precision: 0.8526 - recall: 0.843 - ETA: 0s - loss: 0.4337 - accuracy: 0.8594 - precision: 0.8571 - recall: 0.843 - ETA: 0s - loss: 0.4570 - accuracy: 0.8500 - precision: 0.8481 - recall: 0.837 - ETA: 0s - loss: 0.5325 - accuracy: 0.8333 - precision: 0.8316 - recall: 0.822 - 2s 11ms/sample - loss: 0.5409 - accuracy: 0.8269 - precision: 0.8252 - recall: 0.8173 - val_loss: 0.5219 - val_accuracy: 0.8261 - val_precision: 0.8235 - val_recall: 0.8116\n",
      "Epoch 61/80\n",
      "208/208 [==============================] - ETA: 1s - loss: 0.6038 - accuracy: 0.8125 - precision: 0.8125 - recall: 0.812 - ETA: 1s - loss: 0.4664 - accuracy: 0.8438 - precision: 0.8438 - recall: 0.843 - ETA: 1s - loss: 0.4728 - accuracy: 0.8333 - precision: 0.8333 - recall: 0.833 - ETA: 0s - loss: 0.4637 - accuracy: 0.8438 - precision: 0.8438 - recall: 0.843 - ETA: 0s - loss: 0.5018 - accuracy: 0.8250 - precision: 0.8250 - recall: 0.825 - ETA: 0s - loss: 0.5361 - accuracy: 0.8177 - precision: 0.8177 - recall: 0.817 - 2s 11ms/sample - loss: 0.5237 - accuracy: 0.8125 - precision: 0.8125 - recall: 0.8125 - val_loss: 0.8116 - val_accuracy: 0.6377 - val_precision: 0.6377 - val_recall: 0.6377\n",
      "Epoch 62/80\n",
      "208/208 [==============================] - ETA: 1s - loss: 0.7309 - accuracy: 0.7188 - precision: 0.7188 - recall: 0.718 - ETA: 1s - loss: 0.5251 - accuracy: 0.7969 - precision: 0.7969 - recall: 0.796 - ETA: 1s - loss: 0.4858 - accuracy: 0.8125 - precision: 0.8125 - recall: 0.812 - ETA: 0s - loss: 0.4811 - accuracy: 0.8203 - precision: 0.8268 - recall: 0.820 - ETA: 0s - loss: 0.4786 - accuracy: 0.8188 - precision: 0.8239 - recall: 0.818 - ETA: 0s - loss: 0.5181 - accuracy: 0.8125 - precision: 0.8168 - recall: 0.812 - 2s 11ms/sample - loss: 0.5045 - accuracy: 0.8125 - precision: 0.8164 - recall: 0.8125 - val_loss: 0.6983 - val_accuracy: 0.6522 - val_precision: 0.7586 - val_recall: 0.6377\n",
      "Epoch 63/80\n",
      "208/208 [==============================] - ETA: 1s - loss: 0.6272 - accuracy: 0.7500 - precision: 0.8214 - recall: 0.718 - ETA: 1s - loss: 0.4774 - accuracy: 0.8125 - precision: 0.8500 - recall: 0.796 - ETA: 1s - loss: 0.4526 - accuracy: 0.8229 - precision: 0.8478 - recall: 0.812 - ETA: 0s - loss: 0.4508 - accuracy: 0.8359 - precision: 0.8548 - recall: 0.828 - ETA: 0s - loss: 0.4859 - accuracy: 0.8250 - precision: 0.8397 - recall: 0.818 - ETA: 0s - loss: 0.5242 - accuracy: 0.8177 - precision: 0.8298 - recall: 0.812 - 2s 10ms/sample - loss: 0.5209 - accuracy: 0.8125 - precision: 0.8235 - recall: 0.8077 - val_loss: 0.6423 - val_accuracy: 0.6812 - val_precision: 0.6812 - val_recall: 0.6812\n",
      "Epoch 64/80\n",
      "208/208 [==============================] - ETA: 1s - loss: 0.9575 - accuracy: 0.5938 - precision: 0.5806 - recall: 0.562 - ETA: 1s - loss: 0.7407 - accuracy: 0.7031 - precision: 0.7193 - recall: 0.640 - ETA: 1s - loss: 0.6672 - accuracy: 0.7188 - precision: 0.7303 - recall: 0.677 - ETA: 0s - loss: 0.6273 - accuracy: 0.7422 - precision: 0.7521 - recall: 0.710 - ETA: 0s - loss: 0.5995 - accuracy: 0.7500 - precision: 0.7632 - recall: 0.725 - ETA: 0s - loss: 0.7039 - accuracy: 0.7240 - precision: 0.7337 - recall: 0.703 - 2s 10ms/sample - loss: 0.7613 - accuracy: 0.7019 - precision: 0.7100 - recall: 0.6827 - val_loss: 1.0699 - val_accuracy: 0.5942 - val_precision: 0.7857 - val_recall: 0.3188\n",
      "Epoch 65/80\n",
      "208/208 [==============================] - ETA: 1s - loss: 1.0600 - accuracy: 0.5938 - precision: 0.7368 - recall: 0.437 - ETA: 1s - loss: 0.7243 - accuracy: 0.7500 - precision: 0.8367 - recall: 0.640 - ETA: 1s - loss: 0.6643 - accuracy: 0.7500 - precision: 0.8025 - recall: 0.677 - ETA: 0s - loss: 0.6673 - accuracy: 0.7422 - precision: 0.7768 - recall: 0.679 - ETA: 0s - loss: 0.6805 - accuracy: 0.7375 - precision: 0.7622 - recall: 0.681 - ETA: 0s - loss: 0.6813 - accuracy: 0.7448 - precision: 0.7657 - recall: 0.697 - 2s 11ms/sample - loss: 0.6615 - accuracy: 0.7452 - precision: 0.7644 - recall: 0.7019 - val_loss: 0.5919 - val_accuracy: 0.8116 - val_precision: 0.9123 - val_recall: 0.7536\n",
      "Epoch 66/80\n"
     ]
    },
    {
     "name": "stdout",
     "output_type": "stream",
     "text": [
      "208/208 [==============================] - ETA: 1s - loss: 0.3637 - accuracy: 0.9062 - precision: 0.9310 - recall: 0.843 - ETA: 1s - loss: 0.4564 - accuracy: 0.8438 - precision: 0.8525 - recall: 0.812 - ETA: 1s - loss: 0.4433 - accuracy: 0.8438 - precision: 0.8495 - recall: 0.822 - ETA: 0s - loss: 0.4536 - accuracy: 0.8359 - precision: 0.8468 - recall: 0.820 - ETA: 0s - loss: 0.4958 - accuracy: 0.8188 - precision: 0.8269 - recall: 0.806 - ETA: 0s - loss: 0.5280 - accuracy: 0.8125 - precision: 0.8191 - recall: 0.802 - 2s 11ms/sample - loss: 0.5140 - accuracy: 0.8125 - precision: 0.8186 - recall: 0.8029 - val_loss: 0.6282 - val_accuracy: 0.7971 - val_precision: 0.9111 - val_recall: 0.5942\n",
      "Epoch 67/80\n",
      "208/208 [==============================] - ETA: 1s - loss: 0.4255 - accuracy: 0.8438 - precision: 0.9231 - recall: 0.750 - ETA: 1s - loss: 0.3723 - accuracy: 0.8750 - precision: 0.9138 - recall: 0.828 - ETA: 1s - loss: 0.4131 - accuracy: 0.8333 - precision: 0.8556 - recall: 0.802 - ETA: 0s - loss: 0.4731 - accuracy: 0.8047 - precision: 0.8264 - recall: 0.781 - ETA: 0s - loss: 0.5100 - accuracy: 0.8000 - precision: 0.8170 - recall: 0.781 - ETA: 0s - loss: 0.5446 - accuracy: 0.7917 - precision: 0.8054 - recall: 0.776 - 2s 12ms/sample - loss: 0.5289 - accuracy: 0.7933 - precision: 0.8060 - recall: 0.7788 - val_loss: 0.5673 - val_accuracy: 0.8406 - val_precision: 0.8529 - val_recall: 0.8406\n",
      "Epoch 68/80\n",
      "208/208 [==============================] - ETA: 1s - loss: 0.3938 - accuracy: 0.8750 - precision: 0.8750 - recall: 0.875 - ETA: 1s - loss: 0.3638 - accuracy: 0.8750 - precision: 0.8750 - recall: 0.875 - ETA: 1s - loss: 0.3759 - accuracy: 0.8646 - precision: 0.8646 - recall: 0.864 - ETA: 0s - loss: 0.4145 - accuracy: 0.8516 - precision: 0.8516 - recall: 0.851 - ETA: 0s - loss: 0.4541 - accuracy: 0.8375 - precision: 0.8375 - recall: 0.837 - ETA: 0s - loss: 0.4993 - accuracy: 0.8281 - precision: 0.8325 - recall: 0.828 - 2s 11ms/sample - loss: 0.4858 - accuracy: 0.8269 - precision: 0.8309 - recall: 0.8269 - val_loss: 0.5609 - val_accuracy: 0.8406 - val_precision: 0.9259 - val_recall: 0.7246\n",
      "Epoch 69/80\n",
      "208/208 [==============================] - ETA: 1s - loss: 0.3649 - accuracy: 0.9062 - precision: 0.9259 - recall: 0.781 - ETA: 1s - loss: 0.4970 - accuracy: 0.8438 - precision: 0.8475 - recall: 0.781 - ETA: 1s - loss: 0.4907 - accuracy: 0.8333 - precision: 0.8352 - recall: 0.791 - ETA: 0s - loss: 0.4796 - accuracy: 0.8438 - precision: 0.8455 - recall: 0.812 - ETA: 0s - loss: 0.5280 - accuracy: 0.8188 - precision: 0.8247 - recall: 0.793 - ETA: 0s - loss: 0.5525 - accuracy: 0.8125 - precision: 0.8207 - recall: 0.786 - 2s 11ms/sample - loss: 0.5318 - accuracy: 0.8125 - precision: 0.8200 - recall: 0.7885 - val_loss: 0.6292 - val_accuracy: 0.7971 - val_precision: 0.8065 - val_recall: 0.7246\n",
      "Epoch 70/80\n",
      "208/208 [==============================] - ETA: 1s - loss: 0.3706 - accuracy: 0.8750 - precision: 0.8710 - recall: 0.843 - ETA: 1s - loss: 0.3310 - accuracy: 0.8906 - precision: 0.8983 - recall: 0.828 - ETA: 1s - loss: 0.3786 - accuracy: 0.8542 - precision: 0.8571 - recall: 0.812 - ETA: 0s - loss: 0.4583 - accuracy: 0.8203 - precision: 0.8211 - recall: 0.789 - ETA: 0s - loss: 0.5004 - accuracy: 0.7937 - precision: 0.7935 - recall: 0.768 - ETA: 0s - loss: 0.5272 - accuracy: 0.7917 - precision: 0.7914 - recall: 0.770 - 2s 12ms/sample - loss: 0.5109 - accuracy: 0.7933 - precision: 0.7931 - recall: 0.7740 - val_loss: 0.6216 - val_accuracy: 0.7391 - val_precision: 0.7869 - val_recall: 0.6957\n",
      "Epoch 71/80\n",
      "208/208 [==============================] - ETA: 1s - loss: 0.3906 - accuracy: 0.8438 - precision: 0.8438 - recall: 0.843 - ETA: 1s - loss: 0.4161 - accuracy: 0.8281 - precision: 0.8644 - recall: 0.796 - ETA: 1s - loss: 0.4199 - accuracy: 0.8125 - precision: 0.8352 - recall: 0.791 - ETA: 0s - loss: 0.4725 - accuracy: 0.8047 - precision: 0.8211 - recall: 0.789 - ETA: 0s - loss: 0.4767 - accuracy: 0.8000 - precision: 0.8129 - recall: 0.787 - ETA: 0s - loss: 0.5032 - accuracy: 0.7917 - precision: 0.8021 - recall: 0.781 - 2s 11ms/sample - loss: 0.4949 - accuracy: 0.7933 - precision: 0.8030 - recall: 0.7837 - val_loss: 0.6081 - val_accuracy: 0.6812 - val_precision: 0.6912 - val_recall: 0.6812\n",
      "Epoch 72/80\n",
      "208/208 [==============================] - ETA: 1s - loss: 0.7444 - accuracy: 0.7188 - precision: 0.7188 - recall: 0.718 - ETA: 1s - loss: 0.5471 - accuracy: 0.7188 - precision: 0.7895 - recall: 0.703 - ETA: 0s - loss: 0.5051 - accuracy: 0.7396 - precision: 0.7865 - recall: 0.729 - ETA: 0s - loss: 0.5092 - accuracy: 0.7578 - precision: 0.7934 - recall: 0.750 - ETA: 0s - loss: 0.4900 - accuracy: 0.7688 - precision: 0.7974 - recall: 0.762 - ETA: 0s - loss: 0.5202 - accuracy: 0.7656 - precision: 0.7892 - recall: 0.760 - 2s 11ms/sample - loss: 0.4995 - accuracy: 0.7692 - precision: 0.7910 - recall: 0.7644 - val_loss: 0.5679 - val_accuracy: 0.7971 - val_precision: 0.8060 - val_recall: 0.7826\n",
      "Epoch 73/80\n",
      "208/208 [==============================] - ETA: 1s - loss: 0.6648 - accuracy: 0.7812 - precision: 0.7812 - recall: 0.781 - ETA: 1s - loss: 0.6513 - accuracy: 0.8125 - precision: 0.8333 - recall: 0.781 - ETA: 1s - loss: 0.5492 - accuracy: 0.8229 - precision: 0.8462 - recall: 0.802 - ETA: 0s - loss: 0.5705 - accuracy: 0.7891 - precision: 0.8376 - recall: 0.765 - ETA: 0s - loss: 0.5907 - accuracy: 0.7750 - precision: 0.8121 - recall: 0.756 - ETA: 0s - loss: 0.6186 - accuracy: 0.7708 - precision: 0.8011 - recall: 0.755 - 2s 11ms/sample - loss: 0.5892 - accuracy: 0.7740 - precision: 0.8144 - recall: 0.7596 - val_loss: 0.5049 - val_accuracy: 0.8551 - val_precision: 0.8551 - val_recall: 0.8551\n",
      "Epoch 74/80\n",
      "208/208 [==============================] - ETA: 1s - loss: 0.5751 - accuracy: 0.8125 - precision: 0.8125 - recall: 0.812 - ETA: 1s - loss: 0.5066 - accuracy: 0.8281 - precision: 0.8254 - recall: 0.812 - ETA: 1s - loss: 0.4365 - accuracy: 0.8333 - precision: 0.8571 - recall: 0.812 - ETA: 0s - loss: 0.4605 - accuracy: 0.8125 - precision: 0.8632 - recall: 0.789 - ETA: 0s - loss: 0.4321 - accuracy: 0.8250 - precision: 0.8658 - recall: 0.806 - ETA: 0s - loss: 0.4628 - accuracy: 0.8177 - precision: 0.8508 - recall: 0.802 - 2s 11ms/sample - loss: 0.4433 - accuracy: 0.8317 - precision: 0.8608 - recall: 0.8029 - val_loss: 0.4485 - val_accuracy: 0.8841 - val_precision: 0.8841 - val_recall: 0.8841\n",
      "Epoch 75/80\n",
      "208/208 [==============================] - ETA: 1s - loss: 0.5551 - accuracy: 0.8125 - precision: 0.8125 - recall: 0.812 - ETA: 1s - loss: 0.5315 - accuracy: 0.7812 - precision: 0.7937 - recall: 0.781 - ETA: 1s - loss: 0.4762 - accuracy: 0.8021 - precision: 0.8105 - recall: 0.802 - ETA: 0s - loss: 0.4826 - accuracy: 0.7969 - precision: 0.8016 - recall: 0.789 - ETA: 0s - loss: 0.4812 - accuracy: 0.8125 - precision: 0.8153 - recall: 0.800 - ETA: 0s - loss: 0.5071 - accuracy: 0.8177 - precision: 0.8201 - recall: 0.807 - 2s 11ms/sample - loss: 0.4862 - accuracy: 0.8269 - precision: 0.8293 - recall: 0.8173 - val_loss: 0.3942 - val_accuracy: 0.8841 - val_precision: 0.8841 - val_recall: 0.8841\n",
      "Epoch 76/80\n",
      "208/208 [==============================] - ETA: 1s - loss: 0.5289 - accuracy: 0.8438 - precision: 0.8438 - recall: 0.843 - ETA: 1s - loss: 0.4508 - accuracy: 0.8750 - precision: 0.8750 - recall: 0.875 - ETA: 1s - loss: 0.4221 - accuracy: 0.8646 - precision: 0.8646 - recall: 0.864 - ETA: 0s - loss: 0.4345 - accuracy: 0.8594 - precision: 0.8594 - recall: 0.859 - ETA: 0s - loss: 0.4554 - accuracy: 0.8500 - precision: 0.8500 - recall: 0.850 - ETA: 0s - loss: 0.4810 - accuracy: 0.8385 - precision: 0.8519 - recall: 0.838 - 2s 10ms/sample - loss: 0.4593 - accuracy: 0.8510 - precision: 0.8614 - recall: 0.8365 - val_loss: 0.5678 - val_accuracy: 0.8261 - val_precision: 0.8382 - val_recall: 0.8261\n",
      "Epoch 77/80\n"
     ]
    },
    {
     "name": "stdout",
     "output_type": "stream",
     "text": [
      "208/208 [==============================] - ETA: 1s - loss: 0.5020 - accuracy: 0.8438 - precision: 0.8438 - recall: 0.843 - ETA: 1s - loss: 0.5217 - accuracy: 0.7812 - precision: 0.7812 - recall: 0.781 - ETA: 1s - loss: 0.4335 - accuracy: 0.8333 - precision: 0.8387 - recall: 0.812 - ETA: 0s - loss: 0.4473 - accuracy: 0.8359 - precision: 0.8400 - recall: 0.820 - ETA: 0s - loss: 0.4570 - accuracy: 0.8375 - precision: 0.8408 - recall: 0.825 - ETA: 0s - loss: 0.4863 - accuracy: 0.8281 - precision: 0.8351 - recall: 0.817 - 2s 10ms/sample - loss: 0.4650 - accuracy: 0.8413 - precision: 0.8458 - recall: 0.8173 - val_loss: 0.5151 - val_accuracy: 0.8406 - val_precision: 0.8529 - val_recall: 0.8406\n",
      "Epoch 78/80\n",
      "208/208 [==============================] - ETA: 1s - loss: 0.6521 - accuracy: 0.8125 - precision: 0.8125 - recall: 0.812 - ETA: 1s - loss: 0.4785 - accuracy: 0.8438 - precision: 0.8413 - recall: 0.828 - ETA: 1s - loss: 0.3988 - accuracy: 0.8854 - precision: 0.8842 - recall: 0.875 - ETA: 0s - loss: 0.4117 - accuracy: 0.8828 - precision: 0.8819 - recall: 0.875 - ETA: 0s - loss: 0.3856 - accuracy: 0.8875 - precision: 0.8868 - recall: 0.881 - ETA: 0s - loss: 0.3982 - accuracy: 0.8906 - precision: 0.8901 - recall: 0.885 - 2s 10ms/sample - loss: 0.4023 - accuracy: 0.8894 - precision: 0.8889 - recall: 0.8846 - val_loss: 0.5004 - val_accuracy: 0.8841 - val_precision: 0.8841 - val_recall: 0.8841\n",
      "Epoch 79/80\n",
      "208/208 [==============================] - ETA: 1s - loss: 0.5005 - accuracy: 0.8438 - precision: 0.8438 - recall: 0.843 - ETA: 1s - loss: 0.3917 - accuracy: 0.8750 - precision: 0.8750 - recall: 0.875 - ETA: 0s - loss: 0.3272 - accuracy: 0.9062 - precision: 0.9062 - recall: 0.906 - ETA: 0s - loss: 0.3801 - accuracy: 0.8906 - precision: 0.8906 - recall: 0.890 - ETA: 0s - loss: 0.4187 - accuracy: 0.8687 - precision: 0.8679 - recall: 0.862 - ETA: 0s - loss: 0.4470 - accuracy: 0.8698 - precision: 0.8691 - recall: 0.864 - 2s 10ms/sample - loss: 0.4291 - accuracy: 0.8750 - precision: 0.8744 - recall: 0.8702 - val_loss: 0.7677 - val_accuracy: 0.8261 - val_precision: 0.8261 - val_recall: 0.8261\n",
      "Epoch 80/80\n",
      "208/208 [==============================] - ETA: 1s - loss: 0.5176 - accuracy: 0.8750 - precision: 0.8750 - recall: 0.875 - ETA: 1s - loss: 0.4231 - accuracy: 0.8906 - precision: 0.8906 - recall: 0.890 - ETA: 1s - loss: 0.3494 - accuracy: 0.9167 - precision: 0.9167 - recall: 0.916 - ETA: 0s - loss: 0.4057 - accuracy: 0.8906 - precision: 0.8906 - recall: 0.890 - ETA: 0s - loss: 0.4425 - accuracy: 0.8750 - precision: 0.8750 - recall: 0.875 - ETA: 0s - loss: 0.4596 - accuracy: 0.8750 - precision: 0.8750 - recall: 0.875 - 2s 10ms/sample - loss: 0.4350 - accuracy: 0.8846 - precision: 0.8846 - recall: 0.8846 - val_loss: 0.5032 - val_accuracy: 0.8551 - val_precision: 0.8551 - val_recall: 0.8551\n"
     ]
    }
   ],
   "source": [
    "\n",
    "\n",
    "\n",
    "import pickle\n",
    "\n",
    "tuner2= pickle.load(open(\"tuner_2020_04_07_121150.pkl\", \"rb\"))\n",
    "best_hp2= tuner2.get_best_hyperparameters()[0]\n",
    "model2= tuner2.hypermodel.build(best_hp2)\n",
    "\n",
    "history2 = model2.fit(x_train,y_train,epochs=80,batch_size=32,validation_data=(x_val,y_val),shuffle=False)"
   ]
  },
  {
   "cell_type": "code",
   "execution_count": 5,
   "metadata": {},
   "outputs": [
    {
     "ename": "NameError",
     "evalue": "name 'history' is not defined",
     "output_type": "error",
     "traceback": [
      "\u001b[1;31m---------------------------------------------------------------------------\u001b[0m",
      "\u001b[1;31mNameError\u001b[0m                                 Traceback (most recent call last)",
      "\u001b[1;32m<ipython-input-5-e1a7a1d699ce>\u001b[0m in \u001b[0;36m<module>\u001b[1;34m\u001b[0m\n\u001b[0;32m      1\u001b[0m \u001b[0mpyplot\u001b[0m\u001b[1;33m.\u001b[0m\u001b[0mautoscale\u001b[0m\u001b[1;33m(\u001b[0m\u001b[0menable\u001b[0m\u001b[1;33m=\u001b[0m\u001b[1;32mTrue\u001b[0m\u001b[1;33m,\u001b[0m \u001b[0maxis\u001b[0m\u001b[1;33m=\u001b[0m\u001b[1;34m'both'\u001b[0m\u001b[1;33m,\u001b[0m \u001b[0mtight\u001b[0m\u001b[1;33m=\u001b[0m\u001b[1;32mNone\u001b[0m\u001b[1;33m)\u001b[0m\u001b[1;33m\u001b[0m\u001b[1;33m\u001b[0m\u001b[0m\n\u001b[1;32m----> 2\u001b[1;33m \u001b[0mpyplot\u001b[0m\u001b[1;33m.\u001b[0m\u001b[0mplot\u001b[0m\u001b[1;33m(\u001b[0m\u001b[0mhistory\u001b[0m\u001b[1;33m.\u001b[0m\u001b[0mhistory\u001b[0m\u001b[1;33m[\u001b[0m\u001b[1;34m'loss'\u001b[0m\u001b[1;33m]\u001b[0m\u001b[1;33m)\u001b[0m\u001b[1;33m\u001b[0m\u001b[1;33m\u001b[0m\u001b[0m\n\u001b[0m\u001b[0;32m      3\u001b[0m \u001b[0mpyplot\u001b[0m\u001b[1;33m.\u001b[0m\u001b[0mplot\u001b[0m\u001b[1;33m(\u001b[0m\u001b[0mhistory\u001b[0m\u001b[1;33m.\u001b[0m\u001b[0mhistory\u001b[0m\u001b[1;33m[\u001b[0m\u001b[1;34m'val_loss'\u001b[0m\u001b[1;33m]\u001b[0m\u001b[1;33m)\u001b[0m\u001b[1;33m\u001b[0m\u001b[1;33m\u001b[0m\u001b[0m\n\u001b[0;32m      4\u001b[0m \u001b[0mpyplot\u001b[0m\u001b[1;33m.\u001b[0m\u001b[0mtitle\u001b[0m\u001b[1;33m(\u001b[0m\u001b[1;34m'model train vs validation loss'\u001b[0m\u001b[1;33m)\u001b[0m\u001b[1;33m\u001b[0m\u001b[1;33m\u001b[0m\u001b[0m\n\u001b[0;32m      5\u001b[0m \u001b[0mpyplot\u001b[0m\u001b[1;33m.\u001b[0m\u001b[0mylabel\u001b[0m\u001b[1;33m(\u001b[0m\u001b[1;34m'loss'\u001b[0m\u001b[1;33m)\u001b[0m\u001b[1;33m\u001b[0m\u001b[1;33m\u001b[0m\u001b[0m\n",
      "\u001b[1;31mNameError\u001b[0m: name 'history' is not defined"
     ]
    },
    {
     "data": {
      "image/png": "[encoded data removed]",
      "text/plain": [
       "<Figure size 432x288 with 1 Axes>"
      ]
     },
     "metadata": {
      "needs_background": "light"
     },
     "output_type": "display_data"
    }
   ],
   "source": [
    "pyplot.autoscale(enable=True, axis='both', tight=None)\n",
    "pyplot.plot(history.history['loss'])\n",
    "pyplot.plot(history.history['val_loss'])\n",
    "pyplot.title('model train vs validation loss')\n",
    "pyplot.ylabel('loss')\n",
    "pyplot.xlabel('epoch')\n",
    "pyplot.legend(['train', 'validation'], loc='upper right')\n",
    "pyplot.show()\n",
    "\n",
    "pyplot.autoscale(enable=True, axis='both', tight=None)\n",
    "pyplot.plot(history2.history['loss'])\n",
    "pyplot.plot(history2.history['val_loss'])\n",
    "pyplot.title('model train vs validation loss 2')\n",
    "pyplot.ylabel('loss2')\n",
    "pyplot.xlabel('epoch')\n",
    "pyplot.legend(['train', 'validation'], loc='upper right')\n",
    "pyplot.show()\n",
    "\n",
    "pyplot.autoscale(enable=True, axis='both', tight=None)\n",
    "pyplot.plot(history.history['accuracy'])\n",
    "pyplot.plot(history.history['val_accuracy'])\n",
    "pyplot.title('model train vs validation accuracy')\n",
    "pyplot.ylabel('accuracy')\n",
    "pyplot.xlabel('epoch')\n",
    "pyplot.legend(['train', 'validation'], loc='lower right')\n",
    "pyplot.show()\n",
    "\n",
    "pyplot.autoscale(enable=True, axis='both', tight=None)\n",
    "pyplot.plot(history2.history['accuracy'])\n",
    "pyplot.plot(history2.history['val_accuracy'])\n",
    "pyplot.title('model train vs validation accuracy 2')\n",
    "pyplot.ylabel('accuracy2')\n",
    "pyplot.xlabel('epoch')\n",
    "pyplot.legend(['train', 'validation'], loc='lower right')\n",
    "pyplot.show()"
   ]
  },
  {
   "cell_type": "markdown",
   "metadata": {},
   "source": [
    "# Underfit Example\n",
    "Running this example produces a plot of train and validation loss showing the characteristic of an underfit model. In this case, performance may be improved by increasing the number of training epochs.\n",
    "\n",
    "\n",
    "<img src=\"assets/Diagnostic-Line-Plot-Showing-an-Underfit-Model.png\" width=\"400\">\n",
    "\n",
    "\n",
    "Running this example shows the characteristic of an underfit model that appears under-provisioned.\n",
    "In this case, performance may be improved by increasing the capacity of the model, such as the number of memory cells in a hidden layer or number of hidden layers.\n",
    "\n",
    "<img src=\"assets/Diagnostic-Line-Plot-Showing-an-Underfit-Model-via-Status.png\" width=\"400\">\n",
    "\n",
    "#### Good Fit Example\n",
    "Running the example creates a line plot showing the train and validation loss meeting.\n",
    "Ideally, we would like to see model performance like this if possible, although this may not be possible on challenging problems with a lot of data.\n",
    "\n",
    "<img src=\"assets/Diagnostic-Line-Plot-Showing-a-Good-Fit-for-a-Model.png\" width=\"400\">\n",
    "\n",
    "#### Overfit Example\n",
    "Running this example creates a plot showing the characteristic inflection point in validation loss of an overfit model.\n",
    "This may be a sign of too many training epochs.\n",
    "In this case, the model training could be stopped at the inflection point. Alternately, the number of training examples could be increased.\n",
    "\n",
    "<img src=\"assets/Diagnostic-Line-Plot-Showing-an-Overfit-Model.png\" width=\"400\">"
   ]
  },
  {
   "cell_type": "markdown",
   "metadata": {},
   "source": [
    "### Evaluate"
   ]
  },
  {
   "cell_type": "code",
   "execution_count": 8,
   "metadata": {},
   "outputs": [
    {
     "name": "stdout",
     "output_type": "stream",
     "text": [
      "70/70 - 0s - loss: 0.6031 - accuracy: 0.8000 - precision: 0.8000 - recall: 0.8000\n"
     ]
    },
    {
     "data": {
      "text/plain": [
       "[0.6031400093010494, 0.8, 0.8, 0.8]"
      ]
     },
     "execution_count": 8,
     "metadata": {},
     "output_type": "execute_result"
    }
   ],
   "source": [
    "#model.evaluate(x_test, y_test, verbose=2)\n",
    "model2.evaluate(x_test, y_test, verbose=2)"
   ]
  },
  {
   "cell_type": "markdown",
   "metadata": {},
   "source": [
    "### Save model"
   ]
  },
  {
   "cell_type": "code",
   "execution_count": null,
   "metadata": {
    "collapsed": true
   },
   "outputs": [],
   "source": [
    "model.save(\"sign_lang_recognition_tuned.h5\")"
   ]
  },
  {
   "cell_type": "code",
   "execution_count": null,
   "metadata": {
    "collapsed": true
   },
   "outputs": [],
   "source": []
  }
 ],
 "metadata": {
  "kernelspec": {
   "display_name": "Python 3",
   "language": "python",
   "name": "python3"
  },
  "language_info": {
   "codemirror_mode": {
    "name": "ipython",
    "version": 3
   },
   "file_extension": ".py",
   "mimetype": "text/x-python",
   "name": "python",
   "nbconvert_exporter": "python",
   "pygments_lexer": "ipython3",
   "version": "3.7.6"
  }
 },
 "nbformat": 4,
 "nbformat_minor": 2
}
