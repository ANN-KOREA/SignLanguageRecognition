{
 "cells": [
  {
   "cell_type": "markdown",
   "metadata": {},
   "source": [
    "# Prediction with .h5 file"
   ]
  },
  {
   "cell_type": "markdown",
   "metadata": {},
   "source": [
    "### Imports\n"
   ]
  },
  {
   "cell_type": "code",
   "execution_count": 1,
   "metadata": {},
   "outputs": [],
   "source": [
    "import tensorflow as tf\n",
    "from tensorflow.keras.utils import to_categorical\n",
    "import os\n",
    "import pandas as pd\n",
    "import numpy as np\n",
    "\n",
    "import tools\n",
    "\n",
    "# Root CSV files directory\n",
    "dirname = \"./prediction_data/\"\n",
    "\n",
    "# Frame count\n",
    "frames = 100"
   ]
  },
  {
   "cell_type": "code",
   "execution_count": 2,
   "metadata": {},
   "outputs": [
    {
     "name": "stdout",
     "output_type": "stream",
     "text": [
      "Model: \"sequential\"\n",
      "_________________________________________________________________\n",
      "Layer (type)                 Output Shape              Param #   \n",
      "=================================================================\n",
      "lstm (LSTM)                  (None, 100, 64)           38656     \n",
      "_________________________________________________________________\n",
      "lstm_1 (LSTM)                (None, 100, 32)           12416     \n",
      "_________________________________________________________________\n",
      "lstm_2 (LSTM)                (None, 32)                8320      \n",
      "_________________________________________________________________\n",
      "dense (Dense)                (None, 5)                 165       \n",
      "=================================================================\n",
      "Total params: 59,557\n",
      "Trainable params: 59,557\n",
      "Non-trainable params: 0\n",
      "_________________________________________________________________\n"
     ]
    }
   ],
   "source": [
    "model = tf.keras.models.load_model('sign_lang_recognition.h5')\n",
    "model.summary()"
   ]
  },
  {
   "cell_type": "markdown",
   "metadata": {},
   "source": [
    "#### Load the file to predict"
   ]
  },
  {
   "cell_type": "code",
   "execution_count": 3,
   "metadata": {},
   "outputs": [
    {
     "name": "stdout",
     "output_type": "stream",
     "text": [
      "{'deutschland': 1}\n",
      "[[0. 1.]\n",
      " [0. 1.]]\n"
     ]
    }
   ],
   "source": [
    "listfile = os.listdir(dirname)\n",
    "data = []\n",
    "for wordname in listfile:\n",
    "    if wordname == \".DS_Store\":\n",
    "        continue\n",
    "    for csv in os.listdir(dirname + wordname):\n",
    "        filepath = os.path.join(dirname, wordname, csv)\n",
    "        content = pd.read_csv(filepath, sep=';')\n",
    "        content = content.reindex(list(range(0, frames)), fill_value=0.0)\n",
    "        content.fillna(0.0, inplace = True) \n",
    "        data.append((wordname, content))\n",
    "features = [n[1] for n in data]\n",
    "features = [f.to_numpy() for f in features]\n",
    "labels = [n[0] for n in data]\n",
    "x_train=np.array(features)\n",
    "\n",
    "tokenizer = tools.tokenize(dirname)\n",
    "print(tokenizer.word_index)\n",
    "encoded_train=tokenizer.texts_to_sequences([labels])[0]\n",
    "y_train = to_categorical(encoded_train)\n",
    "print(y_train)"
   ]
  },
  {
   "cell_type": "code",
   "execution_count": 4,
   "metadata": {},
   "outputs": [
    {
     "name": "stdout",
     "output_type": "stream",
     "text": [
      "[[[0.507547 0.382073 0.213684 ... 0.       0.       0.      ]\n",
      "  [0.50686  0.383572 0.274671 ... 0.834884 0.737334 0.852904]\n",
      "  [0.505028 0.391949 0.284391 ... 0.751541 0.714473 0.775634]\n",
      "  ...\n",
      "  [0.       0.       0.       ... 0.       0.       0.      ]\n",
      "  [0.       0.       0.       ... 0.       0.       0.      ]\n",
      "  [0.       0.       0.       ... 0.       0.       0.      ]]\n",
      "\n",
      " [[0.505633 0.400101 0.451716 ... 0.       0.       0.      ]\n",
      "  [0.502219 0.403942 0.451105 ... 0.       0.       0.      ]\n",
      "  [0.505479 0.400694 0.448652 ... 0.       0.       0.      ]\n",
      "  ...\n",
      "  [0.       0.       0.       ... 0.       0.       0.      ]\n",
      "  [0.       0.       0.       ... 0.       0.       0.      ]\n",
      "  [0.       0.       0.       ... 0.       0.       0.      ]]]\n"
     ]
    }
   ],
   "source": [
    "print(x_train)"
   ]
  },
  {
   "cell_type": "code",
   "execution_count": 5,
   "metadata": {},
   "outputs": [],
   "source": [
    "y_pred = model.predict(x_train)"
   ]
  },
  {
   "cell_type": "code",
   "execution_count": 6,
   "metadata": {},
   "outputs": [
    {
     "name": "stdout",
     "output_type": "stream",
     "text": [
      "[1 2]\n"
     ]
    }
   ],
   "source": [
    "predictions = np.array([np.argmax(pred) for pred in y_pred])\n",
    "print(predictions)"
   ]
  },
  {
   "cell_type": "markdown",
   "metadata": {},
   "source": [
    "https://www.tensorflow.org/lite/guide/inference#load_and_run_a_model_in_python"
   ]
  },
  {
   "cell_type": "code",
   "execution_count": 38,
   "metadata": {},
   "outputs": [
    {
     "name": "stdout",
     "output_type": "stream",
     "text": [
      "[{'name': 'lstm_input', 'index': 0, 'shape': array([  1, 100,  86]), 'dtype': <class 'numpy.float32'>, 'quantization': (0.0, 0)}]\n",
      "[[[0.29059538 0.40627855 0.53578615 ... 0.00327641 0.0639431  0.40411133]\n",
      "  [0.8692346  0.08685412 0.69634986 ... 0.9974383  0.38653663 0.6258291 ]\n",
      "  [0.8929269  0.11467202 0.9103828  ... 0.12192424 0.05083548 0.5769115 ]\n",
      "  ...\n",
      "  [0.25443268 0.9936906  0.8852658  ... 0.6043434  0.3073329  0.6151898 ]\n",
      "  [0.5280396  0.98501647 0.4209363  ... 0.66375786 0.77141243 0.8421129 ]\n",
      "  [0.21817924 0.2039082  0.7296217  ... 0.3307883  0.41537222 0.27234465]]]\n"
     ]
    }
   ],
   "source": [
    "import numpy as np\n",
    "import tensorflow as tf\n",
    "\n",
    "# Load TFLite model and allocate tensors.\n",
    "interpreter = tf.lite.Interpreter(model_path=\"sign_lang_recognition.tflite\")\n",
    "interpreter.allocate_tensors()\n",
    "\n",
    "# Get input and output tensors.\n",
    "input_details = interpreter.get_input_details()\n",
    "output_details = interpreter.get_output_details()\n",
    "\n",
    "print(input_details)\n",
    "# Test model on random input data.\n",
    "\n",
    "#interpreter.set_tensor(0.0, x_train)\n",
    "\n",
    "input_shape = input_details[0]['shape']\n",
    "input_data = np.array(np.random.random_sample(input_shape), dtype=np.float32)\n",
    "\n",
    "print(input_data)\n",
    "interpreter.set_tensor(input_details[0]['index'], input_data)\n",
    "\n",
    "#interpreter.invoke()\n",
    "\n",
    "# The function `get_tensor()` returns a copy of the tensor data.\n",
    "# Use `tensor()` in order to get a pointer to the tensor.\n",
    "#output_data = interpreter.get_tensor(output_details[0]['index'])\n",
    "#print(output_data)"
   ]
  },
  {
   "cell_type": "code",
   "execution_count": 39,
   "metadata": {},
   "outputs": [
    {
     "name": "stdout",
     "output_type": "stream",
     "text": [
      "[[[0.29059538 0.40627855 0.53578615 ... 0.00327641 0.0639431  0.40411133]\n",
      "  [0.8692346  0.08685412 0.69634986 ... 0.9974383  0.38653663 0.6258291 ]\n",
      "  [0.8929269  0.11467202 0.9103828  ... 0.12192424 0.05083548 0.5769115 ]\n",
      "  ...\n",
      "  [0.25443268 0.9936906  0.8852658  ... 0.6043434  0.3073329  0.6151898 ]\n",
      "  [0.5280396  0.98501647 0.4209363  ... 0.66375786 0.77141243 0.8421129 ]\n",
      "  [0.21817924 0.2039082  0.7296217  ... 0.3307883  0.41537222 0.27234465]]]\n"
     ]
    }
   ],
   "source": [
    "print(input_data)\n",
    "interpreter.invoke()"
   ]
  },
  {
   "cell_type": "code",
   "execution_count": 40,
   "metadata": {},
   "outputs": [
    {
     "name": "stdout",
     "output_type": "stream",
     "text": [
      "[[1.5775078e-04 9.8049325e-01 3.0060988e-03 1.1607097e-03 1.5182310e-02]]\n"
     ]
    }
   ],
   "source": [
    "output_data = interpreter.get_tensor(output_details[0]['index'])\n",
    "print(output_data)"
   ]
  }
 ],
 "metadata": {
  "kernelspec": {
   "display_name": "Python 3",
   "language": "python",
   "name": "python3"
  },
  "language_info": {
   "codemirror_mode": {
    "name": "ipython",
    "version": 3
   },
   "file_extension": ".py",
   "mimetype": "text/x-python",
   "name": "python",
   "nbconvert_exporter": "python",
   "pygments_lexer": "ipython3",
   "version": "3.7.6"
  }
 },
 "nbformat": 4,
 "nbformat_minor": 2
}
