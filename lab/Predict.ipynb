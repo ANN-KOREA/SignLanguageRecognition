{
 "cells": [
  {
   "cell_type": "markdown",
   "metadata": {},
   "source": [
    "# Predict"
   ]
  },
  {
   "cell_type": "markdown",
   "metadata": {},
   "source": [
    "This is the notebook for loading and training models.\n",
    "Furthermore it provides simple documentation for different approaches used for training a model."
   ]
  },
  {
   "cell_type": "markdown",
   "metadata": {},
   "source": [
    "Run the command below to see command-completion on pressing `TAB`."
   ]
  },
  {
   "cell_type": "raw",
   "metadata": {},
   "source": [
    "%config IPCompleter.greedy=True"
   ]
  },
  {
   "cell_type": "markdown",
   "metadata": {},
   "source": [
    "### Imports"
   ]
  },
  {
   "cell_type": "code",
   "execution_count": 1,
   "metadata": {},
   "outputs": [],
   "source": [
    "# Imports\n",
    "import os\n",
    "import warnings\n",
    "import tools\n",
    "import tensorflow as tf\n",
    "from tensorflow.keras.utils import to_categorical\n",
    "from tensorflow.keras.preprocessing import sequence\n",
    "from tensorflow.keras import layers, models\n",
    "from matplotlib import pyplot\n",
    "import numpy as np\n",
    "from sklearn.metrics import confusion_matrix\n",
    "import sklearn\n",
    "import wandb\n",
    "\n",
    "# Ignore future warnings\n",
    "warnings.simplefilter(action='ignore', category=FutureWarning)"
   ]
  },
  {
   "cell_type": "markdown",
   "metadata": {},
   "source": [
    "### Load Data"
   ]
  },
  {
   "cell_type": "code",
   "execution_count": 2,
   "metadata": {},
   "outputs": [
    {
     "name": "stdout",
     "output_type": "stream",
     "text": [
      "Amount Datasets by word total:\n",
      "Computer :  58;  Deutschland :  67;  Haben :  71;  Hallo :  62;  Mainz :  67;  Software :  68;  Welt :  68;  du :  70;  ich :  38;  unser :  67;  zeigen :  70;   \n",
      "Amount Datasets by word training:\n",
      "Computer :  35;  Deutschland :  40;  Haben :  42;  Hallo :  37;  Mainz :  40;  Software :  41;  Welt :  41;  du :  42;  ich :  23;  unser :  40;  zeigen :  42;   \n",
      "Amount Datasets by word validiation:\n",
      "Computer :  12;  Deutschland :  13;  Haben :  14;  Hallo :  13;  Mainz :  14;  Software :  13;  Welt :  13;  du :  14;  ich :  8;  unser :  13;  zeigen :  14;   \n",
      "Amount Datasets by word test:\n",
      "Computer :  11;  Deutschland :  14;  Haben :  15;  Hallo :  12;  Mainz :  13;  Software :  14;  Welt :  14;  du :  14;  ich :  7;  unser :  14;  zeigen :  14;   \n",
      "Distribution of data:\n",
      "Amount total: 706\n",
      "Amount training: 423\n",
      "Amount validiation: 141\n",
      "Amount test: 142\n",
      "Tokens:\n",
      "{'computer': 1, 'deutschland': 2, 'du': 3, 'haben': 4, 'hallo': 5, 'ich': 6, 'mainz': 7, 'software': 8, 'unser': 9, 'welt': 10, 'zeigen': 11}\n"
     ]
    }
   ],
   "source": [
    "# Root CSV files directory\n",
    "dirname = \"./data/absolute/3D/\"  \n",
    "\n",
    "\n",
    "# Load data and print summary, if desired\n",
    "x_train, x_val, x_test, y_train, y_val, y_test, labels = tools.load_from(dirname, verbose=True) "
   ]
  },
  {
   "cell_type": "code",
   "execution_count": 3,
   "metadata": {},
   "outputs": [
    {
     "name": "stdout",
     "output_type": "stream",
     "text": [
      "{'computer': 1, 'deutschland': 2, 'du': 3, 'haben': 4, 'hallo': 5, 'ich': 6, 'mainz': 7, 'software': 8, 'unser': 9, 'welt': 10, 'zeigen': 11}\n"
     ]
    }
   ],
   "source": [
    "with open('tokens_json.txt', 'r') as outfile:\n",
    "    json_ex = outfile.read()\n",
    "    \n",
    "\n",
    "tokenizer = tf.keras.preprocessing.text.tokenizer_from_json(json_ex)\n",
    "print(tokenizer.word_index)\n",
    "token_labels = {y:x for x,y in tokenizer.word_index.items()}"
   ]
  },
  {
   "cell_type": "code",
   "execution_count": 4,
   "metadata": {},
   "outputs": [
    {
     "name": "stdout",
     "output_type": "stream",
     "text": [
      "Num GPUs: 0\n"
     ]
    }
   ],
   "source": [
    "physical_devices = tf.config.list_physical_devices('GPU') \n",
    "print(\"Num GPUs:\", len(physical_devices)) \n",
    "\n",
    "from tensorflow.compat.v1 import ConfigProto\n",
    "from tensorflow.compat.v1 import InteractiveSession\n",
    "\n",
    "config = ConfigProto()\n",
    "config.gpu_options.per_process_gpu_memory_fraction = 0.3\n",
    "config.gpu_options.allow_growth = True\n",
    "session = InteractiveSession(config=config)"
   ]
  },
  {
   "cell_type": "code",
   "execution_count": 5,
   "metadata": {},
   "outputs": [
    {
     "name": "stdout",
     "output_type": "stream",
     "text": [
      "Model: \"sequential\"\n",
      "_________________________________________________________________\n",
      "Layer (type)                 Output Shape              Param #   \n",
      "=================================================================\n",
      "lstm (LSTM)                  (None, 100, 128)          131584    \n",
      "_________________________________________________________________\n",
      "lstm_1 (LSTM)                (None, 100, 256)          394240    \n",
      "_________________________________________________________________\n",
      "lstm_2 (LSTM)                (None, 100, 128)          197120    \n",
      "_________________________________________________________________\n",
      "lstm_3 (LSTM)                (None, 128)               131584    \n",
      "_________________________________________________________________\n",
      "dense (Dense)                (None, 12)                1548      \n",
      "=================================================================\n",
      "Total params: 856,076\n",
      "Trainable params: 856,076\n",
      "Non-trainable params: 0\n",
      "_________________________________________________________________\n"
     ]
    }
   ],
   "source": [
    "model = tf.keras.models.load_model('model-best_3d.h5')\n",
    "model.summary()"
   ]
  },
  {
   "cell_type": "markdown",
   "metadata": {},
   "source": [
    "### Evaluate"
   ]
  },
  {
   "cell_type": "code",
   "execution_count": 7,
   "metadata": {},
   "outputs": [
    {
     "name": "stdout",
     "output_type": "stream",
     "text": [
      "142/142 - 1s - loss: 0.9388 - accuracy: 0.7324 - precision: 0.7603 - recall: 0.6479\n"
     ]
    }
   ],
   "source": [
    "eval = model.evaluate(x_test, y_test, verbose=2)"
   ]
  },
  {
   "cell_type": "code",
   "execution_count": 8,
   "metadata": {},
   "outputs": [
    {
     "data": {
      "text/plain": [
       "[0.9387986122722357, 0.73239434, 0.76033056, 0.64788735]"
      ]
     },
     "execution_count": 8,
     "metadata": {},
     "output_type": "execute_result"
    }
   ],
   "source": [
    "y_eval[0]\n",
    "y_eval[1]\n",
    "y_eval[2]\n",
    "y_eval[3]"
   ]
  },
  {
   "cell_type": "code",
   "execution_count": 7,
   "metadata": {},
   "outputs": [],
   "source": [
    "predict = model.predict(x_test)\n",
    "# y_pred = np.array([np.argmax(pred) for pred in predict])\n",
    "y_pred_integer = np.argmax(predict, axis=1)\n",
    "y_test_integer = np.argmax(y_test, axis=1)\n",
    "\n",
    "y_pred_name = ([token_labels[p] for p in y_pred_integer])\n",
    "y_test_name = ([token_labels[p] for p in y_test_integer])\n"
   ]
  },
  {
   "cell_type": "code",
   "execution_count": 8,
   "metadata": {},
   "outputs": [
    {
     "data": {
      "text/plain": [
       "['haben',\n",
       " 'software',\n",
       " 'computer',\n",
       " 'software',\n",
       " 'deutschland',\n",
       " 'ich',\n",
       " 'hallo',\n",
       " 'deutschland',\n",
       " 'zeigen',\n",
       " 'computer',\n",
       " 'zeigen',\n",
       " 'haben',\n",
       " 'mainz',\n",
       " 'hallo',\n",
       " 'du',\n",
       " 'zeigen',\n",
       " 'du',\n",
       " 'du',\n",
       " 'welt',\n",
       " 'mainz',\n",
       " 'mainz',\n",
       " 'du',\n",
       " 'software',\n",
       " 'zeigen',\n",
       " 'du',\n",
       " 'deutschland',\n",
       " 'haben',\n",
       " 'deutschland',\n",
       " 'mainz',\n",
       " 'computer',\n",
       " 'mainz',\n",
       " 'mainz',\n",
       " 'computer',\n",
       " 'software',\n",
       " 'haben',\n",
       " 'ich',\n",
       " 'software',\n",
       " 'unser',\n",
       " 'unser',\n",
       " 'deutschland',\n",
       " 'zeigen',\n",
       " 'welt',\n",
       " 'welt',\n",
       " 'zeigen',\n",
       " 'computer',\n",
       " 'mainz',\n",
       " 'mainz',\n",
       " 'mainz',\n",
       " 'deutschland',\n",
       " 'deutschland',\n",
       " 'haben',\n",
       " 'welt',\n",
       " 'computer',\n",
       " 'hallo',\n",
       " 'welt',\n",
       " 'mainz',\n",
       " 'du',\n",
       " 'unser',\n",
       " 'hallo',\n",
       " 'welt',\n",
       " 'ich',\n",
       " 'unser',\n",
       " 'software',\n",
       " 'du',\n",
       " 'haben',\n",
       " 'computer',\n",
       " 'unser',\n",
       " 'unser',\n",
       " 'hallo',\n",
       " 'du',\n",
       " 'deutschland',\n",
       " 'unser',\n",
       " 'hallo',\n",
       " 'welt',\n",
       " 'software',\n",
       " 'hallo',\n",
       " 'ich',\n",
       " 'software',\n",
       " 'software',\n",
       " 'welt',\n",
       " 'software',\n",
       " 'hallo',\n",
       " 'mainz',\n",
       " 'zeigen',\n",
       " 'ich',\n",
       " 'haben',\n",
       " 'hallo',\n",
       " 'deutschland',\n",
       " 'haben',\n",
       " 'welt',\n",
       " 'welt',\n",
       " 'haben',\n",
       " 'welt',\n",
       " 'computer',\n",
       " 'welt',\n",
       " 'deutschland',\n",
       " 'ich',\n",
       " 'unser',\n",
       " 'ich',\n",
       " 'zeigen',\n",
       " 'zeigen',\n",
       " 'zeigen',\n",
       " 'deutschland',\n",
       " 'zeigen',\n",
       " 'du',\n",
       " 'mainz',\n",
       " 'zeigen',\n",
       " 'ich',\n",
       " 'unser',\n",
       " 'computer',\n",
       " 'deutschland',\n",
       " 'du',\n",
       " 'unser',\n",
       " 'haben',\n",
       " 'du',\n",
       " 'haben',\n",
       " 'welt',\n",
       " 'zeigen',\n",
       " 'ich',\n",
       " 'welt',\n",
       " 'zeigen',\n",
       " 'du',\n",
       " 'unser',\n",
       " 'ich',\n",
       " 'haben',\n",
       " 'ich',\n",
       " 'du',\n",
       " 'ich',\n",
       " 'hallo',\n",
       " 'zeigen',\n",
       " 'haben',\n",
       " 'welt',\n",
       " 'software',\n",
       " 'du',\n",
       " 'deutschland',\n",
       " 'software',\n",
       " 'deutschland',\n",
       " 'unser',\n",
       " 'ich',\n",
       " 'welt',\n",
       " 'hallo',\n",
       " 'ich',\n",
       " 'unser',\n",
       " 'du',\n",
       " 'haben',\n",
       " 'computer',\n",
       " 'unser',\n",
       " 'mainz']"
      ]
     },
     "execution_count": 8,
     "metadata": {},
     "output_type": "execute_result"
    }
   ],
   "source": [
    "y_pred_name"
   ]
  },
  {
   "cell_type": "code",
   "execution_count": 9,
   "metadata": {},
   "outputs": [
    {
     "data": {
      "text/plain": [
       "['haben',\n",
       " 'software',\n",
       " 'computer',\n",
       " 'software',\n",
       " 'deutschland',\n",
       " 'ich',\n",
       " 'hallo',\n",
       " 'deutschland',\n",
       " 'mainz',\n",
       " 'computer',\n",
       " 'zeigen',\n",
       " 'haben',\n",
       " 'mainz',\n",
       " 'hallo',\n",
       " 'du',\n",
       " 'zeigen',\n",
       " 'du',\n",
       " 'du',\n",
       " 'welt',\n",
       " 'mainz',\n",
       " 'haben',\n",
       " 'du',\n",
       " 'software',\n",
       " 'zeigen',\n",
       " 'du',\n",
       " 'deutschland',\n",
       " 'haben',\n",
       " 'deutschland',\n",
       " 'mainz',\n",
       " 'computer',\n",
       " 'mainz',\n",
       " 'mainz',\n",
       " 'software',\n",
       " 'software',\n",
       " 'haben',\n",
       " 'ich',\n",
       " 'software',\n",
       " 'unser',\n",
       " 'unser',\n",
       " 'deutschland',\n",
       " 'zeigen',\n",
       " 'software',\n",
       " 'welt',\n",
       " 'zeigen',\n",
       " 'computer',\n",
       " 'haben',\n",
       " 'mainz',\n",
       " 'mainz',\n",
       " 'deutschland',\n",
       " 'deutschland',\n",
       " 'haben',\n",
       " 'software',\n",
       " 'computer',\n",
       " 'hallo',\n",
       " 'welt',\n",
       " 'mainz',\n",
       " 'du',\n",
       " 'computer',\n",
       " 'hallo',\n",
       " 'welt',\n",
       " 'ich',\n",
       " 'unser',\n",
       " 'software',\n",
       " 'du',\n",
       " 'haben',\n",
       " 'computer',\n",
       " 'unser',\n",
       " 'unser',\n",
       " 'hallo',\n",
       " 'du',\n",
       " 'deutschland',\n",
       " 'unser',\n",
       " 'hallo',\n",
       " 'welt',\n",
       " 'software',\n",
       " 'hallo',\n",
       " 'ich',\n",
       " 'software',\n",
       " 'software',\n",
       " 'welt',\n",
       " 'hallo',\n",
       " 'hallo',\n",
       " 'mainz',\n",
       " 'zeigen',\n",
       " 'ich',\n",
       " 'haben',\n",
       " 'hallo',\n",
       " 'deutschland',\n",
       " 'ich',\n",
       " 'welt',\n",
       " 'welt',\n",
       " 'haben',\n",
       " 'welt',\n",
       " 'computer',\n",
       " 'welt',\n",
       " 'deutschland',\n",
       " 'unser',\n",
       " 'computer',\n",
       " 'ich',\n",
       " 'zeigen',\n",
       " 'zeigen',\n",
       " 'zeigen',\n",
       " 'deutschland',\n",
       " 'zeigen',\n",
       " 'du',\n",
       " 'mainz',\n",
       " 'zeigen',\n",
       " 'ich',\n",
       " 'unser',\n",
       " 'computer',\n",
       " 'deutschland',\n",
       " 'du',\n",
       " 'unser',\n",
       " 'haben',\n",
       " 'du',\n",
       " 'haben',\n",
       " 'welt',\n",
       " 'zeigen',\n",
       " 'ich',\n",
       " 'welt',\n",
       " 'zeigen',\n",
       " 'unser',\n",
       " 'unser',\n",
       " 'ich',\n",
       " 'mainz',\n",
       " 'ich',\n",
       " 'du',\n",
       " 'ich',\n",
       " 'hallo',\n",
       " 'zeigen',\n",
       " 'haben',\n",
       " 'welt',\n",
       " 'software',\n",
       " 'du',\n",
       " 'deutschland',\n",
       " 'software',\n",
       " 'deutschland',\n",
       " 'unser',\n",
       " 'ich',\n",
       " 'welt',\n",
       " 'hallo',\n",
       " 'ich',\n",
       " 'unser',\n",
       " 'du',\n",
       " 'haben',\n",
       " 'computer',\n",
       " 'unser',\n",
       " 'mainz']"
      ]
     },
     "execution_count": 9,
     "metadata": {},
     "output_type": "execute_result"
    }
   ],
   "source": [
    "y_test_name "
   ]
  },
  {
   "cell_type": "code",
   "execution_count": 10,
   "metadata": {},
   "outputs": [
    {
     "data": {
      "text/html": [
       "\n",
       "                Logging results to <a href=\"https://wandb.com\" target=\"_blank\">Weights & Biases</a> <a href=\"https://docs.wandb.com/integrations/jupyter.html\" target=\"_blank\">(Documentation)</a>.<br/>\n",
       "                Project page: <a href=\"https://app.wandb.ai/slr-hs-mainz/Test\" target=\"_blank\">https://app.wandb.ai/slr-hs-mainz/Test</a><br/>\n",
       "                Run page: <a href=\"https://app.wandb.ai/slr-hs-mainz/Test/runs/c861vtsp\" target=\"_blank\">https://app.wandb.ai/slr-hs-mainz/Test/runs/c861vtsp</a><br/>\n",
       "            "
      ],
      "text/plain": [
       "<IPython.core.display.HTML object>"
      ]
     },
     "metadata": {},
     "output_type": "display_data"
    },
    {
     "name": "stderr",
     "output_type": "stream",
     "text": [
      "wandb: Wandb version 0.9.4 is available!  To upgrade, please run:\n",
      "wandb:  $ pip install wandb --upgrade\n"
     ]
    },
    {
     "data": {
      "text/plain": [
       "W&B Run: https://app.wandb.ai/slr-hs-mainz/Test/runs/c861vtsp"
      ]
     },
     "execution_count": 10,
     "metadata": {},
     "output_type": "execute_result"
    }
   ],
   "source": [
    "wandb.init(project=\"Test\", name=\"confusion\")"
   ]
  },
  {
   "cell_type": "code",
   "execution_count": 11,
   "metadata": {},
   "outputs": [
    {
     "name": "stderr",
     "output_type": "stream",
     "text": [
      "wandb: Wandb version 0.9.4 is available!  To upgrade, please run:\n",
      "wandb:  $ pip install wandb --upgrade\n"
     ]
    }
   ],
   "source": [
    "# Confusion Matrix\n",
    "#sklearn.metrics.plot_confusion_matrix(y_test_name, y_pred_name)\n",
    "wandb.sklearn.plot_confusion_matrix(y_test_name, y_pred_name)"
   ]
  },
  {
   "cell_type": "code",
   "execution_count": null,
   "metadata": {},
   "outputs": [],
   "source": []
  }
 ],
 "metadata": {
  "kernelspec": {
   "display_name": "Python 3",
   "language": "python",
   "name": "python3"
  },
  "language_info": {
   "codemirror_mode": {
    "name": "ipython",
    "version": 3
   },
   "file_extension": ".py",
   "mimetype": "text/x-python",
   "name": "python",
   "nbconvert_exporter": "python",
   "pygments_lexer": "ipython3",
   "version": "3.7.6"
  }
 },
 "nbformat": 4,
 "nbformat_minor": 2
}
