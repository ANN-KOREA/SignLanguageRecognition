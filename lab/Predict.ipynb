{
 "cells": [
  {
   "cell_type": "markdown",
   "metadata": {},
   "source": [
    "# Predict"
   ]
  },
  {
   "cell_type": "markdown",
   "metadata": {},
   "source": [
    "This is the notebook for loading and training models.\n",
    "Furthermore it provides simple documentation for different approaches used for training a model."
   ]
  },
  {
   "cell_type": "markdown",
   "metadata": {},
   "source": [
    "Run the command below to see command-completion on pressing `TAB`."
   ]
  },
  {
   "cell_type": "raw",
   "metadata": {},
   "source": [
    "%config IPCompleter.greedy=True"
   ]
  },
  {
   "cell_type": "markdown",
   "metadata": {},
   "source": [
    "### Imports"
   ]
  },
  {
   "cell_type": "code",
   "execution_count": 1,
   "metadata": {},
   "outputs": [],
   "source": [
    "# Imports\n",
    "import os\n",
    "import warnings\n",
    "import tools\n",
    "import tensorflow as tf\n",
    "from tensorflow.keras.utils import to_categorical\n",
    "from tensorflow.keras.preprocessing import sequence\n",
    "from tensorflow.keras import layers, models\n",
    "from matplotlib import pyplot\n",
    "import numpy as np\n",
    "from sklearn.metrics import confusion_matrix\n",
    "import sklearn\n",
    "import wandb\n",
    "\n",
    "# Ignore future warnings\n",
    "warnings.simplefilter(action='ignore', category=FutureWarning)"
   ]
  },
  {
   "cell_type": "markdown",
   "metadata": {},
   "source": [
    "### Load Data"
   ]
  },
  {
   "cell_type": "code",
   "execution_count": 2,
   "metadata": {},
   "outputs": [
    {
     "name": "stdout",
     "output_type": "stream",
     "text": [
      "Amount Datasets by word total:\n",
      "Computer :  58;  Deutschland :  67;  Haben :  71;  Hallo :  62;  Mainz :  67;  Software :  68;  Welt :  68;  du :  70;  ich :  38;  unser :  67;  zeigen :  70;   \n",
      "Amount Datasets by word training:\n",
      "Computer :  35;  Deutschland :  40;  Haben :  42;  Hallo :  37;  Mainz :  40;  Software :  41;  Welt :  41;  du :  42;  ich :  23;  unser :  40;  zeigen :  42;   \n",
      "Amount Datasets by word validiation:\n",
      "Computer :  12;  Deutschland :  13;  Haben :  14;  Hallo :  13;  Mainz :  14;  Software :  13;  Welt :  13;  du :  14;  ich :  8;  unser :  13;  zeigen :  14;   \n",
      "Amount Datasets by word test:\n",
      "Computer :  11;  Deutschland :  14;  Haben :  15;  Hallo :  12;  Mainz :  13;  Software :  14;  Welt :  14;  du :  14;  ich :  7;  unser :  14;  zeigen :  14;   \n",
      "Distribution of data:\n",
      "Amount total: 706\n",
      "Amount training: 423\n",
      "Amount validiation: 141\n",
      "Amount test: 142\n",
      "Tokens:\n",
      "{'computer': 1, 'deutschland': 2, 'du': 3, 'haben': 4, 'hallo': 5, 'ich': 6, 'mainz': 7, 'software': 8, 'unser': 9, 'welt': 10, 'zeigen': 11}\n"
     ]
    }
   ],
   "source": [
    "# Root CSV files directory\n",
    "dirname = \"./data/absolute/3D/\"  \n",
    "\n",
    "\n",
    "# Load data and print summary, if desired\n",
    "x_train, x_val, x_test, y_train, y_val, y_test, labels = tools.load_from(dirname, verbose=True) "
   ]
  },
  {
   "cell_type": "code",
   "execution_count": 3,
   "metadata": {},
   "outputs": [
    {
     "name": "stdout",
     "output_type": "stream",
     "text": [
      "{'computer': 1, 'deutschland': 2, 'du': 3, 'haben': 4, 'hallo': 5, 'ich': 6, 'mainz': 7, 'software': 8, 'unser': 9, 'welt': 10, 'zeigen': 11}\n"
     ]
    }
   ],
   "source": [
    "with open('tokens_json.txt', 'r') as outfile:\n",
    "    json_ex = outfile.read()\n",
    "    \n",
    "\n",
    "tokenizer = tf.keras.preprocessing.text.tokenizer_from_json(json_ex)\n",
    "print(tokenizer.word_index)\n",
    "token_labels = {y:x for x,y in tokenizer.word_index.items()}"
   ]
  },
  {
   "cell_type": "code",
   "execution_count": 4,
   "metadata": {},
   "outputs": [
    {
     "name": "stdout",
     "output_type": "stream",
     "text": [
      "Num GPUs: 1\n"
     ]
    }
   ],
   "source": [
    "physical_devices = tf.config.list_physical_devices('GPU') \n",
    "print(\"Num GPUs:\", len(physical_devices)) \n",
    "\n",
    "from tensorflow.compat.v1 import ConfigProto\n",
    "from tensorflow.compat.v1 import InteractiveSession\n",
    "\n",
    "config = ConfigProto()\n",
    "config.gpu_options.per_process_gpu_memory_fraction = 0.3\n",
    "config.gpu_options.allow_growth = True\n",
    "session = InteractiveSession(config=config)"
   ]
  },
  {
   "cell_type": "code",
   "execution_count": 5,
   "metadata": {},
   "outputs": [
    {
     "name": "stdout",
     "output_type": "stream",
     "text": [
      "Model: \"sequential\"\n",
      "_________________________________________________________________\n",
      "Layer (type)                 Output Shape              Param #   \n",
      "=================================================================\n",
      "lstm (LSTM)                  (None, 100, 64)           49408     \n",
      "_________________________________________________________________\n",
      "lstm_1 (LSTM)                (None, 100, 64)           33024     \n",
      "_________________________________________________________________\n",
      "lstm_2 (LSTM)                (None, 100, 64)           33024     \n",
      "_________________________________________________________________\n",
      "lstm_3 (LSTM)                (None, 100, 128)          98816     \n",
      "_________________________________________________________________\n",
      "lstm_4 (LSTM)                (None, 64)                49408     \n",
      "_________________________________________________________________\n",
      "dense (Dense)                (None, 12)                780       \n",
      "=================================================================\n",
      "Total params: 264,460\n",
      "Trainable params: 264,460\n",
      "Non-trainable params: 0\n",
      "_________________________________________________________________\n"
     ]
    }
   ],
   "source": [
    "model = tf.keras.models.load_model('model-best_3d.h5')\n",
    "model.summary()"
   ]
  },
  {
   "cell_type": "markdown",
   "metadata": {},
   "source": [
    "### Evaluate"
   ]
  },
  {
   "cell_type": "code",
   "execution_count": 6,
   "metadata": {},
   "outputs": [
    {
     "name": "stdout",
     "output_type": "stream",
     "text": [
      "142/142 - 1s - loss: 0.5466 - accuracy: 0.8521 - precision: 0.8551 - recall: 0.8310\n"
     ]
    }
   ],
   "source": [
    "eval = model.evaluate(x_test, y_test, verbose=2)"
   ]
  },
  {
   "cell_type": "code",
   "execution_count": 7,
   "metadata": {},
   "outputs": [],
   "source": [
    "predict = model.predict(x_test)\n",
    "# y_pred = np.array([np.argmax(pred) for pred in predict])\n",
    "y_pred_integer = np.argmax(predict, axis=1)\n",
    "y_test_integer = np.argmax(y_test, axis=1)\n",
    "\n",
    "y_pred_name = ([token_labels[p] for p in y_pred_integer])\n",
    "y_test_name = ([token_labels[p] for p in y_test_integer])\n"
   ]
  },
  {
   "cell_type": "code",
   "execution_count": 8,
   "metadata": {},
   "outputs": [
    {
     "data": {
      "text/plain": [
       "['software',\n",
       " 'welt',\n",
       " 'unser',\n",
       " 'software',\n",
       " 'zeigen',\n",
       " 'mainz',\n",
       " 'unser',\n",
       " 'zeigen',\n",
       " 'welt',\n",
       " 'hallo',\n",
       " 'deutschland',\n",
       " 'computer',\n",
       " 'welt',\n",
       " 'deutschland',\n",
       " 'welt',\n",
       " 'welt',\n",
       " 'mainz',\n",
       " 'computer',\n",
       " 'unser',\n",
       " 'hallo',\n",
       " 'ich',\n",
       " 'haben',\n",
       " 'zeigen',\n",
       " 'mainz',\n",
       " 'software',\n",
       " 'software',\n",
       " 'deutschland',\n",
       " 'welt',\n",
       " 'hallo',\n",
       " 'software',\n",
       " 'deutschland',\n",
       " 'haben',\n",
       " 'du',\n",
       " 'unser',\n",
       " 'software',\n",
       " 'haben',\n",
       " 'unser',\n",
       " 'zeigen',\n",
       " 'computer',\n",
       " 'software',\n",
       " 'haben',\n",
       " 'hallo',\n",
       " 'zeigen',\n",
       " 'haben',\n",
       " 'du',\n",
       " 'zeigen',\n",
       " 'deutschland',\n",
       " 'haben',\n",
       " 'du',\n",
       " 'haben',\n",
       " 'zeigen',\n",
       " 'computer',\n",
       " 'du',\n",
       " 'deutschland',\n",
       " 'software',\n",
       " 'computer',\n",
       " 'hallo',\n",
       " 'zeigen',\n",
       " 'mainz',\n",
       " 'deutschland',\n",
       " 'haben',\n",
       " 'welt',\n",
       " 'zeigen',\n",
       " 'unser',\n",
       " 'unser',\n",
       " 'unser',\n",
       " 'unser',\n",
       " 'computer',\n",
       " 'du',\n",
       " 'haben',\n",
       " 'haben',\n",
       " 'welt',\n",
       " 'software',\n",
       " 'software',\n",
       " 'unser',\n",
       " 'unser',\n",
       " 'zeigen',\n",
       " 'haben',\n",
       " 'mainz',\n",
       " 'hallo',\n",
       " 'du',\n",
       " 'haben',\n",
       " 'software',\n",
       " 'software',\n",
       " 'deutschland',\n",
       " 'welt',\n",
       " 'du',\n",
       " 'deutschland',\n",
       " 'haben',\n",
       " 'unser',\n",
       " 'du',\n",
       " 'welt',\n",
       " 'deutschland',\n",
       " 'haben',\n",
       " 'du',\n",
       " 'haben',\n",
       " 'software',\n",
       " 'deutschland',\n",
       " 'computer',\n",
       " 'deutschland',\n",
       " 'mainz',\n",
       " 'du',\n",
       " 'zeigen',\n",
       " 'welt',\n",
       " 'unser',\n",
       " 'zeigen',\n",
       " 'welt',\n",
       " 'ich',\n",
       " 'mainz',\n",
       " 'deutschland',\n",
       " 'deutschland',\n",
       " 'haben',\n",
       " 'du',\n",
       " 'ich',\n",
       " 'deutschland',\n",
       " 'deutschland',\n",
       " 'hallo',\n",
       " 'haben',\n",
       " 'mainz',\n",
       " 'du',\n",
       " 'hallo',\n",
       " 'du',\n",
       " 'unser',\n",
       " 'du',\n",
       " 'ich',\n",
       " 'computer',\n",
       " 'computer',\n",
       " 'du',\n",
       " 'computer',\n",
       " 'ich',\n",
       " 'mainz',\n",
       " 'mainz',\n",
       " 'computer',\n",
       " 'du',\n",
       " 'mainz',\n",
       " 'zeigen',\n",
       " 'welt',\n",
       " 'hallo',\n",
       " 'welt',\n",
       " 'zeigen',\n",
       " 'haben',\n",
       " 'unser']"
      ]
     },
     "execution_count": 8,
     "metadata": {},
     "output_type": "execute_result"
    }
   ],
   "source": [
    "y_pred_name"
   ]
  },
  {
   "cell_type": "code",
   "execution_count": 9,
   "metadata": {},
   "outputs": [
    {
     "data": {
      "text/plain": [
       "['software',\n",
       " 'welt',\n",
       " 'unser',\n",
       " 'welt',\n",
       " 'zeigen',\n",
       " 'haben',\n",
       " 'hallo',\n",
       " 'zeigen',\n",
       " 'welt',\n",
       " 'hallo',\n",
       " 'deutschland',\n",
       " 'computer',\n",
       " 'welt',\n",
       " 'deutschland',\n",
       " 'software',\n",
       " 'welt',\n",
       " 'mainz',\n",
       " 'computer',\n",
       " 'unser',\n",
       " 'hallo',\n",
       " 'ich',\n",
       " 'haben',\n",
       " 'zeigen',\n",
       " 'ich',\n",
       " 'software',\n",
       " 'software',\n",
       " 'deutschland',\n",
       " 'welt',\n",
       " 'hallo',\n",
       " 'software',\n",
       " 'deutschland',\n",
       " 'haben',\n",
       " 'unser',\n",
       " 'unser',\n",
       " 'software',\n",
       " 'mainz',\n",
       " 'hallo',\n",
       " 'zeigen',\n",
       " 'computer',\n",
       " 'software',\n",
       " 'haben',\n",
       " 'hallo',\n",
       " 'zeigen',\n",
       " 'haben',\n",
       " 'du',\n",
       " 'zeigen',\n",
       " 'deutschland',\n",
       " 'haben',\n",
       " 'du',\n",
       " 'haben',\n",
       " 'zeigen',\n",
       " 'computer',\n",
       " 'du',\n",
       " 'deutschland',\n",
       " 'software',\n",
       " 'computer',\n",
       " 'hallo',\n",
       " 'zeigen',\n",
       " 'mainz',\n",
       " 'welt',\n",
       " 'haben',\n",
       " 'welt',\n",
       " 'zeigen',\n",
       " 'unser',\n",
       " 'unser',\n",
       " 'unser',\n",
       " 'unser',\n",
       " 'computer',\n",
       " 'du',\n",
       " 'haben',\n",
       " 'haben',\n",
       " 'welt',\n",
       " 'welt',\n",
       " 'software',\n",
       " 'unser',\n",
       " 'unser',\n",
       " 'zeigen',\n",
       " 'haben',\n",
       " 'mainz',\n",
       " 'hallo',\n",
       " 'du',\n",
       " 'haben',\n",
       " 'software',\n",
       " 'software',\n",
       " 'deutschland',\n",
       " 'software',\n",
       " 'zeigen',\n",
       " 'mainz',\n",
       " 'mainz',\n",
       " 'unser',\n",
       " 'du',\n",
       " 'welt',\n",
       " 'hallo',\n",
       " 'haben',\n",
       " 'du',\n",
       " 'ich',\n",
       " 'computer',\n",
       " 'deutschland',\n",
       " 'computer',\n",
       " 'deutschland',\n",
       " 'mainz',\n",
       " 'du',\n",
       " 'zeigen',\n",
       " 'welt',\n",
       " 'unser',\n",
       " 'zeigen',\n",
       " 'welt',\n",
       " 'ich',\n",
       " 'mainz',\n",
       " 'deutschland',\n",
       " 'deutschland',\n",
       " 'haben',\n",
       " 'du',\n",
       " 'ich',\n",
       " 'deutschland',\n",
       " 'deutschland',\n",
       " 'hallo',\n",
       " 'haben',\n",
       " 'mainz',\n",
       " 'du',\n",
       " 'hallo',\n",
       " 'du',\n",
       " 'unser',\n",
       " 'du',\n",
       " 'ich',\n",
       " 'computer',\n",
       " 'software',\n",
       " 'du',\n",
       " 'computer',\n",
       " 'ich',\n",
       " 'mainz',\n",
       " 'mainz',\n",
       " 'computer',\n",
       " 'du',\n",
       " 'mainz',\n",
       " 'deutschland',\n",
       " 'software',\n",
       " 'hallo',\n",
       " 'welt',\n",
       " 'zeigen',\n",
       " 'mainz',\n",
       " 'unser']"
      ]
     },
     "execution_count": 9,
     "metadata": {},
     "output_type": "execute_result"
    }
   ],
   "source": [
    "y_test_name "
   ]
  },
  {
   "cell_type": "code",
   "execution_count": null,
   "metadata": {},
   "outputs": [],
   "source": [
    "wandb.init(project=\"Test\", name=\"confusion\")"
   ]
  },
  {
   "cell_type": "code",
   "execution_count": null,
   "metadata": {},
   "outputs": [],
   "source": [
    "# Confusion Matrix\n",
    "#sklearn.metrics.plot_confusion_matrix(y_test_name, y_pred_name)\n",
    "wandb.sklearn.plot_confusion_matrix(y_test_name, y_pred_name)"
   ]
  },
  {
   "cell_type": "markdown",
   "metadata": {},
   "source": [
    "# TFLITE"
   ]
  },
  {
   "cell_type": "code",
   "execution_count": 61,
   "metadata": {},
   "outputs": [
    {
     "name": "stdout",
     "output_type": "stream",
     "text": [
      "<class 'numpy.float32'>\n",
      "<class 'numpy.float32'>\n"
     ]
    }
   ],
   "source": [
    "x_test=np.array(x_test,dtype=np.float32)\n",
    "\n",
    "\n",
    "print(type(x_train[0][0][0]))\n",
    "print(type(x_test[0][0][0]))\n"
   ]
  },
  {
   "cell_type": "code",
   "execution_count": 62,
   "metadata": {},
   "outputs": [
    {
     "name": "stdout",
     "output_type": "stream",
     "text": [
      "[{'name': 'lstm_input', 'index': 0, 'shape': array([  1, 100, 128]), 'dtype': <class 'numpy.float32'>, 'quantization': (0.0, 0)}]\n"
     ]
    }
   ],
   "source": [
    "import numpy as np\n",
    "import tensorflow as tf\n",
    "from time import time\n",
    "\n",
    "# Load TFLite model and allocate tensors.\n",
    "interpreter = tf.lite.Interpreter(model_path=\"sign_lang_recognition_3D.tflite\")\n",
    "interpreter.allocate_tensors()\n",
    "\n",
    "# Get input and output tensors.\n",
    "input_details = interpreter.get_input_details()\n",
    "output_details = interpreter.get_output_details()\n",
    "\n",
    "print(input_details)\n",
    "\n",
    "\n",
    "input_shape = input_details[0]['shape']\n",
    "time1= time()\n",
    "input_data = [1]\n",
    "predictions = []\n",
    "\n",
    "input_details[0][\"index\"]\n",
    "\n",
    "for x_pred in x_test:\n",
    "    \n",
    "    input_data[0] = x_pred\n",
    "    interpreter.set_tensor(input_details[0]['index'], input_data)\n",
    "\n",
    "    interpreter.invoke()\n",
    "\n",
    "# The function `get_tensor()` returns a copy of the tensor data.\n",
    "# Use `tensor()` in order to get a pointer to the tensor.\n",
    "    output_data = interpreter.get_tensor(output_details[0]['index'])\n",
    "    predictions.append(np.argmax(output_data))\n",
    "    \n",
    "predictions = [token_labels[p] for p in predictions]"
   ]
  },
  {
   "cell_type": "code",
   "execution_count": 72,
   "metadata": {
    "scrolled": false
   },
   "outputs": [
    {
     "name": "stdout",
     "output_type": "stream",
     "text": [
      "keras:  software software\n",
      "keras:  welt welt\n",
      "keras:  unser unser\n",
      "keras:  software software\n",
      "keras:  zeigen zeigen\n",
      "keras:  mainz mainz\n",
      "keras:  unser unser\n",
      "keras:  zeigen zeigen\n",
      "keras:  welt welt\n",
      "keras:  hallo hallo\n",
      "keras:  deutschland deutschland\n",
      "keras:  computer computer\n",
      "keras:  welt welt\n",
      "keras:  deutschland deutschland\n",
      "keras:  welt welt\n",
      "keras:  welt welt\n",
      "keras:  mainz mainz\n",
      "keras:  computer computer\n",
      "keras:  unser unser\n",
      "keras:  hallo hallo\n",
      "keras:  ich ich\n",
      "keras:  haben haben\n",
      "keras:  zeigen zeigen\n",
      "keras:  mainz mainz\n",
      "keras:  software software\n",
      "keras:  software software\n",
      "keras:  deutschland deutschland\n",
      "keras:  welt welt\n",
      "keras:  hallo hallo\n",
      "keras:  software software\n",
      "keras:  deutschland deutschland\n",
      "keras:  haben haben\n",
      "keras:  du du\n",
      "keras:  unser unser\n",
      "keras:  software software\n",
      "keras:  haben haben\n",
      "keras:  unser unser\n",
      "keras:  zeigen zeigen\n",
      "keras:  computer computer\n",
      "keras:  software software\n",
      "keras:  haben haben\n",
      "keras:  hallo hallo\n",
      "keras:  zeigen zeigen\n",
      "keras:  haben haben\n",
      "keras:  du du\n",
      "keras:  zeigen zeigen\n",
      "keras:  deutschland deutschland\n",
      "keras:  haben haben\n",
      "keras:  du du\n",
      "keras:  haben haben\n",
      "keras:  zeigen zeigen\n",
      "keras:  computer computer\n",
      "keras:  du du\n",
      "keras:  deutschland deutschland\n",
      "keras:  software software\n",
      "keras:  computer computer\n",
      "keras:  hallo hallo\n",
      "keras:  zeigen zeigen\n",
      "keras:  mainz mainz\n",
      "keras:  deutschland deutschland\n",
      "keras:  haben haben\n",
      "keras:  welt welt\n",
      "keras:  zeigen zeigen\n",
      "keras:  unser unser\n",
      "keras:  unser unser\n",
      "keras:  unser unser\n",
      "keras:  unser unser\n",
      "keras:  computer computer\n",
      "keras:  du du\n",
      "keras:  haben haben\n",
      "keras:  haben haben\n",
      "keras:  welt welt\n",
      "keras:  software software\n",
      "keras:  software software\n",
      "keras:  unser unser\n",
      "keras:  unser unser\n",
      "keras:  zeigen zeigen\n",
      "keras:  haben haben\n",
      "keras:  mainz mainz\n",
      "keras:  hallo hallo\n",
      "keras:  du du\n",
      "keras:  haben haben\n",
      "keras:  software software\n",
      "keras:  software software\n",
      "keras:  deutschland deutschland\n",
      "keras:  welt welt\n",
      "keras:  du du\n",
      "keras:  deutschland deutschland\n",
      "keras:  haben haben\n",
      "keras:  unser unser\n",
      "keras:  du du\n",
      "keras:  welt welt\n",
      "keras:  deutschland deutschland\n",
      "keras:  haben haben\n",
      "keras:  du du\n",
      "keras:  haben haben\n",
      "keras:  software software\n",
      "keras:  deutschland deutschland\n",
      "keras:  computer computer\n",
      "keras:  deutschland deutschland\n",
      "keras:  mainz mainz\n",
      "keras:  du du\n",
      "keras:  zeigen zeigen\n",
      "keras:  welt welt\n",
      "keras:  unser unser\n",
      "keras:  zeigen zeigen\n",
      "keras:  welt welt\n",
      "keras:  ich ich\n",
      "keras:  mainz mainz\n",
      "keras:  deutschland deutschland\n",
      "keras:  deutschland deutschland\n",
      "keras:  haben haben\n",
      "keras:  du du\n",
      "keras:  ich ich\n",
      "keras:  deutschland deutschland\n",
      "keras:  deutschland deutschland\n",
      "keras:  hallo hallo\n",
      "keras:  haben haben\n",
      "keras:  mainz mainz\n",
      "keras:  du du\n",
      "keras:  hallo hallo\n",
      "keras:  du du\n",
      "keras:  unser unser\n",
      "keras:  du du\n",
      "keras:  ich ich\n",
      "keras:  computer computer\n",
      "keras:  computer computer\n",
      "keras:  du du\n",
      "keras:  computer computer\n",
      "keras:  ich ich\n",
      "keras:  mainz mainz\n",
      "keras:  mainz mainz\n",
      "keras:  computer computer\n",
      "keras:  du du\n",
      "keras:  mainz mainz\n",
      "keras:  zeigen zeigen\n",
      "keras:  welt welt\n",
      "keras:  hallo hallo\n",
      "keras:  welt welt\n",
      "keras:  zeigen zeigen\n",
      "keras:  haben haben\n",
      "keras:  unser unser\n"
     ]
    }
   ],
   "source": [
    "for i in range(0, len(predictions)):\n",
    "    print('keras: ',y_pred_name[i],  predictions[i])"
   ]
  },
  {
   "cell_type": "code",
   "execution_count": null,
   "metadata": {},
   "outputs": [],
   "source": [
    "print(\"Predictions:\", predictions)\n",
    "time2= time()\n",
    "dauer = time2 - time1\n",
    "print(\"Anzahl Samples: \", len(predictions))\n",
    "print(\"Predictiondauer: \", dauer)\n",
    "print(\"Samples pro Sekunde:\", (len(predictions)/dauer))"
   ]
  },
  {
   "cell_type": "code",
   "execution_count": 11,
   "metadata": {},
   "outputs": [
    {
     "name": "stdout",
     "output_type": "stream",
     "text": [
      "[array([[0.497013, 0.212492, 0.      , ..., 0.5     , 0.5     , 0.5     ],\n",
      "       [0.495045, 0.21436 , 0.      , ..., 0.5     , 0.5     , 0.5     ],\n",
      "       [0.49323 , 0.211844, 0.      , ..., 0.5     , 0.5     , 0.5     ],\n",
      "       ...,\n",
      "       [0.5     , 0.5     , 0.5     , ..., 0.5     , 0.5     , 0.5     ],\n",
      "       [0.5     , 0.5     , 0.5     , ..., 0.5     , 0.5     , 0.5     ],\n",
      "       [0.5     , 0.5     , 0.5     , ..., 0.5     , 0.5     , 0.5     ]])]\n"
     ]
    }
   ],
   "source": [
    "print(input_data)"
   ]
  },
  {
   "cell_type": "code",
   "execution_count": null,
   "metadata": {},
   "outputs": [],
   "source": []
  }
 ],
 "metadata": {
  "kernelspec": {
   "display_name": "GPU",
   "language": "python",
   "name": "gpu"
  },
  "language_info": {
   "codemirror_mode": {
    "name": "ipython",
    "version": 3
   },
   "file_extension": ".py",
   "mimetype": "text/x-python",
   "name": "python",
   "nbconvert_exporter": "python",
   "pygments_lexer": "ipython3",
   "version": "3.7.7"
  }
 },
 "nbformat": 4,
 "nbformat_minor": 2
}
