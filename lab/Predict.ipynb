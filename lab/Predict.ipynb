{
 "cells": [
  {
   "cell_type": "markdown",
   "metadata": {},
   "source": [
    "# Predict"
   ]
  },
  {
   "cell_type": "markdown",
   "metadata": {},
   "source": [
    "This is the notebook for loading and training models.\n",
    "Furthermore it provides simple documentation for different approaches used for training a model."
   ]
  },
  {
   "cell_type": "markdown",
   "metadata": {},
   "source": [
    "Run the command below to see command-completion on pressing `TAB`."
   ]
  },
  {
   "cell_type": "raw",
   "metadata": {},
   "source": [
    "%config IPCompleter.greedy=True"
   ]
  },
  {
   "cell_type": "markdown",
   "metadata": {},
   "source": [
    "### Imports"
   ]
  },
  {
   "cell_type": "code",
   "execution_count": 12,
   "metadata": {},
   "outputs": [],
   "source": [
    "# Imports\n",
    "import os\n",
    "import warnings\n",
    "import tools\n",
    "import tensorflow as tf\n",
    "from tensorflow.keras.utils import to_categorical\n",
    "from tensorflow.keras.preprocessing import sequence\n",
    "from tensorflow.keras import layers, models\n",
    "from matplotlib import pyplot\n",
    "import numpy as np\n",
    "from sklearn.metrics import confusion_matrix\n",
    "import sklearn\n",
    "import wandb\n",
    "\n",
    "# Ignore future warnings\n",
    "warnings.simplefilter(action='ignore', category=FutureWarning)"
   ]
  },
  {
   "cell_type": "code",
   "execution_count": 13,
   "metadata": {},
   "outputs": [
    {
     "name": "stdout",
     "output_type": "stream",
     "text": [
      "Num GPUs: 1\n"
     ]
    },
    {
     "name": "stderr",
     "output_type": "stream",
     "text": [
      "/home/datagroup/anaconda3/lib/python3.7/site-packages/tensorflow_core/python/client/session.py:1752: UserWarning: An interactive session is already active. This can cause out-of-memory errors in some cases. You must explicitly call `InteractiveSession.close()` to release resources held by the other session(s).\n",
      "  warnings.warn('An interactive session is already active. This can '\n"
     ]
    }
   ],
   "source": [
    "physical_devices = tf.config.list_physical_devices('GPU') \n",
    "print(\"Num GPUs:\", len(physical_devices)) \n",
    "\n",
    "from tensorflow.compat.v1 import ConfigProto\n",
    "from tensorflow.compat.v1 import InteractiveSession\n",
    "\n",
    "config = ConfigProto()\n",
    "config.gpu_options.per_process_gpu_memory_fraction = 0.3\n",
    "config.gpu_options.allow_growth = True\n",
    "session = InteractiveSession(config=config)"
   ]
  },
  {
   "cell_type": "markdown",
   "metadata": {},
   "source": [
    "### Load Data"
   ]
  },
  {
   "cell_type": "code",
   "execution_count": 18,
   "metadata": {},
   "outputs": [
    {
     "name": "stdout",
     "output_type": "stream",
     "text": [
      "Amount Datasets by word total:\n",
      "Computer :  5;  Deutschland :  7;  Haben :  7;  Hallo :  5;  Welt :  4;  du :  6;  ich :  9;   \n",
      "Amount Datasets by word training:\n",
      "Computer :  3;  Deutschland :  4;  Haben :  4;  Hallo :  3;  Welt :  2;  du :  4;  ich :  5;   \n",
      "Amount Datasets by word validiation:\n",
      "Computer :  1;  Deutschland :  1;  Haben :  2;  Hallo :  1;  Welt :  1;  du :  1;  ich :  2;   \n",
      "Amount Datasets by word test:\n",
      "Computer :  1;  Deutschland :  2;  Haben :  1;  Hallo :  1;  Welt :  1;  du :  1;  ich :  2;   \n",
      "Distribution of data:\n",
      "Amount total: 43\n",
      "Amount training: 25\n",
      "Amount validiation: 9\n",
      "Amount test: 9\n",
      "Tokens:\n",
      "{'computer': 1, 'deutschland': 2, 'du': 3, 'haben': 4, 'hallo': 5, 'ich': 6, 'mainz': 7, 'software': 8, 'unser': 9, 'welt': 10, 'zeigen': 11}\n"
     ]
    }
   ],
   "source": [
    "# Root CSV files directory\n",
    "dirname = \"./data/live/\"  \n",
    "\n",
    "\n",
    "# Load data and print summary, if desired\n",
    "x_train, x_val, x_test, y_train, y_val, y_test, labels = tools.load_from(dirname, verbose=True) "
   ]
  },
  {
   "cell_type": "code",
   "execution_count": 19,
   "metadata": {},
   "outputs": [
    {
     "name": "stdout",
     "output_type": "stream",
     "text": [
      "{'computer': 1, 'deutschland': 2, 'du': 3, 'haben': 4, 'hallo': 5, 'ich': 6, 'mainz': 7, 'software': 8, 'unser': 9, 'welt': 10, 'zeigen': 11}\n"
     ]
    }
   ],
   "source": [
    "with open('tokens_json.txt', 'r') as outfile:\n",
    "    json_ex = outfile.read()\n",
    "    \n",
    "\n",
    "tokenizer = tf.keras.preprocessing.text.tokenizer_from_json(json_ex)\n",
    "print(tokenizer.word_index)\n",
    "token_labels = {y:x for x,y in tokenizer.word_index.items()}"
   ]
  },
  {
   "cell_type": "code",
   "execution_count": 20,
   "metadata": {},
   "outputs": [
    {
     "name": "stdout",
     "output_type": "stream",
     "text": [
      "Model: \"sequential\"\n",
      "_________________________________________________________________\n",
      "Layer (type)                 Output Shape              Param #   \n",
      "=================================================================\n",
      "lstm (LSTM)                  (None, 100, 64)           38656     \n",
      "_________________________________________________________________\n",
      "lstm_1 (LSTM)                (None, 100, 128)          98816     \n",
      "_________________________________________________________________\n",
      "lstm_2 (LSTM)                (None, 100, 128)          131584    \n",
      "_________________________________________________________________\n",
      "lstm_3 (LSTM)                (None, 100, 256)          394240    \n",
      "_________________________________________________________________\n",
      "lstm_4 (LSTM)                (None, 64)                82176     \n",
      "_________________________________________________________________\n",
      "dense (Dense)                (None, 12)                780       \n",
      "=================================================================\n",
      "Total params: 746,252\n",
      "Trainable params: 746,252\n",
      "Non-trainable params: 0\n",
      "_________________________________________________________________\n"
     ]
    }
   ],
   "source": [
    "model = tf.keras.models.load_model('model-best_2d.h5')\n",
    "model.summary()"
   ]
  },
  {
   "cell_type": "markdown",
   "metadata": {},
   "source": [
    "### Evaluate"
   ]
  },
  {
   "cell_type": "code",
   "execution_count": 21,
   "metadata": {},
   "outputs": [
    {
     "name": "stdout",
     "output_type": "stream",
     "text": [
      "(9, 100, 86)\n",
      "[[0. 0. 0. 0. 0. 0. 0. 0. 0. 0. 1.]\n",
      " [0. 0. 1. 0. 0. 0. 0. 0. 0. 0. 0.]\n",
      " [0. 0. 0. 0. 0. 0. 1. 0. 0. 0. 0.]\n",
      " [0. 0. 0. 1. 0. 0. 0. 0. 0. 0. 0.]\n",
      " [0. 1. 0. 0. 0. 0. 0. 0. 0. 0. 0.]\n",
      " [0. 0. 0. 0. 0. 1. 0. 0. 0. 0. 0.]\n",
      " [0. 0. 0. 0. 1. 0. 0. 0. 0. 0. 0.]\n",
      " [0. 0. 0. 0. 0. 0. 1. 0. 0. 0. 0.]\n",
      " [0. 0. 1. 0. 0. 0. 0. 0. 0. 0. 0.]]\n"
     ]
    },
    {
     "data": {
      "text/plain": [
       "array([[1.63407519e-03, 6.43871538e-03, 8.17047775e-01, 8.50409851e-04,\n",
       "        3.61898611e-03, 4.74120751e-02, 2.85321032e-03, 4.94563812e-03,\n",
       "        6.85858028e-03, 5.93768083e-04, 9.42774713e-02, 1.34694064e-02],\n",
       "       [1.60587626e-03, 7.15340534e-03, 7.69231498e-01, 8.35481507e-04,\n",
       "        5.54986577e-03, 4.63290140e-02, 3.64793697e-03, 5.05892141e-03,\n",
       "        9.33421310e-03, 7.02275662e-04, 1.33600727e-01, 1.69507861e-02],\n",
       "       [4.90017142e-03, 1.14521161e-01, 4.01987672e-01, 9.57930926e-03,\n",
       "        2.65656207e-02, 1.15411185e-01, 1.05595127e-01, 3.45639102e-02,\n",
       "        1.39404777e-02, 2.87839933e-03, 1.59305260e-01, 1.07517419e-02],\n",
       "       [4.92769934e-04, 4.43604290e-02, 6.09214008e-01, 1.33818034e-02,\n",
       "        1.32494292e-03, 2.98599720e-01, 4.74327616e-03, 2.09063222e-03,\n",
       "        2.18361593e-03, 1.81152287e-03, 1.21977208e-02, 9.59949475e-03],\n",
       "       [8.93571647e-04, 6.83925599e-02, 1.65459096e-01, 2.87110778e-03,\n",
       "        1.91122517e-02, 4.35957983e-02, 2.24333778e-02, 1.58962924e-02,\n",
       "        1.41369477e-02, 1.16175006e-03, 6.34851456e-01, 1.11958226e-02],\n",
       "       [5.07861376e-04, 3.65597829e-02, 6.85801953e-02, 4.16713730e-02,\n",
       "        2.28974721e-04, 8.22612822e-01, 5.43930568e-03, 1.36308034e-03,\n",
       "        2.70134932e-03, 1.00549031e-03, 1.31998789e-02, 6.12999871e-03],\n",
       "       [2.32388056e-03, 7.57670496e-03, 7.17137337e-01, 9.50421789e-04,\n",
       "        6.51293248e-03, 5.25388904e-02, 4.35281964e-03, 6.23465097e-03,\n",
       "        1.12056928e-02, 7.22092518e-04, 1.77022070e-01, 1.34225581e-02],\n",
       "       [4.79983306e-03, 1.07435681e-01, 4.26351070e-01, 9.36142541e-03,\n",
       "        2.68200263e-02, 1.12010464e-01, 1.03625223e-01, 3.12122442e-02,\n",
       "        1.31827071e-02, 3.03564104e-03, 1.51975468e-01, 1.01902336e-02],\n",
       "       [1.62958109e-03, 8.17088503e-03, 7.12090313e-01, 8.60443921e-04,\n",
       "        8.22706521e-03, 4.68540378e-02, 4.56023589e-03, 5.38025750e-03,\n",
       "        1.25163952e-02, 8.30363773e-04, 1.79718524e-01, 1.91619974e-02]],\n",
       "      dtype=float32)"
      ]
     },
     "execution_count": 21,
     "metadata": {},
     "output_type": "execute_result"
    }
   ],
   "source": [
    "print(x_test.shape)\n",
    "print(y_test)\n",
    "model.predict(x_test)"
   ]
  },
  {
   "cell_type": "code",
   "execution_count": null,
   "metadata": {},
   "outputs": [],
   "source": [
    "y_eval[0]\n",
    "y_eval[1]\n",
    "y_eval[2]\n",
    "y_eval[3]"
   ]
  },
  {
   "cell_type": "code",
   "execution_count": 28,
   "metadata": {},
   "outputs": [],
   "source": [
    "predict = model.predict(x_train)\n",
    "# y_pred = np.array([np.argmax(pred) for pred in predict])\n",
    "y_pred_integer = np.argmax(predict, axis=1)\n",
    "y_test_integer = np.argmax(y_train, axis=1)\n",
    "\n",
    "y_pred_name = ([token_labels[p] for p in y_pred_integer])\n",
    "y_test_name = ([token_labels[p] for p in y_test_integer])\n"
   ]
  },
  {
   "cell_type": "code",
   "execution_count": 29,
   "metadata": {},
   "outputs": [
    {
     "data": {
      "text/plain": [
       "['welt',\n",
       " 'deutschland',\n",
       " 'deutschland',\n",
       " 'welt',\n",
       " 'haben',\n",
       " 'haben',\n",
       " 'deutschland',\n",
       " 'deutschland',\n",
       " 'hallo',\n",
       " 'welt',\n",
       " 'deutschland',\n",
       " 'deutschland',\n",
       " 'deutschland',\n",
       " 'welt',\n",
       " 'haben',\n",
       " 'deutschland',\n",
       " 'deutschland',\n",
       " 'welt',\n",
       " 'deutschland',\n",
       " 'deutschland',\n",
       " 'welt',\n",
       " 'deutschland',\n",
       " 'computer',\n",
       " 'deutschland',\n",
       " 'deutschland']"
      ]
     },
     "execution_count": 29,
     "metadata": {},
     "output_type": "execute_result"
    }
   ],
   "source": [
    "y_pred_name"
   ]
  },
  {
   "cell_type": "code",
   "execution_count": 30,
   "metadata": {},
   "outputs": [
    {
     "data": {
      "text/plain": [
       "['computer',\n",
       " 'deutschland',\n",
       " 'ich',\n",
       " 'welt',\n",
       " 'hallo',\n",
       " 'haben',\n",
       " 'ich',\n",
       " 'haben',\n",
       " 'hallo',\n",
       " 'haben',\n",
       " 'ich',\n",
       " 'ich',\n",
       " 'du',\n",
       " 'deutschland',\n",
       " 'computer',\n",
       " 'du',\n",
       " 'haben',\n",
       " 'deutschland',\n",
       " 'ich',\n",
       " 'deutschland',\n",
       " 'computer',\n",
       " 'du',\n",
       " 'hallo',\n",
       " 'du',\n",
       " 'welt']"
      ]
     },
     "execution_count": 30,
     "metadata": {},
     "output_type": "execute_result"
    }
   ],
   "source": [
    "y_test_name "
   ]
  },
  {
   "cell_type": "code",
   "execution_count": null,
   "metadata": {},
   "outputs": [],
   "source": [
    "for i in range(0, len(predictions)):\n",
    "    print('keras: ',y_pred_name[i],  predictions[i])"
   ]
  },
  {
   "cell_type": "code",
   "execution_count": null,
   "metadata": {},
   "outputs": [],
   "source": [
    "print(\"Predictions:\", predictions)\n",
    "time2= time()\n",
    "dauer = time2 - time1\n",
    "print(\"Anzahl Samples: \", len(predictions))\n",
    "print(\"Predictiondauer: \", dauer)\n",
    "print(\"Samples pro Sekunde:\", (len(predictions)/dauer))"
   ]
  },
  {
   "cell_type": "code",
   "execution_count": null,
   "metadata": {},
   "outputs": [],
   "source": [
    "print(input_data)"
   ]
  },
  {
   "cell_type": "code",
   "execution_count": null,
   "metadata": {},
   "outputs": [],
   "source": []
  }
 ],
 "metadata": {
  "kernelspec": {
   "display_name": "Python 3",
   "language": "python",
   "name": "python3"
  },
  "language_info": {
   "codemirror_mode": {
    "name": "ipython",
    "version": 3
   },
   "file_extension": ".py",
   "mimetype": "text/x-python",
   "name": "python",
   "nbconvert_exporter": "python",
   "pygments_lexer": "ipython3",
   "version": "3.7.6"
  }
 },
 "nbformat": 4,
 "nbformat_minor": 2
}
