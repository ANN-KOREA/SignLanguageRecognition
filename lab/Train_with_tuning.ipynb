{
 "cells": [
  {
   "cell_type": "markdown",
   "metadata": {},
   "source": [
    "# Model training lab"
   ]
  },
  {
   "cell_type": "markdown",
   "metadata": {},
   "source": [
    "This is the notebook for loading and training models.\n",
    "Furthermore it provides simple documentation for different approaches used for training a model."
   ]
  },
  {
   "cell_type": "markdown",
   "metadata": {},
   "source": [
    "Run the command below to see command-completion on pressing `TAB`."
   ]
  },
  {
   "cell_type": "raw",
   "metadata": {},
   "source": [
    "%config IPCompleter.greedy=True"
   ]
  },
  {
   "cell_type": "markdown",
   "metadata": {},
   "source": [
    "## Prerequisits"
   ]
  },
  {
   "cell_type": "code",
   "execution_count": 1,
   "metadata": {},
   "outputs": [],
   "source": [
    "# Imports\n",
    "import os\n",
    "import warnings\n",
    "import tools\n",
    "import pandas as pd\n",
    "import numpy as np\n",
    "import tensorflow as tf\n",
    "from tensorflow.keras.utils import to_categorical\n",
    "from sklearn.model_selection import train_test_split\n",
    "from tensorflow.keras.preprocessing import sequence\n",
    "from tensorflow.keras import layers, models\n",
    "from tensorflow.keras.models import Sequential\n",
    "from tensorflow.keras import layers\n",
    "from tensorflow.keras import optimizers\n",
    "from tensorflow.keras.layers import SimpleRNN, Dense\n",
    "from tensorflow.keras.layers import Bidirectional\n",
    "from matplotlib import pyplot\n",
    "\n",
    "\n",
    "\n",
    "# Ignore future warnings\n",
    "warnings.simplefilter(action='ignore', category=FutureWarning)\n",
    "\n",
    "# Root CSV files directory\n",
    "dirname = \"./data/\"  \n",
    "\n",
    "# Constant frame count.\n",
    "frames = 100"
   ]
  },
  {
   "cell_type": "markdown",
   "metadata": {},
   "source": [
    "## Preparation Stage\n",
    "### Load data and normalize\n",
    "For training it's required to extend/reduce every dataset to n frames, where n is `frames`."
   ]
  },
  {
   "cell_type": "code",
   "execution_count": 2,
   "metadata": {},
   "outputs": [],
   "source": [
    "listfile = os.listdir(dirname)\n",
    "data = []\n",
    "for wordname in listfile:\n",
    "    if wordname == \".DS_Store\":\n",
    "        continue\n",
    "    for csv in os.listdir(dirname + wordname):\n",
    "        filepath = os.path.join(dirname, wordname, csv)\n",
    "        content = pd.read_csv(filepath, sep=';')\n",
    "        content = content.reindex(list(range(0, frames)), fill_value=0.0)\n",
    "        content.fillna(0.0, inplace = True) \n",
    "        data.append((wordname, content))\n"
   ]
  },
  {
   "cell_type": "code",
   "execution_count": null,
   "metadata": {},
   "outputs": [],
   "source": [
    "# Print the content of the first dataframe\n",
    "data[10][0]"
   ]
  },
  {
   "cell_type": "markdown",
   "metadata": {},
   "source": [
    "### Split data\n",
    "Split the dataset up into the following segments:\n",
    "1. Training Data: 60%\n",
    "2. Validation Data: 20%\n",
    "3. Test Data: 20%\n"
   ]
  },
  {
   "cell_type": "code",
   "execution_count": 3,
   "metadata": {},
   "outputs": [],
   "source": [
    "features = [n[1] for n in data]\n",
    "features = [f.to_numpy() for f in features]\n",
    "labels = [n[0] for n in data]\n",
    "x_train, x_val, y_train, y_val = train_test_split(features, labels, test_size=0.40, random_state=42)\n",
    "x_val, x_test, y_val, y_test = train_test_split(x_val, y_val, test_size=0.50, random_state=42)"
   ]
  },
  {
   "cell_type": "code",
   "execution_count": null,
   "metadata": {},
   "outputs": [],
   "source": [
    "def printCountDataSets(dataset):\n",
    "    wortCounter = []\n",
    "    #Liste mit einmaligen Labels erstellen\n",
    "    labels = sorted(set(dataset), key=dataset.index)\n",
    "    #Liste nochmal Alphabetisch sortieren\n",
    "    labels = sorted(labels)\n",
    "    for label in labels:\n",
    "        wortCounter.append(0)\n",
    "    for row in dataset:\n",
    "        for i in range(len(labels)):\n",
    "            if str(labels[i]).startswith(row):\n",
    "                wortCounter[i] += 1\n",
    "    for i in range(len(labels)):\n",
    "        print(labels[i], ': ', wortCounter[i], end =\";  \")\n",
    "    print(' ')        \n",
    "        \n",
    "print('Alle Klassensätze')\n",
    "printCountDataSets(labels)\n",
    "print('Trainings Klassensätze')\n",
    "printCountDataSets(y_train)\n",
    "print('Validation Klassensätze')\n",
    "printCountDataSets(y_val)  \n",
    "print('Test Klassensätze')\n",
    "printCountDataSets(y_test) "
   ]
  },
  {
   "cell_type": "code",
   "execution_count": null,
   "metadata": {},
   "outputs": [],
   "source": [
    "# Display data distribution\n",
    "print(\"Total:\", len(labels))\n",
    "print(\"Training:\", len(y_train), len(y_train) / len(labels) * 100)\n",
    "print(\"Val:\", len(y_val), len(y_val) / len(labels) * 100)\n",
    "print(\"Test:\", len(y_test), len(y_test) / len(labels) * 100)"
   ]
  },
  {
   "cell_type": "markdown",
   "metadata": {},
   "source": [
    "### Tokenize (One Hot)"
   ]
  },
  {
   "cell_type": "code",
   "execution_count": 4,
   "metadata": {},
   "outputs": [
    {
     "name": "stdout",
     "output_type": "stream",
     "text": [
      "{'computer': 1, 'deutschland': 2, 'hallo': 3, 'welt': 4}\n",
      "[[0. 0. 1. 0. 0.]\n",
      " [0. 1. 0. 0. 0.]\n",
      " [0. 0. 0. 1. 0.]\n",
      " ...\n",
      " [0. 0. 1. 0. 0.]\n",
      " [0. 0. 0. 0. 1.]\n",
      " [0. 0. 1. 0. 0.]]\n"
     ]
    }
   ],
   "source": [
    "tokenizer = tools.tokenize(dirname)\n",
    "print(tokenizer.word_index)\n",
    "\n",
    "with open('tokens_json.txt', 'w') as outfile:\n",
    "    outfile.write(tokenizer.to_json())\n",
    "\n",
    "encoded_train=tokenizer.texts_to_sequences([y_train])[0]\n",
    "encoded_val=tokenizer.texts_to_sequences([y_val])[0]\n",
    "encoded_test=tokenizer.texts_to_sequences([y_test])[0]\n",
    "\n",
    "y_train = to_categorical(encoded_train)\n",
    "y_val = to_categorical(encoded_val)\n",
    "y_test = to_categorical(encoded_test)\n",
    "\n",
    "print(y_train)"
   ]
  },
  {
   "cell_type": "code",
   "execution_count": 5,
   "metadata": {},
   "outputs": [],
   "source": [
    "# Making numpy arrays\n",
    "x_train=np.array(x_train)\n",
    "y_train=np.array(y_train)\n",
    "x_val=np.array(x_val)\n",
    "y_val=np.array(y_val)\n",
    "x_test=np.array(x_test)\n",
    "y_test=np.array(y_test)"
   ]
  },
  {
   "cell_type": "code",
   "execution_count": null,
   "metadata": {},
   "outputs": [],
   "source": [
    "print(x_train)"
   ]
  },
  {
   "cell_type": "markdown",
   "metadata": {},
   "source": [
    "## Training Stage\n",
    "Configure the model and train it.\n",
    "\n",
    "Metrics:\n",
    "<div float=\"right\">\n",
    "    <img src=\"assets/accuracy.png\" width=\"400\"> \n",
    "    <img src=\"assets/precision_recall_formula.png\" width=\"400\">\n",
    "</div>\n",
    "<img src=\"assets/precision_recall.png\" width=\"1000\">"
   ]
  },
  {
   "cell_type": "markdown",
   "metadata": {},
   "source": [
    "### Configure model\n",
    "Configures the model with the specified parameters."
   ]
  },
  {
   "cell_type": "markdown",
   "metadata": {},
   "source": [
    "#### LSTM"
   ]
  },
  {
   "cell_type": "code",
   "execution_count": null,
   "metadata": {},
   "outputs": [],
   "source": [
    "model = Sequential()\n",
    "model.add(layers.LSTM(256, return_sequences=True,\n",
    "               input_shape=(x_train.shape[1], x_train.shape[2])))\n",
    "model.add(layers.LSTM(64, return_sequences=True))  # returns a sequence of vectors of dimension 32\n",
    "model.add(layers.LSTM(32))  # return a single vector of dimension 32\n",
    "#model.add(layers.LSTM(16))  # return a single vector of dimension 32\n",
    "model.add(layers.Dense(5, activation='softmax'))\n",
    "model.compile(loss='categorical_crossentropy',\n",
    "              optimizer='rmsprop',\n",
    "              metrics=['accuracy',tf.keras.metrics.Precision(),tf.keras.metrics.Recall()])"
   ]
  },
  {
   "cell_type": "markdown",
   "metadata": {},
   "source": [
    "### or\n",
    "#### Bidirectional LSTM"
   ]
  },
  {
   "cell_type": "code",
   "execution_count": null,
   "metadata": {},
   "outputs": [],
   "source": [
    "model = Sequential()\n",
    "model.add(Bidirectional(layers.LSTM(64, return_sequences=True), input_shape=(100, 86)))\n",
    "model.add(layers.Bidirectional(layers.LSTM(32)))\n",
    "model.add(layers.Dense(5, activation='softmax'))\n",
    "model.compile(loss='categorical_crossentropy', optimizer='adam', metrics=['accuracy']) "
   ]
  },
  {
   "cell_type": "markdown",
   "metadata": {},
   "source": [
    "### or\n",
    "#### Simple RNN"
   ]
  },
  {
   "cell_type": "code",
   "execution_count": null,
   "metadata": {},
   "outputs": [],
   "source": [
    "model = Sequential()\n",
    "model.add(SimpleRNN(units=64, input_shape=(200, 42)))\n",
    "model.add(Dense(64, activation=\"softmax\")) #softmax, linear 어떤걸 기준으로 하지\n",
    "model.add(Dense(128, activation=\"linear\")) #softmax, linear 어떤걸 기준으로 하지\n",
    "model.add(Dense(21))\n",
    "model.compile(loss='categorical_crossentropy',optimizer='adam', metrics=['accuracy'])"
   ]
  },
  {
   "cell_type": "markdown",
   "metadata": {},
   "source": [
    "### or\n",
    "#### <span style=\"color:blue\"> Hyperparametertuned LSTM </span>\n",
    "##### Here it is necessary to install the Keras-Tuner Module by executing:\n",
    "#####  <span style=\"color:green\"> via Conda:</span>\n",
    "conda install -c conda-forge keras-tuner\n",
    "#####  <span style=\"color:green\"> for pip:</span>\n",
    "pip install keras-tuner\n"
   ]
  },
  {
   "cell_type": "code",
   "execution_count": 20,
   "metadata": {},
   "outputs": [],
   "source": [
    "from kerastuner.tuners import RandomSearch\n",
    "from kerastuner.tuners import Hyperband\n",
    "from kerastuner.engine.hyperparameters import HyperParameters\n",
    "from time import time, strftime\n",
    "\n",
    "\n",
    "starttime= strftime(\"%Y_%m_%d_%H%M%S\")\n",
    "#LOG_DIR = \"C:\\ML\\Optimization_\"f\"{starttime}\"\n",
    "LOG_DIR = \"./Optimization_\"f\"{starttime}\" # LOG_DIR holds json files with information and a model of each single trial\n",
    "\n",
    "def build_model(hp):\n",
    "    model = Sequential()\n",
    "    \n",
    "    model.add(layers.LSTM(hp.Int(\"LSTM_input\", min_value =64, max_value=256,step=64, default=64), #kerastuner will randomly choose a value for nodes between 64 and 256 in steps of 64\n",
    "                            return_sequences=True,\n",
    "                            input_shape=(x_train.shape[1], x_train.shape[2])))\n",
    "    \n",
    "    for i in range(hp.Int(\"n_layers\" , 1, 3)):    #number of layers ramdom between 1 an 3\n",
    "        model.add(layers.LSTM(hp.Int(f\"LSTM_{i}_units\", min_value =32, max_value=128,step=32, default=32), # Nodes from 32 to 128 in steps of 32\n",
    "                                return_sequences=True))\n",
    "    \n",
    "    model.add(layers.LSTM(hp.Int(f\"LSTM_End\", min_value =32, max_value=128,step=32, default=32)))\n",
    "    model.add(layers.Dense(5, activation='softmax'))\n",
    "    model.compile(loss='categorical_crossentropy',\n",
    "                  optimizer='adam',\n",
    "                  metrics=['accuracy',tf.keras.metrics.Precision(),tf.keras.metrics.Recall()])\n",
    "    model.summary()\n",
    "    return model"
   ]
  },
  {
   "cell_type": "markdown",
   "metadata": {},
   "source": [
    "###   <span style=\"color:red\">Necesarry only in case of using Nvidia GPU  </span>"
   ]
  },
  {
   "cell_type": "code",
   "execution_count": 7,
   "metadata": {},
   "outputs": [
    {
     "name": "stdout",
     "output_type": "stream",
     "text": [
      "Num GPUs: 1\n"
     ]
    }
   ],
   "source": [
    "physical_devices = tf.config.list_physical_devices('GPU') \n",
    "print(\"Num GPUs:\", len(physical_devices)) \n",
    "\n",
    "from tensorflow.compat.v1 import ConfigProto\n",
    "from tensorflow.compat.v1 import InteractiveSession\n",
    "\n",
    "config = ConfigProto()\n",
    "config.gpu_options.per_process_gpu_memory_fraction = 0.2\n",
    "config.gpu_options.allow_growth = True\n",
    "session = InteractiveSession(config=config)"
   ]
  },
  {
   "cell_type": "markdown",
   "metadata": {},
   "source": [
    "# Different Keras-Tuner Approaches\n",
    "### 1 - RandomSearch\n",
    "Parameter of variables are ranomly used (number of layers, number of nodes) and \"best\" model is chosen."
   ]
  },
  {
   "cell_type": "code",
   "execution_count": 18,
   "metadata": {},
   "outputs": [
    {
     "name": "stdout",
     "output_type": "stream",
     "text": [
      "Model: \"sequential\"\n",
      "_________________________________________________________________\n",
      "Layer (type)                 Output Shape              Param #   \n",
      "=================================================================\n",
      "lstm (LSTM)                  (None, 100, 64)           38656     \n",
      "_________________________________________________________________\n",
      "lstm_1 (LSTM)                (None, 100, 32)           12416     \n",
      "_________________________________________________________________\n",
      "lstm_2 (LSTM)                (None, 32)                8320      \n",
      "_________________________________________________________________\n",
      "dense (Dense)                (None, 5)                 165       \n",
      "=================================================================\n",
      "Total params: 59,557\n",
      "Trainable params: 59,557\n",
      "Non-trainable params: 0\n",
      "_________________________________________________________________\n",
      "Model: \"sequential\"\n",
      "_________________________________________________________________\n",
      "Layer (type)                 Output Shape              Param #   \n",
      "=================================================================\n",
      "lstm (LSTM)                  (None, 100, 256)          351232    \n",
      "_________________________________________________________________\n",
      "lstm_1 (LSTM)                (None, 100, 96)           135552    \n",
      "_________________________________________________________________\n",
      "lstm_2 (LSTM)                (None, 100, 32)           16512     \n",
      "_________________________________________________________________\n",
      "lstm_3 (LSTM)                (None, 128)               82432     \n",
      "_________________________________________________________________\n",
      "dense (Dense)                (None, 5)                 645       \n",
      "=================================================================\n",
      "Total params: 586,373\n",
      "Trainable params: 586,373\n",
      "Non-trainable params: 0\n",
      "_________________________________________________________________\n",
      "Train on 208 samples, validate on 69 samples\n",
      "Epoch 1/80\n",
      "208/208 [==============================] - ETA: 27s - loss: 1.6096 - accuracy: 0.1250 - precision: 0.0000e+00 - recall: 0.0000e+ - ETA: 5s - loss: 1.5960 - accuracy: 0.3021 - precision: 0.0000e+00 - recall: 0.0000e+00 - ETA: 1s - loss: 1.6024 - accuracy: 0.2688 - precision: 0.6667 - recall: 0.0125        - 7s 35ms/sample - loss: 1.5599 - accuracy: 0.2981 - precision: 0.8000 - recall: 0.0192 - val_loss: 1.4650 - val_accuracy: 0.4348 - val_precision: 1.0000 - val_recall: 0.0145\n",
      "Epoch 2/80\n",
      "208/208 [==============================] - ETA: 0s - loss: 1.4522 - accuracy: 0.5000 - precision: 0.0000e+00 - recall: 0.0000e+0 - ETA: 0s - loss: 1.4009 - accuracy: 0.4479 - precision: 1.0000 - recall: 0.0625        - ETA: 0s - loss: 1.4046 - accuracy: 0.3938 - precision: 0.7826 - recall: 0.112 - 0s 1ms/sample - loss: 1.3634 - accuracy: 0.3894 - precision: 0.8125 - recall: 0.1250 - val_loss: 1.1965 - val_accuracy: 0.4203 - val_precision: 1.0000 - val_recall: 0.1449\n",
      "Epoch 3/80\n",
      "208/208 [==============================] - ETA: 0s - loss: 1.0575 - accuracy: 0.4062 - precision: 1.0000 - recall: 0.250 - ETA: 0s - loss: 1.0875 - accuracy: 0.4271 - precision: 1.0000 - recall: 0.208 - ETA: 0s - loss: 1.0896 - accuracy: 0.4563 - precision: 1.0000 - recall: 0.206 - 0s 1ms/sample - loss: 1.1076 - accuracy: 0.4231 - precision: 0.9091 - recall: 0.1923 - val_loss: 1.1162 - val_accuracy: 0.4348 - val_precision: 0.7368 - val_recall: 0.2029\n",
      "Epoch 4/80\n",
      "208/208 [==============================] - ETA: 0s - loss: 1.0647 - accuracy: 0.4688 - precision: 0.6667 - recall: 0.250 - ETA: 0s - loss: 1.0900 - accuracy: 0.4688 - precision: 0.7826 - recall: 0.187 - ETA: 0s - loss: 1.0278 - accuracy: 0.4688 - precision: 0.8108 - recall: 0.187 - 0s 2ms/sample - loss: 1.0360 - accuracy: 0.4567 - precision: 0.8200 - recall: 0.1971 - val_loss: 0.9883 - val_accuracy: 0.4638 - val_precision: 0.7500 - val_recall: 0.2174\n",
      "Epoch 5/80\n",
      "208/208 [==============================] - ETA: 0s - loss: 0.9227 - accuracy: 0.5938 - precision: 0.8889 - recall: 0.250 - ETA: 0s - loss: 1.0457 - accuracy: 0.4792 - precision: 0.8214 - recall: 0.239 - ETA: 0s - loss: 0.9980 - accuracy: 0.5437 - precision: 0.8462 - recall: 0.275 - 0s 2ms/sample - loss: 0.9663 - accuracy: 0.5529 - precision: 0.8657 - recall: 0.2788 - val_loss: 0.9276 - val_accuracy: 0.5797 - val_precision: 0.7429 - val_recall: 0.3768\n",
      "Epoch 6/80\n",
      "208/208 [==============================] - ETA: 0s - loss: 0.8086 - accuracy: 0.6250 - precision: 0.6000 - recall: 0.375 - ETA: 0s - loss: 0.8929 - accuracy: 0.6042 - precision: 0.5904 - recall: 0.510 - ETA: 0s - loss: 0.9925 - accuracy: 0.5312 - precision: 0.5282 - recall: 0.468 - 0s 1ms/sample - loss: 0.9604 - accuracy: 0.5577 - precision: 0.5758 - recall: 0.4567 - val_loss: 0.9221 - val_accuracy: 0.5797 - val_precision: 0.8000 - val_recall: 0.4058\n",
      "Epoch 7/80\n",
      "208/208 [==============================] - ETA: 0s - loss: 1.0990 - accuracy: 0.5625 - precision: 0.6667 - recall: 0.375 - ETA: 0s - loss: 1.0184 - accuracy: 0.5521 - precision: 0.6809 - recall: 0.333 - ETA: 0s - loss: 0.9601 - accuracy: 0.5562 - precision: 0.7183 - recall: 0.318 - 0s 1ms/sample - loss: 0.9415 - accuracy: 0.5529 - precision: 0.7416 - recall: 0.3173 - val_loss: 1.0549 - val_accuracy: 0.4493 - val_precision: 0.7895 - val_recall: 0.2174\n",
      "Epoch 8/80\n",
      "208/208 [==============================] - ETA: 0s - loss: 0.9088 - accuracy: 0.5938 - precision: 0.8462 - recall: 0.343 - ETA: 0s - loss: 0.9394 - accuracy: 0.5938 - precision: 0.8710 - recall: 0.281 - ETA: 0s - loss: 0.9438 - accuracy: 0.5250 - precision: 0.8200 - recall: 0.256 - 0s 1ms/sample - loss: 0.9475 - accuracy: 0.5096 - precision: 0.7536 - recall: 0.2500 - val_loss: 1.0331 - val_accuracy: 0.4783 - val_precision: 0.6667 - val_recall: 0.2029\n",
      "Epoch 9/80\n",
      "208/208 [==============================] - ETA: 0s - loss: 0.9353 - accuracy: 0.4688 - precision: 1.0000 - recall: 0.125 - ETA: 0s - loss: 0.9560 - accuracy: 0.4792 - precision: 0.7778 - recall: 0.218 - ETA: 0s - loss: 0.9475 - accuracy: 0.4688 - precision: 0.6875 - recall: 0.206 - 0s 1ms/sample - loss: 0.9498 - accuracy: 0.4760 - precision: 0.6970 - recall: 0.2212 - val_loss: 0.9813 - val_accuracy: 0.4928 - val_precision: 0.7143 - val_recall: 0.2174\n",
      "Epoch 10/80\n",
      "208/208 [==============================] - ETA: 0s - loss: 0.9850 - accuracy: 0.4375 - precision: 0.7500 - recall: 0.187 - ETA: 0s - loss: 0.9283 - accuracy: 0.4896 - precision: 0.7857 - recall: 0.229 - ETA: 0s - loss: 0.9597 - accuracy: 0.4938 - precision: 0.8077 - recall: 0.262 - 0s 1ms/sample - loss: 0.9386 - accuracy: 0.5337 - precision: 0.8082 - recall: 0.2837 - val_loss: 0.9842 - val_accuracy: 0.4203 - val_precision: 0.7143 - val_recall: 0.2174\n",
      "Epoch 11/80\n",
      "208/208 [==============================] - ETA: 0s - loss: 0.8999 - accuracy: 0.5625 - precision: 0.7692 - recall: 0.312 - ETA: 0s - loss: 0.9677 - accuracy: 0.5417 - precision: 0.7647 - recall: 0.270 - ETA: 0s - loss: 0.9740 - accuracy: 0.5063 - precision: 0.7414 - recall: 0.268 - 0s 1ms/sample - loss: 0.9211 - accuracy: 0.5385 - precision: 0.7821 - recall: 0.2933 - val_loss: 0.9389 - val_accuracy: 0.4783 - val_precision: 0.7917 - val_recall: 0.2754\n",
      "Epoch 12/80\n",
      "208/208 [==============================] - ETA: 0s - loss: 0.8617 - accuracy: 0.5938 - precision: 0.8571 - recall: 0.375 - ETA: 0s - loss: 0.8757 - accuracy: 0.5625 - precision: 0.8108 - recall: 0.312 - ETA: 0s - loss: 0.9347 - accuracy: 0.5375 - precision: 0.7344 - recall: 0.293 - 0s 1ms/sample - loss: 0.9168 - accuracy: 0.5433 - precision: 0.7927 - recall: 0.3125 - val_loss: 0.9090 - val_accuracy: 0.5797 - val_precision: 0.8333 - val_recall: 0.2899\n",
      "Epoch 13/80\n",
      "208/208 [==============================] - ETA: 0s - loss: 0.9470 - accuracy: 0.6250 - precision: 0.9091 - recall: 0.312 - ETA: 0s - loss: 0.9746 - accuracy: 0.5521 - precision: 0.9062 - recall: 0.302 - ETA: 0s - loss: 0.9132 - accuracy: 0.5625 - precision: 0.8361 - recall: 0.318 - 0s 1ms/sample - loss: 0.9121 - accuracy: 0.5481 - precision: 0.7927 - recall: 0.3125 - val_loss: 0.8933 - val_accuracy: 0.5072 - val_precision: 0.8077 - val_recall: 0.3043\n",
      "Epoch 14/80\n",
      "208/208 [==============================] - ETA: 0s - loss: 1.1132 - accuracy: 0.5000 - precision: 0.6364 - recall: 0.218 - ETA: 0s - loss: 0.9119 - accuracy: 0.5312 - precision: 0.6579 - recall: 0.260 - ETA: 0s - loss: 0.8519 - accuracy: 0.5375 - precision: 0.7647 - recall: 0.325 - 0s 1ms/sample - loss: 0.9017 - accuracy: 0.5529 - precision: 0.7647 - recall: 0.3125 - val_loss: 0.9036 - val_accuracy: 0.5072 - val_precision: 0.8077 - val_recall: 0.3043\n",
      "Epoch 15/80\n",
      "208/208 [==============================] - ETA: 0s - loss: 0.8437 - accuracy: 0.6250 - precision: 0.8000 - recall: 0.375 - ETA: 0s - loss: 0.8996 - accuracy: 0.5417 - precision: 0.7500 - recall: 0.281 - ETA: 0s - loss: 0.9257 - accuracy: 0.5500 - precision: 0.7619 - recall: 0.300 - 0s 1ms/sample - loss: 0.9220 - accuracy: 0.5481 - precision: 0.7529 - recall: 0.3077 - val_loss: 0.9183 - val_accuracy: 0.5072 - val_precision: 0.8077 - val_recall: 0.3043\n",
      "Epoch 16/80\n",
      "208/208 [==============================] - ETA: 0s - loss: 1.0366 - accuracy: 0.5312 - precision: 0.8333 - recall: 0.312 - ETA: 0s - loss: 0.9007 - accuracy: 0.5104 - precision: 0.8108 - recall: 0.312 - ETA: 0s - loss: 0.9359 - accuracy: 0.5000 - precision: 0.7576 - recall: 0.312 - 0s 1ms/sample - loss: 0.9336 - accuracy: 0.5096 - precision: 0.7586 - recall: 0.3173 - val_loss: 0.8995 - val_accuracy: 0.5797 - val_precision: 0.8400 - val_recall: 0.3043\n",
      "Epoch 17/80\n",
      "208/208 [==============================] - ETA: 0s - loss: 1.0822 - accuracy: 0.4688 - precision: 0.7778 - recall: 0.218 - ETA: 0s - loss: 0.9837 - accuracy: 0.5312 - precision: 0.7436 - recall: 0.302 - ETA: 0s - loss: 0.8879 - accuracy: 0.5625 - precision: 0.7857 - recall: 0.343 - 0s 1ms/sample - loss: 0.9105 - accuracy: 0.5433 - precision: 0.7841 - recall: 0.3317 - val_loss: 0.9166 - val_accuracy: 0.5217 - val_precision: 0.8750 - val_recall: 0.3043\n",
      "Epoch 18/80\n",
      "208/208 [==============================] - ETA: 0s - loss: 1.0516 - accuracy: 0.5000 - precision: 0.5714 - recall: 0.250 - ETA: 0s - loss: 0.9514 - accuracy: 0.5417 - precision: 0.7250 - recall: 0.302 - ETA: 0s - loss: 0.9079 - accuracy: 0.5688 - precision: 0.8000 - recall: 0.325 - 0s 1ms/sample - loss: 0.8978 - accuracy: 0.5721 - precision: 0.7753 - recall: 0.3317 - val_loss: 0.8741 - val_accuracy: 0.5652 - val_precision: 0.8929 - val_recall: 0.3623\n",
      "Epoch 19/80\n",
      "208/208 [==============================] - ETA: 0s - loss: 0.8861 - accuracy: 0.6250 - precision: 0.7059 - recall: 0.375 - ETA: 0s - loss: 0.8632 - accuracy: 0.6146 - precision: 0.7805 - recall: 0.333 - ETA: 0s - loss: 1.0101 - accuracy: 0.5437 - precision: 0.6585 - recall: 0.337 - 0s 1ms/sample - loss: 1.1877 - accuracy: 0.5240 - precision: 0.5984 - recall: 0.3654 - val_loss: 1.3028 - val_accuracy: 0.4493 - val_precision: 0.4314 - val_recall: 0.3188\n",
      "Epoch 20/80\n",
      "208/208 [==============================] - ETA: 0s - loss: 1.1441 - accuracy: 0.5312 - precision: 0.6250 - recall: 0.468 - ETA: 0s - loss: 1.2560 - accuracy: 0.3542 - precision: 0.5789 - recall: 0.229 - ETA: 0s - loss: 1.2008 - accuracy: 0.3750 - precision: 0.6522 - recall: 0.187 - 0s 1ms/sample - loss: 1.1786 - accuracy: 0.3894 - precision: 0.6964 - recall: 0.1875 - val_loss: 1.1081 - val_accuracy: 0.4058 - val_precision: 0.9231 - val_recall: 0.1739\n",
      "Epoch 21/80\n",
      "208/208 [==============================] - ETA: 0s - loss: 0.8645 - accuracy: 0.5312 - precision: 0.9231 - recall: 0.375 - ETA: 0s - loss: 1.0797 - accuracy: 0.3854 - precision: 0.8947 - recall: 0.177 - ETA: 0s - loss: 1.1135 - accuracy: 0.3750 - precision: 0.8387 - recall: 0.162 - 0s 1ms/sample - loss: 1.0595 - accuracy: 0.3942 - precision: 0.8913 - recall: 0.1971 - val_loss: 1.0589 - val_accuracy: 0.5217 - val_precision: 0.8000 - val_recall: 0.1739\n",
      "Epoch 22/80\n",
      "208/208 [==============================] - ETA: 0s - loss: 1.1752 - accuracy: 0.5000 - precision: 1.0000 - recall: 0.187 - ETA: 0s - loss: 1.0258 - accuracy: 0.4792 - precision: 0.8947 - recall: 0.177 - ETA: 0s - loss: 0.9855 - accuracy: 0.4875 - precision: 0.8947 - recall: 0.212 - 0s 1ms/sample - loss: 1.0251 - accuracy: 0.4663 - precision: 0.8400 - recall: 0.2019 - val_loss: 1.0427 - val_accuracy: 0.4638 - val_precision: 0.8000 - val_recall: 0.1739\n",
      "Epoch 23/80\n",
      "208/208 [==============================] - ETA: 0s - loss: 0.9197 - accuracy: 0.5000 - precision: 0.8889 - recall: 0.250 - ETA: 0s - loss: 1.0048 - accuracy: 0.5104 - precision: 0.9500 - recall: 0.197 - ETA: 0s - loss: 1.0202 - accuracy: 0.5250 - precision: 0.8824 - recall: 0.187 - 0s 1ms/sample - loss: 1.0057 - accuracy: 0.5721 - precision: 0.9091 - recall: 0.1923 - val_loss: 0.9688 - val_accuracy: 0.5797 - val_precision: 0.8000 - val_recall: 0.2319\n",
      "Epoch 24/80\n",
      "208/208 [==============================] - ETA: 0s - loss: 1.0085 - accuracy: 0.5000 - precision: 0.8000 - recall: 0.250 - ETA: 0s - loss: 1.0017 - accuracy: 0.5104 - precision: 0.7500 - recall: 0.250 - ETA: 0s - loss: 0.9766 - accuracy: 0.5250 - precision: 0.7586 - recall: 0.275 - 0s 1ms/sample - loss: 0.9470 - accuracy: 0.5481 - precision: 0.7556 - recall: 0.3269 - val_loss: 0.9238 - val_accuracy: 0.5797 - val_precision: 0.6271 - val_recall: 0.5362\n",
      "Epoch 25/80\n",
      "208/208 [==============================] - ETA: 0s - loss: 1.1292 - accuracy: 0.5625 - precision: 0.6071 - recall: 0.531 - ETA: 0s - loss: 0.9756 - accuracy: 0.5729 - precision: 0.6220 - recall: 0.531 - ETA: 0s - loss: 0.9367 - accuracy: 0.5875 - precision: 0.6724 - recall: 0.487 - 0s 2ms/sample - loss: 0.9066 - accuracy: 0.5962 - precision: 0.6875 - recall: 0.4760 - val_loss: 0.7460 - val_accuracy: 0.7971 - val_precision: 0.8393 - val_recall: 0.6812\n",
      "Epoch 26/80\n",
      "208/208 [==============================] - ETA: 0s - loss: 0.7823 - accuracy: 0.6562 - precision: 0.7308 - recall: 0.593 - ETA: 0s - loss: 0.8654 - accuracy: 0.6250 - precision: 0.6625 - recall: 0.552 - ETA: 0s - loss: 0.7937 - accuracy: 0.6500 - precision: 0.6861 - recall: 0.587 - 0s 1ms/sample - loss: 0.8580 - accuracy: 0.6058 - precision: 0.6534 - recall: 0.5529 - val_loss: 0.8038 - val_accuracy: 0.5942 - val_precision: 0.5873 - val_recall: 0.5362\n",
      "Epoch 27/80\n",
      "208/208 [==============================] - ETA: 0s - loss: 0.9614 - accuracy: 0.5000 - precision: 0.5517 - recall: 0.500 - ETA: 0s - loss: 0.9874 - accuracy: 0.5000 - precision: 0.5393 - recall: 0.500 - ETA: 0s - loss: 0.9997 - accuracy: 0.5188 - precision: 0.5430 - recall: 0.512 - 0s 1ms/sample - loss: 0.9867 - accuracy: 0.5240 - precision: 0.5482 - recall: 0.5192 - val_loss: 1.0688 - val_accuracy: 0.5362 - val_precision: 0.5806 - val_recall: 0.5217\n",
      "Epoch 28/80\n",
      "208/208 [==============================] - ETA: 0s - loss: 0.9283 - accuracy: 0.5938 - precision: 0.6333 - recall: 0.593 - ETA: 0s - loss: 0.9156 - accuracy: 0.5521 - precision: 0.6429 - recall: 0.468 - ETA: 0s - loss: 0.9572 - accuracy: 0.5375 - precision: 0.6632 - recall: 0.393 - 0s 1ms/sample - loss: 0.9848 - accuracy: 0.5481 - precision: 0.6545 - recall: 0.3462 - val_loss: 0.9463 - val_accuracy: 0.4783 - val_precision: 0.7692 - val_recall: 0.2899\n",
      "Epoch 29/80\n",
      "208/208 [==============================] - ETA: 0s - loss: 0.8544 - accuracy: 0.5000 - precision: 0.8571 - recall: 0.375 - ETA: 0s - loss: 0.9014 - accuracy: 0.5104 - precision: 0.7778 - recall: 0.364 - ETA: 0s - loss: 0.8817 - accuracy: 0.5938 - precision: 0.7895 - recall: 0.375 - 0s 1ms/sample - loss: 0.8811 - accuracy: 0.6010 - precision: 0.7547 - recall: 0.3846 - val_loss: 0.8586 - val_accuracy: 0.6667 - val_precision: 0.7714 - val_recall: 0.3913\n",
      "Epoch 30/80\n",
      "208/208 [==============================] - ETA: 0s - loss: 0.8005 - accuracy: 0.6875 - precision: 0.8125 - recall: 0.406 - ETA: 0s - loss: 0.7894 - accuracy: 0.6667 - precision: 0.7321 - recall: 0.427 - ETA: 0s - loss: 0.8859 - accuracy: 0.5938 - precision: 0.6050 - recall: 0.450 - 0s 1ms/sample - loss: 0.8789 - accuracy: 0.6010 - precision: 0.6145 - recall: 0.4904 - val_loss: 0.8316 - val_accuracy: 0.6812 - val_precision: 0.6818 - val_recall: 0.6522\n",
      "Epoch 31/80\n"
     ]
    },
    {
     "name": "stdout",
     "output_type": "stream",
     "text": [
      "208/208 [==============================] - ETA: 0s - loss: 0.8648 - accuracy: 0.5938 - precision: 0.6207 - recall: 0.562 - ETA: 0s - loss: 0.8641 - accuracy: 0.6354 - precision: 0.7037 - recall: 0.395 - ETA: 0s - loss: 0.8568 - accuracy: 0.6313 - precision: 0.6667 - recall: 0.387 - 0s 1ms/sample - loss: 0.8552 - accuracy: 0.6250 - precision: 0.6587 - recall: 0.3990 - val_loss: 0.8415 - val_accuracy: 0.6812 - val_precision: 0.6842 - val_recall: 0.3768\n",
      "Epoch 32/80\n",
      "208/208 [==============================] - ETA: 0s - loss: 0.8711 - accuracy: 0.6562 - precision: 0.8125 - recall: 0.406 - ETA: 0s - loss: 0.7697 - accuracy: 0.7083 - precision: 0.8500 - recall: 0.531 - ETA: 0s - loss: 0.7903 - accuracy: 0.6938 - precision: 0.7928 - recall: 0.550 - 0s 1ms/sample - loss: 0.8103 - accuracy: 0.6731 - precision: 0.7532 - recall: 0.5577 - val_loss: 0.8938 - val_accuracy: 0.5652 - val_precision: 0.6102 - val_recall: 0.5217\n",
      "Epoch 33/80\n",
      "208/208 [==============================] - ETA: 0s - loss: 0.9159 - accuracy: 0.6250 - precision: 0.6071 - recall: 0.531 - ETA: 0s - loss: 0.7469 - accuracy: 0.7188 - precision: 0.7073 - recall: 0.604 - ETA: 0s - loss: 0.7687 - accuracy: 0.7000 - precision: 0.7042 - recall: 0.625 - 0s 1ms/sample - loss: 0.7856 - accuracy: 0.6971 - precision: 0.7011 - recall: 0.6202 - val_loss: 0.7230 - val_accuracy: 0.6812 - val_precision: 0.6818 - val_recall: 0.6522\n",
      "Epoch 34/80\n",
      "208/208 [==============================] - ETA: 0s - loss: 0.5904 - accuracy: 0.7812 - precision: 0.8333 - recall: 0.781 - ETA: 0s - loss: 0.6680 - accuracy: 0.7500 - precision: 0.7692 - recall: 0.729 - ETA: 0s - loss: 0.6803 - accuracy: 0.7250 - precision: 0.7450 - recall: 0.693 - 0s 1ms/sample - loss: 0.6872 - accuracy: 0.7404 - precision: 0.7604 - recall: 0.7019 - val_loss: 0.6470 - val_accuracy: 0.7246 - val_precision: 0.7667 - val_recall: 0.6667\n",
      "Epoch 35/80\n",
      "208/208 [==============================] - ETA: 0s - loss: 0.7822 - accuracy: 0.6562 - precision: 0.7241 - recall: 0.656 - ETA: 0s - loss: 0.6275 - accuracy: 0.7708 - precision: 0.7955 - recall: 0.729 - ETA: 0s - loss: 0.6736 - accuracy: 0.7563 - precision: 0.7823 - recall: 0.718 - 0s 1ms/sample - loss: 0.6569 - accuracy: 0.7548 - precision: 0.7812 - recall: 0.7212 - val_loss: 0.6295 - val_accuracy: 0.7681 - val_precision: 0.7903 - val_recall: 0.7101\n",
      "Epoch 36/80\n",
      "208/208 [==============================] - ETA: 0s - loss: 0.6399 - accuracy: 0.7500 - precision: 0.7500 - recall: 0.750 - ETA: 0s - loss: 0.6240 - accuracy: 0.7604 - precision: 0.7742 - recall: 0.750 - ETA: 0s - loss: 0.5424 - accuracy: 0.8000 - precision: 0.8077 - recall: 0.787 - 0s 1ms/sample - loss: 0.5845 - accuracy: 0.7740 - precision: 0.7910 - recall: 0.7644 - val_loss: 0.7408 - val_accuracy: 0.7536 - val_precision: 0.7500 - val_recall: 0.7391\n",
      "Epoch 37/80\n",
      "208/208 [==============================] - ETA: 0s - loss: 0.9187 - accuracy: 0.6250 - precision: 0.6207 - recall: 0.562 - ETA: 0s - loss: 0.7286 - accuracy: 0.6979 - precision: 0.7126 - recall: 0.645 - ETA: 0s - loss: 0.7308 - accuracy: 0.7063 - precision: 0.7133 - recall: 0.668 - 0s 1ms/sample - loss: 0.6851 - accuracy: 0.7308 - precision: 0.7449 - recall: 0.7019 - val_loss: 0.6465 - val_accuracy: 0.7681 - val_precision: 0.7612 - val_recall: 0.7391\n",
      "Epoch 38/80\n",
      "208/208 [==============================] - ETA: 0s - loss: 0.6738 - accuracy: 0.7500 - precision: 0.7586 - recall: 0.687 - ETA: 0s - loss: 0.5062 - accuracy: 0.8542 - precision: 0.8556 - recall: 0.802 - ETA: 0s - loss: 0.6245 - accuracy: 0.7812 - precision: 0.7919 - recall: 0.737 - 0s 1ms/sample - loss: 0.6625 - accuracy: 0.7692 - precision: 0.7806 - recall: 0.7356 - val_loss: 0.9887 - val_accuracy: 0.6812 - val_precision: 0.6825 - val_recall: 0.6232\n",
      "Epoch 39/80\n",
      "208/208 [==============================] - ETA: 0s - loss: 0.8987 - accuracy: 0.6562 - precision: 0.7143 - recall: 0.625 - ETA: 0s - loss: 0.9409 - accuracy: 0.6667 - precision: 0.6977 - recall: 0.625 - ETA: 0s - loss: 0.8858 - accuracy: 0.6812 - precision: 0.7103 - recall: 0.643 - 0s 1ms/sample - loss: 0.8381 - accuracy: 0.6923 - precision: 0.7188 - recall: 0.6635 - val_loss: 0.6671 - val_accuracy: 0.7681 - val_precision: 0.8000 - val_recall: 0.7536\n",
      "Epoch 40/80\n",
      "208/208 [==============================] - ETA: 0s - loss: 0.5339 - accuracy: 0.8438 - precision: 0.8387 - recall: 0.812 - ETA: 0s - loss: 0.5791 - accuracy: 0.8021 - precision: 0.8152 - recall: 0.781 - ETA: 0s - loss: 0.6270 - accuracy: 0.7812 - precision: 0.7974 - recall: 0.762 - 0s 2ms/sample - loss: 0.6636 - accuracy: 0.7740 - precision: 0.7850 - recall: 0.7548 - val_loss: 0.6330 - val_accuracy: 0.8406 - val_precision: 0.8333 - val_recall: 0.7971\n",
      "Epoch 41/80\n",
      "208/208 [==============================] - ETA: 0s - loss: 0.8233 - accuracy: 0.7188 - precision: 0.7333 - recall: 0.687 - ETA: 0s - loss: 0.8305 - accuracy: 0.6562 - precision: 0.6782 - recall: 0.614 - ETA: 0s - loss: 0.7542 - accuracy: 0.7063 - precision: 0.7267 - recall: 0.681 - 0s 1ms/sample - loss: 0.7349 - accuracy: 0.7067 - precision: 0.7231 - recall: 0.6779 - val_loss: 0.7666 - val_accuracy: 0.7246 - val_precision: 0.7353 - val_recall: 0.7246\n",
      "Epoch 42/80\n",
      "208/208 [==============================] - ETA: 0s - loss: 0.6558 - accuracy: 0.7812 - precision: 0.7742 - recall: 0.750 - ETA: 0s - loss: 0.7780 - accuracy: 0.7188 - precision: 0.7174 - recall: 0.687 - ETA: 0s - loss: 0.8270 - accuracy: 0.7000 - precision: 0.6928 - recall: 0.662 - 0s 1ms/sample - loss: 0.8439 - accuracy: 0.6827 - precision: 0.6904 - recall: 0.6538 - val_loss: 0.7669 - val_accuracy: 0.7391 - val_precision: 0.7500 - val_recall: 0.6957\n",
      "Epoch 43/80\n",
      "208/208 [==============================] - ETA: 0s - loss: 0.7128 - accuracy: 0.7188 - precision: 0.7143 - recall: 0.625 - ETA: 0s - loss: 0.7192 - accuracy: 0.7292 - precision: 0.7416 - recall: 0.687 - ETA: 0s - loss: 0.7725 - accuracy: 0.6938 - precision: 0.7172 - recall: 0.650 - 0s 1ms/sample - loss: 0.7309 - accuracy: 0.7163 - precision: 0.7382 - recall: 0.6779 - val_loss: 0.7301 - val_accuracy: 0.7246 - val_precision: 0.7424 - val_recall: 0.7101\n",
      "Epoch 44/80\n",
      "208/208 [==============================] - ETA: 0s - loss: 0.8470 - accuracy: 0.6562 - precision: 0.6562 - recall: 0.656 - ETA: 0s - loss: 0.7581 - accuracy: 0.7083 - precision: 0.7083 - recall: 0.708 - ETA: 0s - loss: 0.7128 - accuracy: 0.7312 - precision: 0.7358 - recall: 0.731 - 0s 1ms/sample - loss: 0.6666 - accuracy: 0.7644 - precision: 0.7681 - recall: 0.7644 - val_loss: 0.5965 - val_accuracy: 0.8116 - val_precision: 0.8333 - val_recall: 0.7971\n",
      "Epoch 45/80\n",
      "208/208 [==============================] - ETA: 0s - loss: 0.6093 - accuracy: 0.7812 - precision: 0.7812 - recall: 0.781 - ETA: 0s - loss: 0.6220 - accuracy: 0.7708 - precision: 0.7789 - recall: 0.770 - ETA: 0s - loss: 0.5887 - accuracy: 0.7750 - precision: 0.7834 - recall: 0.768 - 0s 2ms/sample - loss: 0.6065 - accuracy: 0.7788 - precision: 0.7843 - recall: 0.7692 - val_loss: 0.5577 - val_accuracy: 0.8696 - val_precision: 0.8696 - val_recall: 0.8696\n",
      "Epoch 46/80\n",
      "208/208 [==============================] - ETA: 0s - loss: 0.6793 - accuracy: 0.7812 - precision: 0.7812 - recall: 0.781 - ETA: 0s - loss: 0.6590 - accuracy: 0.7708 - precision: 0.7684 - recall: 0.760 - ETA: 0s - loss: 0.5996 - accuracy: 0.8125 - precision: 0.8113 - recall: 0.806 - 0s 1ms/sample - loss: 0.5859 - accuracy: 0.8173 - precision: 0.8164 - recall: 0.8125 - val_loss: 0.5138 - val_accuracy: 0.8696 - val_precision: 0.8676 - val_recall: 0.8551\n",
      "Epoch 47/80\n",
      "208/208 [==============================] - ETA: 0s - loss: 0.3586 - accuracy: 0.9062 - precision: 0.9062 - recall: 0.906 - ETA: 0s - loss: 0.4794 - accuracy: 0.8646 - precision: 0.8646 - recall: 0.864 - ETA: 0s - loss: 0.4643 - accuracy: 0.8562 - precision: 0.8553 - recall: 0.850 - 0s 1ms/sample - loss: 0.4935 - accuracy: 0.8413 - precision: 0.8406 - recall: 0.8365 - val_loss: 0.8238 - val_accuracy: 0.6812 - val_precision: 0.6812 - val_recall: 0.6812\n",
      "Epoch 48/80\n",
      "208/208 [==============================] - ETA: 0s - loss: 0.5018 - accuracy: 0.8438 - precision: 0.8438 - recall: 0.843 - ETA: 0s - loss: 0.8393 - accuracy: 0.6875 - precision: 0.7097 - recall: 0.687 - ETA: 0s - loss: 0.9125 - accuracy: 0.6500 - precision: 0.6645 - recall: 0.643 - 0s 1ms/sample - loss: 0.8865 - accuracy: 0.6538 - precision: 0.6616 - recall: 0.6298 - val_loss: 0.8913 - val_accuracy: 0.6232 - val_precision: 0.7843 - val_recall: 0.5797\n",
      "Epoch 49/80\n",
      "208/208 [==============================] - ETA: 0s - loss: 1.0221 - accuracy: 0.5312 - precision: 0.6154 - recall: 0.500 - ETA: 0s - loss: 0.7719 - accuracy: 0.6667 - precision: 0.7500 - recall: 0.593 - ETA: 0s - loss: 0.7259 - accuracy: 0.7063 - precision: 0.7704 - recall: 0.650 - 0s 1ms/sample - loss: 0.7639 - accuracy: 0.6971 - precision: 0.7418 - recall: 0.6490 - val_loss: 0.8263 - val_accuracy: 0.6812 - val_precision: 0.6923 - val_recall: 0.6522\n",
      "Epoch 50/80\n",
      "208/208 [==============================] - ETA: 0s - loss: 0.6771 - accuracy: 0.7812 - precision: 0.7857 - recall: 0.687 - ETA: 0s - loss: 0.7748 - accuracy: 0.7188 - precision: 0.7349 - recall: 0.635 - ETA: 0s - loss: 0.7341 - accuracy: 0.7312 - precision: 0.7589 - recall: 0.668 - 0s 1ms/sample - loss: 0.8285 - accuracy: 0.6923 - precision: 0.7059 - recall: 0.6346 - val_loss: 1.2410 - val_accuracy: 0.5072 - val_precision: 0.5152 - val_recall: 0.4928\n",
      "Epoch 51/80\n",
      "208/208 [==============================] - ETA: 0s - loss: 1.0104 - accuracy: 0.6250 - precision: 0.6667 - recall: 0.625 - ETA: 0s - loss: 1.1726 - accuracy: 0.5625 - precision: 0.5730 - recall: 0.531 - ETA: 0s - loss: 1.0236 - accuracy: 0.6062 - precision: 0.6519 - recall: 0.550 - 0s 1ms/sample - loss: 1.0201 - accuracy: 0.5721 - precision: 0.6463 - recall: 0.5096 - val_loss: 0.9215 - val_accuracy: 0.6087 - val_precision: 0.7292 - val_recall: 0.5072\n",
      "Epoch 52/80\n",
      "208/208 [==============================] - ETA: 0s - loss: 0.9942 - accuracy: 0.5312 - precision: 0.6429 - recall: 0.281 - ETA: 0s - loss: 0.8815 - accuracy: 0.5625 - precision: 0.6119 - recall: 0.427 - ETA: 0s - loss: 0.8450 - accuracy: 0.6000 - precision: 0.6696 - recall: 0.481 - 0s 1ms/sample - loss: 0.9022 - accuracy: 0.5769 - precision: 0.6690 - recall: 0.4663 - val_loss: 0.9087 - val_accuracy: 0.6232 - val_precision: 0.7778 - val_recall: 0.5072\n",
      "Epoch 53/80\n",
      "208/208 [==============================] - ETA: 0s - loss: 0.8075 - accuracy: 0.5312 - precision: 0.7273 - recall: 0.500 - ETA: 0s - loss: 0.8294 - accuracy: 0.5833 - precision: 0.7667 - recall: 0.479 - ETA: 0s - loss: 0.8524 - accuracy: 0.6000 - precision: 0.7872 - recall: 0.462 - 0s 1ms/sample - loss: 0.8692 - accuracy: 0.5962 - precision: 0.7521 - recall: 0.4375 - val_loss: 0.8297 - val_accuracy: 0.7536 - val_precision: 0.7381 - val_recall: 0.4493\n",
      "Epoch 54/80\n",
      "208/208 [==============================] - ETA: 0s - loss: 0.8066 - accuracy: 0.7188 - precision: 0.8333 - recall: 0.468 - ETA: 0s - loss: 0.8276 - accuracy: 0.6667 - precision: 0.7077 - recall: 0.479 - ETA: 0s - loss: 0.7923 - accuracy: 0.7000 - precision: 0.7542 - recall: 0.556 - 0s 1ms/sample - loss: 0.7958 - accuracy: 0.7019 - precision: 0.7532 - recall: 0.5721 - val_loss: 0.7547 - val_accuracy: 0.7681 - val_precision: 0.7705 - val_recall: 0.6812\n",
      "Epoch 55/80\n",
      "208/208 [==============================] - ETA: 0s - loss: 0.6862 - accuracy: 0.6562 - precision: 0.7778 - recall: 0.656 - ETA: 0s - loss: 0.7720 - accuracy: 0.6562 - precision: 0.7059 - recall: 0.625 - ETA: 0s - loss: 0.7729 - accuracy: 0.6812 - precision: 0.7133 - recall: 0.637 - 0s 1ms/sample - loss: 0.7848 - accuracy: 0.6779 - precision: 0.7112 - recall: 0.6394 - val_loss: 0.7044 - val_accuracy: 0.7826 - val_precision: 0.8065 - val_recall: 0.7246\n",
      "Epoch 56/80\n",
      "208/208 [==============================] - ETA: 0s - loss: 0.6081 - accuracy: 0.7812 - precision: 0.8571 - recall: 0.750 - ETA: 0s - loss: 0.6403 - accuracy: 0.7708 - precision: 0.8000 - recall: 0.750 - ETA: 0s - loss: 0.7065 - accuracy: 0.7312 - precision: 0.7724 - recall: 0.700 - 0s 1ms/sample - loss: 0.6797 - accuracy: 0.7500 - precision: 0.7807 - recall: 0.7019 - val_loss: 0.6679 - val_accuracy: 0.8116 - val_precision: 0.8281 - val_recall: 0.7681\n",
      "Epoch 57/80\n",
      "208/208 [==============================] - ETA: 0s - loss: 0.5627 - accuracy: 0.8125 - precision: 0.8929 - recall: 0.781 - ETA: 0s - loss: 0.5474 - accuracy: 0.8021 - precision: 0.8315 - recall: 0.770 - ETA: 0s - loss: 0.6524 - accuracy: 0.7500 - precision: 0.7785 - recall: 0.725 - 0s 1ms/sample - loss: 0.6221 - accuracy: 0.7644 - precision: 0.7857 - recall: 0.7404 - val_loss: 0.6680 - val_accuracy: 0.7971 - val_precision: 0.8030 - val_recall: 0.7681\n",
      "Epoch 58/80\n",
      "208/208 [==============================] - ETA: 0s - loss: 0.4727 - accuracy: 0.8750 - precision: 0.8750 - recall: 0.875 - ETA: 0s - loss: 0.6586 - accuracy: 0.7500 - precision: 0.7660 - recall: 0.750 - ETA: 0s - loss: 0.6344 - accuracy: 0.7625 - precision: 0.7919 - recall: 0.737 - 0s 1ms/sample - loss: 0.5854 - accuracy: 0.7933 - precision: 0.8173 - recall: 0.7740 - val_loss: 0.6241 - val_accuracy: 0.8116 - val_precision: 0.8358 - val_recall: 0.8116\n",
      "Epoch 59/80\n",
      "208/208 [==============================] - ETA: 0s - loss: 0.4830 - accuracy: 0.8750 - precision: 0.9032 - recall: 0.875 - ETA: 0s - loss: 0.5870 - accuracy: 0.8021 - precision: 0.8191 - recall: 0.802 - ETA: 0s - loss: 0.5985 - accuracy: 0.7875 - precision: 0.7975 - recall: 0.787 - 0s 1ms/sample - loss: 0.5583 - accuracy: 0.8029 - precision: 0.8107 - recall: 0.8029 - val_loss: 0.5796 - val_accuracy: 0.8116 - val_precision: 0.8358 - val_recall: 0.8116\n",
      "Epoch 60/80\n",
      "208/208 [==============================] - ETA: 0s - loss: 0.5822 - accuracy: 0.8438 - precision: 0.8438 - recall: 0.843 - ETA: 0s - loss: 0.6400 - accuracy: 0.8021 - precision: 0.8021 - recall: 0.802 - ETA: 0s - loss: 0.6764 - accuracy: 0.7688 - precision: 0.7688 - recall: 0.768 - 0s 1ms/sample - loss: 0.6931 - accuracy: 0.7740 - precision: 0.7729 - recall: 0.7692 - val_loss: 0.6605 - val_accuracy: 0.7971 - val_precision: 0.8088 - val_recall: 0.7971\n",
      "Epoch 61/80\n",
      "208/208 [==============================] - ETA: 0s - loss: 0.9090 - accuracy: 0.7188 - precision: 0.7188 - recall: 0.718 - ETA: 0s - loss: 0.7062 - accuracy: 0.7604 - precision: 0.7684 - recall: 0.760 - ETA: 0s - loss: 0.6827 - accuracy: 0.7563 - precision: 0.7610 - recall: 0.756 - 0s 1ms/sample - loss: 0.7071 - accuracy: 0.7404 - precision: 0.7463 - recall: 0.7356 - val_loss: 0.7033 - val_accuracy: 0.7826 - val_precision: 0.7794 - val_recall: 0.7681\n",
      "Epoch 62/80\n",
      "208/208 [==============================] - ETA: 0s - loss: 0.6737 - accuracy: 0.7500 - precision: 0.7742 - recall: 0.750 - ETA: 0s - loss: 0.6495 - accuracy: 0.7396 - precision: 0.7447 - recall: 0.729 - ETA: 0s - loss: 0.6443 - accuracy: 0.7500 - precision: 0.7516 - recall: 0.737 - 0s 1ms/sample - loss: 0.6125 - accuracy: 0.7548 - precision: 0.7586 - recall: 0.7404 - val_loss: 0.6919 - val_accuracy: 0.8116 - val_precision: 0.8182 - val_recall: 0.7826\n",
      "Epoch 63/80\n",
      "208/208 [==============================] - ETA: 0s - loss: 0.4380 - accuracy: 0.8125 - precision: 0.8387 - recall: 0.812 - ETA: 0s - loss: 0.5970 - accuracy: 0.7812 - precision: 0.7849 - recall: 0.760 - ETA: 0s - loss: 0.6100 - accuracy: 0.7625 - precision: 0.7677 - recall: 0.743 - 0s 1ms/sample - loss: 0.6052 - accuracy: 0.7596 - precision: 0.7638 - recall: 0.7308 - val_loss: 0.6110 - val_accuracy: 0.8406 - val_precision: 0.8594 - val_recall: 0.7971\n",
      "Epoch 64/80\n",
      "208/208 [==============================] - ETA: 0s - loss: 0.5765 - accuracy: 0.7812 - precision: 0.8276 - recall: 0.750 - ETA: 0s - loss: 0.5569 - accuracy: 0.7812 - precision: 0.8276 - recall: 0.750 - ETA: 0s - loss: 0.5646 - accuracy: 0.7750 - precision: 0.7987 - recall: 0.743 - 0s 1ms/sample - loss: 0.5704 - accuracy: 0.7692 - precision: 0.7927 - recall: 0.7356 - val_loss: 0.5954 - val_accuracy: 0.8551 - val_precision: 0.8485 - val_recall: 0.8116\n",
      "Epoch 65/80\n"
     ]
    },
    {
     "name": "stdout",
     "output_type": "stream",
     "text": [
      "208/208 [==============================] - ETA: 0s - loss: 0.6373 - accuracy: 0.7188 - precision: 0.7037 - recall: 0.593 - ETA: 0s - loss: 0.5304 - accuracy: 0.8021 - precision: 0.8046 - recall: 0.729 - ETA: 0s - loss: 0.4612 - accuracy: 0.8438 - precision: 0.8523 - recall: 0.793 - 0s 1ms/sample - loss: 0.5054 - accuracy: 0.8173 - precision: 0.8308 - recall: 0.7788 - val_loss: 0.6229 - val_accuracy: 0.8551 - val_precision: 0.8507 - val_recall: 0.8261\n",
      "Epoch 66/80\n",
      "208/208 [==============================] - ETA: 0s - loss: 0.3872 - accuracy: 0.8125 - precision: 0.8387 - recall: 0.812 - ETA: 0s - loss: 0.4385 - accuracy: 0.8229 - precision: 0.8539 - recall: 0.791 - ETA: 0s - loss: 0.4984 - accuracy: 0.8188 - precision: 0.8333 - recall: 0.781 - 0s 1ms/sample - loss: 0.4989 - accuracy: 0.8173 - precision: 0.8283 - recall: 0.7885 - val_loss: 0.5416 - val_accuracy: 0.8406 - val_precision: 0.8485 - val_recall: 0.8116\n",
      "Epoch 67/80\n",
      "208/208 [==============================] - ETA: 0s - loss: 0.5528 - accuracy: 0.7500 - precision: 0.7419 - recall: 0.718 - ETA: 0s - loss: 0.4593 - accuracy: 0.8438 - precision: 0.8404 - recall: 0.822 - ETA: 0s - loss: 0.4616 - accuracy: 0.8500 - precision: 0.8516 - recall: 0.825 - 0s 1ms/sample - loss: 0.4845 - accuracy: 0.8413 - precision: 0.8450 - recall: 0.8125 - val_loss: 0.5263 - val_accuracy: 0.8551 - val_precision: 0.8551 - val_recall: 0.8551\n",
      "Epoch 68/80\n",
      "208/208 [==============================] - ETA: 0s - loss: 0.4896 - accuracy: 0.8438 - precision: 0.8387 - recall: 0.812 - ETA: 0s - loss: 0.5488 - accuracy: 0.8021 - precision: 0.8000 - recall: 0.791 - ETA: 0s - loss: 0.4459 - accuracy: 0.8375 - precision: 0.8365 - recall: 0.831 - 0s 1ms/sample - loss: 0.4394 - accuracy: 0.8413 - precision: 0.8447 - recall: 0.8365 - val_loss: 0.5421 - val_accuracy: 0.8406 - val_precision: 0.8529 - val_recall: 0.8406\n",
      "Epoch 69/80\n",
      "208/208 [==============================] - ETA: 0s - loss: 0.4889 - accuracy: 0.8438 - precision: 0.8438 - recall: 0.843 - ETA: 0s - loss: 0.4179 - accuracy: 0.8646 - precision: 0.8737 - recall: 0.864 - ETA: 0s - loss: 0.4080 - accuracy: 0.8625 - precision: 0.8662 - recall: 0.850 - 0s 1ms/sample - loss: 0.4628 - accuracy: 0.8365 - precision: 0.8390 - recall: 0.8269 - val_loss: 0.7488 - val_accuracy: 0.7246 - val_precision: 0.7463 - val_recall: 0.7246\n",
      "Epoch 70/80\n",
      "208/208 [==============================] - ETA: 0s - loss: 0.8850 - accuracy: 0.5938 - precision: 0.6129 - recall: 0.593 - ETA: 0s - loss: 0.6793 - accuracy: 0.7188 - precision: 0.7174 - recall: 0.687 - ETA: 0s - loss: 0.5741 - accuracy: 0.7875 - precision: 0.7881 - recall: 0.743 - 0s 1ms/sample - loss: 0.5512 - accuracy: 0.7981 - precision: 0.8020 - recall: 0.7596 - val_loss: 0.6807 - val_accuracy: 0.8696 - val_precision: 0.8889 - val_recall: 0.8116\n",
      "Epoch 71/80\n",
      "208/208 [==============================] - ETA: 0s - loss: 0.6802 - accuracy: 0.7812 - precision: 0.8276 - recall: 0.750 - ETA: 0s - loss: 0.5677 - accuracy: 0.8229 - precision: 0.8370 - recall: 0.802 - ETA: 0s - loss: 0.5389 - accuracy: 0.8313 - precision: 0.8497 - recall: 0.812 - 0s 2ms/sample - loss: 0.5103 - accuracy: 0.8413 - precision: 0.8557 - recall: 0.8269 - val_loss: 0.4600 - val_accuracy: 0.8841 - val_precision: 0.8841 - val_recall: 0.8841\n",
      "Epoch 72/80\n",
      "208/208 [==============================] - ETA: 0s - loss: 0.3729 - accuracy: 0.8750 - precision: 0.8750 - recall: 0.875 - ETA: 0s - loss: 0.3948 - accuracy: 0.8854 - precision: 0.8854 - recall: 0.885 - ETA: 0s - loss: 0.4293 - accuracy: 0.8562 - precision: 0.8562 - recall: 0.856 - 0s 1ms/sample - loss: 0.4344 - accuracy: 0.8413 - precision: 0.8413 - recall: 0.8413 - val_loss: 0.5444 - val_accuracy: 0.8116 - val_precision: 0.8209 - val_recall: 0.7971\n",
      "Epoch 73/80\n",
      "208/208 [==============================] - ETA: 0s - loss: 0.4674 - accuracy: 0.7812 - precision: 0.7812 - recall: 0.781 - ETA: 0s - loss: 0.4693 - accuracy: 0.8125 - precision: 0.8125 - recall: 0.812 - ETA: 0s - loss: 0.4617 - accuracy: 0.8125 - precision: 0.8125 - recall: 0.812 - 0s 1ms/sample - loss: 0.4529 - accuracy: 0.8269 - precision: 0.8261 - recall: 0.8221 - val_loss: 0.5882 - val_accuracy: 0.8551 - val_precision: 0.8551 - val_recall: 0.8551\n",
      "Epoch 74/80\n",
      "208/208 [==============================] - ETA: 0s - loss: 0.2365 - accuracy: 0.9688 - precision: 0.9688 - recall: 0.968 - ETA: 0s - loss: 0.3386 - accuracy: 0.8958 - precision: 0.9043 - recall: 0.885 - ETA: 0s - loss: 0.3538 - accuracy: 0.8875 - precision: 0.8981 - recall: 0.881 - 0s 1ms/sample - loss: 0.4256 - accuracy: 0.8462 - precision: 0.8663 - recall: 0.8413 - val_loss: 0.5717 - val_accuracy: 0.8406 - val_precision: 0.8406 - val_recall: 0.8406\n",
      "Epoch 75/80\n",
      "208/208 [==============================] - ETA: 0s - loss: 0.3946 - accuracy: 0.8438 - precision: 0.8438 - recall: 0.843 - ETA: 0s - loss: 0.4042 - accuracy: 0.8333 - precision: 0.8316 - recall: 0.822 - ETA: 0s - loss: 0.4266 - accuracy: 0.8438 - precision: 0.8471 - recall: 0.831 - 0s 1ms/sample - loss: 0.4132 - accuracy: 0.8413 - precision: 0.8522 - recall: 0.8317 - val_loss: 0.5393 - val_accuracy: 0.8261 - val_precision: 0.8261 - val_recall: 0.8261\n",
      "Epoch 76/80\n",
      "208/208 [==============================] - ETA: 0s - loss: 0.2776 - accuracy: 0.9375 - precision: 0.9375 - recall: 0.937 - ETA: 0s - loss: 0.3864 - accuracy: 0.8438 - precision: 0.8526 - recall: 0.843 - ETA: 0s - loss: 0.3798 - accuracy: 0.8562 - precision: 0.8608 - recall: 0.850 - 0s 1ms/sample - loss: 0.4045 - accuracy: 0.8462 - precision: 0.8529 - recall: 0.8365 - val_loss: 0.5505 - val_accuracy: 0.8261 - val_precision: 0.8235 - val_recall: 0.8116\n",
      "Epoch 77/80\n",
      "208/208 [==============================] - ETA: 0s - loss: 0.4165 - accuracy: 0.8125 - precision: 0.8387 - recall: 0.812 - ETA: 0s - loss: 0.4155 - accuracy: 0.8438 - precision: 0.8696 - recall: 0.833 - ETA: 0s - loss: 0.3778 - accuracy: 0.8500 - precision: 0.8701 - recall: 0.837 - 0s 1ms/sample - loss: 0.3971 - accuracy: 0.8462 - precision: 0.8607 - recall: 0.8317 - val_loss: 0.5369 - val_accuracy: 0.8406 - val_precision: 0.8507 - val_recall: 0.8261\n",
      "Epoch 78/80\n",
      "208/208 [==============================] - ETA: 0s - loss: 0.5743 - accuracy: 0.7500 - precision: 0.7500 - recall: 0.750 - ETA: 0s - loss: 0.4803 - accuracy: 0.8021 - precision: 0.8105 - recall: 0.802 - ETA: 0s - loss: 0.4232 - accuracy: 0.8313 - precision: 0.8462 - recall: 0.825 - 0s 1ms/sample - loss: 0.3871 - accuracy: 0.8462 - precision: 0.8621 - recall: 0.8413 - val_loss: 0.5503 - val_accuracy: 0.8551 - val_precision: 0.8529 - val_recall: 0.8406\n",
      "Epoch 79/80\n",
      "208/208 [==============================] - ETA: 0s - loss: 0.1379 - accuracy: 1.0000 - precision: 1.0000 - recall: 0.968 - ETA: 0s - loss: 0.2434 - accuracy: 0.9271 - precision: 0.9263 - recall: 0.916 - ETA: 0s - loss: 0.3675 - accuracy: 0.8562 - precision: 0.8662 - recall: 0.850 - 0s 1ms/sample - loss: 0.3749 - accuracy: 0.8510 - precision: 0.8663 - recall: 0.8413 - val_loss: 0.5605 - val_accuracy: 0.8261 - val_precision: 0.8636 - val_recall: 0.8261\n",
      "Epoch 80/80\n",
      "208/208 [==============================] - ETA: 0s - loss: 0.3076 - accuracy: 0.9062 - precision: 0.9032 - recall: 0.875 - ETA: 0s - loss: 0.4167 - accuracy: 0.8438 - precision: 0.8587 - recall: 0.822 - ETA: 0s - loss: 0.4243 - accuracy: 0.8500 - precision: 0.8590 - recall: 0.837 - 0s 1ms/sample - loss: 0.3972 - accuracy: 0.8654 - precision: 0.8725 - recall: 0.8558 - val_loss: 0.4509 - val_accuracy: 0.8696 - val_precision: 0.8824 - val_recall: 0.8696\n",
      "Model: \"sequential\"\n",
      "_________________________________________________________________\n",
      "Layer (type)                 Output Shape              Param #   \n",
      "=================================================================\n",
      "lstm (LSTM)                  (None, 100, 256)          351232    \n",
      "_________________________________________________________________\n",
      "lstm_1 (LSTM)                (None, 100, 96)           135552    \n",
      "_________________________________________________________________\n",
      "lstm_2 (LSTM)                (None, 100, 32)           16512     \n",
      "_________________________________________________________________\n",
      "lstm_3 (LSTM)                (None, 128)               82432     \n",
      "_________________________________________________________________\n",
      "dense (Dense)                (None, 5)                 645       \n",
      "=================================================================\n",
      "Total params: 586,373\n",
      "Trainable params: 586,373\n",
      "Non-trainable params: 0\n",
      "_________________________________________________________________\n",
      "Train on 208 samples, validate on 69 samples\n",
      "Epoch 1/80\n",
      "160/208 [======================>.......] - ETA: 28s - loss: 1.6095 - accuracy: 0.1250 - precision: 0.0000e+00 - recall: 0.0000e+ - ETA: 6s - loss: 1.5933 - accuracy: 0.2917 - precision: 0.0000e+00 - recall: 0.0000e+00 - ETA: 1s - loss: 1.5594 - accuracy: 0.3187 - precision: 1.0000 - recall: 0.0437        WARNING:tensorflow:Can save best model only with val_accuracy available, skipping.\n",
      "208/208 [==============================] - 6s 27ms/sample - loss: 1.5338 - accuracy: 0.3221 - precision: 1.0000 - recall: 0.0625\n"
     ]
    },
    {
     "ename": "KeyboardInterrupt",
     "evalue": "",
     "output_type": "error",
     "traceback": [
      "\u001b[1;31m---------------------------------------------------------------------------\u001b[0m",
      "\u001b[1;31mKeyboardInterrupt\u001b[0m                         Traceback (most recent call last)",
      "\u001b[1;32m<ipython-input-18-88192e6fca1d>\u001b[0m in \u001b[0;36m<module>\u001b[1;34m\u001b[0m\n\u001b[0;32m     14\u001b[0m             \u001b[0mepochs\u001b[0m\u001b[1;33m=\u001b[0m\u001b[1;36m80\u001b[0m\u001b[1;33m,\u001b[0m\u001b[1;33m\u001b[0m\u001b[1;33m\u001b[0m\u001b[0m\n\u001b[0;32m     15\u001b[0m             \u001b[0mbatch_size\u001b[0m\u001b[1;33m=\u001b[0m\u001b[1;36m32\u001b[0m\u001b[1;33m,\u001b[0m\u001b[1;33m\u001b[0m\u001b[1;33m\u001b[0m\u001b[0m\n\u001b[1;32m---> 16\u001b[1;33m             validation_data=(x_val,y_val))\n\u001b[0m\u001b[0;32m     17\u001b[0m \u001b[1;33m\u001b[0m\u001b[0m\n\u001b[0;32m     18\u001b[0m \u001b[0mprint\u001b[0m\u001b[1;33m(\u001b[0m\u001b[0mtuner\u001b[0m\u001b[1;33m.\u001b[0m\u001b[0mget_best_hyperparameters\u001b[0m\u001b[1;33m(\u001b[0m\u001b[1;33m)\u001b[0m\u001b[1;33m[\u001b[0m\u001b[1;36m0\u001b[0m\u001b[1;33m]\u001b[0m\u001b[1;33m.\u001b[0m\u001b[0mvalues\u001b[0m\u001b[1;33m)\u001b[0m\u001b[1;33m\u001b[0m\u001b[1;33m\u001b[0m\u001b[0m\n",
      "\u001b[1;32mC:\\ProgramData\\Anaconda3\\envs\\tensor-gpu\\lib\\site-packages\\kerastuner\\engine\\base_tuner.py\u001b[0m in \u001b[0;36msearch\u001b[1;34m(self, *fit_args, **fit_kwargs)\u001b[0m\n\u001b[0;32m    128\u001b[0m \u001b[1;33m\u001b[0m\u001b[0m\n\u001b[0;32m    129\u001b[0m             \u001b[0mself\u001b[0m\u001b[1;33m.\u001b[0m\u001b[0mon_trial_begin\u001b[0m\u001b[1;33m(\u001b[0m\u001b[0mtrial\u001b[0m\u001b[1;33m)\u001b[0m\u001b[1;33m\u001b[0m\u001b[1;33m\u001b[0m\u001b[0m\n\u001b[1;32m--> 130\u001b[1;33m             \u001b[0mself\u001b[0m\u001b[1;33m.\u001b[0m\u001b[0mrun_trial\u001b[0m\u001b[1;33m(\u001b[0m\u001b[0mtrial\u001b[0m\u001b[1;33m,\u001b[0m \u001b[1;33m*\u001b[0m\u001b[0mfit_args\u001b[0m\u001b[1;33m,\u001b[0m \u001b[1;33m**\u001b[0m\u001b[0mfit_kwargs\u001b[0m\u001b[1;33m)\u001b[0m\u001b[1;33m\u001b[0m\u001b[1;33m\u001b[0m\u001b[0m\n\u001b[0m\u001b[0;32m    131\u001b[0m             \u001b[0mself\u001b[0m\u001b[1;33m.\u001b[0m\u001b[0mon_trial_end\u001b[0m\u001b[1;33m(\u001b[0m\u001b[0mtrial\u001b[0m\u001b[1;33m)\u001b[0m\u001b[1;33m\u001b[0m\u001b[1;33m\u001b[0m\u001b[0m\n\u001b[0;32m    132\u001b[0m         \u001b[0mself\u001b[0m\u001b[1;33m.\u001b[0m\u001b[0mon_search_end\u001b[0m\u001b[1;33m(\u001b[0m\u001b[1;33m)\u001b[0m\u001b[1;33m\u001b[0m\u001b[1;33m\u001b[0m\u001b[0m\n",
      "\u001b[1;32mC:\\ProgramData\\Anaconda3\\envs\\tensor-gpu\\lib\\site-packages\\kerastuner\\engine\\multi_execution_tuner.py\u001b[0m in \u001b[0;36mrun_trial\u001b[1;34m(self, trial, *fit_args, **fit_kwargs)\u001b[0m\n\u001b[0;32m     94\u001b[0m \u001b[1;33m\u001b[0m\u001b[0m\n\u001b[0;32m     95\u001b[0m             \u001b[0mmodel\u001b[0m \u001b[1;33m=\u001b[0m \u001b[0mself\u001b[0m\u001b[1;33m.\u001b[0m\u001b[0mhypermodel\u001b[0m\u001b[1;33m.\u001b[0m\u001b[0mbuild\u001b[0m\u001b[1;33m(\u001b[0m\u001b[0mtrial\u001b[0m\u001b[1;33m.\u001b[0m\u001b[0mhyperparameters\u001b[0m\u001b[1;33m)\u001b[0m\u001b[1;33m\u001b[0m\u001b[1;33m\u001b[0m\u001b[0m\n\u001b[1;32m---> 96\u001b[1;33m             \u001b[0mhistory\u001b[0m \u001b[1;33m=\u001b[0m \u001b[0mmodel\u001b[0m\u001b[1;33m.\u001b[0m\u001b[0mfit\u001b[0m\u001b[1;33m(\u001b[0m\u001b[1;33m*\u001b[0m\u001b[0mfit_args\u001b[0m\u001b[1;33m,\u001b[0m \u001b[1;33m**\u001b[0m\u001b[0mcopied_fit_kwargs\u001b[0m\u001b[1;33m)\u001b[0m\u001b[1;33m\u001b[0m\u001b[1;33m\u001b[0m\u001b[0m\n\u001b[0m\u001b[0;32m     97\u001b[0m             \u001b[1;32mfor\u001b[0m \u001b[0mmetric\u001b[0m\u001b[1;33m,\u001b[0m \u001b[0mepoch_values\u001b[0m \u001b[1;32min\u001b[0m \u001b[0mhistory\u001b[0m\u001b[1;33m.\u001b[0m\u001b[0mhistory\u001b[0m\u001b[1;33m.\u001b[0m\u001b[0mitems\u001b[0m\u001b[1;33m(\u001b[0m\u001b[1;33m)\u001b[0m\u001b[1;33m:\u001b[0m\u001b[1;33m\u001b[0m\u001b[1;33m\u001b[0m\u001b[0m\n\u001b[0;32m     98\u001b[0m                 \u001b[1;32mif\u001b[0m \u001b[0mself\u001b[0m\u001b[1;33m.\u001b[0m\u001b[0moracle\u001b[0m\u001b[1;33m.\u001b[0m\u001b[0mobjective\u001b[0m\u001b[1;33m.\u001b[0m\u001b[0mdirection\u001b[0m \u001b[1;33m==\u001b[0m \u001b[1;34m'min'\u001b[0m\u001b[1;33m:\u001b[0m\u001b[1;33m\u001b[0m\u001b[1;33m\u001b[0m\u001b[0m\n",
      "\u001b[1;32mC:\\ProgramData\\Anaconda3\\envs\\tensor-gpu\\lib\\site-packages\\tensorflow_core\\python\\keras\\engine\\training.py\u001b[0m in \u001b[0;36mfit\u001b[1;34m(self, x, y, batch_size, epochs, verbose, callbacks, validation_split, validation_data, shuffle, class_weight, sample_weight, initial_epoch, steps_per_epoch, validation_steps, validation_freq, max_queue_size, workers, use_multiprocessing, **kwargs)\u001b[0m\n\u001b[0;32m    817\u001b[0m         \u001b[0mmax_queue_size\u001b[0m\u001b[1;33m=\u001b[0m\u001b[0mmax_queue_size\u001b[0m\u001b[1;33m,\u001b[0m\u001b[1;33m\u001b[0m\u001b[1;33m\u001b[0m\u001b[0m\n\u001b[0;32m    818\u001b[0m         \u001b[0mworkers\u001b[0m\u001b[1;33m=\u001b[0m\u001b[0mworkers\u001b[0m\u001b[1;33m,\u001b[0m\u001b[1;33m\u001b[0m\u001b[1;33m\u001b[0m\u001b[0m\n\u001b[1;32m--> 819\u001b[1;33m         use_multiprocessing=use_multiprocessing)\n\u001b[0m\u001b[0;32m    820\u001b[0m \u001b[1;33m\u001b[0m\u001b[0m\n\u001b[0;32m    821\u001b[0m   def evaluate(self,\n",
      "\u001b[1;32mC:\\ProgramData\\Anaconda3\\envs\\tensor-gpu\\lib\\site-packages\\tensorflow_core\\python\\keras\\engine\\training_v2.py\u001b[0m in \u001b[0;36mfit\u001b[1;34m(self, model, x, y, batch_size, epochs, verbose, callbacks, validation_split, validation_data, shuffle, class_weight, sample_weight, initial_epoch, steps_per_epoch, validation_steps, validation_freq, max_queue_size, workers, use_multiprocessing, **kwargs)\u001b[0m\n\u001b[0;32m    393\u001b[0m                       \u001b[0mmode\u001b[0m\u001b[1;33m=\u001b[0m\u001b[0mModeKeys\u001b[0m\u001b[1;33m.\u001b[0m\u001b[0mTEST\u001b[0m\u001b[1;33m,\u001b[0m\u001b[1;33m\u001b[0m\u001b[1;33m\u001b[0m\u001b[0m\n\u001b[0;32m    394\u001b[0m                       \u001b[0mtraining_context\u001b[0m\u001b[1;33m=\u001b[0m\u001b[0meval_context\u001b[0m\u001b[1;33m,\u001b[0m\u001b[1;33m\u001b[0m\u001b[1;33m\u001b[0m\u001b[0m\n\u001b[1;32m--> 395\u001b[1;33m                       total_epochs=1)\n\u001b[0m\u001b[0;32m    396\u001b[0m                   cbks.make_logs(model, epoch_logs, eval_result, ModeKeys.TEST,\n\u001b[0;32m    397\u001b[0m                                  prefix='val_')\n",
      "\u001b[1;32mC:\\ProgramData\\Anaconda3\\envs\\tensor-gpu\\lib\\site-packages\\tensorflow_core\\python\\keras\\engine\\training_v2.py\u001b[0m in \u001b[0;36mrun_one_epoch\u001b[1;34m(model, iterator, execution_function, dataset_size, batch_size, strategy, steps_per_epoch, num_samples, mode, training_context, total_epochs)\u001b[0m\n\u001b[0;32m    126\u001b[0m         step=step, mode=mode, size=current_batch_size) as batch_logs:\n\u001b[0;32m    127\u001b[0m       \u001b[1;32mtry\u001b[0m\u001b[1;33m:\u001b[0m\u001b[1;33m\u001b[0m\u001b[1;33m\u001b[0m\u001b[0m\n\u001b[1;32m--> 128\u001b[1;33m         \u001b[0mbatch_outs\u001b[0m \u001b[1;33m=\u001b[0m \u001b[0mexecution_function\u001b[0m\u001b[1;33m(\u001b[0m\u001b[0miterator\u001b[0m\u001b[1;33m)\u001b[0m\u001b[1;33m\u001b[0m\u001b[1;33m\u001b[0m\u001b[0m\n\u001b[0m\u001b[0;32m    129\u001b[0m       \u001b[1;32mexcept\u001b[0m \u001b[1;33m(\u001b[0m\u001b[0mStopIteration\u001b[0m\u001b[1;33m,\u001b[0m \u001b[0merrors\u001b[0m\u001b[1;33m.\u001b[0m\u001b[0mOutOfRangeError\u001b[0m\u001b[1;33m)\u001b[0m\u001b[1;33m:\u001b[0m\u001b[1;33m\u001b[0m\u001b[1;33m\u001b[0m\u001b[0m\n\u001b[0;32m    130\u001b[0m         \u001b[1;31m# TODO(kaftan): File bug about tf function and errors.OutOfRangeError?\u001b[0m\u001b[1;33m\u001b[0m\u001b[1;33m\u001b[0m\u001b[1;33m\u001b[0m\u001b[0m\n",
      "\u001b[1;32mC:\\ProgramData\\Anaconda3\\envs\\tensor-gpu\\lib\\site-packages\\tensorflow_core\\python\\keras\\engine\\training_v2_utils.py\u001b[0m in \u001b[0;36mexecution_function\u001b[1;34m(input_fn)\u001b[0m\n\u001b[0;32m     96\u001b[0m     \u001b[1;31m# `numpy` translates Tensors to values in Eager mode.\u001b[0m\u001b[1;33m\u001b[0m\u001b[1;33m\u001b[0m\u001b[1;33m\u001b[0m\u001b[0m\n\u001b[0;32m     97\u001b[0m     return nest.map_structure(_non_none_constant_value,\n\u001b[1;32m---> 98\u001b[1;33m                               distributed_function(input_fn))\n\u001b[0m\u001b[0;32m     99\u001b[0m \u001b[1;33m\u001b[0m\u001b[0m\n\u001b[0;32m    100\u001b[0m   \u001b[1;32mreturn\u001b[0m \u001b[0mexecution_function\u001b[0m\u001b[1;33m\u001b[0m\u001b[1;33m\u001b[0m\u001b[0m\n",
      "\u001b[1;32mC:\\ProgramData\\Anaconda3\\envs\\tensor-gpu\\lib\\site-packages\\tensorflow_core\\python\\eager\\def_function.py\u001b[0m in \u001b[0;36m__call__\u001b[1;34m(self, *args, **kwds)\u001b[0m\n\u001b[0;32m    566\u001b[0m         \u001b[0mxla_context\u001b[0m\u001b[1;33m.\u001b[0m\u001b[0mExit\u001b[0m\u001b[1;33m(\u001b[0m\u001b[1;33m)\u001b[0m\u001b[1;33m\u001b[0m\u001b[1;33m\u001b[0m\u001b[0m\n\u001b[0;32m    567\u001b[0m     \u001b[1;32melse\u001b[0m\u001b[1;33m:\u001b[0m\u001b[1;33m\u001b[0m\u001b[1;33m\u001b[0m\u001b[0m\n\u001b[1;32m--> 568\u001b[1;33m       \u001b[0mresult\u001b[0m \u001b[1;33m=\u001b[0m \u001b[0mself\u001b[0m\u001b[1;33m.\u001b[0m\u001b[0m_call\u001b[0m\u001b[1;33m(\u001b[0m\u001b[1;33m*\u001b[0m\u001b[0margs\u001b[0m\u001b[1;33m,\u001b[0m \u001b[1;33m**\u001b[0m\u001b[0mkwds\u001b[0m\u001b[1;33m)\u001b[0m\u001b[1;33m\u001b[0m\u001b[1;33m\u001b[0m\u001b[0m\n\u001b[0m\u001b[0;32m    569\u001b[0m \u001b[1;33m\u001b[0m\u001b[0m\n\u001b[0;32m    570\u001b[0m     \u001b[1;32mif\u001b[0m \u001b[0mtracing_count\u001b[0m \u001b[1;33m==\u001b[0m \u001b[0mself\u001b[0m\u001b[1;33m.\u001b[0m\u001b[0m_get_tracing_count\u001b[0m\u001b[1;33m(\u001b[0m\u001b[1;33m)\u001b[0m\u001b[1;33m:\u001b[0m\u001b[1;33m\u001b[0m\u001b[1;33m\u001b[0m\u001b[0m\n",
      "\u001b[1;32mC:\\ProgramData\\Anaconda3\\envs\\tensor-gpu\\lib\\site-packages\\tensorflow_core\\python\\eager\\def_function.py\u001b[0m in \u001b[0;36m_call\u001b[1;34m(self, *args, **kwds)\u001b[0m\n\u001b[0;32m    613\u001b[0m       \u001b[1;31m# This is the first call of __call__, so we have to initialize.\u001b[0m\u001b[1;33m\u001b[0m\u001b[1;33m\u001b[0m\u001b[1;33m\u001b[0m\u001b[0m\n\u001b[0;32m    614\u001b[0m       \u001b[0minitializers\u001b[0m \u001b[1;33m=\u001b[0m \u001b[1;33m[\u001b[0m\u001b[1;33m]\u001b[0m\u001b[1;33m\u001b[0m\u001b[1;33m\u001b[0m\u001b[0m\n\u001b[1;32m--> 615\u001b[1;33m       \u001b[0mself\u001b[0m\u001b[1;33m.\u001b[0m\u001b[0m_initialize\u001b[0m\u001b[1;33m(\u001b[0m\u001b[0margs\u001b[0m\u001b[1;33m,\u001b[0m \u001b[0mkwds\u001b[0m\u001b[1;33m,\u001b[0m \u001b[0madd_initializers_to\u001b[0m\u001b[1;33m=\u001b[0m\u001b[0minitializers\u001b[0m\u001b[1;33m)\u001b[0m\u001b[1;33m\u001b[0m\u001b[1;33m\u001b[0m\u001b[0m\n\u001b[0m\u001b[0;32m    616\u001b[0m     \u001b[1;32mfinally\u001b[0m\u001b[1;33m:\u001b[0m\u001b[1;33m\u001b[0m\u001b[1;33m\u001b[0m\u001b[0m\n\u001b[0;32m    617\u001b[0m       \u001b[1;31m# At this point we know that the initialization is complete (or less\u001b[0m\u001b[1;33m\u001b[0m\u001b[1;33m\u001b[0m\u001b[1;33m\u001b[0m\u001b[0m\n",
      "\u001b[1;32mC:\\ProgramData\\Anaconda3\\envs\\tensor-gpu\\lib\\site-packages\\tensorflow_core\\python\\eager\\def_function.py\u001b[0m in \u001b[0;36m_initialize\u001b[1;34m(self, args, kwds, add_initializers_to)\u001b[0m\n\u001b[0;32m    495\u001b[0m     self._concrete_stateful_fn = (\n\u001b[0;32m    496\u001b[0m         self._stateful_fn._get_concrete_function_internal_garbage_collected(  # pylint: disable=protected-access\n\u001b[1;32m--> 497\u001b[1;33m             *args, **kwds))\n\u001b[0m\u001b[0;32m    498\u001b[0m \u001b[1;33m\u001b[0m\u001b[0m\n\u001b[0;32m    499\u001b[0m     \u001b[1;32mdef\u001b[0m \u001b[0minvalid_creator_scope\u001b[0m\u001b[1;33m(\u001b[0m\u001b[1;33m*\u001b[0m\u001b[0munused_args\u001b[0m\u001b[1;33m,\u001b[0m \u001b[1;33m**\u001b[0m\u001b[0munused_kwds\u001b[0m\u001b[1;33m)\u001b[0m\u001b[1;33m:\u001b[0m\u001b[1;33m\u001b[0m\u001b[1;33m\u001b[0m\u001b[0m\n",
      "\u001b[1;32mC:\\ProgramData\\Anaconda3\\envs\\tensor-gpu\\lib\\site-packages\\tensorflow_core\\python\\eager\\function.py\u001b[0m in \u001b[0;36m_get_concrete_function_internal_garbage_collected\u001b[1;34m(self, *args, **kwargs)\u001b[0m\n\u001b[0;32m   2387\u001b[0m       \u001b[0margs\u001b[0m\u001b[1;33m,\u001b[0m \u001b[0mkwargs\u001b[0m \u001b[1;33m=\u001b[0m \u001b[1;32mNone\u001b[0m\u001b[1;33m,\u001b[0m \u001b[1;32mNone\u001b[0m\u001b[1;33m\u001b[0m\u001b[1;33m\u001b[0m\u001b[0m\n\u001b[0;32m   2388\u001b[0m     \u001b[1;32mwith\u001b[0m \u001b[0mself\u001b[0m\u001b[1;33m.\u001b[0m\u001b[0m_lock\u001b[0m\u001b[1;33m:\u001b[0m\u001b[1;33m\u001b[0m\u001b[1;33m\u001b[0m\u001b[0m\n\u001b[1;32m-> 2389\u001b[1;33m       \u001b[0mgraph_function\u001b[0m\u001b[1;33m,\u001b[0m \u001b[0m_\u001b[0m\u001b[1;33m,\u001b[0m \u001b[0m_\u001b[0m \u001b[1;33m=\u001b[0m \u001b[0mself\u001b[0m\u001b[1;33m.\u001b[0m\u001b[0m_maybe_define_function\u001b[0m\u001b[1;33m(\u001b[0m\u001b[0margs\u001b[0m\u001b[1;33m,\u001b[0m \u001b[0mkwargs\u001b[0m\u001b[1;33m)\u001b[0m\u001b[1;33m\u001b[0m\u001b[1;33m\u001b[0m\u001b[0m\n\u001b[0m\u001b[0;32m   2390\u001b[0m     \u001b[1;32mreturn\u001b[0m \u001b[0mgraph_function\u001b[0m\u001b[1;33m\u001b[0m\u001b[1;33m\u001b[0m\u001b[0m\n\u001b[0;32m   2391\u001b[0m \u001b[1;33m\u001b[0m\u001b[0m\n",
      "\u001b[1;32mC:\\ProgramData\\Anaconda3\\envs\\tensor-gpu\\lib\\site-packages\\tensorflow_core\\python\\eager\\function.py\u001b[0m in \u001b[0;36m_maybe_define_function\u001b[1;34m(self, args, kwargs)\u001b[0m\n\u001b[0;32m   2701\u001b[0m \u001b[1;33m\u001b[0m\u001b[0m\n\u001b[0;32m   2702\u001b[0m       \u001b[0mself\u001b[0m\u001b[1;33m.\u001b[0m\u001b[0m_function_cache\u001b[0m\u001b[1;33m.\u001b[0m\u001b[0mmissed\u001b[0m\u001b[1;33m.\u001b[0m\u001b[0madd\u001b[0m\u001b[1;33m(\u001b[0m\u001b[0mcall_context_key\u001b[0m\u001b[1;33m)\u001b[0m\u001b[1;33m\u001b[0m\u001b[1;33m\u001b[0m\u001b[0m\n\u001b[1;32m-> 2703\u001b[1;33m       \u001b[0mgraph_function\u001b[0m \u001b[1;33m=\u001b[0m \u001b[0mself\u001b[0m\u001b[1;33m.\u001b[0m\u001b[0m_create_graph_function\u001b[0m\u001b[1;33m(\u001b[0m\u001b[0margs\u001b[0m\u001b[1;33m,\u001b[0m \u001b[0mkwargs\u001b[0m\u001b[1;33m)\u001b[0m\u001b[1;33m\u001b[0m\u001b[1;33m\u001b[0m\u001b[0m\n\u001b[0m\u001b[0;32m   2704\u001b[0m       \u001b[0mself\u001b[0m\u001b[1;33m.\u001b[0m\u001b[0m_function_cache\u001b[0m\u001b[1;33m.\u001b[0m\u001b[0mprimary\u001b[0m\u001b[1;33m[\u001b[0m\u001b[0mcache_key\u001b[0m\u001b[1;33m]\u001b[0m \u001b[1;33m=\u001b[0m \u001b[0mgraph_function\u001b[0m\u001b[1;33m\u001b[0m\u001b[1;33m\u001b[0m\u001b[0m\n\u001b[0;32m   2705\u001b[0m       \u001b[1;32mreturn\u001b[0m \u001b[0mgraph_function\u001b[0m\u001b[1;33m,\u001b[0m \u001b[0margs\u001b[0m\u001b[1;33m,\u001b[0m \u001b[0mkwargs\u001b[0m\u001b[1;33m\u001b[0m\u001b[1;33m\u001b[0m\u001b[0m\n",
      "\u001b[1;32mC:\\ProgramData\\Anaconda3\\envs\\tensor-gpu\\lib\\site-packages\\tensorflow_core\\python\\eager\\function.py\u001b[0m in \u001b[0;36m_create_graph_function\u001b[1;34m(self, args, kwargs, override_flat_arg_shapes)\u001b[0m\n\u001b[0;32m   2591\u001b[0m             \u001b[0marg_names\u001b[0m\u001b[1;33m=\u001b[0m\u001b[0marg_names\u001b[0m\u001b[1;33m,\u001b[0m\u001b[1;33m\u001b[0m\u001b[1;33m\u001b[0m\u001b[0m\n\u001b[0;32m   2592\u001b[0m             \u001b[0moverride_flat_arg_shapes\u001b[0m\u001b[1;33m=\u001b[0m\u001b[0moverride_flat_arg_shapes\u001b[0m\u001b[1;33m,\u001b[0m\u001b[1;33m\u001b[0m\u001b[1;33m\u001b[0m\u001b[0m\n\u001b[1;32m-> 2593\u001b[1;33m             capture_by_value=self._capture_by_value),\n\u001b[0m\u001b[0;32m   2594\u001b[0m         \u001b[0mself\u001b[0m\u001b[1;33m.\u001b[0m\u001b[0m_function_attributes\u001b[0m\u001b[1;33m,\u001b[0m\u001b[1;33m\u001b[0m\u001b[1;33m\u001b[0m\u001b[0m\n\u001b[0;32m   2595\u001b[0m         \u001b[1;31m# Tell the ConcreteFunction to clean up its graph once it goes out of\u001b[0m\u001b[1;33m\u001b[0m\u001b[1;33m\u001b[0m\u001b[1;33m\u001b[0m\u001b[0m\n",
      "\u001b[1;32mC:\\ProgramData\\Anaconda3\\envs\\tensor-gpu\\lib\\site-packages\\tensorflow_core\\python\\framework\\func_graph.py\u001b[0m in \u001b[0;36mfunc_graph_from_py_func\u001b[1;34m(name, python_func, args, kwargs, signature, func_graph, autograph, autograph_options, add_control_dependencies, arg_names, op_return_value, collections, capture_by_value, override_flat_arg_shapes)\u001b[0m\n\u001b[0;32m    976\u001b[0m                                           converted_func)\n\u001b[0;32m    977\u001b[0m \u001b[1;33m\u001b[0m\u001b[0m\n\u001b[1;32m--> 978\u001b[1;33m       \u001b[0mfunc_outputs\u001b[0m \u001b[1;33m=\u001b[0m \u001b[0mpython_func\u001b[0m\u001b[1;33m(\u001b[0m\u001b[1;33m*\u001b[0m\u001b[0mfunc_args\u001b[0m\u001b[1;33m,\u001b[0m \u001b[1;33m**\u001b[0m\u001b[0mfunc_kwargs\u001b[0m\u001b[1;33m)\u001b[0m\u001b[1;33m\u001b[0m\u001b[1;33m\u001b[0m\u001b[0m\n\u001b[0m\u001b[0;32m    979\u001b[0m \u001b[1;33m\u001b[0m\u001b[0m\n\u001b[0;32m    980\u001b[0m       \u001b[1;31m# invariant: `func_outputs` contains only Tensors, CompositeTensors,\u001b[0m\u001b[1;33m\u001b[0m\u001b[1;33m\u001b[0m\u001b[1;33m\u001b[0m\u001b[0m\n",
      "\u001b[1;32mC:\\ProgramData\\Anaconda3\\envs\\tensor-gpu\\lib\\site-packages\\tensorflow_core\\python\\eager\\def_function.py\u001b[0m in \u001b[0;36mwrapped_fn\u001b[1;34m(*args, **kwds)\u001b[0m\n\u001b[0;32m    437\u001b[0m         \u001b[1;31m# __wrapped__ allows AutoGraph to swap in a converted function. We give\u001b[0m\u001b[1;33m\u001b[0m\u001b[1;33m\u001b[0m\u001b[1;33m\u001b[0m\u001b[0m\n\u001b[0;32m    438\u001b[0m         \u001b[1;31m# the function a weak reference to itself to avoid a reference cycle.\u001b[0m\u001b[1;33m\u001b[0m\u001b[1;33m\u001b[0m\u001b[1;33m\u001b[0m\u001b[0m\n\u001b[1;32m--> 439\u001b[1;33m         \u001b[1;32mreturn\u001b[0m \u001b[0mweak_wrapped_fn\u001b[0m\u001b[1;33m(\u001b[0m\u001b[1;33m)\u001b[0m\u001b[1;33m.\u001b[0m\u001b[0m__wrapped__\u001b[0m\u001b[1;33m(\u001b[0m\u001b[1;33m*\u001b[0m\u001b[0margs\u001b[0m\u001b[1;33m,\u001b[0m \u001b[1;33m**\u001b[0m\u001b[0mkwds\u001b[0m\u001b[1;33m)\u001b[0m\u001b[1;33m\u001b[0m\u001b[1;33m\u001b[0m\u001b[0m\n\u001b[0m\u001b[0;32m    440\u001b[0m     \u001b[0mweak_wrapped_fn\u001b[0m \u001b[1;33m=\u001b[0m \u001b[0mweakref\u001b[0m\u001b[1;33m.\u001b[0m\u001b[0mref\u001b[0m\u001b[1;33m(\u001b[0m\u001b[0mwrapped_fn\u001b[0m\u001b[1;33m)\u001b[0m\u001b[1;33m\u001b[0m\u001b[1;33m\u001b[0m\u001b[0m\n\u001b[0;32m    441\u001b[0m \u001b[1;33m\u001b[0m\u001b[0m\n",
      "\u001b[1;32mC:\\ProgramData\\Anaconda3\\envs\\tensor-gpu\\lib\\site-packages\\tensorflow_core\\python\\keras\\engine\\training_v2_utils.py\u001b[0m in \u001b[0;36mdistributed_function\u001b[1;34m(input_iterator)\u001b[0m\n\u001b[0;32m     83\u001b[0m     \u001b[0margs\u001b[0m \u001b[1;33m=\u001b[0m \u001b[0m_prepare_feed_values\u001b[0m\u001b[1;33m(\u001b[0m\u001b[0mmodel\u001b[0m\u001b[1;33m,\u001b[0m \u001b[0minput_iterator\u001b[0m\u001b[1;33m,\u001b[0m \u001b[0mmode\u001b[0m\u001b[1;33m,\u001b[0m \u001b[0mstrategy\u001b[0m\u001b[1;33m)\u001b[0m\u001b[1;33m\u001b[0m\u001b[1;33m\u001b[0m\u001b[0m\n\u001b[0;32m     84\u001b[0m     outputs = strategy.experimental_run_v2(\n\u001b[1;32m---> 85\u001b[1;33m         per_replica_function, args=args)\n\u001b[0m\u001b[0;32m     86\u001b[0m     \u001b[1;31m# Out of PerReplica outputs reduce or pick values to return.\u001b[0m\u001b[1;33m\u001b[0m\u001b[1;33m\u001b[0m\u001b[1;33m\u001b[0m\u001b[0m\n\u001b[0;32m     87\u001b[0m     all_outputs = dist_utils.unwrap_output_dict(\n",
      "\u001b[1;32mC:\\ProgramData\\Anaconda3\\envs\\tensor-gpu\\lib\\site-packages\\tensorflow_core\\python\\distribute\\distribute_lib.py\u001b[0m in \u001b[0;36mexperimental_run_v2\u001b[1;34m(self, fn, args, kwargs)\u001b[0m\n\u001b[0;32m    761\u001b[0m       fn = autograph.tf_convert(fn, ag_ctx.control_status_ctx(),\n\u001b[0;32m    762\u001b[0m                                 convert_by_default=False)\n\u001b[1;32m--> 763\u001b[1;33m       \u001b[1;32mreturn\u001b[0m \u001b[0mself\u001b[0m\u001b[1;33m.\u001b[0m\u001b[0m_extended\u001b[0m\u001b[1;33m.\u001b[0m\u001b[0mcall_for_each_replica\u001b[0m\u001b[1;33m(\u001b[0m\u001b[0mfn\u001b[0m\u001b[1;33m,\u001b[0m \u001b[0margs\u001b[0m\u001b[1;33m=\u001b[0m\u001b[0margs\u001b[0m\u001b[1;33m,\u001b[0m \u001b[0mkwargs\u001b[0m\u001b[1;33m=\u001b[0m\u001b[0mkwargs\u001b[0m\u001b[1;33m)\u001b[0m\u001b[1;33m\u001b[0m\u001b[1;33m\u001b[0m\u001b[0m\n\u001b[0m\u001b[0;32m    764\u001b[0m \u001b[1;33m\u001b[0m\u001b[0m\n\u001b[0;32m    765\u001b[0m   \u001b[1;32mdef\u001b[0m \u001b[0mreduce\u001b[0m\u001b[1;33m(\u001b[0m\u001b[0mself\u001b[0m\u001b[1;33m,\u001b[0m \u001b[0mreduce_op\u001b[0m\u001b[1;33m,\u001b[0m \u001b[0mvalue\u001b[0m\u001b[1;33m,\u001b[0m \u001b[0maxis\u001b[0m\u001b[1;33m)\u001b[0m\u001b[1;33m:\u001b[0m\u001b[1;33m\u001b[0m\u001b[1;33m\u001b[0m\u001b[0m\n",
      "\u001b[1;32mC:\\ProgramData\\Anaconda3\\envs\\tensor-gpu\\lib\\site-packages\\tensorflow_core\\python\\distribute\\distribute_lib.py\u001b[0m in \u001b[0;36mcall_for_each_replica\u001b[1;34m(self, fn, args, kwargs)\u001b[0m\n\u001b[0;32m   1817\u001b[0m       \u001b[0mkwargs\u001b[0m \u001b[1;33m=\u001b[0m \u001b[1;33m{\u001b[0m\u001b[1;33m}\u001b[0m\u001b[1;33m\u001b[0m\u001b[1;33m\u001b[0m\u001b[0m\n\u001b[0;32m   1818\u001b[0m     \u001b[1;32mwith\u001b[0m \u001b[0mself\u001b[0m\u001b[1;33m.\u001b[0m\u001b[0m_container_strategy\u001b[0m\u001b[1;33m(\u001b[0m\u001b[1;33m)\u001b[0m\u001b[1;33m.\u001b[0m\u001b[0mscope\u001b[0m\u001b[1;33m(\u001b[0m\u001b[1;33m)\u001b[0m\u001b[1;33m:\u001b[0m\u001b[1;33m\u001b[0m\u001b[1;33m\u001b[0m\u001b[0m\n\u001b[1;32m-> 1819\u001b[1;33m       \u001b[1;32mreturn\u001b[0m \u001b[0mself\u001b[0m\u001b[1;33m.\u001b[0m\u001b[0m_call_for_each_replica\u001b[0m\u001b[1;33m(\u001b[0m\u001b[0mfn\u001b[0m\u001b[1;33m,\u001b[0m \u001b[0margs\u001b[0m\u001b[1;33m,\u001b[0m \u001b[0mkwargs\u001b[0m\u001b[1;33m)\u001b[0m\u001b[1;33m\u001b[0m\u001b[1;33m\u001b[0m\u001b[0m\n\u001b[0m\u001b[0;32m   1820\u001b[0m \u001b[1;33m\u001b[0m\u001b[0m\n\u001b[0;32m   1821\u001b[0m   \u001b[1;32mdef\u001b[0m \u001b[0m_call_for_each_replica\u001b[0m\u001b[1;33m(\u001b[0m\u001b[0mself\u001b[0m\u001b[1;33m,\u001b[0m \u001b[0mfn\u001b[0m\u001b[1;33m,\u001b[0m \u001b[0margs\u001b[0m\u001b[1;33m,\u001b[0m \u001b[0mkwargs\u001b[0m\u001b[1;33m)\u001b[0m\u001b[1;33m:\u001b[0m\u001b[1;33m\u001b[0m\u001b[1;33m\u001b[0m\u001b[0m\n",
      "\u001b[1;32mC:\\ProgramData\\Anaconda3\\envs\\tensor-gpu\\lib\\site-packages\\tensorflow_core\\python\\distribute\\distribute_lib.py\u001b[0m in \u001b[0;36m_call_for_each_replica\u001b[1;34m(self, fn, args, kwargs)\u001b[0m\n\u001b[0;32m   2162\u001b[0m         \u001b[0mself\u001b[0m\u001b[1;33m.\u001b[0m\u001b[0m_container_strategy\u001b[0m\u001b[1;33m(\u001b[0m\u001b[1;33m)\u001b[0m\u001b[1;33m,\u001b[0m\u001b[1;33m\u001b[0m\u001b[1;33m\u001b[0m\u001b[0m\n\u001b[0;32m   2163\u001b[0m         replica_id_in_sync_group=constant_op.constant(0, dtypes.int32)):\n\u001b[1;32m-> 2164\u001b[1;33m       \u001b[1;32mreturn\u001b[0m \u001b[0mfn\u001b[0m\u001b[1;33m(\u001b[0m\u001b[1;33m*\u001b[0m\u001b[0margs\u001b[0m\u001b[1;33m,\u001b[0m \u001b[1;33m**\u001b[0m\u001b[0mkwargs\u001b[0m\u001b[1;33m)\u001b[0m\u001b[1;33m\u001b[0m\u001b[1;33m\u001b[0m\u001b[0m\n\u001b[0m\u001b[0;32m   2165\u001b[0m \u001b[1;33m\u001b[0m\u001b[0m\n\u001b[0;32m   2166\u001b[0m   \u001b[1;32mdef\u001b[0m \u001b[0m_reduce_to\u001b[0m\u001b[1;33m(\u001b[0m\u001b[0mself\u001b[0m\u001b[1;33m,\u001b[0m \u001b[0mreduce_op\u001b[0m\u001b[1;33m,\u001b[0m \u001b[0mvalue\u001b[0m\u001b[1;33m,\u001b[0m \u001b[0mdestinations\u001b[0m\u001b[1;33m)\u001b[0m\u001b[1;33m:\u001b[0m\u001b[1;33m\u001b[0m\u001b[1;33m\u001b[0m\u001b[0m\n",
      "\u001b[1;32mC:\\ProgramData\\Anaconda3\\envs\\tensor-gpu\\lib\\site-packages\\tensorflow_core\\python\\autograph\\impl\\api.py\u001b[0m in \u001b[0;36mwrapper\u001b[1;34m(*args, **kwargs)\u001b[0m\n\u001b[0;32m    290\u001b[0m   \u001b[1;32mdef\u001b[0m \u001b[0mwrapper\u001b[0m\u001b[1;33m(\u001b[0m\u001b[1;33m*\u001b[0m\u001b[0margs\u001b[0m\u001b[1;33m,\u001b[0m \u001b[1;33m**\u001b[0m\u001b[0mkwargs\u001b[0m\u001b[1;33m)\u001b[0m\u001b[1;33m:\u001b[0m\u001b[1;33m\u001b[0m\u001b[1;33m\u001b[0m\u001b[0m\n\u001b[0;32m    291\u001b[0m     \u001b[1;32mwith\u001b[0m \u001b[0mag_ctx\u001b[0m\u001b[1;33m.\u001b[0m\u001b[0mControlStatusCtx\u001b[0m\u001b[1;33m(\u001b[0m\u001b[0mstatus\u001b[0m\u001b[1;33m=\u001b[0m\u001b[0mag_ctx\u001b[0m\u001b[1;33m.\u001b[0m\u001b[0mStatus\u001b[0m\u001b[1;33m.\u001b[0m\u001b[0mDISABLED\u001b[0m\u001b[1;33m)\u001b[0m\u001b[1;33m:\u001b[0m\u001b[1;33m\u001b[0m\u001b[1;33m\u001b[0m\u001b[0m\n\u001b[1;32m--> 292\u001b[1;33m       \u001b[1;32mreturn\u001b[0m \u001b[0mfunc\u001b[0m\u001b[1;33m(\u001b[0m\u001b[1;33m*\u001b[0m\u001b[0margs\u001b[0m\u001b[1;33m,\u001b[0m \u001b[1;33m**\u001b[0m\u001b[0mkwargs\u001b[0m\u001b[1;33m)\u001b[0m\u001b[1;33m\u001b[0m\u001b[1;33m\u001b[0m\u001b[0m\n\u001b[0m\u001b[0;32m    293\u001b[0m \u001b[1;33m\u001b[0m\u001b[0m\n\u001b[0;32m    294\u001b[0m   \u001b[1;32mif\u001b[0m \u001b[0minspect\u001b[0m\u001b[1;33m.\u001b[0m\u001b[0misfunction\u001b[0m\u001b[1;33m(\u001b[0m\u001b[0mfunc\u001b[0m\u001b[1;33m)\u001b[0m \u001b[1;32mor\u001b[0m \u001b[0minspect\u001b[0m\u001b[1;33m.\u001b[0m\u001b[0mismethod\u001b[0m\u001b[1;33m(\u001b[0m\u001b[0mfunc\u001b[0m\u001b[1;33m)\u001b[0m\u001b[1;33m:\u001b[0m\u001b[1;33m\u001b[0m\u001b[1;33m\u001b[0m\u001b[0m\n",
      "\u001b[1;32mC:\\ProgramData\\Anaconda3\\envs\\tensor-gpu\\lib\\site-packages\\tensorflow_core\\python\\keras\\engine\\training_v2_utils.py\u001b[0m in \u001b[0;36mtest_on_batch\u001b[1;34m(model, x, y, sample_weight, reset_metrics, standalone)\u001b[0m\n\u001b[0;32m    503\u001b[0m       \u001b[0my\u001b[0m\u001b[1;33m,\u001b[0m\u001b[1;33m\u001b[0m\u001b[1;33m\u001b[0m\u001b[0m\n\u001b[0;32m    504\u001b[0m       \u001b[0msample_weights\u001b[0m\u001b[1;33m=\u001b[0m\u001b[0msample_weights\u001b[0m\u001b[1;33m,\u001b[0m\u001b[1;33m\u001b[0m\u001b[1;33m\u001b[0m\u001b[0m\n\u001b[1;32m--> 505\u001b[1;33m       output_loss_metrics=model._output_loss_metrics)\n\u001b[0m\u001b[0;32m    506\u001b[0m \u001b[1;33m\u001b[0m\u001b[0m\n\u001b[0;32m    507\u001b[0m   \u001b[1;32mif\u001b[0m \u001b[0mreset_metrics\u001b[0m\u001b[1;33m:\u001b[0m\u001b[1;33m\u001b[0m\u001b[1;33m\u001b[0m\u001b[0m\n",
      "\u001b[1;32mC:\\ProgramData\\Anaconda3\\envs\\tensor-gpu\\lib\\site-packages\\tensorflow_core\\python\\keras\\engine\\training_eager.py\u001b[0m in \u001b[0;36mtest_on_batch\u001b[1;34m(model, inputs, targets, sample_weights, output_loss_metrics)\u001b[0m\n\u001b[0;32m    353\u001b[0m             \u001b[0msample_weights\u001b[0m\u001b[1;33m=\u001b[0m\u001b[0msample_weights\u001b[0m\u001b[1;33m,\u001b[0m\u001b[1;33m\u001b[0m\u001b[1;33m\u001b[0m\u001b[0m\n\u001b[0;32m    354\u001b[0m             \u001b[0mtraining\u001b[0m\u001b[1;33m=\u001b[0m\u001b[1;32mFalse\u001b[0m\u001b[1;33m,\u001b[0m\u001b[1;33m\u001b[0m\u001b[1;33m\u001b[0m\u001b[0m\n\u001b[1;32m--> 355\u001b[1;33m             output_loss_metrics=output_loss_metrics))\n\u001b[0m\u001b[0;32m    356\u001b[0m   \u001b[1;32mif\u001b[0m \u001b[1;32mnot\u001b[0m \u001b[0misinstance\u001b[0m\u001b[1;33m(\u001b[0m\u001b[0mouts\u001b[0m\u001b[1;33m,\u001b[0m \u001b[0mlist\u001b[0m\u001b[1;33m)\u001b[0m\u001b[1;33m:\u001b[0m\u001b[1;33m\u001b[0m\u001b[1;33m\u001b[0m\u001b[0m\n\u001b[0;32m    357\u001b[0m     \u001b[0mouts\u001b[0m \u001b[1;33m=\u001b[0m \u001b[1;33m[\u001b[0m\u001b[0mouts\u001b[0m\u001b[1;33m]\u001b[0m\u001b[1;33m\u001b[0m\u001b[1;33m\u001b[0m\u001b[0m\n",
      "\u001b[1;32mC:\\ProgramData\\Anaconda3\\envs\\tensor-gpu\\lib\\site-packages\\tensorflow_core\\python\\keras\\engine\\training_eager.py\u001b[0m in \u001b[0;36m_model_loss\u001b[1;34m(model, inputs, targets, output_loss_metrics, sample_weights, training)\u001b[0m\n\u001b[0;32m    125\u001b[0m     \u001b[0minputs\u001b[0m \u001b[1;33m=\u001b[0m \u001b[0mnest\u001b[0m\u001b[1;33m.\u001b[0m\u001b[0mmap_structure\u001b[0m\u001b[1;33m(\u001b[0m\u001b[0mops\u001b[0m\u001b[1;33m.\u001b[0m\u001b[0mconvert_to_tensor\u001b[0m\u001b[1;33m,\u001b[0m \u001b[0minputs\u001b[0m\u001b[1;33m)\u001b[0m\u001b[1;33m\u001b[0m\u001b[1;33m\u001b[0m\u001b[0m\n\u001b[0;32m    126\u001b[0m \u001b[1;33m\u001b[0m\u001b[0m\n\u001b[1;32m--> 127\u001b[1;33m   \u001b[0mouts\u001b[0m \u001b[1;33m=\u001b[0m \u001b[0mmodel\u001b[0m\u001b[1;33m(\u001b[0m\u001b[0minputs\u001b[0m\u001b[1;33m,\u001b[0m \u001b[1;33m**\u001b[0m\u001b[0mkwargs\u001b[0m\u001b[1;33m)\u001b[0m\u001b[1;33m\u001b[0m\u001b[1;33m\u001b[0m\u001b[0m\n\u001b[0m\u001b[0;32m    128\u001b[0m   \u001b[0mouts\u001b[0m \u001b[1;33m=\u001b[0m \u001b[0mnest\u001b[0m\u001b[1;33m.\u001b[0m\u001b[0mflatten\u001b[0m\u001b[1;33m(\u001b[0m\u001b[0mouts\u001b[0m\u001b[1;33m)\u001b[0m\u001b[1;33m\u001b[0m\u001b[1;33m\u001b[0m\u001b[0m\n\u001b[0;32m    129\u001b[0m \u001b[1;33m\u001b[0m\u001b[0m\n",
      "\u001b[1;32mC:\\ProgramData\\Anaconda3\\envs\\tensor-gpu\\lib\\site-packages\\tensorflow_core\\python\\keras\\engine\\base_layer.py\u001b[0m in \u001b[0;36m__call__\u001b[1;34m(self, inputs, *args, **kwargs)\u001b[0m\n\u001b[0;32m    776\u001b[0m                     \u001b[0moutputs\u001b[0m \u001b[1;33m=\u001b[0m \u001b[0mbase_layer_utils\u001b[0m\u001b[1;33m.\u001b[0m\u001b[0mmark_as_return\u001b[0m\u001b[1;33m(\u001b[0m\u001b[0moutputs\u001b[0m\u001b[1;33m,\u001b[0m \u001b[0macd\u001b[0m\u001b[1;33m)\u001b[0m\u001b[1;33m\u001b[0m\u001b[1;33m\u001b[0m\u001b[0m\n\u001b[0;32m    777\u001b[0m                 \u001b[1;32melse\u001b[0m\u001b[1;33m:\u001b[0m\u001b[1;33m\u001b[0m\u001b[1;33m\u001b[0m\u001b[0m\n\u001b[1;32m--> 778\u001b[1;33m                   \u001b[0moutputs\u001b[0m \u001b[1;33m=\u001b[0m \u001b[0mcall_fn\u001b[0m\u001b[1;33m(\u001b[0m\u001b[0mcast_inputs\u001b[0m\u001b[1;33m,\u001b[0m \u001b[1;33m*\u001b[0m\u001b[0margs\u001b[0m\u001b[1;33m,\u001b[0m \u001b[1;33m**\u001b[0m\u001b[0mkwargs\u001b[0m\u001b[1;33m)\u001b[0m\u001b[1;33m\u001b[0m\u001b[1;33m\u001b[0m\u001b[0m\n\u001b[0m\u001b[0;32m    779\u001b[0m \u001b[1;33m\u001b[0m\u001b[0m\n\u001b[0;32m    780\u001b[0m             \u001b[1;32mexcept\u001b[0m \u001b[0merrors\u001b[0m\u001b[1;33m.\u001b[0m\u001b[0mOperatorNotAllowedInGraphError\u001b[0m \u001b[1;32mas\u001b[0m \u001b[0me\u001b[0m\u001b[1;33m:\u001b[0m\u001b[1;33m\u001b[0m\u001b[1;33m\u001b[0m\u001b[0m\n",
      "\u001b[1;32mC:\\ProgramData\\Anaconda3\\envs\\tensor-gpu\\lib\\site-packages\\tensorflow_core\\python\\keras\\engine\\sequential.py\u001b[0m in \u001b[0;36mcall\u001b[1;34m(self, inputs, training, mask)\u001b[0m\n\u001b[0;32m    265\u001b[0m       \u001b[1;32mif\u001b[0m \u001b[1;32mnot\u001b[0m \u001b[0mself\u001b[0m\u001b[1;33m.\u001b[0m\u001b[0mbuilt\u001b[0m\u001b[1;33m:\u001b[0m\u001b[1;33m\u001b[0m\u001b[1;33m\u001b[0m\u001b[0m\n\u001b[0;32m    266\u001b[0m         \u001b[0mself\u001b[0m\u001b[1;33m.\u001b[0m\u001b[0m_init_graph_network\u001b[0m\u001b[1;33m(\u001b[0m\u001b[0mself\u001b[0m\u001b[1;33m.\u001b[0m\u001b[0minputs\u001b[0m\u001b[1;33m,\u001b[0m \u001b[0mself\u001b[0m\u001b[1;33m.\u001b[0m\u001b[0moutputs\u001b[0m\u001b[1;33m,\u001b[0m \u001b[0mname\u001b[0m\u001b[1;33m=\u001b[0m\u001b[0mself\u001b[0m\u001b[1;33m.\u001b[0m\u001b[0mname\u001b[0m\u001b[1;33m)\u001b[0m\u001b[1;33m\u001b[0m\u001b[1;33m\u001b[0m\u001b[0m\n\u001b[1;32m--> 267\u001b[1;33m       \u001b[1;32mreturn\u001b[0m \u001b[0msuper\u001b[0m\u001b[1;33m(\u001b[0m\u001b[0mSequential\u001b[0m\u001b[1;33m,\u001b[0m \u001b[0mself\u001b[0m\u001b[1;33m)\u001b[0m\u001b[1;33m.\u001b[0m\u001b[0mcall\u001b[0m\u001b[1;33m(\u001b[0m\u001b[0minputs\u001b[0m\u001b[1;33m,\u001b[0m \u001b[0mtraining\u001b[0m\u001b[1;33m=\u001b[0m\u001b[0mtraining\u001b[0m\u001b[1;33m,\u001b[0m \u001b[0mmask\u001b[0m\u001b[1;33m=\u001b[0m\u001b[0mmask\u001b[0m\u001b[1;33m)\u001b[0m\u001b[1;33m\u001b[0m\u001b[1;33m\u001b[0m\u001b[0m\n\u001b[0m\u001b[0;32m    268\u001b[0m \u001b[1;33m\u001b[0m\u001b[0m\n\u001b[0;32m    269\u001b[0m     \u001b[0moutputs\u001b[0m \u001b[1;33m=\u001b[0m \u001b[0minputs\u001b[0m  \u001b[1;31m# handle the corner case where self.layers is empty\u001b[0m\u001b[1;33m\u001b[0m\u001b[1;33m\u001b[0m\u001b[0m\n",
      "\u001b[1;32mC:\\ProgramData\\Anaconda3\\envs\\tensor-gpu\\lib\\site-packages\\tensorflow_core\\python\\keras\\engine\\network.py\u001b[0m in \u001b[0;36mcall\u001b[1;34m(self, inputs, training, mask)\u001b[0m\n\u001b[0;32m    715\u001b[0m     return self._run_internal_graph(\n\u001b[0;32m    716\u001b[0m         \u001b[0minputs\u001b[0m\u001b[1;33m,\u001b[0m \u001b[0mtraining\u001b[0m\u001b[1;33m=\u001b[0m\u001b[0mtraining\u001b[0m\u001b[1;33m,\u001b[0m \u001b[0mmask\u001b[0m\u001b[1;33m=\u001b[0m\u001b[0mmask\u001b[0m\u001b[1;33m,\u001b[0m\u001b[1;33m\u001b[0m\u001b[1;33m\u001b[0m\u001b[0m\n\u001b[1;32m--> 717\u001b[1;33m         convert_kwargs_to_constants=base_layer_utils.call_context().saving)\n\u001b[0m\u001b[0;32m    718\u001b[0m \u001b[1;33m\u001b[0m\u001b[0m\n\u001b[0;32m    719\u001b[0m   \u001b[1;32mdef\u001b[0m \u001b[0mcompute_output_shape\u001b[0m\u001b[1;33m(\u001b[0m\u001b[0mself\u001b[0m\u001b[1;33m,\u001b[0m \u001b[0minput_shape\u001b[0m\u001b[1;33m)\u001b[0m\u001b[1;33m:\u001b[0m\u001b[1;33m\u001b[0m\u001b[1;33m\u001b[0m\u001b[0m\n",
      "\u001b[1;32mC:\\ProgramData\\Anaconda3\\envs\\tensor-gpu\\lib\\site-packages\\tensorflow_core\\python\\keras\\engine\\network.py\u001b[0m in \u001b[0;36m_run_internal_graph\u001b[1;34m(self, inputs, training, mask, convert_kwargs_to_constants)\u001b[0m\n\u001b[0;32m    889\u001b[0m \u001b[1;33m\u001b[0m\u001b[0m\n\u001b[0;32m    890\u001b[0m           \u001b[1;31m# Compute outputs.\u001b[0m\u001b[1;33m\u001b[0m\u001b[1;33m\u001b[0m\u001b[1;33m\u001b[0m\u001b[0m\n\u001b[1;32m--> 891\u001b[1;33m           \u001b[0moutput_tensors\u001b[0m \u001b[1;33m=\u001b[0m \u001b[0mlayer\u001b[0m\u001b[1;33m(\u001b[0m\u001b[0mcomputed_tensors\u001b[0m\u001b[1;33m,\u001b[0m \u001b[1;33m**\u001b[0m\u001b[0mkwargs\u001b[0m\u001b[1;33m)\u001b[0m\u001b[1;33m\u001b[0m\u001b[1;33m\u001b[0m\u001b[0m\n\u001b[0m\u001b[0;32m    892\u001b[0m \u001b[1;33m\u001b[0m\u001b[0m\n\u001b[0;32m    893\u001b[0m           \u001b[1;31m# Update tensor_dict.\u001b[0m\u001b[1;33m\u001b[0m\u001b[1;33m\u001b[0m\u001b[1;33m\u001b[0m\u001b[0m\n",
      "\u001b[1;32mC:\\ProgramData\\Anaconda3\\envs\\tensor-gpu\\lib\\site-packages\\tensorflow_core\\python\\keras\\layers\\recurrent.py\u001b[0m in \u001b[0;36m__call__\u001b[1;34m(self, inputs, initial_state, constants, **kwargs)\u001b[0m\n\u001b[0;32m    642\u001b[0m \u001b[1;33m\u001b[0m\u001b[0m\n\u001b[0;32m    643\u001b[0m     \u001b[1;32mif\u001b[0m \u001b[0minitial_state\u001b[0m \u001b[1;32mis\u001b[0m \u001b[1;32mNone\u001b[0m \u001b[1;32mand\u001b[0m \u001b[0mconstants\u001b[0m \u001b[1;32mis\u001b[0m \u001b[1;32mNone\u001b[0m\u001b[1;33m:\u001b[0m\u001b[1;33m\u001b[0m\u001b[1;33m\u001b[0m\u001b[0m\n\u001b[1;32m--> 644\u001b[1;33m       \u001b[1;32mreturn\u001b[0m \u001b[0msuper\u001b[0m\u001b[1;33m(\u001b[0m\u001b[0mRNN\u001b[0m\u001b[1;33m,\u001b[0m \u001b[0mself\u001b[0m\u001b[1;33m)\u001b[0m\u001b[1;33m.\u001b[0m\u001b[0m__call__\u001b[0m\u001b[1;33m(\u001b[0m\u001b[0minputs\u001b[0m\u001b[1;33m,\u001b[0m \u001b[1;33m**\u001b[0m\u001b[0mkwargs\u001b[0m\u001b[1;33m)\u001b[0m\u001b[1;33m\u001b[0m\u001b[1;33m\u001b[0m\u001b[0m\n\u001b[0m\u001b[0;32m    645\u001b[0m \u001b[1;33m\u001b[0m\u001b[0m\n\u001b[0;32m    646\u001b[0m     \u001b[1;31m# If any of `initial_state` or `constants` are specified and are Keras\u001b[0m\u001b[1;33m\u001b[0m\u001b[1;33m\u001b[0m\u001b[1;33m\u001b[0m\u001b[0m\n",
      "\u001b[1;32mC:\\ProgramData\\Anaconda3\\envs\\tensor-gpu\\lib\\site-packages\\tensorflow_core\\python\\keras\\engine\\base_layer.py\u001b[0m in \u001b[0;36m__call__\u001b[1;34m(self, inputs, *args, **kwargs)\u001b[0m\n\u001b[0;32m    776\u001b[0m                     \u001b[0moutputs\u001b[0m \u001b[1;33m=\u001b[0m \u001b[0mbase_layer_utils\u001b[0m\u001b[1;33m.\u001b[0m\u001b[0mmark_as_return\u001b[0m\u001b[1;33m(\u001b[0m\u001b[0moutputs\u001b[0m\u001b[1;33m,\u001b[0m \u001b[0macd\u001b[0m\u001b[1;33m)\u001b[0m\u001b[1;33m\u001b[0m\u001b[1;33m\u001b[0m\u001b[0m\n\u001b[0;32m    777\u001b[0m                 \u001b[1;32melse\u001b[0m\u001b[1;33m:\u001b[0m\u001b[1;33m\u001b[0m\u001b[1;33m\u001b[0m\u001b[0m\n\u001b[1;32m--> 778\u001b[1;33m                   \u001b[0moutputs\u001b[0m \u001b[1;33m=\u001b[0m \u001b[0mcall_fn\u001b[0m\u001b[1;33m(\u001b[0m\u001b[0mcast_inputs\u001b[0m\u001b[1;33m,\u001b[0m \u001b[1;33m*\u001b[0m\u001b[0margs\u001b[0m\u001b[1;33m,\u001b[0m \u001b[1;33m**\u001b[0m\u001b[0mkwargs\u001b[0m\u001b[1;33m)\u001b[0m\u001b[1;33m\u001b[0m\u001b[1;33m\u001b[0m\u001b[0m\n\u001b[0m\u001b[0;32m    779\u001b[0m \u001b[1;33m\u001b[0m\u001b[0m\n\u001b[0;32m    780\u001b[0m             \u001b[1;32mexcept\u001b[0m \u001b[0merrors\u001b[0m\u001b[1;33m.\u001b[0m\u001b[0mOperatorNotAllowedInGraphError\u001b[0m \u001b[1;32mas\u001b[0m \u001b[0me\u001b[0m\u001b[1;33m:\u001b[0m\u001b[1;33m\u001b[0m\u001b[1;33m\u001b[0m\u001b[0m\n",
      "\u001b[1;32mC:\\ProgramData\\Anaconda3\\envs\\tensor-gpu\\lib\\site-packages\\tensorflow_core\\python\\keras\\layers\\recurrent_v2.py\u001b[0m in \u001b[0;36mcall\u001b[1;34m(self, inputs, mask, training, initial_state)\u001b[0m\n\u001b[0;32m   1148\u001b[0m       \u001b[1;32melse\u001b[0m\u001b[1;33m:\u001b[0m\u001b[1;33m\u001b[0m\u001b[1;33m\u001b[0m\u001b[0m\n\u001b[0;32m   1149\u001b[0m         (last_output, outputs, new_h, new_c,\n\u001b[1;32m-> 1150\u001b[1;33m          runtime) = lstm_with_backend_selection(**normal_lstm_kwargs)\n\u001b[0m\u001b[0;32m   1151\u001b[0m \u001b[1;33m\u001b[0m\u001b[0m\n\u001b[0;32m   1152\u001b[0m       \u001b[0mstates\u001b[0m \u001b[1;33m=\u001b[0m \u001b[1;33m[\u001b[0m\u001b[0mnew_h\u001b[0m\u001b[1;33m,\u001b[0m \u001b[0mnew_c\u001b[0m\u001b[1;33m]\u001b[0m\u001b[1;33m\u001b[0m\u001b[1;33m\u001b[0m\u001b[0m\n",
      "\u001b[1;32mC:\\ProgramData\\Anaconda3\\envs\\tensor-gpu\\lib\\site-packages\\tensorflow_core\\python\\keras\\layers\\recurrent_v2.py\u001b[0m in \u001b[0;36mlstm_with_backend_selection\u001b[1;34m(inputs, init_h, init_c, kernel, recurrent_kernel, bias, mask, time_major, go_backwards, activation, recurrent_activation, sequence_lengths)\u001b[0m\n\u001b[0;32m   1508\u001b[0m   \u001b[1;31m# grappler will kick in during session execution to optimize the graph.\u001b[0m\u001b[1;33m\u001b[0m\u001b[1;33m\u001b[0m\u001b[1;33m\u001b[0m\u001b[0m\n\u001b[0;32m   1509\u001b[0m   last_output, outputs, new_h, new_c, runtime = defun_standard_lstm(\n\u001b[1;32m-> 1510\u001b[1;33m       **params)\n\u001b[0m\u001b[0;32m   1511\u001b[0m   \u001b[0mfunction\u001b[0m\u001b[1;33m.\u001b[0m\u001b[0mregister\u001b[0m\u001b[1;33m(\u001b[0m\u001b[0mdefun_cudnn_lstm\u001b[0m\u001b[1;33m,\u001b[0m \u001b[1;33m**\u001b[0m\u001b[0mparams\u001b[0m\u001b[1;33m)\u001b[0m\u001b[1;33m\u001b[0m\u001b[1;33m\u001b[0m\u001b[0m\n\u001b[0;32m   1512\u001b[0m \u001b[1;33m\u001b[0m\u001b[0m\n",
      "\u001b[1;32mC:\\ProgramData\\Anaconda3\\envs\\tensor-gpu\\lib\\site-packages\\tensorflow_core\\python\\eager\\function.py\u001b[0m in \u001b[0;36m__call__\u001b[1;34m(self, *args, **kwargs)\u001b[0m\n\u001b[0;32m   2360\u001b[0m     \u001b[1;34m\"\"\"Calls a graph function specialized to the inputs.\"\"\"\u001b[0m\u001b[1;33m\u001b[0m\u001b[1;33m\u001b[0m\u001b[0m\n\u001b[0;32m   2361\u001b[0m     \u001b[1;32mwith\u001b[0m \u001b[0mself\u001b[0m\u001b[1;33m.\u001b[0m\u001b[0m_lock\u001b[0m\u001b[1;33m:\u001b[0m\u001b[1;33m\u001b[0m\u001b[1;33m\u001b[0m\u001b[0m\n\u001b[1;32m-> 2362\u001b[1;33m       \u001b[0mgraph_function\u001b[0m\u001b[1;33m,\u001b[0m \u001b[0margs\u001b[0m\u001b[1;33m,\u001b[0m \u001b[0mkwargs\u001b[0m \u001b[1;33m=\u001b[0m \u001b[0mself\u001b[0m\u001b[1;33m.\u001b[0m\u001b[0m_maybe_define_function\u001b[0m\u001b[1;33m(\u001b[0m\u001b[0margs\u001b[0m\u001b[1;33m,\u001b[0m \u001b[0mkwargs\u001b[0m\u001b[1;33m)\u001b[0m\u001b[1;33m\u001b[0m\u001b[1;33m\u001b[0m\u001b[0m\n\u001b[0m\u001b[0;32m   2363\u001b[0m     \u001b[1;32mreturn\u001b[0m \u001b[0mgraph_function\u001b[0m\u001b[1;33m.\u001b[0m\u001b[0m_filtered_call\u001b[0m\u001b[1;33m(\u001b[0m\u001b[0margs\u001b[0m\u001b[1;33m,\u001b[0m \u001b[0mkwargs\u001b[0m\u001b[1;33m)\u001b[0m  \u001b[1;31m# pylint: disable=protected-access\u001b[0m\u001b[1;33m\u001b[0m\u001b[1;33m\u001b[0m\u001b[0m\n\u001b[0;32m   2364\u001b[0m \u001b[1;33m\u001b[0m\u001b[0m\n",
      "\u001b[1;32mC:\\ProgramData\\Anaconda3\\envs\\tensor-gpu\\lib\\site-packages\\tensorflow_core\\python\\eager\\function.py\u001b[0m in \u001b[0;36m_maybe_define_function\u001b[1;34m(self, args, kwargs)\u001b[0m\n\u001b[0;32m   2701\u001b[0m \u001b[1;33m\u001b[0m\u001b[0m\n\u001b[0;32m   2702\u001b[0m       \u001b[0mself\u001b[0m\u001b[1;33m.\u001b[0m\u001b[0m_function_cache\u001b[0m\u001b[1;33m.\u001b[0m\u001b[0mmissed\u001b[0m\u001b[1;33m.\u001b[0m\u001b[0madd\u001b[0m\u001b[1;33m(\u001b[0m\u001b[0mcall_context_key\u001b[0m\u001b[1;33m)\u001b[0m\u001b[1;33m\u001b[0m\u001b[1;33m\u001b[0m\u001b[0m\n\u001b[1;32m-> 2703\u001b[1;33m       \u001b[0mgraph_function\u001b[0m \u001b[1;33m=\u001b[0m \u001b[0mself\u001b[0m\u001b[1;33m.\u001b[0m\u001b[0m_create_graph_function\u001b[0m\u001b[1;33m(\u001b[0m\u001b[0margs\u001b[0m\u001b[1;33m,\u001b[0m \u001b[0mkwargs\u001b[0m\u001b[1;33m)\u001b[0m\u001b[1;33m\u001b[0m\u001b[1;33m\u001b[0m\u001b[0m\n\u001b[0m\u001b[0;32m   2704\u001b[0m       \u001b[0mself\u001b[0m\u001b[1;33m.\u001b[0m\u001b[0m_function_cache\u001b[0m\u001b[1;33m.\u001b[0m\u001b[0mprimary\u001b[0m\u001b[1;33m[\u001b[0m\u001b[0mcache_key\u001b[0m\u001b[1;33m]\u001b[0m \u001b[1;33m=\u001b[0m \u001b[0mgraph_function\u001b[0m\u001b[1;33m\u001b[0m\u001b[1;33m\u001b[0m\u001b[0m\n\u001b[0;32m   2705\u001b[0m       \u001b[1;32mreturn\u001b[0m \u001b[0mgraph_function\u001b[0m\u001b[1;33m,\u001b[0m \u001b[0margs\u001b[0m\u001b[1;33m,\u001b[0m \u001b[0mkwargs\u001b[0m\u001b[1;33m\u001b[0m\u001b[1;33m\u001b[0m\u001b[0m\n",
      "\u001b[1;32mC:\\ProgramData\\Anaconda3\\envs\\tensor-gpu\\lib\\site-packages\\tensorflow_core\\python\\eager\\function.py\u001b[0m in \u001b[0;36m_create_graph_function\u001b[1;34m(self, args, kwargs, override_flat_arg_shapes)\u001b[0m\n\u001b[0;32m   2591\u001b[0m             \u001b[0marg_names\u001b[0m\u001b[1;33m=\u001b[0m\u001b[0marg_names\u001b[0m\u001b[1;33m,\u001b[0m\u001b[1;33m\u001b[0m\u001b[1;33m\u001b[0m\u001b[0m\n\u001b[0;32m   2592\u001b[0m             \u001b[0moverride_flat_arg_shapes\u001b[0m\u001b[1;33m=\u001b[0m\u001b[0moverride_flat_arg_shapes\u001b[0m\u001b[1;33m,\u001b[0m\u001b[1;33m\u001b[0m\u001b[1;33m\u001b[0m\u001b[0m\n\u001b[1;32m-> 2593\u001b[1;33m             capture_by_value=self._capture_by_value),\n\u001b[0m\u001b[0;32m   2594\u001b[0m         \u001b[0mself\u001b[0m\u001b[1;33m.\u001b[0m\u001b[0m_function_attributes\u001b[0m\u001b[1;33m,\u001b[0m\u001b[1;33m\u001b[0m\u001b[1;33m\u001b[0m\u001b[0m\n\u001b[0;32m   2595\u001b[0m         \u001b[1;31m# Tell the ConcreteFunction to clean up its graph once it goes out of\u001b[0m\u001b[1;33m\u001b[0m\u001b[1;33m\u001b[0m\u001b[1;33m\u001b[0m\u001b[0m\n",
      "\u001b[1;32mC:\\ProgramData\\Anaconda3\\envs\\tensor-gpu\\lib\\site-packages\\tensorflow_core\\python\\framework\\func_graph.py\u001b[0m in \u001b[0;36mfunc_graph_from_py_func\u001b[1;34m(name, python_func, args, kwargs, signature, func_graph, autograph, autograph_options, add_control_dependencies, arg_names, op_return_value, collections, capture_by_value, override_flat_arg_shapes)\u001b[0m\n\u001b[0;32m    976\u001b[0m                                           converted_func)\n\u001b[0;32m    977\u001b[0m \u001b[1;33m\u001b[0m\u001b[0m\n\u001b[1;32m--> 978\u001b[1;33m       \u001b[0mfunc_outputs\u001b[0m \u001b[1;33m=\u001b[0m \u001b[0mpython_func\u001b[0m\u001b[1;33m(\u001b[0m\u001b[1;33m*\u001b[0m\u001b[0mfunc_args\u001b[0m\u001b[1;33m,\u001b[0m \u001b[1;33m**\u001b[0m\u001b[0mfunc_kwargs\u001b[0m\u001b[1;33m)\u001b[0m\u001b[1;33m\u001b[0m\u001b[1;33m\u001b[0m\u001b[0m\n\u001b[0m\u001b[0;32m    979\u001b[0m \u001b[1;33m\u001b[0m\u001b[0m\n\u001b[0;32m    980\u001b[0m       \u001b[1;31m# invariant: `func_outputs` contains only Tensors, CompositeTensors,\u001b[0m\u001b[1;33m\u001b[0m\u001b[1;33m\u001b[0m\u001b[1;33m\u001b[0m\u001b[0m\n",
      "\u001b[1;32mC:\\ProgramData\\Anaconda3\\envs\\tensor-gpu\\lib\\site-packages\\tensorflow_core\\python\\keras\\layers\\recurrent_v2.py\u001b[0m in \u001b[0;36mstandard_lstm\u001b[1;34m(inputs, init_h, init_c, kernel, recurrent_kernel, bias, activation, recurrent_activation, mask, time_major, go_backwards, sequence_lengths)\u001b[0m\n\u001b[0;32m   1279\u001b[0m       \u001b[0mgo_backwards\u001b[0m\u001b[1;33m=\u001b[0m\u001b[0mgo_backwards\u001b[0m\u001b[1;33m,\u001b[0m\u001b[1;33m\u001b[0m\u001b[1;33m\u001b[0m\u001b[0m\n\u001b[0;32m   1280\u001b[0m       \u001b[0minput_length\u001b[0m\u001b[1;33m=\u001b[0m\u001b[0msequence_lengths\u001b[0m\u001b[1;33m\u001b[0m\u001b[1;33m\u001b[0m\u001b[0m\n\u001b[1;32m-> 1281\u001b[1;33m       if sequence_lengths is not None else timesteps)\n\u001b[0m\u001b[0;32m   1282\u001b[0m   return (last_output, outputs, new_states[0], new_states[1],\n\u001b[0;32m   1283\u001b[0m           _runtime(_RUNTIME_CPU))\n",
      "\u001b[1;32mC:\\ProgramData\\Anaconda3\\envs\\tensor-gpu\\lib\\site-packages\\tensorflow_core\\python\\keras\\backend.py\u001b[0m in \u001b[0;36mrnn\u001b[1;34m(step_function, inputs, initial_states, go_backwards, mask, constants, unroll, input_length, time_major, zero_output_for_mask)\u001b[0m\n\u001b[0;32m   4021\u001b[0m     \u001b[1;31m# input_ta due to TensorArray clear_after_read default to True.\u001b[0m\u001b[1;33m\u001b[0m\u001b[1;33m\u001b[0m\u001b[1;33m\u001b[0m\u001b[0m\n\u001b[0;32m   4022\u001b[0m     input_time_zero = nest.pack_sequence_as(inputs,\n\u001b[1;32m-> 4023\u001b[1;33m                                             [inp[0] for inp in flatted_inputs])\n\u001b[0m\u001b[0;32m   4024\u001b[0m     \u001b[1;31m# output_time_zero is used to determine the cell output shape and its dtype.\u001b[0m\u001b[1;33m\u001b[0m\u001b[1;33m\u001b[0m\u001b[1;33m\u001b[0m\u001b[0m\n\u001b[0;32m   4025\u001b[0m     \u001b[1;31m# the value is discarded.\u001b[0m\u001b[1;33m\u001b[0m\u001b[1;33m\u001b[0m\u001b[1;33m\u001b[0m\u001b[0m\n",
      "\u001b[1;32mC:\\ProgramData\\Anaconda3\\envs\\tensor-gpu\\lib\\site-packages\\tensorflow_core\\python\\keras\\backend.py\u001b[0m in \u001b[0;36m<listcomp>\u001b[1;34m(.0)\u001b[0m\n\u001b[0;32m   4021\u001b[0m     \u001b[1;31m# input_ta due to TensorArray clear_after_read default to True.\u001b[0m\u001b[1;33m\u001b[0m\u001b[1;33m\u001b[0m\u001b[1;33m\u001b[0m\u001b[0m\n\u001b[0;32m   4022\u001b[0m     input_time_zero = nest.pack_sequence_as(inputs,\n\u001b[1;32m-> 4023\u001b[1;33m                                             [inp[0] for inp in flatted_inputs])\n\u001b[0m\u001b[0;32m   4024\u001b[0m     \u001b[1;31m# output_time_zero is used to determine the cell output shape and its dtype.\u001b[0m\u001b[1;33m\u001b[0m\u001b[1;33m\u001b[0m\u001b[1;33m\u001b[0m\u001b[0m\n\u001b[0;32m   4025\u001b[0m     \u001b[1;31m# the value is discarded.\u001b[0m\u001b[1;33m\u001b[0m\u001b[1;33m\u001b[0m\u001b[1;33m\u001b[0m\u001b[0m\n",
      "\u001b[1;32mC:\\ProgramData\\Anaconda3\\envs\\tensor-gpu\\lib\\site-packages\\tensorflow_core\\python\\ops\\array_ops.py\u001b[0m in \u001b[0;36m_slice_helper\u001b[1;34m(tensor, slice_spec, var)\u001b[0m\n\u001b[0;32m    871\u001b[0m                       [tensor] + begin + end + strides) as name:\n\u001b[0;32m    872\u001b[0m     \u001b[1;32mif\u001b[0m \u001b[0mbegin\u001b[0m\u001b[1;33m:\u001b[0m\u001b[1;33m\u001b[0m\u001b[1;33m\u001b[0m\u001b[0m\n\u001b[1;32m--> 873\u001b[1;33m       packed_begin, packed_end, packed_strides = (stack(begin), stack(end),\n\u001b[0m\u001b[0;32m    874\u001b[0m                                                   stack(strides))\n\u001b[0;32m    875\u001b[0m       if (packed_begin.dtype == dtypes.int64 or\n",
      "\u001b[1;32mC:\\ProgramData\\Anaconda3\\envs\\tensor-gpu\\lib\\site-packages\\tensorflow_core\\python\\util\\dispatch.py\u001b[0m in \u001b[0;36mwrapper\u001b[1;34m(*args, **kwargs)\u001b[0m\n\u001b[0;32m    178\u001b[0m     \u001b[1;34m\"\"\"Call target, and fall back on dispatchers if there is a TypeError.\"\"\"\u001b[0m\u001b[1;33m\u001b[0m\u001b[1;33m\u001b[0m\u001b[0m\n\u001b[0;32m    179\u001b[0m     \u001b[1;32mtry\u001b[0m\u001b[1;33m:\u001b[0m\u001b[1;33m\u001b[0m\u001b[1;33m\u001b[0m\u001b[0m\n\u001b[1;32m--> 180\u001b[1;33m       \u001b[1;32mreturn\u001b[0m \u001b[0mtarget\u001b[0m\u001b[1;33m(\u001b[0m\u001b[1;33m*\u001b[0m\u001b[0margs\u001b[0m\u001b[1;33m,\u001b[0m \u001b[1;33m**\u001b[0m\u001b[0mkwargs\u001b[0m\u001b[1;33m)\u001b[0m\u001b[1;33m\u001b[0m\u001b[1;33m\u001b[0m\u001b[0m\n\u001b[0m\u001b[0;32m    181\u001b[0m     \u001b[1;32mexcept\u001b[0m \u001b[1;33m(\u001b[0m\u001b[0mTypeError\u001b[0m\u001b[1;33m,\u001b[0m \u001b[0mValueError\u001b[0m\u001b[1;33m)\u001b[0m\u001b[1;33m:\u001b[0m\u001b[1;33m\u001b[0m\u001b[1;33m\u001b[0m\u001b[0m\n\u001b[0;32m    182\u001b[0m       \u001b[1;31m# Note: convert_to_eager_tensor currently raises a ValueError, not a\u001b[0m\u001b[1;33m\u001b[0m\u001b[1;33m\u001b[0m\u001b[1;33m\u001b[0m\u001b[0m\n",
      "\u001b[1;32mC:\\ProgramData\\Anaconda3\\envs\\tensor-gpu\\lib\\site-packages\\tensorflow_core\\python\\ops\\array_ops.py\u001b[0m in \u001b[0;36mstack\u001b[1;34m(values, axis, name)\u001b[0m\n\u001b[0;32m   1242\u001b[0m     \u001b[1;32mtry\u001b[0m\u001b[1;33m:\u001b[0m\u001b[1;33m\u001b[0m\u001b[1;33m\u001b[0m\u001b[0m\n\u001b[0;32m   1243\u001b[0m       \u001b[1;31m# If the input is a constant list, it can be converted to a constant op\u001b[0m\u001b[1;33m\u001b[0m\u001b[1;33m\u001b[0m\u001b[1;33m\u001b[0m\u001b[0m\n\u001b[1;32m-> 1244\u001b[1;33m       \u001b[1;32mreturn\u001b[0m \u001b[0mops\u001b[0m\u001b[1;33m.\u001b[0m\u001b[0mconvert_to_tensor\u001b[0m\u001b[1;33m(\u001b[0m\u001b[0mvalues\u001b[0m\u001b[1;33m,\u001b[0m \u001b[0mname\u001b[0m\u001b[1;33m=\u001b[0m\u001b[0mname\u001b[0m\u001b[1;33m)\u001b[0m\u001b[1;33m\u001b[0m\u001b[1;33m\u001b[0m\u001b[0m\n\u001b[0m\u001b[0;32m   1245\u001b[0m     \u001b[1;32mexcept\u001b[0m \u001b[1;33m(\u001b[0m\u001b[0mTypeError\u001b[0m\u001b[1;33m,\u001b[0m \u001b[0mValueError\u001b[0m\u001b[1;33m)\u001b[0m\u001b[1;33m:\u001b[0m\u001b[1;33m\u001b[0m\u001b[1;33m\u001b[0m\u001b[0m\n\u001b[0;32m   1246\u001b[0m       \u001b[1;32mpass\u001b[0m  \u001b[1;31m# Input list contains non-constant tensors\u001b[0m\u001b[1;33m\u001b[0m\u001b[1;33m\u001b[0m\u001b[0m\n",
      "\u001b[1;32mC:\\ProgramData\\Anaconda3\\envs\\tensor-gpu\\lib\\site-packages\\tensorflow_core\\python\\framework\\ops.py\u001b[0m in \u001b[0;36mconvert_to_tensor\u001b[1;34m(value, dtype, name, as_ref, preferred_dtype, dtype_hint, ctx, accepted_result_types)\u001b[0m\n\u001b[0;32m   1312\u001b[0m \u001b[1;33m\u001b[0m\u001b[0m\n\u001b[0;32m   1313\u001b[0m     \u001b[1;32mif\u001b[0m \u001b[0mret\u001b[0m \u001b[1;32mis\u001b[0m \u001b[1;32mNone\u001b[0m\u001b[1;33m:\u001b[0m\u001b[1;33m\u001b[0m\u001b[1;33m\u001b[0m\u001b[0m\n\u001b[1;32m-> 1314\u001b[1;33m       \u001b[0mret\u001b[0m \u001b[1;33m=\u001b[0m \u001b[0mconversion_func\u001b[0m\u001b[1;33m(\u001b[0m\u001b[0mvalue\u001b[0m\u001b[1;33m,\u001b[0m \u001b[0mdtype\u001b[0m\u001b[1;33m=\u001b[0m\u001b[0mdtype\u001b[0m\u001b[1;33m,\u001b[0m \u001b[0mname\u001b[0m\u001b[1;33m=\u001b[0m\u001b[0mname\u001b[0m\u001b[1;33m,\u001b[0m \u001b[0mas_ref\u001b[0m\u001b[1;33m=\u001b[0m\u001b[0mas_ref\u001b[0m\u001b[1;33m)\u001b[0m\u001b[1;33m\u001b[0m\u001b[1;33m\u001b[0m\u001b[0m\n\u001b[0m\u001b[0;32m   1315\u001b[0m \u001b[1;33m\u001b[0m\u001b[0m\n\u001b[0;32m   1316\u001b[0m     \u001b[1;32mif\u001b[0m \u001b[0mret\u001b[0m \u001b[1;32mis\u001b[0m \u001b[0mNotImplemented\u001b[0m\u001b[1;33m:\u001b[0m\u001b[1;33m\u001b[0m\u001b[1;33m\u001b[0m\u001b[0m\n",
      "\u001b[1;32mC:\\ProgramData\\Anaconda3\\envs\\tensor-gpu\\lib\\site-packages\\tensorflow_core\\python\\framework\\constant_op.py\u001b[0m in \u001b[0;36m_constant_tensor_conversion_function\u001b[1;34m(v, dtype, name, as_ref)\u001b[0m\n\u001b[0;32m    315\u001b[0m                                          as_ref=False):\n\u001b[0;32m    316\u001b[0m   \u001b[0m_\u001b[0m \u001b[1;33m=\u001b[0m \u001b[0mas_ref\u001b[0m\u001b[1;33m\u001b[0m\u001b[1;33m\u001b[0m\u001b[0m\n\u001b[1;32m--> 317\u001b[1;33m   \u001b[1;32mreturn\u001b[0m \u001b[0mconstant\u001b[0m\u001b[1;33m(\u001b[0m\u001b[0mv\u001b[0m\u001b[1;33m,\u001b[0m \u001b[0mdtype\u001b[0m\u001b[1;33m=\u001b[0m\u001b[0mdtype\u001b[0m\u001b[1;33m,\u001b[0m \u001b[0mname\u001b[0m\u001b[1;33m=\u001b[0m\u001b[0mname\u001b[0m\u001b[1;33m)\u001b[0m\u001b[1;33m\u001b[0m\u001b[1;33m\u001b[0m\u001b[0m\n\u001b[0m\u001b[0;32m    318\u001b[0m \u001b[1;33m\u001b[0m\u001b[0m\n\u001b[0;32m    319\u001b[0m \u001b[1;33m\u001b[0m\u001b[0m\n",
      "\u001b[1;32mC:\\ProgramData\\Anaconda3\\envs\\tensor-gpu\\lib\\site-packages\\tensorflow_core\\python\\framework\\constant_op.py\u001b[0m in \u001b[0;36mconstant\u001b[1;34m(value, dtype, shape, name)\u001b[0m\n\u001b[0;32m    256\u001b[0m   \"\"\"\n\u001b[0;32m    257\u001b[0m   return _constant_impl(value, dtype, shape, name, verify_shape=False,\n\u001b[1;32m--> 258\u001b[1;33m                         allow_broadcast=True)\n\u001b[0m\u001b[0;32m    259\u001b[0m \u001b[1;33m\u001b[0m\u001b[0m\n\u001b[0;32m    260\u001b[0m \u001b[1;33m\u001b[0m\u001b[0m\n",
      "\u001b[1;32mC:\\ProgramData\\Anaconda3\\envs\\tensor-gpu\\lib\\site-packages\\tensorflow_core\\python\\framework\\constant_op.py\u001b[0m in \u001b[0;36m_constant_impl\u001b[1;34m(value, dtype, shape, name, verify_shape, allow_broadcast)\u001b[0m\n\u001b[0;32m    300\u001b[0m       attrs={\"value\": tensor_value,\n\u001b[0;32m    301\u001b[0m              \"dtype\": dtype_value},\n\u001b[1;32m--> 302\u001b[1;33m       name=name).outputs[0]\n\u001b[0m\u001b[0;32m    303\u001b[0m   \u001b[1;32mreturn\u001b[0m \u001b[0mconst_tensor\u001b[0m\u001b[1;33m\u001b[0m\u001b[1;33m\u001b[0m\u001b[0m\n\u001b[0;32m    304\u001b[0m \u001b[1;33m\u001b[0m\u001b[0m\n",
      "\u001b[1;32mC:\\ProgramData\\Anaconda3\\envs\\tensor-gpu\\lib\\site-packages\\tensorflow_core\\python\\framework\\func_graph.py\u001b[0m in \u001b[0;36m_create_op_internal\u001b[1;34m(self, op_type, inputs, dtypes, input_types, name, attrs, op_def, compute_device)\u001b[0m\n\u001b[0;32m    593\u001b[0m     return super(FuncGraph, self)._create_op_internal(  # pylint: disable=protected-access\n\u001b[0;32m    594\u001b[0m         \u001b[0mop_type\u001b[0m\u001b[1;33m,\u001b[0m \u001b[0minputs\u001b[0m\u001b[1;33m,\u001b[0m \u001b[0mdtypes\u001b[0m\u001b[1;33m,\u001b[0m \u001b[0minput_types\u001b[0m\u001b[1;33m,\u001b[0m \u001b[0mname\u001b[0m\u001b[1;33m,\u001b[0m \u001b[0mattrs\u001b[0m\u001b[1;33m,\u001b[0m \u001b[0mop_def\u001b[0m\u001b[1;33m,\u001b[0m\u001b[1;33m\u001b[0m\u001b[1;33m\u001b[0m\u001b[0m\n\u001b[1;32m--> 595\u001b[1;33m         compute_device)\n\u001b[0m\u001b[0;32m    596\u001b[0m \u001b[1;33m\u001b[0m\u001b[0m\n\u001b[0;32m    597\u001b[0m   \u001b[1;32mdef\u001b[0m \u001b[0mcapture\u001b[0m\u001b[1;33m(\u001b[0m\u001b[0mself\u001b[0m\u001b[1;33m,\u001b[0m \u001b[0mtensor\u001b[0m\u001b[1;33m,\u001b[0m \u001b[0mname\u001b[0m\u001b[1;33m=\u001b[0m\u001b[1;32mNone\u001b[0m\u001b[1;33m,\u001b[0m \u001b[0mshape\u001b[0m\u001b[1;33m=\u001b[0m\u001b[1;32mNone\u001b[0m\u001b[1;33m)\u001b[0m\u001b[1;33m:\u001b[0m\u001b[1;33m\u001b[0m\u001b[1;33m\u001b[0m\u001b[0m\n",
      "\u001b[1;32mC:\\ProgramData\\Anaconda3\\envs\\tensor-gpu\\lib\\site-packages\\tensorflow_core\\python\\framework\\ops.py\u001b[0m in \u001b[0;36m_create_op_internal\u001b[1;34m(self, op_type, inputs, dtypes, input_types, name, attrs, op_def, compute_device)\u001b[0m\n\u001b[0;32m   3320\u001b[0m           \u001b[0minput_types\u001b[0m\u001b[1;33m=\u001b[0m\u001b[0minput_types\u001b[0m\u001b[1;33m,\u001b[0m\u001b[1;33m\u001b[0m\u001b[1;33m\u001b[0m\u001b[0m\n\u001b[0;32m   3321\u001b[0m           \u001b[0moriginal_op\u001b[0m\u001b[1;33m=\u001b[0m\u001b[0mself\u001b[0m\u001b[1;33m.\u001b[0m\u001b[0m_default_original_op\u001b[0m\u001b[1;33m,\u001b[0m\u001b[1;33m\u001b[0m\u001b[1;33m\u001b[0m\u001b[0m\n\u001b[1;32m-> 3322\u001b[1;33m           op_def=op_def)\n\u001b[0m\u001b[0;32m   3323\u001b[0m       \u001b[0mself\u001b[0m\u001b[1;33m.\u001b[0m\u001b[0m_create_op_helper\u001b[0m\u001b[1;33m(\u001b[0m\u001b[0mret\u001b[0m\u001b[1;33m,\u001b[0m \u001b[0mcompute_device\u001b[0m\u001b[1;33m=\u001b[0m\u001b[0mcompute_device\u001b[0m\u001b[1;33m)\u001b[0m\u001b[1;33m\u001b[0m\u001b[1;33m\u001b[0m\u001b[0m\n\u001b[0;32m   3324\u001b[0m     \u001b[1;32mreturn\u001b[0m \u001b[0mret\u001b[0m\u001b[1;33m\u001b[0m\u001b[1;33m\u001b[0m\u001b[0m\n",
      "\u001b[1;32mC:\\ProgramData\\Anaconda3\\envs\\tensor-gpu\\lib\\site-packages\\tensorflow_core\\python\\framework\\ops.py\u001b[0m in \u001b[0;36m__init__\u001b[1;34m(self, node_def, g, inputs, output_types, control_inputs, input_types, original_op, op_def)\u001b[0m\n\u001b[0;32m   1794\u001b[0m     \u001b[0mself\u001b[0m\u001b[1;33m.\u001b[0m\u001b[0m_outputs\u001b[0m \u001b[1;33m=\u001b[0m \u001b[1;33m[\u001b[0m\u001b[1;33m]\u001b[0m\u001b[1;33m\u001b[0m\u001b[1;33m\u001b[0m\u001b[0m\n\u001b[0;32m   1795\u001b[0m     \u001b[1;32mfor\u001b[0m \u001b[0mi\u001b[0m \u001b[1;32min\u001b[0m \u001b[0mrange\u001b[0m\u001b[1;33m(\u001b[0m\u001b[0mnum_outputs\u001b[0m\u001b[1;33m)\u001b[0m\u001b[1;33m:\u001b[0m\u001b[1;33m\u001b[0m\u001b[1;33m\u001b[0m\u001b[0m\n\u001b[1;32m-> 1796\u001b[1;33m       \u001b[0mtf_output\u001b[0m \u001b[1;33m=\u001b[0m \u001b[0mc_api_util\u001b[0m\u001b[1;33m.\u001b[0m\u001b[0mtf_output\u001b[0m\u001b[1;33m(\u001b[0m\u001b[0mself\u001b[0m\u001b[1;33m.\u001b[0m\u001b[0m_c_op\u001b[0m\u001b[1;33m,\u001b[0m \u001b[0mi\u001b[0m\u001b[1;33m)\u001b[0m\u001b[1;33m\u001b[0m\u001b[1;33m\u001b[0m\u001b[0m\n\u001b[0m\u001b[0;32m   1797\u001b[0m       \u001b[0moutput_type\u001b[0m \u001b[1;33m=\u001b[0m \u001b[0mc_api\u001b[0m\u001b[1;33m.\u001b[0m\u001b[0mTF_OperationOutputType\u001b[0m\u001b[1;33m(\u001b[0m\u001b[0mtf_output\u001b[0m\u001b[1;33m)\u001b[0m\u001b[1;33m\u001b[0m\u001b[1;33m\u001b[0m\u001b[0m\n\u001b[0;32m   1798\u001b[0m       \u001b[0mtensor\u001b[0m \u001b[1;33m=\u001b[0m \u001b[0mTensor\u001b[0m\u001b[1;33m.\u001b[0m\u001b[0m_create_with_tf_output\u001b[0m\u001b[1;33m(\u001b[0m\u001b[0mself\u001b[0m\u001b[1;33m,\u001b[0m \u001b[0mi\u001b[0m\u001b[1;33m,\u001b[0m \u001b[0moutput_type\u001b[0m\u001b[1;33m,\u001b[0m \u001b[0mtf_output\u001b[0m\u001b[1;33m)\u001b[0m  \u001b[1;31m# pylint: disable=protected-access\u001b[0m\u001b[1;33m\u001b[0m\u001b[1;33m\u001b[0m\u001b[0m\n",
      "\u001b[1;32mC:\\ProgramData\\Anaconda3\\envs\\tensor-gpu\\lib\\site-packages\\tensorflow_core\\python\\framework\\c_api_util.py\u001b[0m in \u001b[0;36mtf_output\u001b[1;34m(c_op, index)\u001b[0m\n\u001b[0;32m    184\u001b[0m     \u001b[0mWrapped\u001b[0m \u001b[0mTF_Output\u001b[0m\u001b[1;33m\u001b[0m\u001b[1;33m\u001b[0m\u001b[0m\n\u001b[0;32m    185\u001b[0m   \"\"\"\n\u001b[1;32m--> 186\u001b[1;33m   \u001b[0mret\u001b[0m \u001b[1;33m=\u001b[0m \u001b[0mc_api\u001b[0m\u001b[1;33m.\u001b[0m\u001b[0mTF_Output\u001b[0m\u001b[1;33m(\u001b[0m\u001b[1;33m)\u001b[0m\u001b[1;33m\u001b[0m\u001b[1;33m\u001b[0m\u001b[0m\n\u001b[0m\u001b[0;32m    187\u001b[0m   \u001b[0mret\u001b[0m\u001b[1;33m.\u001b[0m\u001b[0moper\u001b[0m \u001b[1;33m=\u001b[0m \u001b[0mc_op\u001b[0m\u001b[1;33m\u001b[0m\u001b[1;33m\u001b[0m\u001b[0m\n\u001b[0;32m    188\u001b[0m   \u001b[0mret\u001b[0m\u001b[1;33m.\u001b[0m\u001b[0mindex\u001b[0m \u001b[1;33m=\u001b[0m \u001b[0mindex\u001b[0m\u001b[1;33m\u001b[0m\u001b[1;33m\u001b[0m\u001b[0m\n",
      "\u001b[1;32mC:\\ProgramData\\Anaconda3\\envs\\tensor-gpu\\lib\\site-packages\\tensorflow_core\\python\\pywrap_tensorflow_internal.py\u001b[0m in \u001b[0;36m__init__\u001b[1;34m(self)\u001b[0m\n\u001b[0;32m   1170\u001b[0m \u001b[1;33m\u001b[0m\u001b[0m\n\u001b[0;32m   1171\u001b[0m     \u001b[1;32mdef\u001b[0m \u001b[0m__init__\u001b[0m\u001b[1;33m(\u001b[0m\u001b[0mself\u001b[0m\u001b[1;33m)\u001b[0m\u001b[1;33m:\u001b[0m\u001b[1;33m\u001b[0m\u001b[1;33m\u001b[0m\u001b[0m\n\u001b[1;32m-> 1172\u001b[1;33m         \u001b[0mthis\u001b[0m \u001b[1;33m=\u001b[0m \u001b[0m_pywrap_tensorflow_internal\u001b[0m\u001b[1;33m.\u001b[0m\u001b[0mnew_TF_Output\u001b[0m\u001b[1;33m(\u001b[0m\u001b[1;33m)\u001b[0m\u001b[1;33m\u001b[0m\u001b[1;33m\u001b[0m\u001b[0m\n\u001b[0m\u001b[0;32m   1173\u001b[0m         \u001b[1;32mtry\u001b[0m\u001b[1;33m:\u001b[0m\u001b[1;33m\u001b[0m\u001b[1;33m\u001b[0m\u001b[0m\n\u001b[0;32m   1174\u001b[0m             \u001b[0mself\u001b[0m\u001b[1;33m.\u001b[0m\u001b[0mthis\u001b[0m\u001b[1;33m.\u001b[0m\u001b[0mappend\u001b[0m\u001b[1;33m(\u001b[0m\u001b[0mthis\u001b[0m\u001b[1;33m)\u001b[0m\u001b[1;33m\u001b[0m\u001b[1;33m\u001b[0m\u001b[0m\n",
      "\u001b[1;31mKeyboardInterrupt\u001b[0m: "
     ]
    }
   ],
   "source": [
    "tuner  = RandomSearch(\n",
    "    build_model,     #Function to use search in\n",
    "    objective = \"val_accuracy\",  #Chooses \"best model\" looking for highest value of val_accuracy\n",
    "    max_trials = 3,       # Number of different combinations tried Nodes and layers\n",
    "    executions_per_trial = 2, \n",
    "    directory = LOG_DIR,\n",
    "    project_name='SignLagnuageModelOptimization'\n",
    "    )\n",
    "\n",
    "#tuner.search_space_summary()\n",
    "\n",
    "tuner.search(x=x_train,      #syntax just like in fit\n",
    "                y= y_train,\n",
    "            epochs=80,\n",
    "            batch_size=32,\n",
    "            validation_data=(x_val,y_val))\n",
    "\n",
    "print(tuner.get_best_hyperparameters()[0].values)\n",
    "print(tuner.results_summary())"
   ]
  },
  {
   "cell_type": "markdown",
   "metadata": {},
   "source": [
    "### 2 - Hyperband\n",
    "Variation of RandomSearch \n",
    "http://jmlr.org/papers/volume18/16-558/16-558.pdf"
   ]
  },
  {
   "cell_type": "code",
   "execution_count": 21,
   "metadata": {},
   "outputs": [
    {
     "name": "stdout",
     "output_type": "stream",
     "text": [
      "Model: \"sequential\"\n",
      "_________________________________________________________________\n",
      "Layer (type)                 Output Shape              Param #   \n",
      "=================================================================\n",
      "lstm (LSTM)                  (None, 100, 64)           38656     \n",
      "_________________________________________________________________\n",
      "lstm_1 (LSTM)                (None, 100, 32)           12416     \n",
      "_________________________________________________________________\n",
      "lstm_2 (LSTM)                (None, 32)                8320      \n",
      "_________________________________________________________________\n",
      "dense (Dense)                (None, 5)                 165       \n",
      "=================================================================\n",
      "Total params: 59,557\n",
      "Trainable params: 59,557\n",
      "Non-trainable params: 0\n",
      "_________________________________________________________________\n",
      "Model: \"sequential\"\n",
      "_________________________________________________________________\n",
      "Layer (type)                 Output Shape              Param #   \n",
      "=================================================================\n",
      "lstm (LSTM)                  (None, 100, 128)          110080    \n",
      "_________________________________________________________________\n",
      "lstm_1 (LSTM)                (None, 100, 96)           86400     \n",
      "_________________________________________________________________\n",
      "lstm_2 (LSTM)                (None, 100, 32)           16512     \n",
      "_________________________________________________________________\n",
      "lstm_3 (LSTM)                (None, 100, 32)           8320      \n",
      "_________________________________________________________________\n",
      "lstm_4 (LSTM)                (None, 32)                8320      \n",
      "_________________________________________________________________\n",
      "dense (Dense)                (None, 5)                 165       \n",
      "=================================================================\n",
      "Total params: 229,797\n",
      "Trainable params: 229,797\n",
      "Non-trainable params: 0\n",
      "_________________________________________________________________\n",
      "Train on 208 samples, validate on 69 samples\n",
      "Epoch 1/3\n",
      "208/208 [==============================] - ETA: 34s - loss: 1.6096 - accuracy: 0.0938 - precision: 0.0000e+00 - recall: 0.0000e+ - ETA: 7s - loss: 1.6035 - accuracy: 0.1771 - precision: 0.0000e+00 - recall: 0.0000e+00 - ETA: 1s - loss: 1.5908 - accuracy: 0.2750 - precision: 0.0000e+00 - recall: 0.0000e+0 - 8s 38ms/sample - loss: 1.5799 - accuracy: 0.2981 - precision: 0.0000e+00 - recall: 0.0000e+00 - val_loss: 1.4848 - val_accuracy: 0.4638 - val_precision: 0.0000e+00 - val_recall: 0.0000e+00\n",
      "Epoch 2/3\n",
      "208/208 [==============================] - ETA: 0s - loss: 1.5186 - accuracy: 0.2812 - precision: 0.0000e+00 - recall: 0.0000e+0 - ETA: 0s - loss: 1.4422 - accuracy: 0.4062 - precision: 0.0000e+00 - recall: 0.0000e+0 - ETA: 0s - loss: 1.3849 - accuracy: 0.4125 - precision: 0.0000e+00 - recall: 0.0000e+0 - 0s 1ms/sample - loss: 1.3659 - accuracy: 0.4183 - precision: 1.0000 - recall: 0.0144 - val_loss: 1.2601 - val_accuracy: 0.4348 - val_precision: 1.0000 - val_recall: 0.0870\n",
      "Epoch 3/3\n",
      "208/208 [==============================] - ETA: 0s - loss: 1.2274 - accuracy: 0.4688 - precision: 1.0000 - recall: 0.062 - ETA: 0s - loss: 1.1454 - accuracy: 0.4271 - precision: 1.0000 - recall: 0.156 - ETA: 0s - loss: 1.1769 - accuracy: 0.3875 - precision: 0.9062 - recall: 0.181 - 0s 1ms/sample - loss: 1.1814 - accuracy: 0.4038 - precision: 0.8864 - recall: 0.1875 - val_loss: 1.1323 - val_accuracy: 0.4348 - val_precision: 1.0000 - val_recall: 0.1594\n"
     ]
    },
    {
     "data": {
      "text/html": [
       "<span style=\"color:#4527A0\"><h1 style=\"font-size:18px\">Trial complete</h1></span>"
      ],
      "text/plain": [
       "<IPython.core.display.HTML object>"
      ]
     },
     "metadata": {},
     "output_type": "display_data"
    },
    {
     "data": {
      "text/html": [
       "<span style=\"color:#4527A0\"><h1 style=\"font-size:18px\">Trial summary</h1></span>"
      ],
      "text/plain": [
       "<IPython.core.display.HTML object>"
      ]
     },
     "metadata": {},
     "output_type": "display_data"
    },
    {
     "data": {
      "text/html": [
       "<span style=\"color:cyan\"> |-Trial ID: 04624209fe42209f35e825ed44f87e86</span>"
      ],
      "text/plain": [
       "<IPython.core.display.HTML object>"
      ]
     },
     "metadata": {},
     "output_type": "display_data"
    },
    {
     "data": {
      "text/html": [
       "<span style=\"color:cyan\"> |-Score: 0.4637681245803833</span>"
      ],
      "text/plain": [
       "<IPython.core.display.HTML object>"
      ]
     },
     "metadata": {},
     "output_type": "display_data"
    },
    {
     "data": {
      "text/html": [
       "<span style=\"color:cyan\"> |-Best step: 0</span>"
      ],
      "text/plain": [
       "<IPython.core.display.HTML object>"
      ]
     },
     "metadata": {},
     "output_type": "display_data"
    },
    {
     "data": {
      "text/html": [
       "<span style=\"color:#7E57C2\"><h2 style=\"font-size:16px\">Hyperparameters:</h2></span>"
      ],
      "text/plain": [
       "<IPython.core.display.HTML object>"
      ]
     },
     "metadata": {},
     "output_type": "display_data"
    },
    {
     "data": {
      "text/html": [
       "<span style=\"color:cyan\"> |-LSTM_0_units: 96</span>"
      ],
      "text/plain": [
       "<IPython.core.display.HTML object>"
      ]
     },
     "metadata": {},
     "output_type": "display_data"
    },
    {
     "data": {
      "text/html": [
       "<span style=\"color:blue\"> |-LSTM_1_units: 32</span>"
      ],
      "text/plain": [
       "<IPython.core.display.HTML object>"
      ]
     },
     "metadata": {},
     "output_type": "display_data"
    },
    {
     "data": {
      "text/html": [
       "<span style=\"color:cyan\"> |-LSTM_2_units: 32</span>"
      ],
      "text/plain": [
       "<IPython.core.display.HTML object>"
      ]
     },
     "metadata": {},
     "output_type": "display_data"
    },
    {
     "data": {
      "text/html": [
       "<span style=\"color:blue\"> |-LSTM_End: 32</span>"
      ],
      "text/plain": [
       "<IPython.core.display.HTML object>"
      ]
     },
     "metadata": {},
     "output_type": "display_data"
    },
    {
     "data": {
      "text/html": [
       "<span style=\"color:cyan\"> |-LSTM_input: 128</span>"
      ],
      "text/plain": [
       "<IPython.core.display.HTML object>"
      ]
     },
     "metadata": {},
     "output_type": "display_data"
    },
    {
     "data": {
      "text/html": [
       "<span style=\"color:blue\"> |-n_layers: 3</span>"
      ],
      "text/plain": [
       "<IPython.core.display.HTML object>"
      ]
     },
     "metadata": {},
     "output_type": "display_data"
    },
    {
     "data": {
      "text/html": [
       "<span style=\"color:cyan\"> |-tuner/bracket: 3</span>"
      ],
      "text/plain": [
       "<IPython.core.display.HTML object>"
      ]
     },
     "metadata": {},
     "output_type": "display_data"
    },
    {
     "data": {
      "text/html": [
       "<span style=\"color:blue\"> |-tuner/epochs: 3</span>"
      ],
      "text/plain": [
       "<IPython.core.display.HTML object>"
      ]
     },
     "metadata": {},
     "output_type": "display_data"
    },
    {
     "data": {
      "text/html": [
       "<span style=\"color:cyan\"> |-tuner/initial_epoch: 0</span>"
      ],
      "text/plain": [
       "<IPython.core.display.HTML object>"
      ]
     },
     "metadata": {},
     "output_type": "display_data"
    },
    {
     "data": {
      "text/html": [
       "<span style=\"color:blue\"> |-tuner/round: 0</span>"
      ],
      "text/plain": [
       "<IPython.core.display.HTML object>"
      ]
     },
     "metadata": {},
     "output_type": "display_data"
    },
    {
     "name": "stdout",
     "output_type": "stream",
     "text": [
      "Model: \"sequential\"\n",
      "_________________________________________________________________\n",
      "Layer (type)                 Output Shape              Param #   \n",
      "=================================================================\n",
      "lstm (LSTM)                  (None, 100, 128)          110080    \n",
      "_________________________________________________________________\n",
      "lstm_1 (LSTM)                (None, 100, 96)           86400     \n",
      "_________________________________________________________________\n",
      "lstm_2 (LSTM)                (None, 96)                74112     \n",
      "_________________________________________________________________\n",
      "dense (Dense)                (None, 5)                 485       \n",
      "=================================================================\n",
      "Total params: 271,077\n",
      "Trainable params: 271,077\n",
      "Non-trainable params: 0\n",
      "_________________________________________________________________\n",
      "Train on 208 samples, validate on 69 samples\n",
      "Epoch 1/3\n",
      "208/208 [==============================] - ETA: 20s - loss: 1.6094 - accuracy: 0.0938 - precision: 0.0000e+00 - recall: 0.0000e+ - ETA: 4s - loss: 1.6012 - accuracy: 0.1771 - precision: 0.0000e+00 - recall: 0.0000e+00 - ETA: 1s - loss: 1.5614 - accuracy: 0.3063 - precision: 0.0000e+00 - recall: 0.0000e+0 - 5s 24ms/sample - loss: 1.5502 - accuracy: 0.3077 - precision: 0.7500 - recall: 0.0144 - val_loss: 1.4002 - val_accuracy: 0.3478 - val_precision: 0.8571 - val_recall: 0.1739\n",
      "Epoch 2/3\n",
      "208/208 [==============================] - ETA: 0s - loss: 1.3628 - accuracy: 0.3750 - precision: 0.8750 - recall: 0.218 - ETA: 0s - loss: 1.3800 - accuracy: 0.3333 - precision: 0.8824 - recall: 0.156 - ETA: 0s - loss: 1.2965 - accuracy: 0.4000 - precision: 0.9333 - recall: 0.175 - 0s 1ms/sample - loss: 1.2689 - accuracy: 0.3990 - precision: 0.9268 - recall: 0.1827 - val_loss: 1.2166 - val_accuracy: 0.4348 - val_precision: 0.7778 - val_recall: 0.2029\n",
      "Epoch 3/3\n",
      "208/208 [==============================] - ETA: 0s - loss: 1.2612 - accuracy: 0.3750 - precision: 0.6667 - recall: 0.125 - ETA: 0s - loss: 1.1914 - accuracy: 0.4219 - precision: 0.6957 - recall: 0.125 - 0s 1ms/sample - loss: 1.1605 - accuracy: 0.4567 - precision: 0.8000 - recall: 0.1731 - val_loss: 1.0681 - val_accuracy: 0.4493 - val_precision: 0.8000 - val_recall: 0.2319\n"
     ]
    },
    {
     "data": {
      "text/html": [
       "<span style=\"color:#4527A0\"><h1 style=\"font-size:18px\">Trial complete</h1></span>"
      ],
      "text/plain": [
       "<IPython.core.display.HTML object>"
      ]
     },
     "metadata": {},
     "output_type": "display_data"
    },
    {
     "data": {
      "text/html": [
       "<span style=\"color:#4527A0\"><h1 style=\"font-size:18px\">Trial summary</h1></span>"
      ],
      "text/plain": [
       "<IPython.core.display.HTML object>"
      ]
     },
     "metadata": {},
     "output_type": "display_data"
    },
    {
     "data": {
      "text/html": [
       "<span style=\"color:cyan\"> |-Trial ID: d359a8d6c521680291e044d98a5e654d</span>"
      ],
      "text/plain": [
       "<IPython.core.display.HTML object>"
      ]
     },
     "metadata": {},
     "output_type": "display_data"
    },
    {
     "data": {
      "text/html": [
       "<span style=\"color:cyan\"> |-Score: 0.4492753744125366</span>"
      ],
      "text/plain": [
       "<IPython.core.display.HTML object>"
      ]
     },
     "metadata": {},
     "output_type": "display_data"
    },
    {
     "data": {
      "text/html": [
       "<span style=\"color:cyan\"> |-Best step: 0</span>"
      ],
      "text/plain": [
       "<IPython.core.display.HTML object>"
      ]
     },
     "metadata": {},
     "output_type": "display_data"
    },
    {
     "data": {
      "text/html": [
       "<span style=\"color:#7E57C2\"><h2 style=\"font-size:16px\">Hyperparameters:</h2></span>"
      ],
      "text/plain": [
       "<IPython.core.display.HTML object>"
      ]
     },
     "metadata": {},
     "output_type": "display_data"
    },
    {
     "data": {
      "text/html": [
       "<span style=\"color:cyan\"> |-LSTM_0_units: 96</span>"
      ],
      "text/plain": [
       "<IPython.core.display.HTML object>"
      ]
     },
     "metadata": {},
     "output_type": "display_data"
    },
    {
     "data": {
      "text/html": [
       "<span style=\"color:blue\"> |-LSTM_1_units: 64</span>"
      ],
      "text/plain": [
       "<IPython.core.display.HTML object>"
      ]
     },
     "metadata": {},
     "output_type": "display_data"
    },
    {
     "data": {
      "text/html": [
       "<span style=\"color:cyan\"> |-LSTM_2_units: 32</span>"
      ],
      "text/plain": [
       "<IPython.core.display.HTML object>"
      ]
     },
     "metadata": {},
     "output_type": "display_data"
    },
    {
     "data": {
      "text/html": [
       "<span style=\"color:blue\"> |-LSTM_End: 96</span>"
      ],
      "text/plain": [
       "<IPython.core.display.HTML object>"
      ]
     },
     "metadata": {},
     "output_type": "display_data"
    },
    {
     "data": {
      "text/html": [
       "<span style=\"color:cyan\"> |-LSTM_input: 128</span>"
      ],
      "text/plain": [
       "<IPython.core.display.HTML object>"
      ]
     },
     "metadata": {},
     "output_type": "display_data"
    },
    {
     "data": {
      "text/html": [
       "<span style=\"color:blue\"> |-n_layers: 1</span>"
      ],
      "text/plain": [
       "<IPython.core.display.HTML object>"
      ]
     },
     "metadata": {},
     "output_type": "display_data"
    },
    {
     "data": {
      "text/html": [
       "<span style=\"color:cyan\"> |-tuner/bracket: 3</span>"
      ],
      "text/plain": [
       "<IPython.core.display.HTML object>"
      ]
     },
     "metadata": {},
     "output_type": "display_data"
    },
    {
     "data": {
      "text/html": [
       "<span style=\"color:blue\"> |-tuner/epochs: 3</span>"
      ],
      "text/plain": [
       "<IPython.core.display.HTML object>"
      ]
     },
     "metadata": {},
     "output_type": "display_data"
    },
    {
     "data": {
      "text/html": [
       "<span style=\"color:cyan\"> |-tuner/initial_epoch: 0</span>"
      ],
      "text/plain": [
       "<IPython.core.display.HTML object>"
      ]
     },
     "metadata": {},
     "output_type": "display_data"
    },
    {
     "data": {
      "text/html": [
       "<span style=\"color:blue\"> |-tuner/round: 0</span>"
      ],
      "text/plain": [
       "<IPython.core.display.HTML object>"
      ]
     },
     "metadata": {},
     "output_type": "display_data"
    },
    {
     "name": "stderr",
     "output_type": "stream",
     "text": [
      "Traceback (most recent call last):\n",
      "  File \"C:\\ProgramData\\Anaconda3\\envs\\tensor-gpu\\lib\\site-packages\\kerastuner\\engine\\hypermodel.py\", line 105, in build\n",
      "    model = self.hypermodel.build(hp)\n",
      "  File \"<ipython-input-20-a5a42f079cd4>\", line 26, in build_model\n",
      "    metrics=['accuracy',tf.keras.metrics.Precision(),tf.keras.metrics.Recall()])\n",
      "  File \"C:\\ProgramData\\Anaconda3\\envs\\tensor-gpu\\lib\\site-packages\\tensorflow_core\\python\\training\\tracking\\base.py\", line 457, in _method_wrapper\n",
      "    result = method(self, *args, **kwargs)\n",
      "  File \"C:\\ProgramData\\Anaconda3\\envs\\tensor-gpu\\lib\\site-packages\\tensorflow_core\\python\\keras\\engine\\training.py\", line 446, in compile\n",
      "    self._compile_weights_loss_and_weighted_metrics()\n",
      "  File \"C:\\ProgramData\\Anaconda3\\envs\\tensor-gpu\\lib\\site-packages\\tensorflow_core\\python\\training\\tracking\\base.py\", line 457, in _method_wrapper\n",
      "    result = method(self, *args, **kwargs)\n",
      "  File \"C:\\ProgramData\\Anaconda3\\envs\\tensor-gpu\\lib\\site-packages\\tensorflow_core\\python\\keras\\engine\\training.py\", line 1592, in _compile_weights_loss_and_weighted_metrics\n",
      "    self.total_loss = self._prepare_total_loss(masks)\n",
      "  File \"C:\\ProgramData\\Anaconda3\\envs\\tensor-gpu\\lib\\site-packages\\tensorflow_core\\python\\keras\\engine\\training.py\", line 1652, in _prepare_total_loss\n",
      "    per_sample_losses = loss_fn.call(y_true, y_pred)\n",
      "  File \"C:\\ProgramData\\Anaconda3\\envs\\tensor-gpu\\lib\\site-packages\\tensorflow_core\\python\\keras\\losses.py\", line 221, in call\n",
      "    return self.fn(y_true, y_pred, **self._fn_kwargs)\n",
      "  File \"C:\\ProgramData\\Anaconda3\\envs\\tensor-gpu\\lib\\site-packages\\tensorflow_core\\python\\keras\\losses.py\", line 971, in categorical_crossentropy\n",
      "    return K.categorical_crossentropy(y_true, y_pred, from_logits=from_logits)\n",
      "  File \"C:\\ProgramData\\Anaconda3\\envs\\tensor-gpu\\lib\\site-packages\\tensorflow_core\\python\\keras\\backend.py\", line 4495, in categorical_crossentropy\n",
      "    return -math_ops.reduce_sum(target * math_ops.log(output), axis)\n",
      "  File \"C:\\ProgramData\\Anaconda3\\envs\\tensor-gpu\\lib\\site-packages\\tensorflow_core\\python\\util\\dispatch.py\", line 180, in wrapper\n",
      "    return target(*args, **kwargs)\n",
      "  File \"C:\\ProgramData\\Anaconda3\\envs\\tensor-gpu\\lib\\site-packages\\tensorflow_core\\python\\ops\\math_ops.py\", line 1595, in reduce_sum\n",
      "    _ReductionDims(input_tensor, axis))\n",
      "  File \"C:\\ProgramData\\Anaconda3\\envs\\tensor-gpu\\lib\\site-packages\\tensorflow_core\\python\\ops\\math_ops.py\", line 1606, in reduce_sum_with_dims\n",
      "    gen_math_ops._sum(input_tensor, dims, keepdims, name=name))\n",
      "  File \"C:\\ProgramData\\Anaconda3\\envs\\tensor-gpu\\lib\\site-packages\\tensorflow_core\\python\\ops\\gen_math_ops.py\", line 10174, in _sum\n",
      "    name=name)\n",
      "  File \"C:\\ProgramData\\Anaconda3\\envs\\tensor-gpu\\lib\\site-packages\\tensorflow_core\\python\\framework\\op_def_library.py\", line 468, in _apply_op_helper\n",
      "    preferred_dtype=default_dtype)\n",
      "  File \"C:\\ProgramData\\Anaconda3\\envs\\tensor-gpu\\lib\\site-packages\\tensorflow_core\\python\\framework\\ops.py\", line 1302, in convert_to_tensor\n",
      "    value, dtype=preferred_dtype, name=name, as_ref=as_ref)\n",
      "  File \"C:\\ProgramData\\Anaconda3\\envs\\tensor-gpu\\lib\\site-packages\\tensorflow_core\\python\\framework\\tensor_conversion_registry.py\", line 52, in _default_conversion_function\n",
      "    return constant_op.constant(value, dtype, name=name)\n",
      "  File \"C:\\ProgramData\\Anaconda3\\envs\\tensor-gpu\\lib\\site-packages\\tensorflow_core\\python\\framework\\constant_op.py\", line 258, in constant\n",
      "    allow_broadcast=True)\n",
      "  File \"C:\\ProgramData\\Anaconda3\\envs\\tensor-gpu\\lib\\site-packages\\tensorflow_core\\python\\framework\\constant_op.py\", line 302, in _constant_impl\n",
      "    name=name).outputs[0]\n",
      "  File \"C:\\ProgramData\\Anaconda3\\envs\\tensor-gpu\\lib\\site-packages\\tensorflow_core\\python\\framework\\func_graph.py\", line 595, in _create_op_internal\n",
      "    compute_device)\n",
      "  File \"C:\\ProgramData\\Anaconda3\\envs\\tensor-gpu\\lib\\site-packages\\tensorflow_core\\python\\framework\\ops.py\", line 3322, in _create_op_internal\n",
      "    op_def=op_def)\n",
      "  File \"C:\\ProgramData\\Anaconda3\\envs\\tensor-gpu\\lib\\site-packages\\tensorflow_core\\python\\framework\\ops.py\", line 1786, in __init__\n",
      "    control_input_ops)\n",
      "  File \"C:\\ProgramData\\Anaconda3\\envs\\tensor-gpu\\lib\\site-packages\\tensorflow_core\\python\\framework\\ops.py\", line 1596, in _create_c_op\n",
      "    compat.as_str(node_def.name))\n",
      "KeyboardInterrupt\n"
     ]
    },
    {
     "data": {
      "text/html": [
       "<span style=\"color:yellow\">[Warning] Invalid model 0/5</span>"
      ],
      "text/plain": [
       "<IPython.core.display.HTML object>"
      ]
     },
     "metadata": {},
     "output_type": "display_data"
    },
    {
     "name": "stdout",
     "output_type": "stream",
     "text": [
      "Model: \"sequential\"\n",
      "_________________________________________________________________\n",
      "Layer (type)                 Output Shape              Param #   \n",
      "=================================================================\n",
      "lstm (LSTM)                  (None, 100, 64)           38656     \n",
      "_________________________________________________________________\n",
      "lstm_1 (LSTM)                (None, 100, 96)           61824     \n",
      "_________________________________________________________________\n",
      "lstm_2 (LSTM)                (None, 100, 128)          115200    \n",
      "_________________________________________________________________\n",
      "lstm_3 (LSTM)                (None, 32)                20608     \n",
      "_________________________________________________________________\n",
      "dense (Dense)                (None, 5)                 165       \n",
      "=================================================================\n",
      "Total params: 236,453\n",
      "Trainable params: 236,453\n",
      "Non-trainable params: 0\n",
      "_________________________________________________________________\n",
      "Train on 208 samples, validate on 69 samples\n",
      "Epoch 1/3\n",
      "208/208 [==============================] - ETA: 29s - loss: 1.6085 - accuracy: 0.2188 - precision: 0.0000e+00 - recall: 0.0000e+ - ETA: 6s - loss: 1.5926 - accuracy: 0.3229 - precision: 0.0000e+00 - recall: 0.0000e+00 - ETA: 1s - loss: 1.5585 - accuracy: 0.3688 - precision: 1.0000 - recall: 0.0063        - 7s 36ms/sample - loss: 1.5476 - accuracy: 0.3365 - precision: 1.0000 - recall: 0.0192 - val_loss: 1.3712 - val_accuracy: 0.3768 - val_precision: 0.9000 - val_recall: 0.1304\n",
      "Epoch 2/3\n",
      "208/208 [==============================] - ETA: 0s - loss: 1.5170 - accuracy: 0.3750 - precision: 1.0000 - recall: 0.031 - ETA: 0s - loss: 1.4205 - accuracy: 0.3750 - precision: 1.0000 - recall: 0.083 - ETA: 0s - loss: 1.4014 - accuracy: 0.3625 - precision: 1.0000 - recall: 0.068 - 0s 2ms/sample - loss: 1.3122 - accuracy: 0.4135 - precision: 1.0000 - recall: 0.1154 - val_loss: 1.2632 - val_accuracy: 0.4058 - val_precision: 0.7368 - val_recall: 0.2029\n",
      "Epoch 3/3\n",
      "208/208 [==============================] - ETA: 0s - loss: 1.0555 - accuracy: 0.5000 - precision: 0.8889 - recall: 0.250 - ETA: 0s - loss: 1.2042 - accuracy: 0.4479 - precision: 0.7200 - recall: 0.187 - ETA: 0s - loss: 1.2218 - accuracy: 0.4531 - precision: 0.7273 - recall: 0.208 - 0s 1ms/sample - loss: 1.2144 - accuracy: 0.4567 - precision: 0.7288 - recall: 0.2067 - val_loss: 1.1585 - val_accuracy: 0.3768 - val_precision: 0.9167 - val_recall: 0.1594\n"
     ]
    },
    {
     "data": {
      "text/html": [
       "<span style=\"color:#4527A0\"><h1 style=\"font-size:18px\">Trial complete</h1></span>"
      ],
      "text/plain": [
       "<IPython.core.display.HTML object>"
      ]
     },
     "metadata": {},
     "output_type": "display_data"
    },
    {
     "data": {
      "text/html": [
       "<span style=\"color:#4527A0\"><h1 style=\"font-size:18px\">Trial summary</h1></span>"
      ],
      "text/plain": [
       "<IPython.core.display.HTML object>"
      ]
     },
     "metadata": {},
     "output_type": "display_data"
    },
    {
     "data": {
      "text/html": [
       "<span style=\"color:cyan\"> |-Trial ID: b72cdb3c8456656146813c327d95fd7d</span>"
      ],
      "text/plain": [
       "<IPython.core.display.HTML object>"
      ]
     },
     "metadata": {},
     "output_type": "display_data"
    },
    {
     "data": {
      "text/html": [
       "<span style=\"color:cyan\"> |-Score: 0.4057970941066742</span>"
      ],
      "text/plain": [
       "<IPython.core.display.HTML object>"
      ]
     },
     "metadata": {},
     "output_type": "display_data"
    },
    {
     "data": {
      "text/html": [
       "<span style=\"color:cyan\"> |-Best step: 0</span>"
      ],
      "text/plain": [
       "<IPython.core.display.HTML object>"
      ]
     },
     "metadata": {},
     "output_type": "display_data"
    },
    {
     "data": {
      "text/html": [
       "<span style=\"color:#7E57C2\"><h2 style=\"font-size:16px\">Hyperparameters:</h2></span>"
      ],
      "text/plain": [
       "<IPython.core.display.HTML object>"
      ]
     },
     "metadata": {},
     "output_type": "display_data"
    },
    {
     "data": {
      "text/html": [
       "<span style=\"color:cyan\"> |-LSTM_0_units: 96</span>"
      ],
      "text/plain": [
       "<IPython.core.display.HTML object>"
      ]
     },
     "metadata": {},
     "output_type": "display_data"
    },
    {
     "data": {
      "text/html": [
       "<span style=\"color:blue\"> |-LSTM_1_units: 128</span>"
      ],
      "text/plain": [
       "<IPython.core.display.HTML object>"
      ]
     },
     "metadata": {},
     "output_type": "display_data"
    },
    {
     "data": {
      "text/html": [
       "<span style=\"color:cyan\"> |-LSTM_2_units: 32</span>"
      ],
      "text/plain": [
       "<IPython.core.display.HTML object>"
      ]
     },
     "metadata": {},
     "output_type": "display_data"
    },
    {
     "data": {
      "text/html": [
       "<span style=\"color:blue\"> |-LSTM_End: 32</span>"
      ],
      "text/plain": [
       "<IPython.core.display.HTML object>"
      ]
     },
     "metadata": {},
     "output_type": "display_data"
    },
    {
     "data": {
      "text/html": [
       "<span style=\"color:cyan\"> |-LSTM_input: 64</span>"
      ],
      "text/plain": [
       "<IPython.core.display.HTML object>"
      ]
     },
     "metadata": {},
     "output_type": "display_data"
    },
    {
     "data": {
      "text/html": [
       "<span style=\"color:blue\"> |-n_layers: 2</span>"
      ],
      "text/plain": [
       "<IPython.core.display.HTML object>"
      ]
     },
     "metadata": {},
     "output_type": "display_data"
    },
    {
     "data": {
      "text/html": [
       "<span style=\"color:cyan\"> |-tuner/bracket: 3</span>"
      ],
      "text/plain": [
       "<IPython.core.display.HTML object>"
      ]
     },
     "metadata": {},
     "output_type": "display_data"
    },
    {
     "data": {
      "text/html": [
       "<span style=\"color:blue\"> |-tuner/epochs: 3</span>"
      ],
      "text/plain": [
       "<IPython.core.display.HTML object>"
      ]
     },
     "metadata": {},
     "output_type": "display_data"
    },
    {
     "data": {
      "text/html": [
       "<span style=\"color:cyan\"> |-tuner/initial_epoch: 0</span>"
      ],
      "text/plain": [
       "<IPython.core.display.HTML object>"
      ]
     },
     "metadata": {},
     "output_type": "display_data"
    },
    {
     "data": {
      "text/html": [
       "<span style=\"color:blue\"> |-tuner/round: 0</span>"
      ],
      "text/plain": [
       "<IPython.core.display.HTML object>"
      ]
     },
     "metadata": {},
     "output_type": "display_data"
    },
    {
     "name": "stdout",
     "output_type": "stream",
     "text": [
      "Model: \"sequential\"\n",
      "_________________________________________________________________\n",
      "Layer (type)                 Output Shape              Param #   \n",
      "=================================================================\n",
      "lstm (LSTM)                  (None, 100, 64)           38656     \n",
      "_________________________________________________________________\n",
      "lstm_1 (LSTM)                (None, 100, 32)           12416     \n",
      "_________________________________________________________________\n",
      "lstm_2 (LSTM)                (None, 100, 64)           24832     \n",
      "_________________________________________________________________\n",
      "lstm_3 (LSTM)                (None, 100, 128)          98816     \n",
      "_________________________________________________________________\n",
      "lstm_4 (LSTM)                (None, 96)                86400     \n",
      "_________________________________________________________________\n",
      "dense (Dense)                (None, 5)                 485       \n",
      "=================================================================\n",
      "Total params: 261,605\n",
      "Trainable params: 261,605\n",
      "Non-trainable params: 0\n",
      "_________________________________________________________________\n",
      "Train on 208 samples, validate on 69 samples\n",
      "Epoch 1/3\n",
      "208/208 [==============================] - ETA: 34s - loss: 1.6099 - accuracy: 0.2188 - precision: 0.0000e+00 - recall: 0.0000e+ - ETA: 7s - loss: 1.6011 - accuracy: 0.2917 - precision: 0.0000e+00 - recall: 0.0000e+00 - ETA: 1s - loss: 1.5819 - accuracy: 0.2500 - precision: 0.0000e+00 - recall: 0.0000e+0 - 8s 41ms/sample - loss: 1.5479 - accuracy: 0.2500 - precision: 1.0000 - recall: 0.0048 - val_loss: 1.3901 - val_accuracy: 0.2319 - val_precision: 0.9091 - val_recall: 0.1449\n",
      "Epoch 2/3\n",
      "208/208 [==============================] - ETA: 0s - loss: 1.3979 - accuracy: 0.2188 - precision: 1.0000 - recall: 0.156 - ETA: 0s - loss: 1.3445 - accuracy: 0.2812 - precision: 0.9167 - recall: 0.114 - ETA: 0s - loss: 1.2578 - accuracy: 0.3375 - precision: 0.9286 - recall: 0.162 - ETA: 0s - loss: 1.2420 - accuracy: 0.3542 - precision: 0.8857 - recall: 0.161 - 1s 3ms/sample - loss: 1.2358 - accuracy: 0.3462 - precision: 0.8684 - recall: 0.1587 - val_loss: 1.1683 - val_accuracy: 0.4638 - val_precision: 1.0000 - val_recall: 0.1304\n",
      "Epoch 3/3\n",
      "208/208 [==============================] - ETA: 0s - loss: 1.2217 - accuracy: 0.4375 - precision: 1.0000 - recall: 0.093 - ETA: 0s - loss: 1.1211 - accuracy: 0.4375 - precision: 0.8667 - recall: 0.135 - ETA: 0s - loss: 1.1295 - accuracy: 0.4500 - precision: 0.8571 - recall: 0.150 - 0s 2ms/sample - loss: 1.1108 - accuracy: 0.4615 - precision: 0.8837 - recall: 0.1827 - val_loss: 1.0259 - val_accuracy: 0.4928 - val_precision: 0.8667 - val_recall: 0.1884\n"
     ]
    },
    {
     "data": {
      "text/html": [
       "<span style=\"color:#4527A0\"><h1 style=\"font-size:18px\">Trial complete</h1></span>"
      ],
      "text/plain": [
       "<IPython.core.display.HTML object>"
      ]
     },
     "metadata": {},
     "output_type": "display_data"
    },
    {
     "data": {
      "text/html": [
       "<span style=\"color:#4527A0\"><h1 style=\"font-size:18px\">Trial summary</h1></span>"
      ],
      "text/plain": [
       "<IPython.core.display.HTML object>"
      ]
     },
     "metadata": {},
     "output_type": "display_data"
    },
    {
     "data": {
      "text/html": [
       "<span style=\"color:cyan\"> |-Trial ID: e0378558495b55cb734799c4db3074f9</span>"
      ],
      "text/plain": [
       "<IPython.core.display.HTML object>"
      ]
     },
     "metadata": {},
     "output_type": "display_data"
    },
    {
     "data": {
      "text/html": [
       "<span style=\"color:cyan\"> |-Score: 0.49275362491607666</span>"
      ],
      "text/plain": [
       "<IPython.core.display.HTML object>"
      ]
     },
     "metadata": {},
     "output_type": "display_data"
    },
    {
     "data": {
      "text/html": [
       "<span style=\"color:cyan\"> |-Best step: 0</span>"
      ],
      "text/plain": [
       "<IPython.core.display.HTML object>"
      ]
     },
     "metadata": {},
     "output_type": "display_data"
    },
    {
     "data": {
      "text/html": [
       "<span style=\"color:#7E57C2\"><h2 style=\"font-size:16px\">Hyperparameters:</h2></span>"
      ],
      "text/plain": [
       "<IPython.core.display.HTML object>"
      ]
     },
     "metadata": {},
     "output_type": "display_data"
    },
    {
     "data": {
      "text/html": [
       "<span style=\"color:cyan\"> |-LSTM_0_units: 32</span>"
      ],
      "text/plain": [
       "<IPython.core.display.HTML object>"
      ]
     },
     "metadata": {},
     "output_type": "display_data"
    },
    {
     "data": {
      "text/html": [
       "<span style=\"color:blue\"> |-LSTM_1_units: 64</span>"
      ],
      "text/plain": [
       "<IPython.core.display.HTML object>"
      ]
     },
     "metadata": {},
     "output_type": "display_data"
    },
    {
     "data": {
      "text/html": [
       "<span style=\"color:cyan\"> |-LSTM_2_units: 128</span>"
      ],
      "text/plain": [
       "<IPython.core.display.HTML object>"
      ]
     },
     "metadata": {},
     "output_type": "display_data"
    },
    {
     "data": {
      "text/html": [
       "<span style=\"color:blue\"> |-LSTM_End: 96</span>"
      ],
      "text/plain": [
       "<IPython.core.display.HTML object>"
      ]
     },
     "metadata": {},
     "output_type": "display_data"
    },
    {
     "data": {
      "text/html": [
       "<span style=\"color:cyan\"> |-LSTM_input: 64</span>"
      ],
      "text/plain": [
       "<IPython.core.display.HTML object>"
      ]
     },
     "metadata": {},
     "output_type": "display_data"
    },
    {
     "data": {
      "text/html": [
       "<span style=\"color:blue\"> |-n_layers: 3</span>"
      ],
      "text/plain": [
       "<IPython.core.display.HTML object>"
      ]
     },
     "metadata": {},
     "output_type": "display_data"
    },
    {
     "data": {
      "text/html": [
       "<span style=\"color:cyan\"> |-tuner/bracket: 3</span>"
      ],
      "text/plain": [
       "<IPython.core.display.HTML object>"
      ]
     },
     "metadata": {},
     "output_type": "display_data"
    },
    {
     "data": {
      "text/html": [
       "<span style=\"color:blue\"> |-tuner/epochs: 3</span>"
      ],
      "text/plain": [
       "<IPython.core.display.HTML object>"
      ]
     },
     "metadata": {},
     "output_type": "display_data"
    },
    {
     "data": {
      "text/html": [
       "<span style=\"color:cyan\"> |-tuner/initial_epoch: 0</span>"
      ],
      "text/plain": [
       "<IPython.core.display.HTML object>"
      ]
     },
     "metadata": {},
     "output_type": "display_data"
    },
    {
     "data": {
      "text/html": [
       "<span style=\"color:blue\"> |-tuner/round: 0</span>"
      ],
      "text/plain": [
       "<IPython.core.display.HTML object>"
      ]
     },
     "metadata": {},
     "output_type": "display_data"
    },
    {
     "name": "stdout",
     "output_type": "stream",
     "text": [
      "Model: \"sequential\"\n",
      "_________________________________________________________________\n",
      "Layer (type)                 Output Shape              Param #   \n",
      "=================================================================\n",
      "lstm (LSTM)                  (None, 100, 256)          351232    \n",
      "_________________________________________________________________\n",
      "lstm_1 (LSTM)                (None, 100, 96)           135552    \n",
      "_________________________________________________________________\n",
      "lstm_2 (LSTM)                (None, 100, 96)           74112     \n",
      "_________________________________________________________________\n",
      "lstm_3 (LSTM)                (None, 32)                16512     \n",
      "_________________________________________________________________\n",
      "dense (Dense)                (None, 5)                 165       \n",
      "=================================================================\n",
      "Total params: 577,573\n",
      "Trainable params: 577,573\n",
      "Non-trainable params: 0\n",
      "_________________________________________________________________\n",
      "Train on 208 samples, validate on 69 samples\n",
      "Epoch 1/3\n",
      "208/208 [==============================] - ETA: 26s - loss: 1.6095 - accuracy: 0.3438 - precision: 0.0000e+00 - recall: 0.0000e+ - ETA: 5s - loss: 1.5700 - accuracy: 0.3958 - precision: 0.0000e+00 - recall: 0.0000e+00 - ETA: 1s - loss: 1.5811 - accuracy: 0.3375 - precision: 0.3750 - recall: 0.0562        - 7s 32ms/sample - loss: 1.5582 - accuracy: 0.3510 - precision: 0.4286 - recall: 0.0577 - val_loss: 1.5026 - val_accuracy: 0.2899 - val_precision: 1.0000 - val_recall: 0.0145\n",
      "Epoch 2/3\n",
      "208/208 [==============================] - ETA: 0s - loss: 1.5068 - accuracy: 0.3125 - precision: 1.0000 - recall: 0.031 - ETA: 0s - loss: 1.4925 - accuracy: 0.3229 - precision: 1.0000 - recall: 0.020 - ETA: 0s - loss: 1.4701 - accuracy: 0.3750 - precision: 1.0000 - recall: 0.018 - 0s 2ms/sample - loss: 1.4237 - accuracy: 0.4183 - precision: 1.0000 - recall: 0.0433 - val_loss: 1.2768 - val_accuracy: 0.4203 - val_precision: 0.9091 - val_recall: 0.1449\n",
      "Epoch 3/3\n",
      "208/208 [==============================] - ETA: 0s - loss: 1.2938 - accuracy: 0.4688 - precision: 1.0000 - recall: 0.125 - ETA: 0s - loss: 1.2161 - accuracy: 0.4583 - precision: 0.9474 - recall: 0.187 - ETA: 0s - loss: 1.2000 - accuracy: 0.4500 - precision: 0.9062 - recall: 0.181 - 0s 1ms/sample - loss: 1.1493 - accuracy: 0.4808 - precision: 0.8958 - recall: 0.2067 - val_loss: 1.1648 - val_accuracy: 0.4058 - val_precision: 0.7857 - val_recall: 0.1594\n"
     ]
    },
    {
     "data": {
      "text/html": [
       "<span style=\"color:#4527A0\"><h1 style=\"font-size:18px\">Trial complete</h1></span>"
      ],
      "text/plain": [
       "<IPython.core.display.HTML object>"
      ]
     },
     "metadata": {},
     "output_type": "display_data"
    },
    {
     "data": {
      "text/html": [
       "<span style=\"color:#4527A0\"><h1 style=\"font-size:18px\">Trial summary</h1></span>"
      ],
      "text/plain": [
       "<IPython.core.display.HTML object>"
      ]
     },
     "metadata": {},
     "output_type": "display_data"
    },
    {
     "data": {
      "text/html": [
       "<span style=\"color:cyan\"> |-Trial ID: 4f7073615e5d7bd6b21dde22d18fbd95</span>"
      ],
      "text/plain": [
       "<IPython.core.display.HTML object>"
      ]
     },
     "metadata": {},
     "output_type": "display_data"
    },
    {
     "data": {
      "text/html": [
       "<span style=\"color:cyan\"> |-Score: 0.4202898442745209</span>"
      ],
      "text/plain": [
       "<IPython.core.display.HTML object>"
      ]
     },
     "metadata": {},
     "output_type": "display_data"
    },
    {
     "data": {
      "text/html": [
       "<span style=\"color:cyan\"> |-Best step: 0</span>"
      ],
      "text/plain": [
       "<IPython.core.display.HTML object>"
      ]
     },
     "metadata": {},
     "output_type": "display_data"
    },
    {
     "data": {
      "text/html": [
       "<span style=\"color:#7E57C2\"><h2 style=\"font-size:16px\">Hyperparameters:</h2></span>"
      ],
      "text/plain": [
       "<IPython.core.display.HTML object>"
      ]
     },
     "metadata": {},
     "output_type": "display_data"
    },
    {
     "data": {
      "text/html": [
       "<span style=\"color:cyan\"> |-LSTM_0_units: 96</span>"
      ],
      "text/plain": [
       "<IPython.core.display.HTML object>"
      ]
     },
     "metadata": {},
     "output_type": "display_data"
    },
    {
     "data": {
      "text/html": [
       "<span style=\"color:blue\"> |-LSTM_1_units: 96</span>"
      ],
      "text/plain": [
       "<IPython.core.display.HTML object>"
      ]
     },
     "metadata": {},
     "output_type": "display_data"
    },
    {
     "data": {
      "text/html": [
       "<span style=\"color:cyan\"> |-LSTM_2_units: 96</span>"
      ],
      "text/plain": [
       "<IPython.core.display.HTML object>"
      ]
     },
     "metadata": {},
     "output_type": "display_data"
    },
    {
     "data": {
      "text/html": [
       "<span style=\"color:blue\"> |-LSTM_End: 32</span>"
      ],
      "text/plain": [
       "<IPython.core.display.HTML object>"
      ]
     },
     "metadata": {},
     "output_type": "display_data"
    },
    {
     "data": {
      "text/html": [
       "<span style=\"color:cyan\"> |-LSTM_input: 256</span>"
      ],
      "text/plain": [
       "<IPython.core.display.HTML object>"
      ]
     },
     "metadata": {},
     "output_type": "display_data"
    },
    {
     "data": {
      "text/html": [
       "<span style=\"color:blue\"> |-n_layers: 2</span>"
      ],
      "text/plain": [
       "<IPython.core.display.HTML object>"
      ]
     },
     "metadata": {},
     "output_type": "display_data"
    },
    {
     "data": {
      "text/html": [
       "<span style=\"color:cyan\"> |-tuner/bracket: 3</span>"
      ],
      "text/plain": [
       "<IPython.core.display.HTML object>"
      ]
     },
     "metadata": {},
     "output_type": "display_data"
    },
    {
     "data": {
      "text/html": [
       "<span style=\"color:blue\"> |-tuner/epochs: 3</span>"
      ],
      "text/plain": [
       "<IPython.core.display.HTML object>"
      ]
     },
     "metadata": {},
     "output_type": "display_data"
    },
    {
     "data": {
      "text/html": [
       "<span style=\"color:cyan\"> |-tuner/initial_epoch: 0</span>"
      ],
      "text/plain": [
       "<IPython.core.display.HTML object>"
      ]
     },
     "metadata": {},
     "output_type": "display_data"
    },
    {
     "data": {
      "text/html": [
       "<span style=\"color:blue\"> |-tuner/round: 0</span>"
      ],
      "text/plain": [
       "<IPython.core.display.HTML object>"
      ]
     },
     "metadata": {},
     "output_type": "display_data"
    },
    {
     "name": "stdout",
     "output_type": "stream",
     "text": [
      "Model: \"sequential\"\n",
      "_________________________________________________________________\n",
      "Layer (type)                 Output Shape              Param #   \n",
      "=================================================================\n",
      "lstm (LSTM)                  (None, 100, 256)          351232    \n",
      "_________________________________________________________________\n",
      "lstm_1 (LSTM)                (None, 100, 96)           135552    \n",
      "_________________________________________________________________\n",
      "lstm_2 (LSTM)                (None, 100, 96)           74112     \n",
      "_________________________________________________________________\n",
      "lstm_3 (LSTM)                (None, 32)                16512     \n",
      "_________________________________________________________________\n",
      "dense (Dense)                (None, 5)                 165       \n",
      "=================================================================\n",
      "Total params: 577,573\n",
      "Trainable params: 577,573\n",
      "Non-trainable params: 0\n",
      "_________________________________________________________________\n",
      "Train on 208 samples, validate on 69 samples\n",
      "Epoch 1/3\n",
      "208/208 [==============================] - ETA: 27s - loss: 1.6048 - accuracy: 0.3438 - precision: 0.0000e+00 - recall: 0.0000e+ - ETA: 5s - loss: 1.5728 - accuracy: 0.2396 - precision: 0.0000e+00 - recall: 0.0000e+00 - ETA: 1s - loss: 1.5592 - accuracy: 0.2188 - precision: 0.7000 - recall: 0.0437        - 7s 33ms/sample - loss: 1.5175 - accuracy: 0.2692 - precision: 0.7857 - recall: 0.0529 - val_loss: 1.4456 - val_accuracy: 0.3913 - val_precision: 1.0000 - val_recall: 0.0435\n",
      "Epoch 2/3\n",
      "208/208 [==============================] - ETA: 0s - loss: 1.4561 - accuracy: 0.5000 - precision: 1.0000 - recall: 0.062 - ETA: 0s - loss: 1.3698 - accuracy: 0.5000 - precision: 0.8125 - recall: 0.135 - ETA: 0s - loss: 1.3443 - accuracy: 0.4375 - precision: 0.8387 - recall: 0.162 - 0s 2ms/sample - loss: 1.3172 - accuracy: 0.4471 - precision: 0.8571 - recall: 0.1731 - val_loss: 1.2184 - val_accuracy: 0.4058 - val_precision: 0.8235 - val_recall: 0.2029\n",
      "Epoch 3/3\n",
      "208/208 [==============================] - ETA: 0s - loss: 0.9108 - accuracy: 0.5625 - precision: 1.0000 - recall: 0.406 - ETA: 0s - loss: 1.0716 - accuracy: 0.5208 - precision: 0.9286 - recall: 0.270 - ETA: 0s - loss: 1.1319 - accuracy: 0.4875 - precision: 0.8222 - recall: 0.231 - 0s 1ms/sample - loss: 1.1342 - accuracy: 0.4856 - precision: 0.7719 - recall: 0.2115 - val_loss: 1.1381 - val_accuracy: 0.4058 - val_precision: 0.7857 - val_recall: 0.1594\n"
     ]
    },
    {
     "data": {
      "text/html": [
       "<span style=\"color:#4527A0\"><h1 style=\"font-size:18px\">Trial complete</h1></span>"
      ],
      "text/plain": [
       "<IPython.core.display.HTML object>"
      ]
     },
     "metadata": {},
     "output_type": "display_data"
    },
    {
     "data": {
      "text/html": [
       "<span style=\"color:#4527A0\"><h1 style=\"font-size:18px\">Trial summary</h1></span>"
      ],
      "text/plain": [
       "<IPython.core.display.HTML object>"
      ]
     },
     "metadata": {},
     "output_type": "display_data"
    },
    {
     "data": {
      "text/html": [
       "<span style=\"color:cyan\"> |-Trial ID: 79917b75e41de0039eaf1e656dc88b61</span>"
      ],
      "text/plain": [
       "<IPython.core.display.HTML object>"
      ]
     },
     "metadata": {},
     "output_type": "display_data"
    },
    {
     "data": {
      "text/html": [
       "<span style=\"color:cyan\"> |-Score: 0.4057970941066742</span>"
      ],
      "text/plain": [
       "<IPython.core.display.HTML object>"
      ]
     },
     "metadata": {},
     "output_type": "display_data"
    },
    {
     "data": {
      "text/html": [
       "<span style=\"color:cyan\"> |-Best step: 0</span>"
      ],
      "text/plain": [
       "<IPython.core.display.HTML object>"
      ]
     },
     "metadata": {},
     "output_type": "display_data"
    },
    {
     "data": {
      "text/html": [
       "<span style=\"color:#7E57C2\"><h2 style=\"font-size:16px\">Hyperparameters:</h2></span>"
      ],
      "text/plain": [
       "<IPython.core.display.HTML object>"
      ]
     },
     "metadata": {},
     "output_type": "display_data"
    },
    {
     "data": {
      "text/html": [
       "<span style=\"color:cyan\"> |-LSTM_0_units: 96</span>"
      ],
      "text/plain": [
       "<IPython.core.display.HTML object>"
      ]
     },
     "metadata": {},
     "output_type": "display_data"
    },
    {
     "data": {
      "text/html": [
       "<span style=\"color:blue\"> |-LSTM_1_units: 96</span>"
      ],
      "text/plain": [
       "<IPython.core.display.HTML object>"
      ]
     },
     "metadata": {},
     "output_type": "display_data"
    },
    {
     "data": {
      "text/html": [
       "<span style=\"color:cyan\"> |-LSTM_2_units: 128</span>"
      ],
      "text/plain": [
       "<IPython.core.display.HTML object>"
      ]
     },
     "metadata": {},
     "output_type": "display_data"
    },
    {
     "data": {
      "text/html": [
       "<span style=\"color:blue\"> |-LSTM_End: 32</span>"
      ],
      "text/plain": [
       "<IPython.core.display.HTML object>"
      ]
     },
     "metadata": {},
     "output_type": "display_data"
    },
    {
     "data": {
      "text/html": [
       "<span style=\"color:cyan\"> |-LSTM_input: 256</span>"
      ],
      "text/plain": [
       "<IPython.core.display.HTML object>"
      ]
     },
     "metadata": {},
     "output_type": "display_data"
    },
    {
     "data": {
      "text/html": [
       "<span style=\"color:blue\"> |-n_layers: 2</span>"
      ],
      "text/plain": [
       "<IPython.core.display.HTML object>"
      ]
     },
     "metadata": {},
     "output_type": "display_data"
    },
    {
     "data": {
      "text/html": [
       "<span style=\"color:cyan\"> |-tuner/bracket: 3</span>"
      ],
      "text/plain": [
       "<IPython.core.display.HTML object>"
      ]
     },
     "metadata": {},
     "output_type": "display_data"
    },
    {
     "data": {
      "text/html": [
       "<span style=\"color:blue\"> |-tuner/epochs: 3</span>"
      ],
      "text/plain": [
       "<IPython.core.display.HTML object>"
      ]
     },
     "metadata": {},
     "output_type": "display_data"
    },
    {
     "data": {
      "text/html": [
       "<span style=\"color:cyan\"> |-tuner/initial_epoch: 0</span>"
      ],
      "text/plain": [
       "<IPython.core.display.HTML object>"
      ]
     },
     "metadata": {},
     "output_type": "display_data"
    },
    {
     "data": {
      "text/html": [
       "<span style=\"color:blue\"> |-tuner/round: 0</span>"
      ],
      "text/plain": [
       "<IPython.core.display.HTML object>"
      ]
     },
     "metadata": {},
     "output_type": "display_data"
    },
    {
     "name": "stdout",
     "output_type": "stream",
     "text": [
      "Model: \"sequential\"\n",
      "_________________________________________________________________\n",
      "Layer (type)                 Output Shape              Param #   \n",
      "=================================================================\n",
      "lstm (LSTM)                  (None, 100, 192)          214272    \n",
      "_________________________________________________________________\n",
      "lstm_1 (LSTM)                (None, 100, 96)           110976    \n",
      "_________________________________________________________________\n",
      "lstm_2 (LSTM)                (None, 100, 32)           16512     \n",
      "_________________________________________________________________\n",
      "lstm_3 (LSTM)                (None, 100, 96)           49536     \n",
      "_________________________________________________________________\n",
      "lstm_4 (LSTM)                (None, 32)                16512     \n",
      "_________________________________________________________________\n",
      "dense (Dense)                (None, 5)                 165       \n",
      "=================================================================\n",
      "Total params: 407,973\n",
      "Trainable params: 407,973\n",
      "Non-trainable params: 0\n",
      "_________________________________________________________________\n",
      "Train on 208 samples, validate on 69 samples\n",
      "Epoch 1/3\n",
      "208/208 [==============================] - ETA: 34s - loss: 1.6090 - accuracy: 0.2812 - precision: 0.0000e+00 - recall: 0.0000e+ - ETA: 7s - loss: 1.5880 - accuracy: 0.3542 - precision: 0.0000e+00 - recall: 0.0000e+00 - ETA: 1s - loss: 1.5572 - accuracy: 0.3063 - precision: 0.0000e+00 - recall: 0.0000e+0 - 8s 40ms/sample - loss: 1.5265 - accuracy: 0.3077 - precision: 0.0000e+00 - recall: 0.0000e+00 - val_loss: 1.4306 - val_accuracy: 0.2464 - val_precision: 0.0000e+00 - val_recall: 0.0000e+00\n",
      "Epoch 2/3\n",
      "208/208 [==============================] - ETA: 0s - loss: 1.4149 - accuracy: 0.2812 - precision: 0.0000e+00 - recall: 0.0000e+0 - ETA: 0s - loss: 1.3853 - accuracy: 0.3333 - precision: 1.0000 - recall: 0.0417        - ETA: 0s - loss: 1.3900 - accuracy: 0.3000 - precision: 0.8000 - recall: 0.075 - 0s 2ms/sample - loss: 1.3429 - accuracy: 0.3558 - precision: 0.8846 - recall: 0.1106 - val_loss: 1.2415 - val_accuracy: 0.4203 - val_precision: 0.8000 - val_recall: 0.1739\n",
      "Epoch 3/3\n",
      "208/208 [==============================] - ETA: 0s - loss: 1.1989 - accuracy: 0.5000 - precision: 0.8571 - recall: 0.187 - ETA: 0s - loss: 1.1834 - accuracy: 0.5104 - precision: 0.8261 - recall: 0.197 - ETA: 0s - loss: 1.1387 - accuracy: 0.5063 - precision: 0.8605 - recall: 0.231 - 0s 2ms/sample - loss: 1.1492 - accuracy: 0.5048 - precision: 0.8148 - recall: 0.2115 - val_loss: 1.1014 - val_accuracy: 0.4928 - val_precision: 1.0000 - val_recall: 0.1594\n"
     ]
    },
    {
     "data": {
      "text/html": [
       "<span style=\"color:#4527A0\"><h1 style=\"font-size:18px\">Trial complete</h1></span>"
      ],
      "text/plain": [
       "<IPython.core.display.HTML object>"
      ]
     },
     "metadata": {},
     "output_type": "display_data"
    },
    {
     "data": {
      "text/html": [
       "<span style=\"color:#4527A0\"><h1 style=\"font-size:18px\">Trial summary</h1></span>"
      ],
      "text/plain": [
       "<IPython.core.display.HTML object>"
      ]
     },
     "metadata": {},
     "output_type": "display_data"
    },
    {
     "data": {
      "text/html": [
       "<span style=\"color:cyan\"> |-Trial ID: fa0d94405f6d245c4ad3b3a749d6b95d</span>"
      ],
      "text/plain": [
       "<IPython.core.display.HTML object>"
      ]
     },
     "metadata": {},
     "output_type": "display_data"
    },
    {
     "data": {
      "text/html": [
       "<span style=\"color:cyan\"> |-Score: 0.49275362491607666</span>"
      ],
      "text/plain": [
       "<IPython.core.display.HTML object>"
      ]
     },
     "metadata": {},
     "output_type": "display_data"
    },
    {
     "data": {
      "text/html": [
       "<span style=\"color:cyan\"> |-Best step: 0</span>"
      ],
      "text/plain": [
       "<IPython.core.display.HTML object>"
      ]
     },
     "metadata": {},
     "output_type": "display_data"
    },
    {
     "data": {
      "text/html": [
       "<span style=\"color:#7E57C2\"><h2 style=\"font-size:16px\">Hyperparameters:</h2></span>"
      ],
      "text/plain": [
       "<IPython.core.display.HTML object>"
      ]
     },
     "metadata": {},
     "output_type": "display_data"
    },
    {
     "data": {
      "text/html": [
       "<span style=\"color:cyan\"> |-LSTM_0_units: 96</span>"
      ],
      "text/plain": [
       "<IPython.core.display.HTML object>"
      ]
     },
     "metadata": {},
     "output_type": "display_data"
    },
    {
     "data": {
      "text/html": [
       "<span style=\"color:blue\"> |-LSTM_1_units: 32</span>"
      ],
      "text/plain": [
       "<IPython.core.display.HTML object>"
      ]
     },
     "metadata": {},
     "output_type": "display_data"
    },
    {
     "data": {
      "text/html": [
       "<span style=\"color:cyan\"> |-LSTM_2_units: 96</span>"
      ],
      "text/plain": [
       "<IPython.core.display.HTML object>"
      ]
     },
     "metadata": {},
     "output_type": "display_data"
    },
    {
     "data": {
      "text/html": [
       "<span style=\"color:blue\"> |-LSTM_End: 32</span>"
      ],
      "text/plain": [
       "<IPython.core.display.HTML object>"
      ]
     },
     "metadata": {},
     "output_type": "display_data"
    },
    {
     "data": {
      "text/html": [
       "<span style=\"color:cyan\"> |-LSTM_input: 192</span>"
      ],
      "text/plain": [
       "<IPython.core.display.HTML object>"
      ]
     },
     "metadata": {},
     "output_type": "display_data"
    },
    {
     "data": {
      "text/html": [
       "<span style=\"color:blue\"> |-n_layers: 3</span>"
      ],
      "text/plain": [
       "<IPython.core.display.HTML object>"
      ]
     },
     "metadata": {},
     "output_type": "display_data"
    },
    {
     "data": {
      "text/html": [
       "<span style=\"color:cyan\"> |-tuner/bracket: 3</span>"
      ],
      "text/plain": [
       "<IPython.core.display.HTML object>"
      ]
     },
     "metadata": {},
     "output_type": "display_data"
    },
    {
     "data": {
      "text/html": [
       "<span style=\"color:blue\"> |-tuner/epochs: 3</span>"
      ],
      "text/plain": [
       "<IPython.core.display.HTML object>"
      ]
     },
     "metadata": {},
     "output_type": "display_data"
    },
    {
     "data": {
      "text/html": [
       "<span style=\"color:cyan\"> |-tuner/initial_epoch: 0</span>"
      ],
      "text/plain": [
       "<IPython.core.display.HTML object>"
      ]
     },
     "metadata": {},
     "output_type": "display_data"
    },
    {
     "data": {
      "text/html": [
       "<span style=\"color:blue\"> |-tuner/round: 0</span>"
      ],
      "text/plain": [
       "<IPython.core.display.HTML object>"
      ]
     },
     "metadata": {},
     "output_type": "display_data"
    },
    {
     "name": "stdout",
     "output_type": "stream",
     "text": [
      "Model: \"sequential\"\n",
      "_________________________________________________________________\n",
      "Layer (type)                 Output Shape              Param #   \n",
      "=================================================================\n",
      "lstm (LSTM)                  (None, 100, 192)          214272    \n",
      "_________________________________________________________________\n",
      "lstm_1 (LSTM)                (None, 100, 64)           65792     \n",
      "_________________________________________________________________\n",
      "lstm_2 (LSTM)                (None, 100, 64)           33024     \n",
      "_________________________________________________________________\n",
      "lstm_3 (LSTM)                (None, 128)               98816     \n",
      "_________________________________________________________________\n",
      "dense (Dense)                (None, 5)                 645       \n",
      "=================================================================\n",
      "Total params: 412,549\n",
      "Trainable params: 412,549\n",
      "Non-trainable params: 0\n",
      "_________________________________________________________________\n",
      "Train on 208 samples, validate on 69 samples\n",
      "Epoch 1/3\n",
      "208/208 [==============================] - ETA: 35s - loss: 1.6089 - accuracy: 0.2188 - precision: 0.0000e+00 - recall: 0.0000e+ - ETA: 7s - loss: 1.5949 - accuracy: 0.3438 - precision: 0.0000e+00 - recall: 0.0000e+00 - ETA: 1s - loss: 1.5371 - accuracy: 0.3313 - precision: 1.0000 - recall: 0.0125        - 9s 43ms/sample - loss: 1.5542 - accuracy: 0.2981 - precision: 0.3913 - recall: 0.0433 - val_loss: 1.4234 - val_accuracy: 0.3043 - val_precision: 1.0000 - val_recall: 0.0435\n",
      "Epoch 2/3\n",
      "208/208 [==============================] - ETA: 0s - loss: 1.3032 - accuracy: 0.3750 - precision: 1.0000 - recall: 0.125 - ETA: 0s - loss: 1.3905 - accuracy: 0.3854 - precision: 1.0000 - recall: 0.041 - ETA: 0s - loss: 1.3820 - accuracy: 0.4000 - precision: 1.0000 - recall: 0.050 - 0s 2ms/sample - loss: 1.3667 - accuracy: 0.3894 - precision: 1.0000 - recall: 0.0481 - val_loss: 1.2872 - val_accuracy: 0.3188 - val_precision: 0.6842 - val_recall: 0.1884\n",
      "Epoch 3/3\n",
      "208/208 [==============================] - ETA: 0s - loss: 1.2858 - accuracy: 0.3750 - precision: 0.7778 - recall: 0.218 - ETA: 0s - loss: 1.1726 - accuracy: 0.4271 - precision: 0.8077 - recall: 0.218 - ETA: 0s - loss: 1.1811 - accuracy: 0.4500 - precision: 0.8611 - recall: 0.193 - 0s 2ms/sample - loss: 1.1553 - accuracy: 0.4663 - precision: 0.8636 - recall: 0.1827 - val_loss: 1.0687 - val_accuracy: 0.4493 - val_precision: 0.7778 - val_recall: 0.2029\n"
     ]
    },
    {
     "data": {
      "text/html": [
       "<span style=\"color:#4527A0\"><h1 style=\"font-size:18px\">Trial complete</h1></span>"
      ],
      "text/plain": [
       "<IPython.core.display.HTML object>"
      ]
     },
     "metadata": {},
     "output_type": "display_data"
    },
    {
     "data": {
      "text/html": [
       "<span style=\"color:#4527A0\"><h1 style=\"font-size:18px\">Trial summary</h1></span>"
      ],
      "text/plain": [
       "<IPython.core.display.HTML object>"
      ]
     },
     "metadata": {},
     "output_type": "display_data"
    },
    {
     "data": {
      "text/html": [
       "<span style=\"color:cyan\"> |-Trial ID: 1757275e46fe4ef24561ea8d6ba2fa20</span>"
      ],
      "text/plain": [
       "<IPython.core.display.HTML object>"
      ]
     },
     "metadata": {},
     "output_type": "display_data"
    },
    {
     "data": {
      "text/html": [
       "<span style=\"color:cyan\"> |-Score: 0.4492753744125366</span>"
      ],
      "text/plain": [
       "<IPython.core.display.HTML object>"
      ]
     },
     "metadata": {},
     "output_type": "display_data"
    },
    {
     "data": {
      "text/html": [
       "<span style=\"color:cyan\"> |-Best step: 0</span>"
      ],
      "text/plain": [
       "<IPython.core.display.HTML object>"
      ]
     },
     "metadata": {},
     "output_type": "display_data"
    },
    {
     "data": {
      "text/html": [
       "<span style=\"color:#7E57C2\"><h2 style=\"font-size:16px\">Hyperparameters:</h2></span>"
      ],
      "text/plain": [
       "<IPython.core.display.HTML object>"
      ]
     },
     "metadata": {},
     "output_type": "display_data"
    },
    {
     "data": {
      "text/html": [
       "<span style=\"color:cyan\"> |-LSTM_0_units: 64</span>"
      ],
      "text/plain": [
       "<IPython.core.display.HTML object>"
      ]
     },
     "metadata": {},
     "output_type": "display_data"
    },
    {
     "data": {
      "text/html": [
       "<span style=\"color:blue\"> |-LSTM_1_units: 64</span>"
      ],
      "text/plain": [
       "<IPython.core.display.HTML object>"
      ]
     },
     "metadata": {},
     "output_type": "display_data"
    },
    {
     "data": {
      "text/html": [
       "<span style=\"color:cyan\"> |-LSTM_2_units: 96</span>"
      ],
      "text/plain": [
       "<IPython.core.display.HTML object>"
      ]
     },
     "metadata": {},
     "output_type": "display_data"
    },
    {
     "data": {
      "text/html": [
       "<span style=\"color:blue\"> |-LSTM_End: 128</span>"
      ],
      "text/plain": [
       "<IPython.core.display.HTML object>"
      ]
     },
     "metadata": {},
     "output_type": "display_data"
    },
    {
     "data": {
      "text/html": [
       "<span style=\"color:cyan\"> |-LSTM_input: 192</span>"
      ],
      "text/plain": [
       "<IPython.core.display.HTML object>"
      ]
     },
     "metadata": {},
     "output_type": "display_data"
    },
    {
     "data": {
      "text/html": [
       "<span style=\"color:blue\"> |-n_layers: 2</span>"
      ],
      "text/plain": [
       "<IPython.core.display.HTML object>"
      ]
     },
     "metadata": {},
     "output_type": "display_data"
    },
    {
     "data": {
      "text/html": [
       "<span style=\"color:cyan\"> |-tuner/bracket: 3</span>"
      ],
      "text/plain": [
       "<IPython.core.display.HTML object>"
      ]
     },
     "metadata": {},
     "output_type": "display_data"
    },
    {
     "data": {
      "text/html": [
       "<span style=\"color:blue\"> |-tuner/epochs: 3</span>"
      ],
      "text/plain": [
       "<IPython.core.display.HTML object>"
      ]
     },
     "metadata": {},
     "output_type": "display_data"
    },
    {
     "data": {
      "text/html": [
       "<span style=\"color:cyan\"> |-tuner/initial_epoch: 0</span>"
      ],
      "text/plain": [
       "<IPython.core.display.HTML object>"
      ]
     },
     "metadata": {},
     "output_type": "display_data"
    },
    {
     "data": {
      "text/html": [
       "<span style=\"color:blue\"> |-tuner/round: 0</span>"
      ],
      "text/plain": [
       "<IPython.core.display.HTML object>"
      ]
     },
     "metadata": {},
     "output_type": "display_data"
    },
    {
     "name": "stdout",
     "output_type": "stream",
     "text": [
      "Model: \"sequential\"\n",
      "_________________________________________________________________\n",
      "Layer (type)                 Output Shape              Param #   \n",
      "=================================================================\n",
      "lstm (LSTM)                  (None, 100, 128)          110080    \n",
      "_________________________________________________________________\n",
      "lstm_1 (LSTM)                (None, 100, 96)           86400     \n",
      "_________________________________________________________________\n",
      "lstm_2 (LSTM)                (None, 96)                74112     \n",
      "_________________________________________________________________\n",
      "dense (Dense)                (None, 5)                 485       \n",
      "=================================================================\n",
      "Total params: 271,077\n",
      "Trainable params: 271,077\n",
      "Non-trainable params: 0\n",
      "_________________________________________________________________\n",
      "Train on 208 samples, validate on 69 samples\n",
      "Epoch 1/3\n",
      "208/208 [==============================] - ETA: 32s - loss: 1.6083 - accuracy: 0.3125 - precision: 0.0000e+00 - recall: 0.0000e+ - ETA: 3s - loss: 1.5896 - accuracy: 0.3125 - precision: 0.0000e+00 - recall: 0.0000e+00 - ETA: 0s - loss: 1.5444 - accuracy: 0.3021 - precision: 1.0000 - recall: 0.0365        - 8s 38ms/sample - loss: 1.5250 - accuracy: 0.3029 - precision: 1.0000 - recall: 0.0529 - val_loss: 1.3482 - val_accuracy: 0.4638 - val_precision: 0.9091 - val_recall: 0.1449\n",
      "Epoch 2/3\n",
      "208/208 [==============================] - ETA: 0s - loss: 1.3637 - accuracy: 0.4688 - precision: 1.0000 - recall: 0.093 - ETA: 0s - loss: 1.3171 - accuracy: 0.4896 - precision: 0.8750 - recall: 0.145 - ETA: 0s - loss: 1.2531 - accuracy: 0.4750 - precision: 0.8571 - recall: 0.187 - 0s 1ms/sample - loss: 1.2498 - accuracy: 0.4423 - precision: 0.8636 - recall: 0.1827 - val_loss: 1.1282 - val_accuracy: 0.4638 - val_precision: 0.8000 - val_recall: 0.1739\n",
      "Epoch 3/3\n",
      "208/208 [==============================] - ETA: 0s - loss: 1.1675 - accuracy: 0.3438 - precision: 0.8000 - recall: 0.125 - ETA: 0s - loss: 1.2464 - accuracy: 0.3438 - precision: 0.8750 - recall: 0.109 - ETA: 0s - loss: 1.1461 - accuracy: 0.3906 - precision: 0.8750 - recall: 0.164 - ETA: 0s - loss: 1.1168 - accuracy: 0.4010 - precision: 0.8125 - recall: 0.203 - 0s 2ms/sample - loss: 1.1132 - accuracy: 0.4135 - precision: 0.7885 - recall: 0.1971 - val_loss: 1.0307 - val_accuracy: 0.4928 - val_precision: 0.8000 - val_recall: 0.2319\n"
     ]
    },
    {
     "data": {
      "text/html": [
       "<span style=\"color:#4527A0\"><h1 style=\"font-size:18px\">Trial complete</h1></span>"
      ],
      "text/plain": [
       "<IPython.core.display.HTML object>"
      ]
     },
     "metadata": {},
     "output_type": "display_data"
    },
    {
     "data": {
      "text/html": [
       "<span style=\"color:#4527A0\"><h1 style=\"font-size:18px\">Trial summary</h1></span>"
      ],
      "text/plain": [
       "<IPython.core.display.HTML object>"
      ]
     },
     "metadata": {},
     "output_type": "display_data"
    },
    {
     "data": {
      "text/html": [
       "<span style=\"color:cyan\"> |-Trial ID: 4c8be7d650f88b4faa6ccc4e36f3a766</span>"
      ],
      "text/plain": [
       "<IPython.core.display.HTML object>"
      ]
     },
     "metadata": {},
     "output_type": "display_data"
    },
    {
     "data": {
      "text/html": [
       "<span style=\"color:cyan\"> |-Score: 0.49275362491607666</span>"
      ],
      "text/plain": [
       "<IPython.core.display.HTML object>"
      ]
     },
     "metadata": {},
     "output_type": "display_data"
    },
    {
     "data": {
      "text/html": [
       "<span style=\"color:cyan\"> |-Best step: 0</span>"
      ],
      "text/plain": [
       "<IPython.core.display.HTML object>"
      ]
     },
     "metadata": {},
     "output_type": "display_data"
    },
    {
     "data": {
      "text/html": [
       "<span style=\"color:#7E57C2\"><h2 style=\"font-size:16px\">Hyperparameters:</h2></span>"
      ],
      "text/plain": [
       "<IPython.core.display.HTML object>"
      ]
     },
     "metadata": {},
     "output_type": "display_data"
    },
    {
     "data": {
      "text/html": [
       "<span style=\"color:cyan\"> |-LSTM_0_units: 96</span>"
      ],
      "text/plain": [
       "<IPython.core.display.HTML object>"
      ]
     },
     "metadata": {},
     "output_type": "display_data"
    },
    {
     "data": {
      "text/html": [
       "<span style=\"color:blue\"> |-LSTM_1_units: 96</span>"
      ],
      "text/plain": [
       "<IPython.core.display.HTML object>"
      ]
     },
     "metadata": {},
     "output_type": "display_data"
    },
    {
     "data": {
      "text/html": [
       "<span style=\"color:cyan\"> |-LSTM_2_units: 64</span>"
      ],
      "text/plain": [
       "<IPython.core.display.HTML object>"
      ]
     },
     "metadata": {},
     "output_type": "display_data"
    },
    {
     "data": {
      "text/html": [
       "<span style=\"color:blue\"> |-LSTM_End: 96</span>"
      ],
      "text/plain": [
       "<IPython.core.display.HTML object>"
      ]
     },
     "metadata": {},
     "output_type": "display_data"
    },
    {
     "data": {
      "text/html": [
       "<span style=\"color:cyan\"> |-LSTM_input: 128</span>"
      ],
      "text/plain": [
       "<IPython.core.display.HTML object>"
      ]
     },
     "metadata": {},
     "output_type": "display_data"
    },
    {
     "data": {
      "text/html": [
       "<span style=\"color:blue\"> |-n_layers: 1</span>"
      ],
      "text/plain": [
       "<IPython.core.display.HTML object>"
      ]
     },
     "metadata": {},
     "output_type": "display_data"
    },
    {
     "data": {
      "text/html": [
       "<span style=\"color:cyan\"> |-tuner/bracket: 3</span>"
      ],
      "text/plain": [
       "<IPython.core.display.HTML object>"
      ]
     },
     "metadata": {},
     "output_type": "display_data"
    },
    {
     "data": {
      "text/html": [
       "<span style=\"color:blue\"> |-tuner/epochs: 3</span>"
      ],
      "text/plain": [
       "<IPython.core.display.HTML object>"
      ]
     },
     "metadata": {},
     "output_type": "display_data"
    },
    {
     "data": {
      "text/html": [
       "<span style=\"color:cyan\"> |-tuner/initial_epoch: 0</span>"
      ],
      "text/plain": [
       "<IPython.core.display.HTML object>"
      ]
     },
     "metadata": {},
     "output_type": "display_data"
    },
    {
     "data": {
      "text/html": [
       "<span style=\"color:blue\"> |-tuner/round: 0</span>"
      ],
      "text/plain": [
       "<IPython.core.display.HTML object>"
      ]
     },
     "metadata": {},
     "output_type": "display_data"
    },
    {
     "name": "stdout",
     "output_type": "stream",
     "text": [
      "Model: \"sequential\"\n",
      "_________________________________________________________________\n",
      "Layer (type)                 Output Shape              Param #   \n",
      "=================================================================\n",
      "lstm (LSTM)                  (None, 100, 192)          214272    \n",
      "_________________________________________________________________\n",
      "lstm_1 (LSTM)                (None, 100, 64)           65792     \n",
      "_________________________________________________________________\n",
      "lstm_2 (LSTM)                (None, 100, 96)           61824     \n",
      "_________________________________________________________________\n",
      "lstm_3 (LSTM)                (None, 32)                16512     \n",
      "_________________________________________________________________\n",
      "dense (Dense)                (None, 5)                 165       \n",
      "=================================================================\n",
      "Total params: 358,565\n",
      "Trainable params: 358,565\n",
      "Non-trainable params: 0\n",
      "_________________________________________________________________\n",
      "Train on 208 samples, validate on 69 samples\n",
      "Epoch 1/3\n",
      "208/208 [==============================] - ETA: 29s - loss: 1.6088 - accuracy: 0.2812 - precision: 0.0000e+00 - recall: 0.0000e+ - ETA: 6s - loss: 1.5931 - accuracy: 0.3542 - precision: 0.0000e+00 - recall: 0.0000e+00 - ETA: 1s - loss: 1.5476 - accuracy: 0.3812 - precision: 0.0000e+00 - recall: 0.0000e+0 - 7s 35ms/sample - loss: 1.5119 - accuracy: 0.3654 - precision: 1.0000 - recall: 0.0337 - val_loss: 1.3700 - val_accuracy: 0.3768 - val_precision: 1.0000 - val_recall: 0.0870\n",
      "Epoch 2/3\n",
      "208/208 [==============================] - ETA: 0s - loss: 1.3382 - accuracy: 0.6250 - precision: 1.0000 - recall: 0.062 - ETA: 0s - loss: 1.3391 - accuracy: 0.4688 - precision: 1.0000 - recall: 0.093 - ETA: 0s - loss: 1.3043 - accuracy: 0.4563 - precision: 0.8276 - recall: 0.150 - 0s 1ms/sample - loss: 1.2684 - accuracy: 0.4663 - precision: 0.8095 - recall: 0.1635 - val_loss: 1.1799 - val_accuracy: 0.3768 - val_precision: 1.0000 - val_recall: 0.1594\n",
      "Epoch 3/3\n",
      "208/208 [==============================] - ETA: 0s - loss: 1.1283 - accuracy: 0.4375 - precision: 1.0000 - recall: 0.250 - ETA: 0s - loss: 1.0198 - accuracy: 0.5625 - precision: 0.9615 - recall: 0.260 - ETA: 0s - loss: 1.0721 - accuracy: 0.5000 - precision: 0.8919 - recall: 0.206 - 0s 1ms/sample - loss: 1.0828 - accuracy: 0.5000 - precision: 0.9091 - recall: 0.1923 - val_loss: 1.0817 - val_accuracy: 0.4638 - val_precision: 0.7391 - val_recall: 0.2464\n"
     ]
    },
    {
     "data": {
      "text/html": [
       "<span style=\"color:#4527A0\"><h1 style=\"font-size:18px\">Trial complete</h1></span>"
      ],
      "text/plain": [
       "<IPython.core.display.HTML object>"
      ]
     },
     "metadata": {},
     "output_type": "display_data"
    },
    {
     "data": {
      "text/html": [
       "<span style=\"color:#4527A0\"><h1 style=\"font-size:18px\">Trial summary</h1></span>"
      ],
      "text/plain": [
       "<IPython.core.display.HTML object>"
      ]
     },
     "metadata": {},
     "output_type": "display_data"
    },
    {
     "data": {
      "text/html": [
       "<span style=\"color:cyan\"> |-Trial ID: e1b087591b496107aadfbf2287406d0b</span>"
      ],
      "text/plain": [
       "<IPython.core.display.HTML object>"
      ]
     },
     "metadata": {},
     "output_type": "display_data"
    },
    {
     "data": {
      "text/html": [
       "<span style=\"color:cyan\"> |-Score: 0.4637681245803833</span>"
      ],
      "text/plain": [
       "<IPython.core.display.HTML object>"
      ]
     },
     "metadata": {},
     "output_type": "display_data"
    },
    {
     "data": {
      "text/html": [
       "<span style=\"color:cyan\"> |-Best step: 0</span>"
      ],
      "text/plain": [
       "<IPython.core.display.HTML object>"
      ]
     },
     "metadata": {},
     "output_type": "display_data"
    },
    {
     "data": {
      "text/html": [
       "<span style=\"color:#7E57C2\"><h2 style=\"font-size:16px\">Hyperparameters:</h2></span>"
      ],
      "text/plain": [
       "<IPython.core.display.HTML object>"
      ]
     },
     "metadata": {},
     "output_type": "display_data"
    },
    {
     "data": {
      "text/html": [
       "<span style=\"color:cyan\"> |-LSTM_0_units: 64</span>"
      ],
      "text/plain": [
       "<IPython.core.display.HTML object>"
      ]
     },
     "metadata": {},
     "output_type": "display_data"
    },
    {
     "data": {
      "text/html": [
       "<span style=\"color:blue\"> |-LSTM_1_units: 96</span>"
      ],
      "text/plain": [
       "<IPython.core.display.HTML object>"
      ]
     },
     "metadata": {},
     "output_type": "display_data"
    },
    {
     "data": {
      "text/html": [
       "<span style=\"color:cyan\"> |-LSTM_2_units: 64</span>"
      ],
      "text/plain": [
       "<IPython.core.display.HTML object>"
      ]
     },
     "metadata": {},
     "output_type": "display_data"
    },
    {
     "data": {
      "text/html": [
       "<span style=\"color:blue\"> |-LSTM_End: 32</span>"
      ],
      "text/plain": [
       "<IPython.core.display.HTML object>"
      ]
     },
     "metadata": {},
     "output_type": "display_data"
    },
    {
     "data": {
      "text/html": [
       "<span style=\"color:cyan\"> |-LSTM_input: 192</span>"
      ],
      "text/plain": [
       "<IPython.core.display.HTML object>"
      ]
     },
     "metadata": {},
     "output_type": "display_data"
    },
    {
     "data": {
      "text/html": [
       "<span style=\"color:blue\"> |-n_layers: 2</span>"
      ],
      "text/plain": [
       "<IPython.core.display.HTML object>"
      ]
     },
     "metadata": {},
     "output_type": "display_data"
    },
    {
     "data": {
      "text/html": [
       "<span style=\"color:cyan\"> |-tuner/bracket: 3</span>"
      ],
      "text/plain": [
       "<IPython.core.display.HTML object>"
      ]
     },
     "metadata": {},
     "output_type": "display_data"
    },
    {
     "data": {
      "text/html": [
       "<span style=\"color:blue\"> |-tuner/epochs: 3</span>"
      ],
      "text/plain": [
       "<IPython.core.display.HTML object>"
      ]
     },
     "metadata": {},
     "output_type": "display_data"
    },
    {
     "data": {
      "text/html": [
       "<span style=\"color:cyan\"> |-tuner/initial_epoch: 0</span>"
      ],
      "text/plain": [
       "<IPython.core.display.HTML object>"
      ]
     },
     "metadata": {},
     "output_type": "display_data"
    },
    {
     "data": {
      "text/html": [
       "<span style=\"color:blue\"> |-tuner/round: 0</span>"
      ],
      "text/plain": [
       "<IPython.core.display.HTML object>"
      ]
     },
     "metadata": {},
     "output_type": "display_data"
    },
    {
     "name": "stdout",
     "output_type": "stream",
     "text": [
      "Model: \"sequential\"\n",
      "_________________________________________________________________\n",
      "Layer (type)                 Output Shape              Param #   \n",
      "=================================================================\n",
      "lstm (LSTM)                  (None, 100, 128)          110080    \n",
      "_________________________________________________________________\n",
      "lstm_1 (LSTM)                (None, 100, 96)           86400     \n",
      "_________________________________________________________________\n",
      "lstm_2 (LSTM)                (None, 96)                74112     \n",
      "_________________________________________________________________\n",
      "dense (Dense)                (None, 5)                 485       \n",
      "=================================================================\n",
      "Total params: 271,077\n",
      "Trainable params: 271,077\n",
      "Non-trainable params: 0\n",
      "_________________________________________________________________\n",
      "Train on 208 samples, validate on 69 samples\n",
      "Epoch 1/3\n",
      "208/208 [==============================] - ETA: 22s - loss: 1.6097 - accuracy: 0.0625 - precision: 0.0000e+00 - recall: 0.0000e+ - ETA: 4s - loss: 1.5985 - accuracy: 0.2812 - precision: 0.0000e+00 - recall: 0.0000e+00 - ETA: 0s - loss: 1.5508 - accuracy: 0.3438 - precision: 0.0000e+00 - recall: 0.0000e+0 - 5s 26ms/sample - loss: 1.5452 - accuracy: 0.3317 - precision: 1.0000 - recall: 0.0096 - val_loss: 1.4118 - val_accuracy: 0.2464 - val_precision: 0.8571 - val_recall: 0.1739\n",
      "Epoch 2/3\n",
      "208/208 [==============================] - ETA: 0s - loss: 1.3104 - accuracy: 0.3438 - precision: 0.8750 - recall: 0.218 - ETA: 0s - loss: 1.2790 - accuracy: 0.4062 - precision: 0.9130 - recall: 0.164 - 0s 1ms/sample - loss: 1.2439 - accuracy: 0.4183 - precision: 0.8750 - recall: 0.1683 - val_loss: 1.0809 - val_accuracy: 0.3768 - val_precision: 1.0000 - val_recall: 0.1594\n",
      "Epoch 3/3\n",
      "208/208 [==============================] - ETA: 0s - loss: 1.2485 - accuracy: 0.3125 - precision: 0.7143 - recall: 0.156 - ETA: 0s - loss: 1.1350 - accuracy: 0.3594 - precision: 0.9091 - recall: 0.156 - 0s 1ms/sample - loss: 1.0864 - accuracy: 0.4231 - precision: 0.8780 - recall: 0.1731 - val_loss: 1.0180 - val_accuracy: 0.4638 - val_precision: 0.8125 - val_recall: 0.1884\n"
     ]
    },
    {
     "data": {
      "text/html": [
       "<span style=\"color:#4527A0\"><h1 style=\"font-size:18px\">Trial complete</h1></span>"
      ],
      "text/plain": [
       "<IPython.core.display.HTML object>"
      ]
     },
     "metadata": {},
     "output_type": "display_data"
    },
    {
     "data": {
      "text/html": [
       "<span style=\"color:#4527A0\"><h1 style=\"font-size:18px\">Trial summary</h1></span>"
      ],
      "text/plain": [
       "<IPython.core.display.HTML object>"
      ]
     },
     "metadata": {},
     "output_type": "display_data"
    },
    {
     "data": {
      "text/html": [
       "<span style=\"color:cyan\"> |-Trial ID: 9f80bba04d7bd827da71203dacf8b3e3</span>"
      ],
      "text/plain": [
       "<IPython.core.display.HTML object>"
      ]
     },
     "metadata": {},
     "output_type": "display_data"
    },
    {
     "data": {
      "text/html": [
       "<span style=\"color:cyan\"> |-Score: 0.4637681245803833</span>"
      ],
      "text/plain": [
       "<IPython.core.display.HTML object>"
      ]
     },
     "metadata": {},
     "output_type": "display_data"
    },
    {
     "data": {
      "text/html": [
       "<span style=\"color:cyan\"> |-Best step: 0</span>"
      ],
      "text/plain": [
       "<IPython.core.display.HTML object>"
      ]
     },
     "metadata": {},
     "output_type": "display_data"
    },
    {
     "data": {
      "text/html": [
       "<span style=\"color:#7E57C2\"><h2 style=\"font-size:16px\">Hyperparameters:</h2></span>"
      ],
      "text/plain": [
       "<IPython.core.display.HTML object>"
      ]
     },
     "metadata": {},
     "output_type": "display_data"
    },
    {
     "data": {
      "text/html": [
       "<span style=\"color:cyan\"> |-LSTM_0_units: 96</span>"
      ],
      "text/plain": [
       "<IPython.core.display.HTML object>"
      ]
     },
     "metadata": {},
     "output_type": "display_data"
    },
    {
     "data": {
      "text/html": [
       "<span style=\"color:blue\"> |-LSTM_1_units: 96</span>"
      ],
      "text/plain": [
       "<IPython.core.display.HTML object>"
      ]
     },
     "metadata": {},
     "output_type": "display_data"
    },
    {
     "data": {
      "text/html": [
       "<span style=\"color:cyan\"> |-LSTM_2_units: 96</span>"
      ],
      "text/plain": [
       "<IPython.core.display.HTML object>"
      ]
     },
     "metadata": {},
     "output_type": "display_data"
    },
    {
     "data": {
      "text/html": [
       "<span style=\"color:blue\"> |-LSTM_End: 96</span>"
      ],
      "text/plain": [
       "<IPython.core.display.HTML object>"
      ]
     },
     "metadata": {},
     "output_type": "display_data"
    },
    {
     "data": {
      "text/html": [
       "<span style=\"color:cyan\"> |-LSTM_input: 128</span>"
      ],
      "text/plain": [
       "<IPython.core.display.HTML object>"
      ]
     },
     "metadata": {},
     "output_type": "display_data"
    },
    {
     "data": {
      "text/html": [
       "<span style=\"color:blue\"> |-n_layers: 1</span>"
      ],
      "text/plain": [
       "<IPython.core.display.HTML object>"
      ]
     },
     "metadata": {},
     "output_type": "display_data"
    },
    {
     "data": {
      "text/html": [
       "<span style=\"color:cyan\"> |-tuner/bracket: 3</span>"
      ],
      "text/plain": [
       "<IPython.core.display.HTML object>"
      ]
     },
     "metadata": {},
     "output_type": "display_data"
    },
    {
     "data": {
      "text/html": [
       "<span style=\"color:blue\"> |-tuner/epochs: 3</span>"
      ],
      "text/plain": [
       "<IPython.core.display.HTML object>"
      ]
     },
     "metadata": {},
     "output_type": "display_data"
    },
    {
     "data": {
      "text/html": [
       "<span style=\"color:cyan\"> |-tuner/initial_epoch: 0</span>"
      ],
      "text/plain": [
       "<IPython.core.display.HTML object>"
      ]
     },
     "metadata": {},
     "output_type": "display_data"
    },
    {
     "data": {
      "text/html": [
       "<span style=\"color:blue\"> |-tuner/round: 0</span>"
      ],
      "text/plain": [
       "<IPython.core.display.HTML object>"
      ]
     },
     "metadata": {},
     "output_type": "display_data"
    },
    {
     "name": "stdout",
     "output_type": "stream",
     "text": [
      "Model: \"sequential\"\n",
      "_________________________________________________________________\n",
      "Layer (type)                 Output Shape              Param #   \n",
      "=================================================================\n",
      "lstm (LSTM)                  (None, 100, 128)          110080    \n",
      "_________________________________________________________________\n",
      "lstm_1 (LSTM)                (None, 100, 32)           20608     \n",
      "_________________________________________________________________\n",
      "lstm_2 (LSTM)                (None, 100, 64)           24832     \n",
      "_________________________________________________________________\n",
      "lstm_3 (LSTM)                (None, 96)                61824     \n",
      "_________________________________________________________________\n",
      "dense (Dense)                (None, 5)                 485       \n",
      "=================================================================\n",
      "Total params: 217,829\n",
      "Trainable params: 217,829\n",
      "Non-trainable params: 0\n",
      "_________________________________________________________________\n",
      "Train on 208 samples, validate on 69 samples\n",
      "Epoch 1/3\n",
      "208/208 [==============================] - ETA: 28s - loss: 1.6120 - accuracy: 0.0000e+00 - precision: 0.0000e+00 - recall: 0.0000e+ - ETA: 6s - loss: 1.6055 - accuracy: 0.1771 - precision: 0.0000e+00 - recall: 0.0000e+00     - ETA: 1s - loss: 1.5922 - accuracy: 0.2500 - precision: 0.0000e+00 - recall: 0.0000e+0 - 7s 34ms/sample - loss: 1.5756 - accuracy: 0.2548 - precision: 0.0000e+00 - recall: 0.0000e+00 - val_loss: 1.4520 - val_accuracy: 0.2464 - val_precision: 0.9091 - val_recall: 0.1449\n",
      "Epoch 2/3\n",
      "208/208 [==============================] - ETA: 0s - loss: 1.5570 - accuracy: 0.1562 - precision: 0.5000 - recall: 0.031 - ETA: 0s - loss: 1.3981 - accuracy: 0.3438 - precision: 0.8462 - recall: 0.114 - ETA: 0s - loss: 1.3775 - accuracy: 0.3688 - precision: 0.8077 - recall: 0.131 - 0s 1ms/sample - loss: 1.3321 - accuracy: 0.4038 - precision: 0.8421 - recall: 0.1538 - val_loss: 1.2334 - val_accuracy: 0.4058 - val_precision: 0.7500 - val_recall: 0.1739\n",
      "Epoch 3/3\n",
      "208/208 [==============================] - ETA: 0s - loss: 0.9877 - accuracy: 0.5938 - precision: 1.0000 - recall: 0.312 - ETA: 0s - loss: 1.2400 - accuracy: 0.4271 - precision: 0.7391 - recall: 0.177 - ETA: 0s - loss: 1.1793 - accuracy: 0.4740 - precision: 0.8409 - recall: 0.192 - 0s 1ms/sample - loss: 1.1691 - accuracy: 0.4712 - precision: 0.8333 - recall: 0.1923 - val_loss: 1.1024 - val_accuracy: 0.3913 - val_precision: 1.0000 - val_recall: 0.1594\n"
     ]
    },
    {
     "data": {
      "text/html": [
       "<span style=\"color:#4527A0\"><h1 style=\"font-size:18px\">Trial complete</h1></span>"
      ],
      "text/plain": [
       "<IPython.core.display.HTML object>"
      ]
     },
     "metadata": {},
     "output_type": "display_data"
    },
    {
     "data": {
      "text/html": [
       "<span style=\"color:#4527A0\"><h1 style=\"font-size:18px\">Trial summary</h1></span>"
      ],
      "text/plain": [
       "<IPython.core.display.HTML object>"
      ]
     },
     "metadata": {},
     "output_type": "display_data"
    },
    {
     "data": {
      "text/html": [
       "<span style=\"color:cyan\"> |-Trial ID: 44cdf54013d3a6a4609aee42ffe57798</span>"
      ],
      "text/plain": [
       "<IPython.core.display.HTML object>"
      ]
     },
     "metadata": {},
     "output_type": "display_data"
    },
    {
     "data": {
      "text/html": [
       "<span style=\"color:cyan\"> |-Score: 0.4057970941066742</span>"
      ],
      "text/plain": [
       "<IPython.core.display.HTML object>"
      ]
     },
     "metadata": {},
     "output_type": "display_data"
    },
    {
     "data": {
      "text/html": [
       "<span style=\"color:cyan\"> |-Best step: 0</span>"
      ],
      "text/plain": [
       "<IPython.core.display.HTML object>"
      ]
     },
     "metadata": {},
     "output_type": "display_data"
    },
    {
     "data": {
      "text/html": [
       "<span style=\"color:#7E57C2\"><h2 style=\"font-size:16px\">Hyperparameters:</h2></span>"
      ],
      "text/plain": [
       "<IPython.core.display.HTML object>"
      ]
     },
     "metadata": {},
     "output_type": "display_data"
    },
    {
     "data": {
      "text/html": [
       "<span style=\"color:cyan\"> |-LSTM_0_units: 32</span>"
      ],
      "text/plain": [
       "<IPython.core.display.HTML object>"
      ]
     },
     "metadata": {},
     "output_type": "display_data"
    },
    {
     "data": {
      "text/html": [
       "<span style=\"color:blue\"> |-LSTM_1_units: 64</span>"
      ],
      "text/plain": [
       "<IPython.core.display.HTML object>"
      ]
     },
     "metadata": {},
     "output_type": "display_data"
    },
    {
     "data": {
      "text/html": [
       "<span style=\"color:cyan\"> |-LSTM_2_units: 96</span>"
      ],
      "text/plain": [
       "<IPython.core.display.HTML object>"
      ]
     },
     "metadata": {},
     "output_type": "display_data"
    },
    {
     "data": {
      "text/html": [
       "<span style=\"color:blue\"> |-LSTM_End: 96</span>"
      ],
      "text/plain": [
       "<IPython.core.display.HTML object>"
      ]
     },
     "metadata": {},
     "output_type": "display_data"
    },
    {
     "data": {
      "text/html": [
       "<span style=\"color:cyan\"> |-LSTM_input: 128</span>"
      ],
      "text/plain": [
       "<IPython.core.display.HTML object>"
      ]
     },
     "metadata": {},
     "output_type": "display_data"
    },
    {
     "data": {
      "text/html": [
       "<span style=\"color:blue\"> |-n_layers: 2</span>"
      ],
      "text/plain": [
       "<IPython.core.display.HTML object>"
      ]
     },
     "metadata": {},
     "output_type": "display_data"
    },
    {
     "data": {
      "text/html": [
       "<span style=\"color:cyan\"> |-tuner/bracket: 3</span>"
      ],
      "text/plain": [
       "<IPython.core.display.HTML object>"
      ]
     },
     "metadata": {},
     "output_type": "display_data"
    },
    {
     "data": {
      "text/html": [
       "<span style=\"color:blue\"> |-tuner/epochs: 3</span>"
      ],
      "text/plain": [
       "<IPython.core.display.HTML object>"
      ]
     },
     "metadata": {},
     "output_type": "display_data"
    },
    {
     "data": {
      "text/html": [
       "<span style=\"color:cyan\"> |-tuner/initial_epoch: 0</span>"
      ],
      "text/plain": [
       "<IPython.core.display.HTML object>"
      ]
     },
     "metadata": {},
     "output_type": "display_data"
    },
    {
     "data": {
      "text/html": [
       "<span style=\"color:blue\"> |-tuner/round: 0</span>"
      ],
      "text/plain": [
       "<IPython.core.display.HTML object>"
      ]
     },
     "metadata": {},
     "output_type": "display_data"
    },
    {
     "name": "stdout",
     "output_type": "stream",
     "text": [
      "Model: \"sequential\"\n",
      "_________________________________________________________________\n",
      "Layer (type)                 Output Shape              Param #   \n",
      "=================================================================\n",
      "lstm (LSTM)                  (None, 100, 192)          214272    \n",
      "_________________________________________________________________\n",
      "lstm_1 (LSTM)                (None, 100, 64)           65792     \n",
      "_________________________________________________________________\n",
      "lstm_2 (LSTM)                (None, 100, 32)           12416     \n",
      "_________________________________________________________________\n",
      "lstm_3 (LSTM)                (None, 96)                49536     \n",
      "_________________________________________________________________\n",
      "dense (Dense)                (None, 5)                 485       \n",
      "=================================================================\n",
      "Total params: 342,501\n",
      "Trainable params: 342,501\n",
      "Non-trainable params: 0\n",
      "_________________________________________________________________\n",
      "Train on 208 samples, validate on 69 samples\n",
      "Epoch 1/3\n",
      "208/208 [==============================] - ETA: 28s - loss: 1.6099 - accuracy: 0.1562 - precision: 0.0000e+00 - recall: 0.0000e+ - ETA: 12s - loss: 1.6054 - accuracy: 0.2969 - precision: 0.0000e+00 - recall: 0.0000e+ - ETA: 3s - loss: 1.5901 - accuracy: 0.2891 - precision: 0.0000e+00 - recall: 0.0000e+00 - ETA: 0s - loss: 1.5659 - accuracy: 0.2656 - precision: 1.0000 - recall: 0.0104        - 8s 38ms/sample - loss: 1.5611 - accuracy: 0.2644 - precision: 1.0000 - recall: 0.0096 - val_loss: 1.3952 - val_accuracy: 0.4203 - val_precision: 0.9091 - val_recall: 0.1449\n",
      "Epoch 2/3\n",
      "208/208 [==============================] - ETA: 0s - loss: 1.4010 - accuracy: 0.4062 - precision: 0.8333 - recall: 0.156 - ETA: 0s - loss: 1.3839 - accuracy: 0.4271 - precision: 0.9286 - recall: 0.135 - ETA: 0s - loss: 1.3614 - accuracy: 0.4125 - precision: 0.7941 - recall: 0.168 - 0s 2ms/sample - loss: 1.3293 - accuracy: 0.4423 - precision: 0.8000 - recall: 0.1731 - val_loss: 1.2839 - val_accuracy: 0.4638 - val_precision: 1.0000 - val_recall: 0.1159\n",
      "Epoch 3/3\n",
      "208/208 [==============================] - ETA: 0s - loss: 1.2438 - accuracy: 0.3750 - precision: 1.0000 - recall: 0.125 - ETA: 0s - loss: 1.1788 - accuracy: 0.4688 - precision: 1.0000 - recall: 0.135 - ETA: 0s - loss: 1.1998 - accuracy: 0.4563 - precision: 1.0000 - recall: 0.131 - 0s 1ms/sample - loss: 1.1669 - accuracy: 0.4471 - precision: 1.0000 - recall: 0.1490 - val_loss: 1.1191 - val_accuracy: 0.4203 - val_precision: 0.7368 - val_recall: 0.2029\n"
     ]
    },
    {
     "data": {
      "text/html": [
       "<span style=\"color:#4527A0\"><h1 style=\"font-size:18px\">Trial complete</h1></span>"
      ],
      "text/plain": [
       "<IPython.core.display.HTML object>"
      ]
     },
     "metadata": {},
     "output_type": "display_data"
    },
    {
     "data": {
      "text/html": [
       "<span style=\"color:#4527A0\"><h1 style=\"font-size:18px\">Trial summary</h1></span>"
      ],
      "text/plain": [
       "<IPython.core.display.HTML object>"
      ]
     },
     "metadata": {},
     "output_type": "display_data"
    },
    {
     "data": {
      "text/html": [
       "<span style=\"color:cyan\"> |-Trial ID: 493171d4608e1be47b26b3a10078decf</span>"
      ],
      "text/plain": [
       "<IPython.core.display.HTML object>"
      ]
     },
     "metadata": {},
     "output_type": "display_data"
    },
    {
     "data": {
      "text/html": [
       "<span style=\"color:cyan\"> |-Score: 0.4637681245803833</span>"
      ],
      "text/plain": [
       "<IPython.core.display.HTML object>"
      ]
     },
     "metadata": {},
     "output_type": "display_data"
    },
    {
     "data": {
      "text/html": [
       "<span style=\"color:cyan\"> |-Best step: 0</span>"
      ],
      "text/plain": [
       "<IPython.core.display.HTML object>"
      ]
     },
     "metadata": {},
     "output_type": "display_data"
    },
    {
     "data": {
      "text/html": [
       "<span style=\"color:#7E57C2\"><h2 style=\"font-size:16px\">Hyperparameters:</h2></span>"
      ],
      "text/plain": [
       "<IPython.core.display.HTML object>"
      ]
     },
     "metadata": {},
     "output_type": "display_data"
    },
    {
     "data": {
      "text/html": [
       "<span style=\"color:cyan\"> |-LSTM_0_units: 64</span>"
      ],
      "text/plain": [
       "<IPython.core.display.HTML object>"
      ]
     },
     "metadata": {},
     "output_type": "display_data"
    },
    {
     "data": {
      "text/html": [
       "<span style=\"color:blue\"> |-LSTM_1_units: 32</span>"
      ],
      "text/plain": [
       "<IPython.core.display.HTML object>"
      ]
     },
     "metadata": {},
     "output_type": "display_data"
    },
    {
     "data": {
      "text/html": [
       "<span style=\"color:cyan\"> |-LSTM_2_units: 96</span>"
      ],
      "text/plain": [
       "<IPython.core.display.HTML object>"
      ]
     },
     "metadata": {},
     "output_type": "display_data"
    },
    {
     "data": {
      "text/html": [
       "<span style=\"color:blue\"> |-LSTM_End: 96</span>"
      ],
      "text/plain": [
       "<IPython.core.display.HTML object>"
      ]
     },
     "metadata": {},
     "output_type": "display_data"
    },
    {
     "data": {
      "text/html": [
       "<span style=\"color:cyan\"> |-LSTM_input: 192</span>"
      ],
      "text/plain": [
       "<IPython.core.display.HTML object>"
      ]
     },
     "metadata": {},
     "output_type": "display_data"
    },
    {
     "data": {
      "text/html": [
       "<span style=\"color:blue\"> |-n_layers: 2</span>"
      ],
      "text/plain": [
       "<IPython.core.display.HTML object>"
      ]
     },
     "metadata": {},
     "output_type": "display_data"
    },
    {
     "data": {
      "text/html": [
       "<span style=\"color:cyan\"> |-tuner/bracket: 3</span>"
      ],
      "text/plain": [
       "<IPython.core.display.HTML object>"
      ]
     },
     "metadata": {},
     "output_type": "display_data"
    },
    {
     "data": {
      "text/html": [
       "<span style=\"color:blue\"> |-tuner/epochs: 3</span>"
      ],
      "text/plain": [
       "<IPython.core.display.HTML object>"
      ]
     },
     "metadata": {},
     "output_type": "display_data"
    },
    {
     "data": {
      "text/html": [
       "<span style=\"color:cyan\"> |-tuner/initial_epoch: 0</span>"
      ],
      "text/plain": [
       "<IPython.core.display.HTML object>"
      ]
     },
     "metadata": {},
     "output_type": "display_data"
    },
    {
     "data": {
      "text/html": [
       "<span style=\"color:blue\"> |-tuner/round: 0</span>"
      ],
      "text/plain": [
       "<IPython.core.display.HTML object>"
      ]
     },
     "metadata": {},
     "output_type": "display_data"
    },
    {
     "name": "stdout",
     "output_type": "stream",
     "text": [
      "Model: \"sequential\"\n",
      "_________________________________________________________________\n",
      "Layer (type)                 Output Shape              Param #   \n",
      "=================================================================\n",
      "lstm (LSTM)                  (None, 100, 192)          214272    \n",
      "_________________________________________________________________\n",
      "lstm_1 (LSTM)                (None, 100, 64)           65792     \n",
      "_________________________________________________________________\n",
      "lstm_2 (LSTM)                (None, 100, 32)           12416     \n",
      "_________________________________________________________________\n",
      "lstm_3 (LSTM)                (None, 64)                24832     \n",
      "_________________________________________________________________\n",
      "dense (Dense)                (None, 5)                 325       \n",
      "=================================================================\n",
      "Total params: 317,637\n",
      "Trainable params: 317,637\n",
      "Non-trainable params: 0\n",
      "_________________________________________________________________\n",
      "Train on 208 samples, validate on 69 samples\n",
      "Epoch 1/3\n",
      "208/208 [==============================] - ETA: 30s - loss: 1.6094 - accuracy: 0.0312 - precision: 0.0000e+00 - recall: 0.0000e+ - ETA: 6s - loss: 1.5977 - accuracy: 0.2812 - precision: 0.0000e+00 - recall: 0.0000e+00 - ETA: 1s - loss: 1.5743 - accuracy: 0.2937 - precision: 0.0000e+00 - recall: 0.0000e+0 - 8s 36ms/sample - loss: 1.5508 - accuracy: 0.2837 - precision: 1.0000 - recall: 0.0048 - val_loss: 1.4415 - val_accuracy: 0.2609 - val_precision: 1.0000 - val_recall: 0.0435\n",
      "Epoch 2/3\n",
      "208/208 [==============================] - ETA: 0s - loss: 1.4667 - accuracy: 0.2812 - precision: 1.0000 - recall: 0.031 - ETA: 0s - loss: 1.4056 - accuracy: 0.4167 - precision: 1.0000 - recall: 0.104 - ETA: 0s - loss: 1.3480 - accuracy: 0.4688 - precision: 0.9600 - recall: 0.150 - 0s 2ms/sample - loss: 1.3649 - accuracy: 0.4231 - precision: 0.7857 - recall: 0.1587 - val_loss: 1.2958 - val_accuracy: 0.3768 - val_precision: 0.9091 - val_recall: 0.1449\n",
      "Epoch 3/3\n",
      "208/208 [==============================] - ETA: 0s - loss: 1.3063 - accuracy: 0.5000 - precision: 1.0000 - recall: 0.093 - ETA: 0s - loss: 1.2769 - accuracy: 0.4688 - precision: 1.0000 - recall: 0.114 - ETA: 0s - loss: 1.2279 - accuracy: 0.4625 - precision: 0.9200 - recall: 0.143 - 0s 1ms/sample - loss: 1.2144 - accuracy: 0.4423 - precision: 0.8947 - recall: 0.1635 - val_loss: 1.1836 - val_accuracy: 0.4058 - val_precision: 0.7368 - val_recall: 0.2029\n"
     ]
    },
    {
     "data": {
      "text/html": [
       "<span style=\"color:#4527A0\"><h1 style=\"font-size:18px\">Trial complete</h1></span>"
      ],
      "text/plain": [
       "<IPython.core.display.HTML object>"
      ]
     },
     "metadata": {},
     "output_type": "display_data"
    },
    {
     "data": {
      "text/html": [
       "<span style=\"color:#4527A0\"><h1 style=\"font-size:18px\">Trial summary</h1></span>"
      ],
      "text/plain": [
       "<IPython.core.display.HTML object>"
      ]
     },
     "metadata": {},
     "output_type": "display_data"
    },
    {
     "data": {
      "text/html": [
       "<span style=\"color:cyan\"> |-Trial ID: a4659274dad86b6c86672b4616118c66</span>"
      ],
      "text/plain": [
       "<IPython.core.display.HTML object>"
      ]
     },
     "metadata": {},
     "output_type": "display_data"
    },
    {
     "data": {
      "text/html": [
       "<span style=\"color:cyan\"> |-Score: 0.4057970941066742</span>"
      ],
      "text/plain": [
       "<IPython.core.display.HTML object>"
      ]
     },
     "metadata": {},
     "output_type": "display_data"
    },
    {
     "data": {
      "text/html": [
       "<span style=\"color:cyan\"> |-Best step: 0</span>"
      ],
      "text/plain": [
       "<IPython.core.display.HTML object>"
      ]
     },
     "metadata": {},
     "output_type": "display_data"
    },
    {
     "data": {
      "text/html": [
       "<span style=\"color:#7E57C2\"><h2 style=\"font-size:16px\">Hyperparameters:</h2></span>"
      ],
      "text/plain": [
       "<IPython.core.display.HTML object>"
      ]
     },
     "metadata": {},
     "output_type": "display_data"
    },
    {
     "data": {
      "text/html": [
       "<span style=\"color:cyan\"> |-LSTM_0_units: 64</span>"
      ],
      "text/plain": [
       "<IPython.core.display.HTML object>"
      ]
     },
     "metadata": {},
     "output_type": "display_data"
    },
    {
     "data": {
      "text/html": [
       "<span style=\"color:blue\"> |-LSTM_1_units: 32</span>"
      ],
      "text/plain": [
       "<IPython.core.display.HTML object>"
      ]
     },
     "metadata": {},
     "output_type": "display_data"
    },
    {
     "data": {
      "text/html": [
       "<span style=\"color:cyan\"> |-LSTM_2_units: 32</span>"
      ],
      "text/plain": [
       "<IPython.core.display.HTML object>"
      ]
     },
     "metadata": {},
     "output_type": "display_data"
    },
    {
     "data": {
      "text/html": [
       "<span style=\"color:blue\"> |-LSTM_End: 64</span>"
      ],
      "text/plain": [
       "<IPython.core.display.HTML object>"
      ]
     },
     "metadata": {},
     "output_type": "display_data"
    },
    {
     "data": {
      "text/html": [
       "<span style=\"color:cyan\"> |-LSTM_input: 192</span>"
      ],
      "text/plain": [
       "<IPython.core.display.HTML object>"
      ]
     },
     "metadata": {},
     "output_type": "display_data"
    },
    {
     "data": {
      "text/html": [
       "<span style=\"color:blue\"> |-n_layers: 2</span>"
      ],
      "text/plain": [
       "<IPython.core.display.HTML object>"
      ]
     },
     "metadata": {},
     "output_type": "display_data"
    },
    {
     "data": {
      "text/html": [
       "<span style=\"color:cyan\"> |-tuner/bracket: 3</span>"
      ],
      "text/plain": [
       "<IPython.core.display.HTML object>"
      ]
     },
     "metadata": {},
     "output_type": "display_data"
    },
    {
     "data": {
      "text/html": [
       "<span style=\"color:blue\"> |-tuner/epochs: 3</span>"
      ],
      "text/plain": [
       "<IPython.core.display.HTML object>"
      ]
     },
     "metadata": {},
     "output_type": "display_data"
    },
    {
     "data": {
      "text/html": [
       "<span style=\"color:cyan\"> |-tuner/initial_epoch: 0</span>"
      ],
      "text/plain": [
       "<IPython.core.display.HTML object>"
      ]
     },
     "metadata": {},
     "output_type": "display_data"
    },
    {
     "data": {
      "text/html": [
       "<span style=\"color:blue\"> |-tuner/round: 0</span>"
      ],
      "text/plain": [
       "<IPython.core.display.HTML object>"
      ]
     },
     "metadata": {},
     "output_type": "display_data"
    },
    {
     "name": "stdout",
     "output_type": "stream",
     "text": [
      "Model: \"sequential\"\n",
      "_________________________________________________________________\n",
      "Layer (type)                 Output Shape              Param #   \n",
      "=================================================================\n",
      "lstm (LSTM)                  (None, 100, 128)          110080    \n",
      "_________________________________________________________________\n",
      "lstm_1 (LSTM)                (None, 100, 128)          131584    \n",
      "_________________________________________________________________\n",
      "lstm_2 (LSTM)                (None, 128)               131584    \n",
      "_________________________________________________________________\n",
      "dense (Dense)                (None, 5)                 645       \n",
      "=================================================================\n",
      "Total params: 373,893\n",
      "Trainable params: 373,893\n",
      "Non-trainable params: 0\n",
      "_________________________________________________________________\n",
      "Train on 208 samples, validate on 69 samples\n",
      "Epoch 1/3\n",
      "208/208 [==============================] - ETA: 20s - loss: 1.6092 - accuracy: 0.2812 - precision: 0.0000e+00 - recall: 0.0000e+ - ETA: 4s - loss: 1.5923 - accuracy: 0.3229 - precision: 0.0000e+00 - recall: 0.0000e+00 - ETA: 1s - loss: 1.5715 - accuracy: 0.2562 - precision: 0.5000 - recall: 0.0063        - 5s 25ms/sample - loss: 1.5214 - accuracy: 0.2740 - precision: 0.8889 - recall: 0.0385 - val_loss: 1.3275 - val_accuracy: 0.4058 - val_precision: 0.8667 - val_recall: 0.1884\n",
      "Epoch 2/3\n",
      "208/208 [==============================] - ETA: 0s - loss: 1.2617 - accuracy: 0.4375 - precision: 1.0000 - recall: 0.187 - ETA: 0s - loss: 1.2046 - accuracy: 0.4375 - precision: 0.9565 - recall: 0.229 - ETA: 0s - loss: 1.2576 - accuracy: 0.4167 - precision: 0.8444 - recall: 0.197 - 0s 1ms/sample - loss: 1.2442 - accuracy: 0.4087 - precision: 0.8542 - recall: 0.1971 - val_loss: 1.2484 - val_accuracy: 0.3623 - val_precision: 1.0000 - val_recall: 0.1159\n",
      "Epoch 3/3\n",
      "208/208 [==============================] - ETA: 0s - loss: 1.0983 - accuracy: 0.5312 - precision: 1.0000 - recall: 0.062 - ETA: 0s - loss: 1.1891 - accuracy: 0.4375 - precision: 0.8571 - recall: 0.140 - 0s 1ms/sample - loss: 1.1433 - accuracy: 0.4231 - precision: 0.8333 - recall: 0.1923 - val_loss: 1.1496 - val_accuracy: 0.5507 - val_precision: 0.7368 - val_recall: 0.2029\n"
     ]
    },
    {
     "data": {
      "text/html": [
       "<span style=\"color:#4527A0\"><h1 style=\"font-size:18px\">Trial complete</h1></span>"
      ],
      "text/plain": [
       "<IPython.core.display.HTML object>"
      ]
     },
     "metadata": {},
     "output_type": "display_data"
    },
    {
     "data": {
      "text/html": [
       "<span style=\"color:#4527A0\"><h1 style=\"font-size:18px\">Trial summary</h1></span>"
      ],
      "text/plain": [
       "<IPython.core.display.HTML object>"
      ]
     },
     "metadata": {},
     "output_type": "display_data"
    },
    {
     "data": {
      "text/html": [
       "<span style=\"color:cyan\"> |-Trial ID: 5268572e950902f40502db138216a121</span>"
      ],
      "text/plain": [
       "<IPython.core.display.HTML object>"
      ]
     },
     "metadata": {},
     "output_type": "display_data"
    },
    {
     "data": {
      "text/html": [
       "<span style=\"color:cyan\"> |-Score: 0.5507246255874634</span>"
      ],
      "text/plain": [
       "<IPython.core.display.HTML object>"
      ]
     },
     "metadata": {},
     "output_type": "display_data"
    },
    {
     "data": {
      "text/html": [
       "<span style=\"color:cyan\"> |-Best step: 0</span>"
      ],
      "text/plain": [
       "<IPython.core.display.HTML object>"
      ]
     },
     "metadata": {},
     "output_type": "display_data"
    },
    {
     "data": {
      "text/html": [
       "<span style=\"color:#7E57C2\"><h2 style=\"font-size:16px\">Hyperparameters:</h2></span>"
      ],
      "text/plain": [
       "<IPython.core.display.HTML object>"
      ]
     },
     "metadata": {},
     "output_type": "display_data"
    },
    {
     "data": {
      "text/html": [
       "<span style=\"color:cyan\"> |-LSTM_0_units: 128</span>"
      ],
      "text/plain": [
       "<IPython.core.display.HTML object>"
      ]
     },
     "metadata": {},
     "output_type": "display_data"
    },
    {
     "data": {
      "text/html": [
       "<span style=\"color:blue\"> |-LSTM_1_units: 32</span>"
      ],
      "text/plain": [
       "<IPython.core.display.HTML object>"
      ]
     },
     "metadata": {},
     "output_type": "display_data"
    },
    {
     "data": {
      "text/html": [
       "<span style=\"color:cyan\"> |-LSTM_2_units: 32</span>"
      ],
      "text/plain": [
       "<IPython.core.display.HTML object>"
      ]
     },
     "metadata": {},
     "output_type": "display_data"
    },
    {
     "data": {
      "text/html": [
       "<span style=\"color:blue\"> |-LSTM_End: 128</span>"
      ],
      "text/plain": [
       "<IPython.core.display.HTML object>"
      ]
     },
     "metadata": {},
     "output_type": "display_data"
    },
    {
     "data": {
      "text/html": [
       "<span style=\"color:cyan\"> |-LSTM_input: 128</span>"
      ],
      "text/plain": [
       "<IPython.core.display.HTML object>"
      ]
     },
     "metadata": {},
     "output_type": "display_data"
    },
    {
     "data": {
      "text/html": [
       "<span style=\"color:blue\"> |-n_layers: 1</span>"
      ],
      "text/plain": [
       "<IPython.core.display.HTML object>"
      ]
     },
     "metadata": {},
     "output_type": "display_data"
    },
    {
     "data": {
      "text/html": [
       "<span style=\"color:cyan\"> |-tuner/bracket: 3</span>"
      ],
      "text/plain": [
       "<IPython.core.display.HTML object>"
      ]
     },
     "metadata": {},
     "output_type": "display_data"
    },
    {
     "data": {
      "text/html": [
       "<span style=\"color:blue\"> |-tuner/epochs: 3</span>"
      ],
      "text/plain": [
       "<IPython.core.display.HTML object>"
      ]
     },
     "metadata": {},
     "output_type": "display_data"
    },
    {
     "data": {
      "text/html": [
       "<span style=\"color:cyan\"> |-tuner/initial_epoch: 0</span>"
      ],
      "text/plain": [
       "<IPython.core.display.HTML object>"
      ]
     },
     "metadata": {},
     "output_type": "display_data"
    },
    {
     "data": {
      "text/html": [
       "<span style=\"color:blue\"> |-tuner/round: 0</span>"
      ],
      "text/plain": [
       "<IPython.core.display.HTML object>"
      ]
     },
     "metadata": {},
     "output_type": "display_data"
    },
    {
     "name": "stdout",
     "output_type": "stream",
     "text": [
      "Model: \"sequential\"\n",
      "_________________________________________________________________\n",
      "Layer (type)                 Output Shape              Param #   \n",
      "=================================================================\n",
      "lstm (LSTM)                  (None, 100, 64)           38656     \n",
      "_________________________________________________________________\n",
      "lstm_1 (LSTM)                (None, 100, 64)           33024     \n",
      "_________________________________________________________________\n",
      "lstm_2 (LSTM)                (None, 100, 32)           12416     \n",
      "_________________________________________________________________\n",
      "lstm_3 (LSTM)                (None, 128)               82432     \n",
      "_________________________________________________________________\n",
      "dense (Dense)                (None, 5)                 645       \n",
      "=================================================================\n",
      "Total params: 167,173\n",
      "Trainable params: 167,173\n",
      "Non-trainable params: 0\n",
      "_________________________________________________________________\n",
      "Train on 208 samples, validate on 69 samples\n",
      "Epoch 1/3\n",
      "208/208 [==============================] - ETA: 29s - loss: 1.6096 - accuracy: 0.0000e+00 - precision: 0.0000e+00 - recall: 0.0000e+ - ETA: 6s - loss: 1.6008 - accuracy: 0.2812 - precision: 0.0000e+00 - recall: 0.0000e+00     - ETA: 1s - loss: 1.5880 - accuracy: 0.3063 - precision: 0.0000e+00 - recall: 0.0000e+0 - 7s 35ms/sample - loss: 1.5796 - accuracy: 0.2740 - precision: 0.0000e+00 - recall: 0.0000e+00 - val_loss: 1.4448 - val_accuracy: 0.2174 - val_precision: 0.9167 - val_recall: 0.1594\n",
      "Epoch 2/3\n",
      "208/208 [==============================] - ETA: 0s - loss: 1.4034 - accuracy: 0.2500 - precision: 0.8750 - recall: 0.218 - ETA: 0s - loss: 1.3599 - accuracy: 0.2708 - precision: 0.9091 - recall: 0.208 - ETA: 0s - loss: 1.3484 - accuracy: 0.3438 - precision: 0.9355 - recall: 0.181 - 0s 1ms/sample - loss: 1.3140 - accuracy: 0.3654 - precision: 0.8889 - recall: 0.1923 - val_loss: 1.2284 - val_accuracy: 0.4058 - val_precision: 0.7778 - val_recall: 0.2029\n",
      "Epoch 3/3\n",
      "208/208 [==============================] - ETA: 0s - loss: 1.1560 - accuracy: 0.5938 - precision: 1.0000 - recall: 0.187 - ETA: 0s - loss: 1.1635 - accuracy: 0.5208 - precision: 0.9500 - recall: 0.197 - ETA: 0s - loss: 1.1132 - accuracy: 0.5188 - precision: 0.9697 - recall: 0.200 - 0s 1ms/sample - loss: 1.1077 - accuracy: 0.4904 - precision: 0.9535 - recall: 0.1971 - val_loss: 1.0523 - val_accuracy: 0.4493 - val_precision: 0.8125 - val_recall: 0.1884\n"
     ]
    },
    {
     "data": {
      "text/html": [
       "<span style=\"color:#4527A0\"><h1 style=\"font-size:18px\">Trial complete</h1></span>"
      ],
      "text/plain": [
       "<IPython.core.display.HTML object>"
      ]
     },
     "metadata": {},
     "output_type": "display_data"
    },
    {
     "data": {
      "text/html": [
       "<span style=\"color:#4527A0\"><h1 style=\"font-size:18px\">Trial summary</h1></span>"
      ],
      "text/plain": [
       "<IPython.core.display.HTML object>"
      ]
     },
     "metadata": {},
     "output_type": "display_data"
    },
    {
     "data": {
      "text/html": [
       "<span style=\"color:cyan\"> |-Trial ID: 7c3fdd9c6d8b4febc14eb363c0cc8513</span>"
      ],
      "text/plain": [
       "<IPython.core.display.HTML object>"
      ]
     },
     "metadata": {},
     "output_type": "display_data"
    },
    {
     "data": {
      "text/html": [
       "<span style=\"color:cyan\"> |-Score: 0.4492753744125366</span>"
      ],
      "text/plain": [
       "<IPython.core.display.HTML object>"
      ]
     },
     "metadata": {},
     "output_type": "display_data"
    },
    {
     "data": {
      "text/html": [
       "<span style=\"color:cyan\"> |-Best step: 0</span>"
      ],
      "text/plain": [
       "<IPython.core.display.HTML object>"
      ]
     },
     "metadata": {},
     "output_type": "display_data"
    },
    {
     "data": {
      "text/html": [
       "<span style=\"color:#7E57C2\"><h2 style=\"font-size:16px\">Hyperparameters:</h2></span>"
      ],
      "text/plain": [
       "<IPython.core.display.HTML object>"
      ]
     },
     "metadata": {},
     "output_type": "display_data"
    },
    {
     "data": {
      "text/html": [
       "<span style=\"color:cyan\"> |-LSTM_0_units: 64</span>"
      ],
      "text/plain": [
       "<IPython.core.display.HTML object>"
      ]
     },
     "metadata": {},
     "output_type": "display_data"
    },
    {
     "data": {
      "text/html": [
       "<span style=\"color:blue\"> |-LSTM_1_units: 32</span>"
      ],
      "text/plain": [
       "<IPython.core.display.HTML object>"
      ]
     },
     "metadata": {},
     "output_type": "display_data"
    },
    {
     "data": {
      "text/html": [
       "<span style=\"color:cyan\"> |-LSTM_2_units: 128</span>"
      ],
      "text/plain": [
       "<IPython.core.display.HTML object>"
      ]
     },
     "metadata": {},
     "output_type": "display_data"
    },
    {
     "data": {
      "text/html": [
       "<span style=\"color:blue\"> |-LSTM_End: 128</span>"
      ],
      "text/plain": [
       "<IPython.core.display.HTML object>"
      ]
     },
     "metadata": {},
     "output_type": "display_data"
    },
    {
     "data": {
      "text/html": [
       "<span style=\"color:cyan\"> |-LSTM_input: 64</span>"
      ],
      "text/plain": [
       "<IPython.core.display.HTML object>"
      ]
     },
     "metadata": {},
     "output_type": "display_data"
    },
    {
     "data": {
      "text/html": [
       "<span style=\"color:blue\"> |-n_layers: 2</span>"
      ],
      "text/plain": [
       "<IPython.core.display.HTML object>"
      ]
     },
     "metadata": {},
     "output_type": "display_data"
    },
    {
     "data": {
      "text/html": [
       "<span style=\"color:cyan\"> |-tuner/bracket: 3</span>"
      ],
      "text/plain": [
       "<IPython.core.display.HTML object>"
      ]
     },
     "metadata": {},
     "output_type": "display_data"
    },
    {
     "data": {
      "text/html": [
       "<span style=\"color:blue\"> |-tuner/epochs: 3</span>"
      ],
      "text/plain": [
       "<IPython.core.display.HTML object>"
      ]
     },
     "metadata": {},
     "output_type": "display_data"
    },
    {
     "data": {
      "text/html": [
       "<span style=\"color:cyan\"> |-tuner/initial_epoch: 0</span>"
      ],
      "text/plain": [
       "<IPython.core.display.HTML object>"
      ]
     },
     "metadata": {},
     "output_type": "display_data"
    },
    {
     "data": {
      "text/html": [
       "<span style=\"color:blue\"> |-tuner/round: 0</span>"
      ],
      "text/plain": [
       "<IPython.core.display.HTML object>"
      ]
     },
     "metadata": {},
     "output_type": "display_data"
    },
    {
     "name": "stdout",
     "output_type": "stream",
     "text": [
      "Model: \"sequential\"\n",
      "_________________________________________________________________\n",
      "Layer (type)                 Output Shape              Param #   \n",
      "=================================================================\n",
      "lstm (LSTM)                  (None, 100, 64)           38656     \n",
      "_________________________________________________________________\n",
      "lstm_1 (LSTM)                (None, 100, 96)           61824     \n",
      "_________________________________________________________________\n",
      "lstm_2 (LSTM)                (None, 100, 96)           74112     \n",
      "_________________________________________________________________\n",
      "lstm_3 (LSTM)                (None, 100, 64)           41216     \n",
      "_________________________________________________________________\n",
      "lstm_4 (LSTM)                (None, 64)                33024     \n",
      "_________________________________________________________________\n",
      "dense (Dense)                (None, 5)                 325       \n",
      "=================================================================\n",
      "Total params: 249,157\n",
      "Trainable params: 249,157\n",
      "Non-trainable params: 0\n",
      "_________________________________________________________________\n",
      "Train on 208 samples, validate on 69 samples\n",
      "Epoch 1/3\n",
      " 32/208 [===>..........................] - ETA: 12sWARNING:tensorflow:Can save best model only with val_accuracy available, skipping.\n"
     ]
    },
    {
     "ename": "KeyboardInterrupt",
     "evalue": "",
     "output_type": "error",
     "traceback": [
      "\u001b[1;31m---------------------------------------------------------------------------\u001b[0m",
      "\u001b[1;31mKeyboardInterrupt\u001b[0m                         Traceback (most recent call last)",
      "\u001b[1;32m<ipython-input-21-838dc82394d9>\u001b[0m in \u001b[0;36m<module>\u001b[1;34m\u001b[0m\n\u001b[0;32m     13\u001b[0m             \u001b[0my\u001b[0m\u001b[1;33m=\u001b[0m \u001b[0my_train\u001b[0m\u001b[1;33m,\u001b[0m\u001b[1;33m\u001b[0m\u001b[1;33m\u001b[0m\u001b[0m\n\u001b[0;32m     14\u001b[0m             \u001b[0mbatch_size\u001b[0m\u001b[1;33m=\u001b[0m\u001b[1;36m32\u001b[0m\u001b[1;33m,\u001b[0m\u001b[1;33m\u001b[0m\u001b[1;33m\u001b[0m\u001b[0m\n\u001b[1;32m---> 15\u001b[1;33m             validation_data=(x_val,y_val))\n\u001b[0m\u001b[0;32m     16\u001b[0m \u001b[1;33m\u001b[0m\u001b[0m\n\u001b[0;32m     17\u001b[0m \u001b[0mprint\u001b[0m\u001b[1;33m(\u001b[0m\u001b[0mtuner\u001b[0m\u001b[1;33m.\u001b[0m\u001b[0mget_best_hyperparameters\u001b[0m\u001b[1;33m(\u001b[0m\u001b[1;33m)\u001b[0m\u001b[1;33m[\u001b[0m\u001b[1;36m0\u001b[0m\u001b[1;33m]\u001b[0m\u001b[1;33m.\u001b[0m\u001b[0mvalues\u001b[0m\u001b[1;33m)\u001b[0m\u001b[1;33m\u001b[0m\u001b[1;33m\u001b[0m\u001b[0m\n",
      "\u001b[1;32mC:\\ProgramData\\Anaconda3\\envs\\tensor-gpu\\lib\\site-packages\\kerastuner\\engine\\base_tuner.py\u001b[0m in \u001b[0;36msearch\u001b[1;34m(self, *fit_args, **fit_kwargs)\u001b[0m\n\u001b[0;32m    128\u001b[0m \u001b[1;33m\u001b[0m\u001b[0m\n\u001b[0;32m    129\u001b[0m             \u001b[0mself\u001b[0m\u001b[1;33m.\u001b[0m\u001b[0mon_trial_begin\u001b[0m\u001b[1;33m(\u001b[0m\u001b[0mtrial\u001b[0m\u001b[1;33m)\u001b[0m\u001b[1;33m\u001b[0m\u001b[1;33m\u001b[0m\u001b[0m\n\u001b[1;32m--> 130\u001b[1;33m             \u001b[0mself\u001b[0m\u001b[1;33m.\u001b[0m\u001b[0mrun_trial\u001b[0m\u001b[1;33m(\u001b[0m\u001b[0mtrial\u001b[0m\u001b[1;33m,\u001b[0m \u001b[1;33m*\u001b[0m\u001b[0mfit_args\u001b[0m\u001b[1;33m,\u001b[0m \u001b[1;33m**\u001b[0m\u001b[0mfit_kwargs\u001b[0m\u001b[1;33m)\u001b[0m\u001b[1;33m\u001b[0m\u001b[1;33m\u001b[0m\u001b[0m\n\u001b[0m\u001b[0;32m    131\u001b[0m             \u001b[0mself\u001b[0m\u001b[1;33m.\u001b[0m\u001b[0mon_trial_end\u001b[0m\u001b[1;33m(\u001b[0m\u001b[0mtrial\u001b[0m\u001b[1;33m)\u001b[0m\u001b[1;33m\u001b[0m\u001b[1;33m\u001b[0m\u001b[0m\n\u001b[0;32m    132\u001b[0m         \u001b[0mself\u001b[0m\u001b[1;33m.\u001b[0m\u001b[0mon_search_end\u001b[0m\u001b[1;33m(\u001b[0m\u001b[1;33m)\u001b[0m\u001b[1;33m\u001b[0m\u001b[1;33m\u001b[0m\u001b[0m\n",
      "\u001b[1;32mC:\\ProgramData\\Anaconda3\\envs\\tensor-gpu\\lib\\site-packages\\kerastuner\\tuners\\hyperband.py\u001b[0m in \u001b[0;36mrun_trial\u001b[1;34m(self, trial, *fit_args, **fit_kwargs)\u001b[0m\n\u001b[0;32m    385\u001b[0m             \u001b[0mfit_kwargs\u001b[0m\u001b[1;33m[\u001b[0m\u001b[1;34m'epochs'\u001b[0m\u001b[1;33m]\u001b[0m \u001b[1;33m=\u001b[0m \u001b[0mhp\u001b[0m\u001b[1;33m.\u001b[0m\u001b[0mvalues\u001b[0m\u001b[1;33m[\u001b[0m\u001b[1;34m'tuner/epochs'\u001b[0m\u001b[1;33m]\u001b[0m\u001b[1;33m\u001b[0m\u001b[1;33m\u001b[0m\u001b[0m\n\u001b[0;32m    386\u001b[0m             \u001b[0mfit_kwargs\u001b[0m\u001b[1;33m[\u001b[0m\u001b[1;34m'initial_epoch'\u001b[0m\u001b[1;33m]\u001b[0m \u001b[1;33m=\u001b[0m \u001b[0mhp\u001b[0m\u001b[1;33m.\u001b[0m\u001b[0mvalues\u001b[0m\u001b[1;33m[\u001b[0m\u001b[1;34m'tuner/initial_epoch'\u001b[0m\u001b[1;33m]\u001b[0m\u001b[1;33m\u001b[0m\u001b[1;33m\u001b[0m\u001b[0m\n\u001b[1;32m--> 387\u001b[1;33m         \u001b[0msuper\u001b[0m\u001b[1;33m(\u001b[0m\u001b[0mHyperband\u001b[0m\u001b[1;33m,\u001b[0m \u001b[0mself\u001b[0m\u001b[1;33m)\u001b[0m\u001b[1;33m.\u001b[0m\u001b[0mrun_trial\u001b[0m\u001b[1;33m(\u001b[0m\u001b[0mtrial\u001b[0m\u001b[1;33m,\u001b[0m \u001b[1;33m*\u001b[0m\u001b[0mfit_args\u001b[0m\u001b[1;33m,\u001b[0m \u001b[1;33m**\u001b[0m\u001b[0mfit_kwargs\u001b[0m\u001b[1;33m)\u001b[0m\u001b[1;33m\u001b[0m\u001b[1;33m\u001b[0m\u001b[0m\n\u001b[0m\u001b[0;32m    388\u001b[0m \u001b[1;33m\u001b[0m\u001b[0m\n\u001b[0;32m    389\u001b[0m     \u001b[1;32mdef\u001b[0m \u001b[0m_build_model\u001b[0m\u001b[1;33m(\u001b[0m\u001b[0mself\u001b[0m\u001b[1;33m,\u001b[0m \u001b[0mhp\u001b[0m\u001b[1;33m)\u001b[0m\u001b[1;33m:\u001b[0m\u001b[1;33m\u001b[0m\u001b[1;33m\u001b[0m\u001b[0m\n",
      "\u001b[1;32mC:\\ProgramData\\Anaconda3\\envs\\tensor-gpu\\lib\\site-packages\\kerastuner\\engine\\multi_execution_tuner.py\u001b[0m in \u001b[0;36mrun_trial\u001b[1;34m(self, trial, *fit_args, **fit_kwargs)\u001b[0m\n\u001b[0;32m     94\u001b[0m \u001b[1;33m\u001b[0m\u001b[0m\n\u001b[0;32m     95\u001b[0m             \u001b[0mmodel\u001b[0m \u001b[1;33m=\u001b[0m \u001b[0mself\u001b[0m\u001b[1;33m.\u001b[0m\u001b[0mhypermodel\u001b[0m\u001b[1;33m.\u001b[0m\u001b[0mbuild\u001b[0m\u001b[1;33m(\u001b[0m\u001b[0mtrial\u001b[0m\u001b[1;33m.\u001b[0m\u001b[0mhyperparameters\u001b[0m\u001b[1;33m)\u001b[0m\u001b[1;33m\u001b[0m\u001b[1;33m\u001b[0m\u001b[0m\n\u001b[1;32m---> 96\u001b[1;33m             \u001b[0mhistory\u001b[0m \u001b[1;33m=\u001b[0m \u001b[0mmodel\u001b[0m\u001b[1;33m.\u001b[0m\u001b[0mfit\u001b[0m\u001b[1;33m(\u001b[0m\u001b[1;33m*\u001b[0m\u001b[0mfit_args\u001b[0m\u001b[1;33m,\u001b[0m \u001b[1;33m**\u001b[0m\u001b[0mcopied_fit_kwargs\u001b[0m\u001b[1;33m)\u001b[0m\u001b[1;33m\u001b[0m\u001b[1;33m\u001b[0m\u001b[0m\n\u001b[0m\u001b[0;32m     97\u001b[0m             \u001b[1;32mfor\u001b[0m \u001b[0mmetric\u001b[0m\u001b[1;33m,\u001b[0m \u001b[0mepoch_values\u001b[0m \u001b[1;32min\u001b[0m \u001b[0mhistory\u001b[0m\u001b[1;33m.\u001b[0m\u001b[0mhistory\u001b[0m\u001b[1;33m.\u001b[0m\u001b[0mitems\u001b[0m\u001b[1;33m(\u001b[0m\u001b[1;33m)\u001b[0m\u001b[1;33m:\u001b[0m\u001b[1;33m\u001b[0m\u001b[1;33m\u001b[0m\u001b[0m\n\u001b[0;32m     98\u001b[0m                 \u001b[1;32mif\u001b[0m \u001b[0mself\u001b[0m\u001b[1;33m.\u001b[0m\u001b[0moracle\u001b[0m\u001b[1;33m.\u001b[0m\u001b[0mobjective\u001b[0m\u001b[1;33m.\u001b[0m\u001b[0mdirection\u001b[0m \u001b[1;33m==\u001b[0m \u001b[1;34m'min'\u001b[0m\u001b[1;33m:\u001b[0m\u001b[1;33m\u001b[0m\u001b[1;33m\u001b[0m\u001b[0m\n",
      "\u001b[1;32mC:\\ProgramData\\Anaconda3\\envs\\tensor-gpu\\lib\\site-packages\\tensorflow_core\\python\\keras\\engine\\training.py\u001b[0m in \u001b[0;36mfit\u001b[1;34m(self, x, y, batch_size, epochs, verbose, callbacks, validation_split, validation_data, shuffle, class_weight, sample_weight, initial_epoch, steps_per_epoch, validation_steps, validation_freq, max_queue_size, workers, use_multiprocessing, **kwargs)\u001b[0m\n\u001b[0;32m    817\u001b[0m         \u001b[0mmax_queue_size\u001b[0m\u001b[1;33m=\u001b[0m\u001b[0mmax_queue_size\u001b[0m\u001b[1;33m,\u001b[0m\u001b[1;33m\u001b[0m\u001b[1;33m\u001b[0m\u001b[0m\n\u001b[0;32m    818\u001b[0m         \u001b[0mworkers\u001b[0m\u001b[1;33m=\u001b[0m\u001b[0mworkers\u001b[0m\u001b[1;33m,\u001b[0m\u001b[1;33m\u001b[0m\u001b[1;33m\u001b[0m\u001b[0m\n\u001b[1;32m--> 819\u001b[1;33m         use_multiprocessing=use_multiprocessing)\n\u001b[0m\u001b[0;32m    820\u001b[0m \u001b[1;33m\u001b[0m\u001b[0m\n\u001b[0;32m    821\u001b[0m   def evaluate(self,\n",
      "\u001b[1;32mC:\\ProgramData\\Anaconda3\\envs\\tensor-gpu\\lib\\site-packages\\tensorflow_core\\python\\keras\\engine\\training_v2.py\u001b[0m in \u001b[0;36mfit\u001b[1;34m(self, model, x, y, batch_size, epochs, verbose, callbacks, validation_split, validation_data, shuffle, class_weight, sample_weight, initial_epoch, steps_per_epoch, validation_steps, validation_freq, max_queue_size, workers, use_multiprocessing, **kwargs)\u001b[0m\n\u001b[0;32m    340\u001b[0m                 \u001b[0mmode\u001b[0m\u001b[1;33m=\u001b[0m\u001b[0mModeKeys\u001b[0m\u001b[1;33m.\u001b[0m\u001b[0mTRAIN\u001b[0m\u001b[1;33m,\u001b[0m\u001b[1;33m\u001b[0m\u001b[1;33m\u001b[0m\u001b[0m\n\u001b[0;32m    341\u001b[0m                 \u001b[0mtraining_context\u001b[0m\u001b[1;33m=\u001b[0m\u001b[0mtraining_context\u001b[0m\u001b[1;33m,\u001b[0m\u001b[1;33m\u001b[0m\u001b[1;33m\u001b[0m\u001b[0m\n\u001b[1;32m--> 342\u001b[1;33m                 total_epochs=epochs)\n\u001b[0m\u001b[0;32m    343\u001b[0m             \u001b[0mcbks\u001b[0m\u001b[1;33m.\u001b[0m\u001b[0mmake_logs\u001b[0m\u001b[1;33m(\u001b[0m\u001b[0mmodel\u001b[0m\u001b[1;33m,\u001b[0m \u001b[0mepoch_logs\u001b[0m\u001b[1;33m,\u001b[0m \u001b[0mtraining_result\u001b[0m\u001b[1;33m,\u001b[0m \u001b[0mModeKeys\u001b[0m\u001b[1;33m.\u001b[0m\u001b[0mTRAIN\u001b[0m\u001b[1;33m)\u001b[0m\u001b[1;33m\u001b[0m\u001b[1;33m\u001b[0m\u001b[0m\n\u001b[0;32m    344\u001b[0m \u001b[1;33m\u001b[0m\u001b[0m\n",
      "\u001b[1;32mC:\\ProgramData\\Anaconda3\\envs\\tensor-gpu\\lib\\site-packages\\tensorflow_core\\python\\keras\\engine\\training_v2.py\u001b[0m in \u001b[0;36mrun_one_epoch\u001b[1;34m(model, iterator, execution_function, dataset_size, batch_size, strategy, steps_per_epoch, num_samples, mode, training_context, total_epochs)\u001b[0m\n\u001b[0;32m    126\u001b[0m         step=step, mode=mode, size=current_batch_size) as batch_logs:\n\u001b[0;32m    127\u001b[0m       \u001b[1;32mtry\u001b[0m\u001b[1;33m:\u001b[0m\u001b[1;33m\u001b[0m\u001b[1;33m\u001b[0m\u001b[0m\n\u001b[1;32m--> 128\u001b[1;33m         \u001b[0mbatch_outs\u001b[0m \u001b[1;33m=\u001b[0m \u001b[0mexecution_function\u001b[0m\u001b[1;33m(\u001b[0m\u001b[0miterator\u001b[0m\u001b[1;33m)\u001b[0m\u001b[1;33m\u001b[0m\u001b[1;33m\u001b[0m\u001b[0m\n\u001b[0m\u001b[0;32m    129\u001b[0m       \u001b[1;32mexcept\u001b[0m \u001b[1;33m(\u001b[0m\u001b[0mStopIteration\u001b[0m\u001b[1;33m,\u001b[0m \u001b[0merrors\u001b[0m\u001b[1;33m.\u001b[0m\u001b[0mOutOfRangeError\u001b[0m\u001b[1;33m)\u001b[0m\u001b[1;33m:\u001b[0m\u001b[1;33m\u001b[0m\u001b[1;33m\u001b[0m\u001b[0m\n\u001b[0;32m    130\u001b[0m         \u001b[1;31m# TODO(kaftan): File bug about tf function and errors.OutOfRangeError?\u001b[0m\u001b[1;33m\u001b[0m\u001b[1;33m\u001b[0m\u001b[1;33m\u001b[0m\u001b[0m\n",
      "\u001b[1;32mC:\\ProgramData\\Anaconda3\\envs\\tensor-gpu\\lib\\site-packages\\tensorflow_core\\python\\keras\\engine\\training_v2_utils.py\u001b[0m in \u001b[0;36mexecution_function\u001b[1;34m(input_fn)\u001b[0m\n\u001b[0;32m     96\u001b[0m     \u001b[1;31m# `numpy` translates Tensors to values in Eager mode.\u001b[0m\u001b[1;33m\u001b[0m\u001b[1;33m\u001b[0m\u001b[1;33m\u001b[0m\u001b[0m\n\u001b[0;32m     97\u001b[0m     return nest.map_structure(_non_none_constant_value,\n\u001b[1;32m---> 98\u001b[1;33m                               distributed_function(input_fn))\n\u001b[0m\u001b[0;32m     99\u001b[0m \u001b[1;33m\u001b[0m\u001b[0m\n\u001b[0;32m    100\u001b[0m   \u001b[1;32mreturn\u001b[0m \u001b[0mexecution_function\u001b[0m\u001b[1;33m\u001b[0m\u001b[1;33m\u001b[0m\u001b[0m\n",
      "\u001b[1;32mC:\\ProgramData\\Anaconda3\\envs\\tensor-gpu\\lib\\site-packages\\tensorflow_core\\python\\eager\\def_function.py\u001b[0m in \u001b[0;36m__call__\u001b[1;34m(self, *args, **kwds)\u001b[0m\n\u001b[0;32m    566\u001b[0m         \u001b[0mxla_context\u001b[0m\u001b[1;33m.\u001b[0m\u001b[0mExit\u001b[0m\u001b[1;33m(\u001b[0m\u001b[1;33m)\u001b[0m\u001b[1;33m\u001b[0m\u001b[1;33m\u001b[0m\u001b[0m\n\u001b[0;32m    567\u001b[0m     \u001b[1;32melse\u001b[0m\u001b[1;33m:\u001b[0m\u001b[1;33m\u001b[0m\u001b[1;33m\u001b[0m\u001b[0m\n\u001b[1;32m--> 568\u001b[1;33m       \u001b[0mresult\u001b[0m \u001b[1;33m=\u001b[0m \u001b[0mself\u001b[0m\u001b[1;33m.\u001b[0m\u001b[0m_call\u001b[0m\u001b[1;33m(\u001b[0m\u001b[1;33m*\u001b[0m\u001b[0margs\u001b[0m\u001b[1;33m,\u001b[0m \u001b[1;33m**\u001b[0m\u001b[0mkwds\u001b[0m\u001b[1;33m)\u001b[0m\u001b[1;33m\u001b[0m\u001b[1;33m\u001b[0m\u001b[0m\n\u001b[0m\u001b[0;32m    569\u001b[0m \u001b[1;33m\u001b[0m\u001b[0m\n\u001b[0;32m    570\u001b[0m     \u001b[1;32mif\u001b[0m \u001b[0mtracing_count\u001b[0m \u001b[1;33m==\u001b[0m \u001b[0mself\u001b[0m\u001b[1;33m.\u001b[0m\u001b[0m_get_tracing_count\u001b[0m\u001b[1;33m(\u001b[0m\u001b[1;33m)\u001b[0m\u001b[1;33m:\u001b[0m\u001b[1;33m\u001b[0m\u001b[1;33m\u001b[0m\u001b[0m\n",
      "\u001b[1;32mC:\\ProgramData\\Anaconda3\\envs\\tensor-gpu\\lib\\site-packages\\tensorflow_core\\python\\eager\\def_function.py\u001b[0m in \u001b[0;36m_call\u001b[1;34m(self, *args, **kwds)\u001b[0m\n\u001b[0;32m    613\u001b[0m       \u001b[1;31m# This is the first call of __call__, so we have to initialize.\u001b[0m\u001b[1;33m\u001b[0m\u001b[1;33m\u001b[0m\u001b[1;33m\u001b[0m\u001b[0m\n\u001b[0;32m    614\u001b[0m       \u001b[0minitializers\u001b[0m \u001b[1;33m=\u001b[0m \u001b[1;33m[\u001b[0m\u001b[1;33m]\u001b[0m\u001b[1;33m\u001b[0m\u001b[1;33m\u001b[0m\u001b[0m\n\u001b[1;32m--> 615\u001b[1;33m       \u001b[0mself\u001b[0m\u001b[1;33m.\u001b[0m\u001b[0m_initialize\u001b[0m\u001b[1;33m(\u001b[0m\u001b[0margs\u001b[0m\u001b[1;33m,\u001b[0m \u001b[0mkwds\u001b[0m\u001b[1;33m,\u001b[0m \u001b[0madd_initializers_to\u001b[0m\u001b[1;33m=\u001b[0m\u001b[0minitializers\u001b[0m\u001b[1;33m)\u001b[0m\u001b[1;33m\u001b[0m\u001b[1;33m\u001b[0m\u001b[0m\n\u001b[0m\u001b[0;32m    616\u001b[0m     \u001b[1;32mfinally\u001b[0m\u001b[1;33m:\u001b[0m\u001b[1;33m\u001b[0m\u001b[1;33m\u001b[0m\u001b[0m\n\u001b[0;32m    617\u001b[0m       \u001b[1;31m# At this point we know that the initialization is complete (or less\u001b[0m\u001b[1;33m\u001b[0m\u001b[1;33m\u001b[0m\u001b[1;33m\u001b[0m\u001b[0m\n",
      "\u001b[1;32mC:\\ProgramData\\Anaconda3\\envs\\tensor-gpu\\lib\\site-packages\\tensorflow_core\\python\\eager\\def_function.py\u001b[0m in \u001b[0;36m_initialize\u001b[1;34m(self, args, kwds, add_initializers_to)\u001b[0m\n\u001b[0;32m    495\u001b[0m     self._concrete_stateful_fn = (\n\u001b[0;32m    496\u001b[0m         self._stateful_fn._get_concrete_function_internal_garbage_collected(  # pylint: disable=protected-access\n\u001b[1;32m--> 497\u001b[1;33m             *args, **kwds))\n\u001b[0m\u001b[0;32m    498\u001b[0m \u001b[1;33m\u001b[0m\u001b[0m\n\u001b[0;32m    499\u001b[0m     \u001b[1;32mdef\u001b[0m \u001b[0minvalid_creator_scope\u001b[0m\u001b[1;33m(\u001b[0m\u001b[1;33m*\u001b[0m\u001b[0munused_args\u001b[0m\u001b[1;33m,\u001b[0m \u001b[1;33m**\u001b[0m\u001b[0munused_kwds\u001b[0m\u001b[1;33m)\u001b[0m\u001b[1;33m:\u001b[0m\u001b[1;33m\u001b[0m\u001b[1;33m\u001b[0m\u001b[0m\n",
      "\u001b[1;32mC:\\ProgramData\\Anaconda3\\envs\\tensor-gpu\\lib\\site-packages\\tensorflow_core\\python\\eager\\function.py\u001b[0m in \u001b[0;36m_get_concrete_function_internal_garbage_collected\u001b[1;34m(self, *args, **kwargs)\u001b[0m\n\u001b[0;32m   2387\u001b[0m       \u001b[0margs\u001b[0m\u001b[1;33m,\u001b[0m \u001b[0mkwargs\u001b[0m \u001b[1;33m=\u001b[0m \u001b[1;32mNone\u001b[0m\u001b[1;33m,\u001b[0m \u001b[1;32mNone\u001b[0m\u001b[1;33m\u001b[0m\u001b[1;33m\u001b[0m\u001b[0m\n\u001b[0;32m   2388\u001b[0m     \u001b[1;32mwith\u001b[0m \u001b[0mself\u001b[0m\u001b[1;33m.\u001b[0m\u001b[0m_lock\u001b[0m\u001b[1;33m:\u001b[0m\u001b[1;33m\u001b[0m\u001b[1;33m\u001b[0m\u001b[0m\n\u001b[1;32m-> 2389\u001b[1;33m       \u001b[0mgraph_function\u001b[0m\u001b[1;33m,\u001b[0m \u001b[0m_\u001b[0m\u001b[1;33m,\u001b[0m \u001b[0m_\u001b[0m \u001b[1;33m=\u001b[0m \u001b[0mself\u001b[0m\u001b[1;33m.\u001b[0m\u001b[0m_maybe_define_function\u001b[0m\u001b[1;33m(\u001b[0m\u001b[0margs\u001b[0m\u001b[1;33m,\u001b[0m \u001b[0mkwargs\u001b[0m\u001b[1;33m)\u001b[0m\u001b[1;33m\u001b[0m\u001b[1;33m\u001b[0m\u001b[0m\n\u001b[0m\u001b[0;32m   2390\u001b[0m     \u001b[1;32mreturn\u001b[0m \u001b[0mgraph_function\u001b[0m\u001b[1;33m\u001b[0m\u001b[1;33m\u001b[0m\u001b[0m\n\u001b[0;32m   2391\u001b[0m \u001b[1;33m\u001b[0m\u001b[0m\n",
      "\u001b[1;32mC:\\ProgramData\\Anaconda3\\envs\\tensor-gpu\\lib\\site-packages\\tensorflow_core\\python\\eager\\function.py\u001b[0m in \u001b[0;36m_maybe_define_function\u001b[1;34m(self, args, kwargs)\u001b[0m\n\u001b[0;32m   2701\u001b[0m \u001b[1;33m\u001b[0m\u001b[0m\n\u001b[0;32m   2702\u001b[0m       \u001b[0mself\u001b[0m\u001b[1;33m.\u001b[0m\u001b[0m_function_cache\u001b[0m\u001b[1;33m.\u001b[0m\u001b[0mmissed\u001b[0m\u001b[1;33m.\u001b[0m\u001b[0madd\u001b[0m\u001b[1;33m(\u001b[0m\u001b[0mcall_context_key\u001b[0m\u001b[1;33m)\u001b[0m\u001b[1;33m\u001b[0m\u001b[1;33m\u001b[0m\u001b[0m\n\u001b[1;32m-> 2703\u001b[1;33m       \u001b[0mgraph_function\u001b[0m \u001b[1;33m=\u001b[0m \u001b[0mself\u001b[0m\u001b[1;33m.\u001b[0m\u001b[0m_create_graph_function\u001b[0m\u001b[1;33m(\u001b[0m\u001b[0margs\u001b[0m\u001b[1;33m,\u001b[0m \u001b[0mkwargs\u001b[0m\u001b[1;33m)\u001b[0m\u001b[1;33m\u001b[0m\u001b[1;33m\u001b[0m\u001b[0m\n\u001b[0m\u001b[0;32m   2704\u001b[0m       \u001b[0mself\u001b[0m\u001b[1;33m.\u001b[0m\u001b[0m_function_cache\u001b[0m\u001b[1;33m.\u001b[0m\u001b[0mprimary\u001b[0m\u001b[1;33m[\u001b[0m\u001b[0mcache_key\u001b[0m\u001b[1;33m]\u001b[0m \u001b[1;33m=\u001b[0m \u001b[0mgraph_function\u001b[0m\u001b[1;33m\u001b[0m\u001b[1;33m\u001b[0m\u001b[0m\n\u001b[0;32m   2705\u001b[0m       \u001b[1;32mreturn\u001b[0m \u001b[0mgraph_function\u001b[0m\u001b[1;33m,\u001b[0m \u001b[0margs\u001b[0m\u001b[1;33m,\u001b[0m \u001b[0mkwargs\u001b[0m\u001b[1;33m\u001b[0m\u001b[1;33m\u001b[0m\u001b[0m\n",
      "\u001b[1;32mC:\\ProgramData\\Anaconda3\\envs\\tensor-gpu\\lib\\site-packages\\tensorflow_core\\python\\eager\\function.py\u001b[0m in \u001b[0;36m_create_graph_function\u001b[1;34m(self, args, kwargs, override_flat_arg_shapes)\u001b[0m\n\u001b[0;32m   2591\u001b[0m             \u001b[0marg_names\u001b[0m\u001b[1;33m=\u001b[0m\u001b[0marg_names\u001b[0m\u001b[1;33m,\u001b[0m\u001b[1;33m\u001b[0m\u001b[1;33m\u001b[0m\u001b[0m\n\u001b[0;32m   2592\u001b[0m             \u001b[0moverride_flat_arg_shapes\u001b[0m\u001b[1;33m=\u001b[0m\u001b[0moverride_flat_arg_shapes\u001b[0m\u001b[1;33m,\u001b[0m\u001b[1;33m\u001b[0m\u001b[1;33m\u001b[0m\u001b[0m\n\u001b[1;32m-> 2593\u001b[1;33m             capture_by_value=self._capture_by_value),\n\u001b[0m\u001b[0;32m   2594\u001b[0m         \u001b[0mself\u001b[0m\u001b[1;33m.\u001b[0m\u001b[0m_function_attributes\u001b[0m\u001b[1;33m,\u001b[0m\u001b[1;33m\u001b[0m\u001b[1;33m\u001b[0m\u001b[0m\n\u001b[0;32m   2595\u001b[0m         \u001b[1;31m# Tell the ConcreteFunction to clean up its graph once it goes out of\u001b[0m\u001b[1;33m\u001b[0m\u001b[1;33m\u001b[0m\u001b[1;33m\u001b[0m\u001b[0m\n",
      "\u001b[1;32mC:\\ProgramData\\Anaconda3\\envs\\tensor-gpu\\lib\\site-packages\\tensorflow_core\\python\\framework\\func_graph.py\u001b[0m in \u001b[0;36mfunc_graph_from_py_func\u001b[1;34m(name, python_func, args, kwargs, signature, func_graph, autograph, autograph_options, add_control_dependencies, arg_names, op_return_value, collections, capture_by_value, override_flat_arg_shapes)\u001b[0m\n\u001b[0;32m    976\u001b[0m                                           converted_func)\n\u001b[0;32m    977\u001b[0m \u001b[1;33m\u001b[0m\u001b[0m\n\u001b[1;32m--> 978\u001b[1;33m       \u001b[0mfunc_outputs\u001b[0m \u001b[1;33m=\u001b[0m \u001b[0mpython_func\u001b[0m\u001b[1;33m(\u001b[0m\u001b[1;33m*\u001b[0m\u001b[0mfunc_args\u001b[0m\u001b[1;33m,\u001b[0m \u001b[1;33m**\u001b[0m\u001b[0mfunc_kwargs\u001b[0m\u001b[1;33m)\u001b[0m\u001b[1;33m\u001b[0m\u001b[1;33m\u001b[0m\u001b[0m\n\u001b[0m\u001b[0;32m    979\u001b[0m \u001b[1;33m\u001b[0m\u001b[0m\n\u001b[0;32m    980\u001b[0m       \u001b[1;31m# invariant: `func_outputs` contains only Tensors, CompositeTensors,\u001b[0m\u001b[1;33m\u001b[0m\u001b[1;33m\u001b[0m\u001b[1;33m\u001b[0m\u001b[0m\n",
      "\u001b[1;32mC:\\ProgramData\\Anaconda3\\envs\\tensor-gpu\\lib\\site-packages\\tensorflow_core\\python\\eager\\def_function.py\u001b[0m in \u001b[0;36mwrapped_fn\u001b[1;34m(*args, **kwds)\u001b[0m\n\u001b[0;32m    437\u001b[0m         \u001b[1;31m# __wrapped__ allows AutoGraph to swap in a converted function. We give\u001b[0m\u001b[1;33m\u001b[0m\u001b[1;33m\u001b[0m\u001b[1;33m\u001b[0m\u001b[0m\n\u001b[0;32m    438\u001b[0m         \u001b[1;31m# the function a weak reference to itself to avoid a reference cycle.\u001b[0m\u001b[1;33m\u001b[0m\u001b[1;33m\u001b[0m\u001b[1;33m\u001b[0m\u001b[0m\n\u001b[1;32m--> 439\u001b[1;33m         \u001b[1;32mreturn\u001b[0m \u001b[0mweak_wrapped_fn\u001b[0m\u001b[1;33m(\u001b[0m\u001b[1;33m)\u001b[0m\u001b[1;33m.\u001b[0m\u001b[0m__wrapped__\u001b[0m\u001b[1;33m(\u001b[0m\u001b[1;33m*\u001b[0m\u001b[0margs\u001b[0m\u001b[1;33m,\u001b[0m \u001b[1;33m**\u001b[0m\u001b[0mkwds\u001b[0m\u001b[1;33m)\u001b[0m\u001b[1;33m\u001b[0m\u001b[1;33m\u001b[0m\u001b[0m\n\u001b[0m\u001b[0;32m    440\u001b[0m     \u001b[0mweak_wrapped_fn\u001b[0m \u001b[1;33m=\u001b[0m \u001b[0mweakref\u001b[0m\u001b[1;33m.\u001b[0m\u001b[0mref\u001b[0m\u001b[1;33m(\u001b[0m\u001b[0mwrapped_fn\u001b[0m\u001b[1;33m)\u001b[0m\u001b[1;33m\u001b[0m\u001b[1;33m\u001b[0m\u001b[0m\n\u001b[0;32m    441\u001b[0m \u001b[1;33m\u001b[0m\u001b[0m\n",
      "\u001b[1;32mC:\\ProgramData\\Anaconda3\\envs\\tensor-gpu\\lib\\site-packages\\tensorflow_core\\python\\keras\\engine\\training_v2_utils.py\u001b[0m in \u001b[0;36mdistributed_function\u001b[1;34m(input_iterator)\u001b[0m\n\u001b[0;32m     83\u001b[0m     \u001b[0margs\u001b[0m \u001b[1;33m=\u001b[0m \u001b[0m_prepare_feed_values\u001b[0m\u001b[1;33m(\u001b[0m\u001b[0mmodel\u001b[0m\u001b[1;33m,\u001b[0m \u001b[0minput_iterator\u001b[0m\u001b[1;33m,\u001b[0m \u001b[0mmode\u001b[0m\u001b[1;33m,\u001b[0m \u001b[0mstrategy\u001b[0m\u001b[1;33m)\u001b[0m\u001b[1;33m\u001b[0m\u001b[1;33m\u001b[0m\u001b[0m\n\u001b[0;32m     84\u001b[0m     outputs = strategy.experimental_run_v2(\n\u001b[1;32m---> 85\u001b[1;33m         per_replica_function, args=args)\n\u001b[0m\u001b[0;32m     86\u001b[0m     \u001b[1;31m# Out of PerReplica outputs reduce or pick values to return.\u001b[0m\u001b[1;33m\u001b[0m\u001b[1;33m\u001b[0m\u001b[1;33m\u001b[0m\u001b[0m\n\u001b[0;32m     87\u001b[0m     all_outputs = dist_utils.unwrap_output_dict(\n",
      "\u001b[1;32mC:\\ProgramData\\Anaconda3\\envs\\tensor-gpu\\lib\\site-packages\\tensorflow_core\\python\\distribute\\distribute_lib.py\u001b[0m in \u001b[0;36mexperimental_run_v2\u001b[1;34m(self, fn, args, kwargs)\u001b[0m\n\u001b[0;32m    761\u001b[0m       fn = autograph.tf_convert(fn, ag_ctx.control_status_ctx(),\n\u001b[0;32m    762\u001b[0m                                 convert_by_default=False)\n\u001b[1;32m--> 763\u001b[1;33m       \u001b[1;32mreturn\u001b[0m \u001b[0mself\u001b[0m\u001b[1;33m.\u001b[0m\u001b[0m_extended\u001b[0m\u001b[1;33m.\u001b[0m\u001b[0mcall_for_each_replica\u001b[0m\u001b[1;33m(\u001b[0m\u001b[0mfn\u001b[0m\u001b[1;33m,\u001b[0m \u001b[0margs\u001b[0m\u001b[1;33m=\u001b[0m\u001b[0margs\u001b[0m\u001b[1;33m,\u001b[0m \u001b[0mkwargs\u001b[0m\u001b[1;33m=\u001b[0m\u001b[0mkwargs\u001b[0m\u001b[1;33m)\u001b[0m\u001b[1;33m\u001b[0m\u001b[1;33m\u001b[0m\u001b[0m\n\u001b[0m\u001b[0;32m    764\u001b[0m \u001b[1;33m\u001b[0m\u001b[0m\n\u001b[0;32m    765\u001b[0m   \u001b[1;32mdef\u001b[0m \u001b[0mreduce\u001b[0m\u001b[1;33m(\u001b[0m\u001b[0mself\u001b[0m\u001b[1;33m,\u001b[0m \u001b[0mreduce_op\u001b[0m\u001b[1;33m,\u001b[0m \u001b[0mvalue\u001b[0m\u001b[1;33m,\u001b[0m \u001b[0maxis\u001b[0m\u001b[1;33m)\u001b[0m\u001b[1;33m:\u001b[0m\u001b[1;33m\u001b[0m\u001b[1;33m\u001b[0m\u001b[0m\n",
      "\u001b[1;32mC:\\ProgramData\\Anaconda3\\envs\\tensor-gpu\\lib\\site-packages\\tensorflow_core\\python\\distribute\\distribute_lib.py\u001b[0m in \u001b[0;36mcall_for_each_replica\u001b[1;34m(self, fn, args, kwargs)\u001b[0m\n\u001b[0;32m   1817\u001b[0m       \u001b[0mkwargs\u001b[0m \u001b[1;33m=\u001b[0m \u001b[1;33m{\u001b[0m\u001b[1;33m}\u001b[0m\u001b[1;33m\u001b[0m\u001b[1;33m\u001b[0m\u001b[0m\n\u001b[0;32m   1818\u001b[0m     \u001b[1;32mwith\u001b[0m \u001b[0mself\u001b[0m\u001b[1;33m.\u001b[0m\u001b[0m_container_strategy\u001b[0m\u001b[1;33m(\u001b[0m\u001b[1;33m)\u001b[0m\u001b[1;33m.\u001b[0m\u001b[0mscope\u001b[0m\u001b[1;33m(\u001b[0m\u001b[1;33m)\u001b[0m\u001b[1;33m:\u001b[0m\u001b[1;33m\u001b[0m\u001b[1;33m\u001b[0m\u001b[0m\n\u001b[1;32m-> 1819\u001b[1;33m       \u001b[1;32mreturn\u001b[0m \u001b[0mself\u001b[0m\u001b[1;33m.\u001b[0m\u001b[0m_call_for_each_replica\u001b[0m\u001b[1;33m(\u001b[0m\u001b[0mfn\u001b[0m\u001b[1;33m,\u001b[0m \u001b[0margs\u001b[0m\u001b[1;33m,\u001b[0m \u001b[0mkwargs\u001b[0m\u001b[1;33m)\u001b[0m\u001b[1;33m\u001b[0m\u001b[1;33m\u001b[0m\u001b[0m\n\u001b[0m\u001b[0;32m   1820\u001b[0m \u001b[1;33m\u001b[0m\u001b[0m\n\u001b[0;32m   1821\u001b[0m   \u001b[1;32mdef\u001b[0m \u001b[0m_call_for_each_replica\u001b[0m\u001b[1;33m(\u001b[0m\u001b[0mself\u001b[0m\u001b[1;33m,\u001b[0m \u001b[0mfn\u001b[0m\u001b[1;33m,\u001b[0m \u001b[0margs\u001b[0m\u001b[1;33m,\u001b[0m \u001b[0mkwargs\u001b[0m\u001b[1;33m)\u001b[0m\u001b[1;33m:\u001b[0m\u001b[1;33m\u001b[0m\u001b[1;33m\u001b[0m\u001b[0m\n",
      "\u001b[1;32mC:\\ProgramData\\Anaconda3\\envs\\tensor-gpu\\lib\\site-packages\\tensorflow_core\\python\\distribute\\distribute_lib.py\u001b[0m in \u001b[0;36m_call_for_each_replica\u001b[1;34m(self, fn, args, kwargs)\u001b[0m\n\u001b[0;32m   2162\u001b[0m         \u001b[0mself\u001b[0m\u001b[1;33m.\u001b[0m\u001b[0m_container_strategy\u001b[0m\u001b[1;33m(\u001b[0m\u001b[1;33m)\u001b[0m\u001b[1;33m,\u001b[0m\u001b[1;33m\u001b[0m\u001b[1;33m\u001b[0m\u001b[0m\n\u001b[0;32m   2163\u001b[0m         replica_id_in_sync_group=constant_op.constant(0, dtypes.int32)):\n\u001b[1;32m-> 2164\u001b[1;33m       \u001b[1;32mreturn\u001b[0m \u001b[0mfn\u001b[0m\u001b[1;33m(\u001b[0m\u001b[1;33m*\u001b[0m\u001b[0margs\u001b[0m\u001b[1;33m,\u001b[0m \u001b[1;33m**\u001b[0m\u001b[0mkwargs\u001b[0m\u001b[1;33m)\u001b[0m\u001b[1;33m\u001b[0m\u001b[1;33m\u001b[0m\u001b[0m\n\u001b[0m\u001b[0;32m   2165\u001b[0m \u001b[1;33m\u001b[0m\u001b[0m\n\u001b[0;32m   2166\u001b[0m   \u001b[1;32mdef\u001b[0m \u001b[0m_reduce_to\u001b[0m\u001b[1;33m(\u001b[0m\u001b[0mself\u001b[0m\u001b[1;33m,\u001b[0m \u001b[0mreduce_op\u001b[0m\u001b[1;33m,\u001b[0m \u001b[0mvalue\u001b[0m\u001b[1;33m,\u001b[0m \u001b[0mdestinations\u001b[0m\u001b[1;33m)\u001b[0m\u001b[1;33m:\u001b[0m\u001b[1;33m\u001b[0m\u001b[1;33m\u001b[0m\u001b[0m\n",
      "\u001b[1;32mC:\\ProgramData\\Anaconda3\\envs\\tensor-gpu\\lib\\site-packages\\tensorflow_core\\python\\autograph\\impl\\api.py\u001b[0m in \u001b[0;36mwrapper\u001b[1;34m(*args, **kwargs)\u001b[0m\n\u001b[0;32m    290\u001b[0m   \u001b[1;32mdef\u001b[0m \u001b[0mwrapper\u001b[0m\u001b[1;33m(\u001b[0m\u001b[1;33m*\u001b[0m\u001b[0margs\u001b[0m\u001b[1;33m,\u001b[0m \u001b[1;33m**\u001b[0m\u001b[0mkwargs\u001b[0m\u001b[1;33m)\u001b[0m\u001b[1;33m:\u001b[0m\u001b[1;33m\u001b[0m\u001b[1;33m\u001b[0m\u001b[0m\n\u001b[0;32m    291\u001b[0m     \u001b[1;32mwith\u001b[0m \u001b[0mag_ctx\u001b[0m\u001b[1;33m.\u001b[0m\u001b[0mControlStatusCtx\u001b[0m\u001b[1;33m(\u001b[0m\u001b[0mstatus\u001b[0m\u001b[1;33m=\u001b[0m\u001b[0mag_ctx\u001b[0m\u001b[1;33m.\u001b[0m\u001b[0mStatus\u001b[0m\u001b[1;33m.\u001b[0m\u001b[0mDISABLED\u001b[0m\u001b[1;33m)\u001b[0m\u001b[1;33m:\u001b[0m\u001b[1;33m\u001b[0m\u001b[1;33m\u001b[0m\u001b[0m\n\u001b[1;32m--> 292\u001b[1;33m       \u001b[1;32mreturn\u001b[0m \u001b[0mfunc\u001b[0m\u001b[1;33m(\u001b[0m\u001b[1;33m*\u001b[0m\u001b[0margs\u001b[0m\u001b[1;33m,\u001b[0m \u001b[1;33m**\u001b[0m\u001b[0mkwargs\u001b[0m\u001b[1;33m)\u001b[0m\u001b[1;33m\u001b[0m\u001b[1;33m\u001b[0m\u001b[0m\n\u001b[0m\u001b[0;32m    293\u001b[0m \u001b[1;33m\u001b[0m\u001b[0m\n\u001b[0;32m    294\u001b[0m   \u001b[1;32mif\u001b[0m \u001b[0minspect\u001b[0m\u001b[1;33m.\u001b[0m\u001b[0misfunction\u001b[0m\u001b[1;33m(\u001b[0m\u001b[0mfunc\u001b[0m\u001b[1;33m)\u001b[0m \u001b[1;32mor\u001b[0m \u001b[0minspect\u001b[0m\u001b[1;33m.\u001b[0m\u001b[0mismethod\u001b[0m\u001b[1;33m(\u001b[0m\u001b[0mfunc\u001b[0m\u001b[1;33m)\u001b[0m\u001b[1;33m:\u001b[0m\u001b[1;33m\u001b[0m\u001b[1;33m\u001b[0m\u001b[0m\n",
      "\u001b[1;32mC:\\ProgramData\\Anaconda3\\envs\\tensor-gpu\\lib\\site-packages\\tensorflow_core\\python\\keras\\engine\\training_v2_utils.py\u001b[0m in \u001b[0;36mtrain_on_batch\u001b[1;34m(model, x, y, sample_weight, class_weight, reset_metrics, standalone)\u001b[0m\n\u001b[0;32m    431\u001b[0m       \u001b[0my\u001b[0m\u001b[1;33m,\u001b[0m\u001b[1;33m\u001b[0m\u001b[1;33m\u001b[0m\u001b[0m\n\u001b[0;32m    432\u001b[0m       \u001b[0msample_weights\u001b[0m\u001b[1;33m=\u001b[0m\u001b[0msample_weights\u001b[0m\u001b[1;33m,\u001b[0m\u001b[1;33m\u001b[0m\u001b[1;33m\u001b[0m\u001b[0m\n\u001b[1;32m--> 433\u001b[1;33m       output_loss_metrics=model._output_loss_metrics)\n\u001b[0m\u001b[0;32m    434\u001b[0m \u001b[1;33m\u001b[0m\u001b[0m\n\u001b[0;32m    435\u001b[0m   \u001b[1;32mif\u001b[0m \u001b[0mreset_metrics\u001b[0m\u001b[1;33m:\u001b[0m\u001b[1;33m\u001b[0m\u001b[1;33m\u001b[0m\u001b[0m\n",
      "\u001b[1;32mC:\\ProgramData\\Anaconda3\\envs\\tensor-gpu\\lib\\site-packages\\tensorflow_core\\python\\keras\\engine\\training_eager.py\u001b[0m in \u001b[0;36mtrain_on_batch\u001b[1;34m(model, inputs, targets, sample_weights, output_loss_metrics)\u001b[0m\n\u001b[0;32m    310\u001b[0m           \u001b[0msample_weights\u001b[0m\u001b[1;33m=\u001b[0m\u001b[0msample_weights\u001b[0m\u001b[1;33m,\u001b[0m\u001b[1;33m\u001b[0m\u001b[1;33m\u001b[0m\u001b[0m\n\u001b[0;32m    311\u001b[0m           \u001b[0mtraining\u001b[0m\u001b[1;33m=\u001b[0m\u001b[1;32mTrue\u001b[0m\u001b[1;33m,\u001b[0m\u001b[1;33m\u001b[0m\u001b[1;33m\u001b[0m\u001b[0m\n\u001b[1;32m--> 312\u001b[1;33m           output_loss_metrics=output_loss_metrics))\n\u001b[0m\u001b[0;32m    313\u001b[0m   \u001b[1;32mif\u001b[0m \u001b[1;32mnot\u001b[0m \u001b[0misinstance\u001b[0m\u001b[1;33m(\u001b[0m\u001b[0mouts\u001b[0m\u001b[1;33m,\u001b[0m \u001b[0mlist\u001b[0m\u001b[1;33m)\u001b[0m\u001b[1;33m:\u001b[0m\u001b[1;33m\u001b[0m\u001b[1;33m\u001b[0m\u001b[0m\n\u001b[0;32m    314\u001b[0m     \u001b[0mouts\u001b[0m \u001b[1;33m=\u001b[0m \u001b[1;33m[\u001b[0m\u001b[0mouts\u001b[0m\u001b[1;33m]\u001b[0m\u001b[1;33m\u001b[0m\u001b[1;33m\u001b[0m\u001b[0m\n",
      "\u001b[1;32mC:\\ProgramData\\Anaconda3\\envs\\tensor-gpu\\lib\\site-packages\\tensorflow_core\\python\\keras\\engine\\training_eager.py\u001b[0m in \u001b[0;36m_process_single_batch\u001b[1;34m(model, inputs, targets, output_loss_metrics, sample_weights, training)\u001b[0m\n\u001b[0;32m    267\u001b[0m           \u001b[0mmodel\u001b[0m\u001b[1;33m.\u001b[0m\u001b[0m_backwards\u001b[0m\u001b[1;33m(\u001b[0m\u001b[0mtape\u001b[0m\u001b[1;33m,\u001b[0m \u001b[0mscaled_total_loss\u001b[0m\u001b[1;33m)\u001b[0m\u001b[1;33m\u001b[0m\u001b[1;33m\u001b[0m\u001b[0m\n\u001b[0;32m    268\u001b[0m         \u001b[1;32melse\u001b[0m\u001b[1;33m:\u001b[0m\u001b[1;33m\u001b[0m\u001b[1;33m\u001b[0m\u001b[0m\n\u001b[1;32m--> 269\u001b[1;33m           \u001b[0mgrads\u001b[0m \u001b[1;33m=\u001b[0m \u001b[0mtape\u001b[0m\u001b[1;33m.\u001b[0m\u001b[0mgradient\u001b[0m\u001b[1;33m(\u001b[0m\u001b[0mscaled_total_loss\u001b[0m\u001b[1;33m,\u001b[0m \u001b[0mtrainable_weights\u001b[0m\u001b[1;33m)\u001b[0m\u001b[1;33m\u001b[0m\u001b[1;33m\u001b[0m\u001b[0m\n\u001b[0m\u001b[0;32m    270\u001b[0m           if isinstance(model.optimizer,\n\u001b[0;32m    271\u001b[0m                         loss_scale_optimizer.LossScaleOptimizer):\n",
      "\u001b[1;32mC:\\ProgramData\\Anaconda3\\envs\\tensor-gpu\\lib\\site-packages\\tensorflow_core\\python\\eager\\backprop.py\u001b[0m in \u001b[0;36mgradient\u001b[1;34m(self, target, sources, output_gradients, unconnected_gradients)\u001b[0m\n\u001b[0;32m   1027\u001b[0m         \u001b[0moutput_gradients\u001b[0m\u001b[1;33m=\u001b[0m\u001b[0moutput_gradients\u001b[0m\u001b[1;33m,\u001b[0m\u001b[1;33m\u001b[0m\u001b[1;33m\u001b[0m\u001b[0m\n\u001b[0;32m   1028\u001b[0m         \u001b[0msources_raw\u001b[0m\u001b[1;33m=\u001b[0m\u001b[0mflat_sources_raw\u001b[0m\u001b[1;33m,\u001b[0m\u001b[1;33m\u001b[0m\u001b[1;33m\u001b[0m\u001b[0m\n\u001b[1;32m-> 1029\u001b[1;33m         unconnected_gradients=unconnected_gradients)\n\u001b[0m\u001b[0;32m   1030\u001b[0m \u001b[1;33m\u001b[0m\u001b[0m\n\u001b[0;32m   1031\u001b[0m     \u001b[1;32mif\u001b[0m \u001b[1;32mnot\u001b[0m \u001b[0mself\u001b[0m\u001b[1;33m.\u001b[0m\u001b[0m_persistent\u001b[0m\u001b[1;33m:\u001b[0m\u001b[1;33m\u001b[0m\u001b[1;33m\u001b[0m\u001b[0m\n",
      "\u001b[1;32mC:\\ProgramData\\Anaconda3\\envs\\tensor-gpu\\lib\\site-packages\\tensorflow_core\\python\\eager\\imperative_grad.py\u001b[0m in \u001b[0;36mimperative_grad\u001b[1;34m(tape, target, sources, output_gradients, sources_raw, unconnected_gradients)\u001b[0m\n\u001b[0;32m     75\u001b[0m       \u001b[0moutput_gradients\u001b[0m\u001b[1;33m,\u001b[0m\u001b[1;33m\u001b[0m\u001b[1;33m\u001b[0m\u001b[0m\n\u001b[0;32m     76\u001b[0m       \u001b[0msources_raw\u001b[0m\u001b[1;33m,\u001b[0m\u001b[1;33m\u001b[0m\u001b[1;33m\u001b[0m\u001b[0m\n\u001b[1;32m---> 77\u001b[1;33m       compat.as_str(unconnected_gradients.value))\n\u001b[0m",
      "\u001b[1;32mC:\\ProgramData\\Anaconda3\\envs\\tensor-gpu\\lib\\site-packages\\tensorflow_core\\python\\eager\\function.py\u001b[0m in \u001b[0;36m_backward_function\u001b[1;34m(*args)\u001b[0m\n\u001b[0;32m    786\u001b[0m     \u001b[1;32mdef\u001b[0m \u001b[0m_backward_function\u001b[0m\u001b[1;33m(\u001b[0m\u001b[1;33m*\u001b[0m\u001b[0margs\u001b[0m\u001b[1;33m)\u001b[0m\u001b[1;33m:\u001b[0m\u001b[1;33m\u001b[0m\u001b[1;33m\u001b[0m\u001b[0m\n\u001b[0;32m    787\u001b[0m       \u001b[0mcall_op\u001b[0m \u001b[1;33m=\u001b[0m \u001b[0moutputs\u001b[0m\u001b[1;33m[\u001b[0m\u001b[1;36m0\u001b[0m\u001b[1;33m]\u001b[0m\u001b[1;33m.\u001b[0m\u001b[0mop\u001b[0m\u001b[1;33m\u001b[0m\u001b[1;33m\u001b[0m\u001b[0m\n\u001b[1;32m--> 788\u001b[1;33m       \u001b[1;32mreturn\u001b[0m \u001b[0mself\u001b[0m\u001b[1;33m.\u001b[0m\u001b[0m_rewrite_forward_and_call_backward\u001b[0m\u001b[1;33m(\u001b[0m\u001b[0mcall_op\u001b[0m\u001b[1;33m,\u001b[0m \u001b[1;33m*\u001b[0m\u001b[0margs\u001b[0m\u001b[1;33m)\u001b[0m\u001b[1;33m\u001b[0m\u001b[1;33m\u001b[0m\u001b[0m\n\u001b[0m\u001b[0;32m    789\u001b[0m     \u001b[1;32mreturn\u001b[0m \u001b[0m_backward_function\u001b[0m\u001b[1;33m,\u001b[0m \u001b[0moutputs\u001b[0m\u001b[1;33m\u001b[0m\u001b[1;33m\u001b[0m\u001b[0m\n\u001b[0;32m    790\u001b[0m \u001b[1;33m\u001b[0m\u001b[0m\n",
      "\u001b[1;32mC:\\ProgramData\\Anaconda3\\envs\\tensor-gpu\\lib\\site-packages\\tensorflow_core\\python\\eager\\function.py\u001b[0m in \u001b[0;36m_rewrite_forward_and_call_backward\u001b[1;34m(self, op, *doutputs)\u001b[0m\n\u001b[0;32m    705\u001b[0m   \u001b[1;32mdef\u001b[0m \u001b[0m_rewrite_forward_and_call_backward\u001b[0m\u001b[1;33m(\u001b[0m\u001b[0mself\u001b[0m\u001b[1;33m,\u001b[0m \u001b[0mop\u001b[0m\u001b[1;33m,\u001b[0m \u001b[1;33m*\u001b[0m\u001b[0mdoutputs\u001b[0m\u001b[1;33m)\u001b[0m\u001b[1;33m:\u001b[0m\u001b[1;33m\u001b[0m\u001b[1;33m\u001b[0m\u001b[0m\n\u001b[0;32m    706\u001b[0m     \u001b[1;34m\"\"\"Add outputs to the forward call and feed them to the grad function.\"\"\"\u001b[0m\u001b[1;33m\u001b[0m\u001b[1;33m\u001b[0m\u001b[0m\n\u001b[1;32m--> 707\u001b[1;33m     \u001b[0mforward_function\u001b[0m\u001b[1;33m,\u001b[0m \u001b[0mbackwards_function\u001b[0m \u001b[1;33m=\u001b[0m \u001b[0mself\u001b[0m\u001b[1;33m.\u001b[0m\u001b[0mforward_backward\u001b[0m\u001b[1;33m(\u001b[0m\u001b[0mlen\u001b[0m\u001b[1;33m(\u001b[0m\u001b[0mdoutputs\u001b[0m\u001b[1;33m)\u001b[0m\u001b[1;33m)\u001b[0m\u001b[1;33m\u001b[0m\u001b[1;33m\u001b[0m\u001b[0m\n\u001b[0m\u001b[0;32m    708\u001b[0m     \u001b[1;32mif\u001b[0m \u001b[1;32mnot\u001b[0m \u001b[0mbackwards_function\u001b[0m\u001b[1;33m.\u001b[0m\u001b[0moutputs\u001b[0m\u001b[1;33m:\u001b[0m\u001b[1;33m\u001b[0m\u001b[1;33m\u001b[0m\u001b[0m\n\u001b[0;32m    709\u001b[0m       \u001b[1;32mreturn\u001b[0m \u001b[0mbackwards_function\u001b[0m\u001b[1;33m.\u001b[0m\u001b[0mstructured_outputs\u001b[0m\u001b[1;33m\u001b[0m\u001b[1;33m\u001b[0m\u001b[0m\n",
      "\u001b[1;32mC:\\ProgramData\\Anaconda3\\envs\\tensor-gpu\\lib\\site-packages\\tensorflow_core\\python\\eager\\function.py\u001b[0m in \u001b[0;36mforward_backward\u001b[1;34m(self, num_doutputs)\u001b[0m\n\u001b[0;32m    614\u001b[0m     \u001b[1;32mif\u001b[0m \u001b[0mforward_backward\u001b[0m \u001b[1;32mis\u001b[0m \u001b[1;32mnot\u001b[0m \u001b[1;32mNone\u001b[0m\u001b[1;33m:\u001b[0m\u001b[1;33m\u001b[0m\u001b[1;33m\u001b[0m\u001b[0m\n\u001b[0;32m    615\u001b[0m       \u001b[1;32mreturn\u001b[0m \u001b[0mforward_backward\u001b[0m\u001b[1;33m\u001b[0m\u001b[1;33m\u001b[0m\u001b[0m\n\u001b[1;32m--> 616\u001b[1;33m     \u001b[0mforward\u001b[0m\u001b[1;33m,\u001b[0m \u001b[0mbackward\u001b[0m \u001b[1;33m=\u001b[0m \u001b[0mself\u001b[0m\u001b[1;33m.\u001b[0m\u001b[0m_construct_forward_backward\u001b[0m\u001b[1;33m(\u001b[0m\u001b[0mnum_doutputs\u001b[0m\u001b[1;33m)\u001b[0m\u001b[1;33m\u001b[0m\u001b[1;33m\u001b[0m\u001b[0m\n\u001b[0m\u001b[0;32m    617\u001b[0m     \u001b[0mself\u001b[0m\u001b[1;33m.\u001b[0m\u001b[0m_cached_function_pairs\u001b[0m\u001b[1;33m[\u001b[0m\u001b[0mnum_doutputs\u001b[0m\u001b[1;33m]\u001b[0m \u001b[1;33m=\u001b[0m \u001b[1;33m(\u001b[0m\u001b[0mforward\u001b[0m\u001b[1;33m,\u001b[0m \u001b[0mbackward\u001b[0m\u001b[1;33m)\u001b[0m\u001b[1;33m\u001b[0m\u001b[1;33m\u001b[0m\u001b[0m\n\u001b[0;32m    618\u001b[0m     \u001b[1;32mreturn\u001b[0m \u001b[0mforward\u001b[0m\u001b[1;33m,\u001b[0m \u001b[0mbackward\u001b[0m\u001b[1;33m\u001b[0m\u001b[1;33m\u001b[0m\u001b[0m\n",
      "\u001b[1;32mC:\\ProgramData\\Anaconda3\\envs\\tensor-gpu\\lib\\site-packages\\tensorflow_core\\python\\eager\\function.py\u001b[0m in \u001b[0;36m_construct_forward_backward\u001b[1;34m(self, num_doutputs)\u001b[0m\n\u001b[0;32m    662\u001b[0m           \u001b[0margs\u001b[0m\u001b[1;33m=\u001b[0m\u001b[1;33m[\u001b[0m\u001b[1;33m]\u001b[0m\u001b[1;33m,\u001b[0m \u001b[0mkwargs\u001b[0m\u001b[1;33m=\u001b[0m\u001b[1;33m{\u001b[0m\u001b[1;33m}\u001b[0m\u001b[1;33m,\u001b[0m\u001b[1;33m\u001b[0m\u001b[1;33m\u001b[0m\u001b[0m\n\u001b[0;32m    663\u001b[0m           \u001b[0msignature\u001b[0m\u001b[1;33m=\u001b[0m\u001b[0msignature\u001b[0m\u001b[1;33m,\u001b[0m\u001b[1;33m\u001b[0m\u001b[1;33m\u001b[0m\u001b[0m\n\u001b[1;32m--> 664\u001b[1;33m           func_graph=backwards_graph)\n\u001b[0m\u001b[0;32m    665\u001b[0m       \u001b[0mbackwards_graph_captures\u001b[0m \u001b[1;33m=\u001b[0m \u001b[0mbackwards_graph\u001b[0m\u001b[1;33m.\u001b[0m\u001b[0mexternal_captures\u001b[0m\u001b[1;33m\u001b[0m\u001b[1;33m\u001b[0m\u001b[0m\n\u001b[0;32m    666\u001b[0m       captures_from_forward = [\n",
      "\u001b[1;32mC:\\ProgramData\\Anaconda3\\envs\\tensor-gpu\\lib\\site-packages\\tensorflow_core\\python\\framework\\func_graph.py\u001b[0m in \u001b[0;36mfunc_graph_from_py_func\u001b[1;34m(name, python_func, args, kwargs, signature, func_graph, autograph, autograph_options, add_control_dependencies, arg_names, op_return_value, collections, capture_by_value, override_flat_arg_shapes)\u001b[0m\n\u001b[0;32m    976\u001b[0m                                           converted_func)\n\u001b[0;32m    977\u001b[0m \u001b[1;33m\u001b[0m\u001b[0m\n\u001b[1;32m--> 978\u001b[1;33m       \u001b[0mfunc_outputs\u001b[0m \u001b[1;33m=\u001b[0m \u001b[0mpython_func\u001b[0m\u001b[1;33m(\u001b[0m\u001b[1;33m*\u001b[0m\u001b[0mfunc_args\u001b[0m\u001b[1;33m,\u001b[0m \u001b[1;33m**\u001b[0m\u001b[0mfunc_kwargs\u001b[0m\u001b[1;33m)\u001b[0m\u001b[1;33m\u001b[0m\u001b[1;33m\u001b[0m\u001b[0m\n\u001b[0m\u001b[0;32m    979\u001b[0m \u001b[1;33m\u001b[0m\u001b[0m\n\u001b[0;32m    980\u001b[0m       \u001b[1;31m# invariant: `func_outputs` contains only Tensors, CompositeTensors,\u001b[0m\u001b[1;33m\u001b[0m\u001b[1;33m\u001b[0m\u001b[1;33m\u001b[0m\u001b[0m\n",
      "\u001b[1;32mC:\\ProgramData\\Anaconda3\\envs\\tensor-gpu\\lib\\site-packages\\tensorflow_core\\python\\eager\\function.py\u001b[0m in \u001b[0;36m_backprop_function\u001b[1;34m(*grad_ys)\u001b[0m\n\u001b[0;32m    652\u001b[0m             \u001b[0mself\u001b[0m\u001b[1;33m.\u001b[0m\u001b[0m_func_graph\u001b[0m\u001b[1;33m.\u001b[0m\u001b[0minputs\u001b[0m\u001b[1;33m,\u001b[0m\u001b[1;33m\u001b[0m\u001b[1;33m\u001b[0m\u001b[0m\n\u001b[0;32m    653\u001b[0m             \u001b[0mgrad_ys\u001b[0m\u001b[1;33m=\u001b[0m\u001b[0mgrad_ys\u001b[0m\u001b[1;33m,\u001b[0m\u001b[1;33m\u001b[0m\u001b[1;33m\u001b[0m\u001b[0m\n\u001b[1;32m--> 654\u001b[1;33m             src_graph=self._func_graph)\n\u001b[0m\u001b[0;32m    655\u001b[0m \u001b[1;33m\u001b[0m\u001b[0m\n\u001b[0;32m    656\u001b[0m     \u001b[1;32mwith\u001b[0m \u001b[0mself\u001b[0m\u001b[1;33m.\u001b[0m\u001b[0m_func_graph\u001b[0m\u001b[1;33m.\u001b[0m\u001b[0mas_default\u001b[0m\u001b[1;33m(\u001b[0m\u001b[1;33m)\u001b[0m\u001b[1;33m:\u001b[0m\u001b[1;33m\u001b[0m\u001b[1;33m\u001b[0m\u001b[0m\n",
      "\u001b[1;32mC:\\ProgramData\\Anaconda3\\envs\\tensor-gpu\\lib\\site-packages\\tensorflow_core\\python\\ops\\gradients_util.py\u001b[0m in \u001b[0;36m_GradientsHelper\u001b[1;34m(ys, xs, grad_ys, name, colocate_gradients_with_ops, gate_gradients, aggregation_method, stop_gradients, unconnected_gradients, src_graph)\u001b[0m\n\u001b[0;32m    658\u001b[0m                 \u001b[1;31m# because While op emits non-differentiable resource tensors\u001b[0m\u001b[1;33m\u001b[0m\u001b[1;33m\u001b[0m\u001b[1;33m\u001b[0m\u001b[0m\n\u001b[0;32m    659\u001b[0m                 \u001b[1;31m# as outputs. Remove this check when that is not the case.\u001b[0m\u001b[1;33m\u001b[0m\u001b[1;33m\u001b[0m\u001b[1;33m\u001b[0m\u001b[0m\n\u001b[1;32m--> 660\u001b[1;33m                 \u001b[0mout_grads\u001b[0m\u001b[1;33m[\u001b[0m\u001b[0mi\u001b[0m\u001b[1;33m]\u001b[0m \u001b[1;33m=\u001b[0m \u001b[0mcontrol_flow_state\u001b[0m\u001b[1;33m.\u001b[0m\u001b[0mZerosLikeOutsideLoop\u001b[0m\u001b[1;33m(\u001b[0m\u001b[0mop\u001b[0m\u001b[1;33m,\u001b[0m \u001b[0mi\u001b[0m\u001b[1;33m)\u001b[0m\u001b[1;33m\u001b[0m\u001b[1;33m\u001b[0m\u001b[0m\n\u001b[0m\u001b[0;32m    661\u001b[0m           \u001b[1;32mwith\u001b[0m \u001b[0mops\u001b[0m\u001b[1;33m.\u001b[0m\u001b[0mname_scope\u001b[0m\u001b[1;33m(\u001b[0m\u001b[0mop\u001b[0m\u001b[1;33m.\u001b[0m\u001b[0mname\u001b[0m \u001b[1;33m+\u001b[0m \u001b[1;34m\"_grad\"\u001b[0m\u001b[1;33m)\u001b[0m\u001b[1;33m:\u001b[0m\u001b[1;33m\u001b[0m\u001b[1;33m\u001b[0m\u001b[0m\n\u001b[0;32m    662\u001b[0m             \u001b[1;31m# pylint: disable=protected-access\u001b[0m\u001b[1;33m\u001b[0m\u001b[1;33m\u001b[0m\u001b[1;33m\u001b[0m\u001b[0m\n",
      "\u001b[1;32mC:\\ProgramData\\Anaconda3\\envs\\tensor-gpu\\lib\\site-packages\\tensorflow_core\\python\\ops\\control_flow_state.py\u001b[0m in \u001b[0;36mZerosLikeOutsideLoop\u001b[1;34m(op, index)\u001b[0m\n\u001b[0;32m    788\u001b[0m       return array_ops.zeros(\n\u001b[0;32m    789\u001b[0m           \u001b[0mgen_resource_variable_ops\u001b[0m\u001b[1;33m.\u001b[0m\u001b[0mvariable_shape\u001b[0m\u001b[1;33m(\u001b[0m\u001b[0mval\u001b[0m\u001b[1;33m)\u001b[0m\u001b[1;33m,\u001b[0m\u001b[1;33m\u001b[0m\u001b[1;33m\u001b[0m\u001b[0m\n\u001b[1;32m--> 790\u001b[1;33m           dtype=default_gradient.get_zeros_dtype(val))\n\u001b[0m\u001b[0;32m    791\u001b[0m     \u001b[1;32mreturn\u001b[0m \u001b[0marray_ops\u001b[0m\u001b[1;33m.\u001b[0m\u001b[0mzeros_like\u001b[0m\u001b[1;33m(\u001b[0m\u001b[0mval\u001b[0m\u001b[1;33m,\u001b[0m \u001b[0moptimize\u001b[0m\u001b[1;33m=\u001b[0m\u001b[1;32mFalse\u001b[0m\u001b[1;33m)\u001b[0m\u001b[1;33m\u001b[0m\u001b[1;33m\u001b[0m\u001b[0m\n\u001b[0;32m    792\u001b[0m   \u001b[1;32melse\u001b[0m\u001b[1;33m:\u001b[0m\u001b[1;33m\u001b[0m\u001b[1;33m\u001b[0m\u001b[0m\n",
      "\u001b[1;32mC:\\ProgramData\\Anaconda3\\envs\\tensor-gpu\\lib\\site-packages\\tensorflow_core\\python\\ops\\array_ops.py\u001b[0m in \u001b[0;36mzeros\u001b[1;34m(shape, dtype, name)\u001b[0m\n\u001b[0;32m   2444\u001b[0m     \u001b[1;32mif\u001b[0m \u001b[1;32mnot\u001b[0m \u001b[0mshape\u001b[0m\u001b[1;33m.\u001b[0m\u001b[0m_shape_tuple\u001b[0m\u001b[1;33m(\u001b[0m\u001b[1;33m)\u001b[0m\u001b[1;33m:\u001b[0m\u001b[1;33m\u001b[0m\u001b[1;33m\u001b[0m\u001b[0m\n\u001b[0;32m   2445\u001b[0m       \u001b[0mshape\u001b[0m \u001b[1;33m=\u001b[0m \u001b[0mreshape\u001b[0m\u001b[1;33m(\u001b[0m\u001b[0mshape\u001b[0m\u001b[1;33m,\u001b[0m \u001b[1;33m[\u001b[0m\u001b[1;33m-\u001b[0m\u001b[1;36m1\u001b[0m\u001b[1;33m]\u001b[0m\u001b[1;33m)\u001b[0m  \u001b[1;31m# Ensure it's a vector\u001b[0m\u001b[1;33m\u001b[0m\u001b[1;33m\u001b[0m\u001b[0m\n\u001b[1;32m-> 2446\u001b[1;33m     \u001b[0moutput\u001b[0m \u001b[1;33m=\u001b[0m \u001b[0mfill\u001b[0m\u001b[1;33m(\u001b[0m\u001b[0mshape\u001b[0m\u001b[1;33m,\u001b[0m \u001b[0mconstant\u001b[0m\u001b[1;33m(\u001b[0m\u001b[0mzero\u001b[0m\u001b[1;33m,\u001b[0m \u001b[0mdtype\u001b[0m\u001b[1;33m=\u001b[0m\u001b[0mdtype\u001b[0m\u001b[1;33m)\u001b[0m\u001b[1;33m,\u001b[0m \u001b[0mname\u001b[0m\u001b[1;33m=\u001b[0m\u001b[0mname\u001b[0m\u001b[1;33m)\u001b[0m\u001b[1;33m\u001b[0m\u001b[1;33m\u001b[0m\u001b[0m\n\u001b[0m\u001b[0;32m   2447\u001b[0m   \u001b[1;32massert\u001b[0m \u001b[0moutput\u001b[0m\u001b[1;33m.\u001b[0m\u001b[0mdtype\u001b[0m\u001b[1;33m.\u001b[0m\u001b[0mbase_dtype\u001b[0m \u001b[1;33m==\u001b[0m \u001b[0mdtype\u001b[0m\u001b[1;33m\u001b[0m\u001b[1;33m\u001b[0m\u001b[0m\n\u001b[0;32m   2448\u001b[0m   \u001b[1;32mreturn\u001b[0m \u001b[0moutput\u001b[0m\u001b[1;33m\u001b[0m\u001b[1;33m\u001b[0m\u001b[0m\n",
      "\u001b[1;32mC:\\ProgramData\\Anaconda3\\envs\\tensor-gpu\\lib\\site-packages\\tensorflow_core\\python\\framework\\constant_op.py\u001b[0m in \u001b[0;36mconstant\u001b[1;34m(value, dtype, shape, name)\u001b[0m\n\u001b[0;32m    256\u001b[0m   \"\"\"\n\u001b[0;32m    257\u001b[0m   return _constant_impl(value, dtype, shape, name, verify_shape=False,\n\u001b[1;32m--> 258\u001b[1;33m                         allow_broadcast=True)\n\u001b[0m\u001b[0;32m    259\u001b[0m \u001b[1;33m\u001b[0m\u001b[0m\n\u001b[0;32m    260\u001b[0m \u001b[1;33m\u001b[0m\u001b[0m\n",
      "\u001b[1;32mC:\\ProgramData\\Anaconda3\\envs\\tensor-gpu\\lib\\site-packages\\tensorflow_core\\python\\framework\\constant_op.py\u001b[0m in \u001b[0;36m_constant_impl\u001b[1;34m(value, dtype, shape, name, verify_shape, allow_broadcast)\u001b[0m\n\u001b[0;32m    300\u001b[0m       attrs={\"value\": tensor_value,\n\u001b[0;32m    301\u001b[0m              \"dtype\": dtype_value},\n\u001b[1;32m--> 302\u001b[1;33m       name=name).outputs[0]\n\u001b[0m\u001b[0;32m    303\u001b[0m   \u001b[1;32mreturn\u001b[0m \u001b[0mconst_tensor\u001b[0m\u001b[1;33m\u001b[0m\u001b[1;33m\u001b[0m\u001b[0m\n\u001b[0;32m    304\u001b[0m \u001b[1;33m\u001b[0m\u001b[0m\n",
      "\u001b[1;32mC:\\ProgramData\\Anaconda3\\envs\\tensor-gpu\\lib\\site-packages\\tensorflow_core\\python\\framework\\func_graph.py\u001b[0m in \u001b[0;36m_create_op_internal\u001b[1;34m(self, op_type, inputs, dtypes, input_types, name, attrs, op_def, compute_device)\u001b[0m\n\u001b[0;32m    593\u001b[0m     return super(FuncGraph, self)._create_op_internal(  # pylint: disable=protected-access\n\u001b[0;32m    594\u001b[0m         \u001b[0mop_type\u001b[0m\u001b[1;33m,\u001b[0m \u001b[0minputs\u001b[0m\u001b[1;33m,\u001b[0m \u001b[0mdtypes\u001b[0m\u001b[1;33m,\u001b[0m \u001b[0minput_types\u001b[0m\u001b[1;33m,\u001b[0m \u001b[0mname\u001b[0m\u001b[1;33m,\u001b[0m \u001b[0mattrs\u001b[0m\u001b[1;33m,\u001b[0m \u001b[0mop_def\u001b[0m\u001b[1;33m,\u001b[0m\u001b[1;33m\u001b[0m\u001b[1;33m\u001b[0m\u001b[0m\n\u001b[1;32m--> 595\u001b[1;33m         compute_device)\n\u001b[0m\u001b[0;32m    596\u001b[0m \u001b[1;33m\u001b[0m\u001b[0m\n\u001b[0;32m    597\u001b[0m   \u001b[1;32mdef\u001b[0m \u001b[0mcapture\u001b[0m\u001b[1;33m(\u001b[0m\u001b[0mself\u001b[0m\u001b[1;33m,\u001b[0m \u001b[0mtensor\u001b[0m\u001b[1;33m,\u001b[0m \u001b[0mname\u001b[0m\u001b[1;33m=\u001b[0m\u001b[1;32mNone\u001b[0m\u001b[1;33m,\u001b[0m \u001b[0mshape\u001b[0m\u001b[1;33m=\u001b[0m\u001b[1;32mNone\u001b[0m\u001b[1;33m)\u001b[0m\u001b[1;33m:\u001b[0m\u001b[1;33m\u001b[0m\u001b[1;33m\u001b[0m\u001b[0m\n",
      "\u001b[1;32mC:\\ProgramData\\Anaconda3\\envs\\tensor-gpu\\lib\\site-packages\\tensorflow_core\\python\\framework\\ops.py\u001b[0m in \u001b[0;36m_create_op_internal\u001b[1;34m(self, op_type, inputs, dtypes, input_types, name, attrs, op_def, compute_device)\u001b[0m\n\u001b[0;32m   3320\u001b[0m           \u001b[0minput_types\u001b[0m\u001b[1;33m=\u001b[0m\u001b[0minput_types\u001b[0m\u001b[1;33m,\u001b[0m\u001b[1;33m\u001b[0m\u001b[1;33m\u001b[0m\u001b[0m\n\u001b[0;32m   3321\u001b[0m           \u001b[0moriginal_op\u001b[0m\u001b[1;33m=\u001b[0m\u001b[0mself\u001b[0m\u001b[1;33m.\u001b[0m\u001b[0m_default_original_op\u001b[0m\u001b[1;33m,\u001b[0m\u001b[1;33m\u001b[0m\u001b[1;33m\u001b[0m\u001b[0m\n\u001b[1;32m-> 3322\u001b[1;33m           op_def=op_def)\n\u001b[0m\u001b[0;32m   3323\u001b[0m       \u001b[0mself\u001b[0m\u001b[1;33m.\u001b[0m\u001b[0m_create_op_helper\u001b[0m\u001b[1;33m(\u001b[0m\u001b[0mret\u001b[0m\u001b[1;33m,\u001b[0m \u001b[0mcompute_device\u001b[0m\u001b[1;33m=\u001b[0m\u001b[0mcompute_device\u001b[0m\u001b[1;33m)\u001b[0m\u001b[1;33m\u001b[0m\u001b[1;33m\u001b[0m\u001b[0m\n\u001b[0;32m   3324\u001b[0m     \u001b[1;32mreturn\u001b[0m \u001b[0mret\u001b[0m\u001b[1;33m\u001b[0m\u001b[1;33m\u001b[0m\u001b[0m\n",
      "\u001b[1;32mC:\\ProgramData\\Anaconda3\\envs\\tensor-gpu\\lib\\site-packages\\tensorflow_core\\python\\framework\\ops.py\u001b[0m in \u001b[0;36m__init__\u001b[1;34m(self, node_def, g, inputs, output_types, control_inputs, input_types, original_op, op_def)\u001b[0m\n\u001b[0;32m   1784\u001b[0m           op_def, inputs, node_def.attr)\n\u001b[0;32m   1785\u001b[0m       self._c_op = _create_c_op(self._graph, node_def, grouped_inputs,\n\u001b[1;32m-> 1786\u001b[1;33m                                 control_input_ops)\n\u001b[0m\u001b[0;32m   1787\u001b[0m       \u001b[0mname\u001b[0m \u001b[1;33m=\u001b[0m \u001b[0mcompat\u001b[0m\u001b[1;33m.\u001b[0m\u001b[0mas_str\u001b[0m\u001b[1;33m(\u001b[0m\u001b[0mnode_def\u001b[0m\u001b[1;33m.\u001b[0m\u001b[0mname\u001b[0m\u001b[1;33m)\u001b[0m\u001b[1;33m\u001b[0m\u001b[1;33m\u001b[0m\u001b[0m\n\u001b[0;32m   1788\u001b[0m     \u001b[1;31m# pylint: enable=protected-access\u001b[0m\u001b[1;33m\u001b[0m\u001b[1;33m\u001b[0m\u001b[1;33m\u001b[0m\u001b[0m\n",
      "\u001b[1;32mC:\\ProgramData\\Anaconda3\\envs\\tensor-gpu\\lib\\site-packages\\tensorflow_core\\python\\framework\\ops.py\u001b[0m in \u001b[0;36m_create_c_op\u001b[1;34m(graph, node_def, inputs, control_inputs)\u001b[0m\n\u001b[0;32m   1594\u001b[0m   \u001b[1;31m# pylint: disable=protected-access\u001b[0m\u001b[1;33m\u001b[0m\u001b[1;33m\u001b[0m\u001b[1;33m\u001b[0m\u001b[0m\n\u001b[0;32m   1595\u001b[0m   op_desc = c_api.TF_NewOperation(graph._c_graph, compat.as_str(node_def.op),\n\u001b[1;32m-> 1596\u001b[1;33m                                   compat.as_str(node_def.name))\n\u001b[0m\u001b[0;32m   1597\u001b[0m   \u001b[1;32mif\u001b[0m \u001b[0mnode_def\u001b[0m\u001b[1;33m.\u001b[0m\u001b[0mdevice\u001b[0m\u001b[1;33m:\u001b[0m\u001b[1;33m\u001b[0m\u001b[1;33m\u001b[0m\u001b[0m\n\u001b[0;32m   1598\u001b[0m     \u001b[0mc_api\u001b[0m\u001b[1;33m.\u001b[0m\u001b[0mTF_SetDevice\u001b[0m\u001b[1;33m(\u001b[0m\u001b[0mop_desc\u001b[0m\u001b[1;33m,\u001b[0m \u001b[0mcompat\u001b[0m\u001b[1;33m.\u001b[0m\u001b[0mas_str\u001b[0m\u001b[1;33m(\u001b[0m\u001b[0mnode_def\u001b[0m\u001b[1;33m.\u001b[0m\u001b[0mdevice\u001b[0m\u001b[1;33m)\u001b[0m\u001b[1;33m)\u001b[0m\u001b[1;33m\u001b[0m\u001b[1;33m\u001b[0m\u001b[0m\n",
      "\u001b[1;31mKeyboardInterrupt\u001b[0m: "
     ]
    }
   ],
   "source": [
    "tuner  = Hyperband(\n",
    "    build_model,\n",
    "    objective = \"val_accuracy\",\n",
    "    hyperband_iterations=2,\n",
    "    max_epochs=80,\n",
    "    directory = LOG_DIR,\n",
    "    project_name='SignLagnuageModelOptimization'\n",
    "    )\n",
    "\n",
    "#tuner.search_space_summary()\n",
    "\n",
    "tuner.search(x=x_train, \n",
    "            y= y_train,\n",
    "            batch_size=32,\n",
    "            validation_data=(x_val,y_val))\n",
    "\n",
    "print(tuner.get_best_hyperparameters()[0].values)\n",
    "print(tuner.results_summary())\n",
    "\n",
    "import winsound\n",
    "frequency = 500  # Set Frequency To 2500 Hertz\n",
    "duration = 500  # Set Duration To 1000 ms == 1 second\n",
    "winsound.Beep(frequency, duration)\n",
    "winsound.Beep(frequency, duration)\n",
    "winsound.Beep(frequency, duration)"
   ]
  },
  {
   "cell_type": "markdown",
   "metadata": {},
   "source": [
    "## Export tuner object into pickle file\n",
    "so it can be used in other scripts"
   ]
  },
  {
   "cell_type": "code",
   "execution_count": null,
   "metadata": {},
   "outputs": [],
   "source": [
    "import pickle\n",
    "\n",
    "with open(f\"tuner_\"f\"{starttime}.pkl\", \"wb\") as f:\n",
    "    pickle.dump(tuner, f)\n",
    "    "
   ]
  },
  {
   "cell_type": "markdown",
   "metadata": {},
   "source": [
    "## Get best Trial from Tuner Object"
   ]
  },
  {
   "cell_type": "code",
   "execution_count": 9,
   "metadata": {},
   "outputs": [
    {
     "name": "stdout",
     "output_type": "stream",
     "text": [
      "Model: \"sequential\"\n",
      "_________________________________________________________________\n",
      "Layer (type)                 Output Shape              Param #   \n",
      "=================================================================\n",
      "lstm (LSTM)                  (None, 100, 192)          214272    \n",
      "_________________________________________________________________\n",
      "lstm_1 (LSTM)                (None, 100, 32)           28800     \n",
      "_________________________________________________________________\n",
      "lstm_2 (LSTM)                (None, 100, 96)           49536     \n",
      "_________________________________________________________________\n",
      "lstm_3 (LSTM)                (None, 64)                41216     \n",
      "_________________________________________________________________\n",
      "dense (Dense)                (None, 5)                 325       \n",
      "=================================================================\n",
      "Total params: 334,149\n",
      "Trainable params: 334,149\n",
      "Non-trainable params: 0\n",
      "_________________________________________________________________\n",
      "Model: \"sequential\"\n",
      "_________________________________________________________________\n",
      "Layer (type)                 Output Shape              Param #   \n",
      "=================================================================\n",
      "lstm (LSTM)                  (None, 100, 192)          214272    \n",
      "_________________________________________________________________\n",
      "lstm_1 (LSTM)                (None, 100, 32)           28800     \n",
      "_________________________________________________________________\n",
      "lstm_2 (LSTM)                (None, 100, 96)           49536     \n",
      "_________________________________________________________________\n",
      "lstm_3 (LSTM)                (None, 64)                41216     \n",
      "_________________________________________________________________\n",
      "dense (Dense)                (None, 5)                 325       \n",
      "=================================================================\n",
      "Total params: 334,149\n",
      "Trainable params: 334,149\n",
      "Non-trainable params: 0\n",
      "_________________________________________________________________\n"
     ]
    }
   ],
   "source": [
    "best_hp = tuner.get_best_hyperparameters()[0]\n",
    "bestmodel= tuner.hypermodel.build(best_hp)\n",
    "\n",
    "bestmodel.summary()\n"
   ]
  },
  {
   "cell_type": "code",
   "execution_count": 10,
   "metadata": {},
   "outputs": [
    {
     "name": "stdout",
     "output_type": "stream",
     "text": [
      "Train on 208 samples, validate on 69 samples\n",
      "Epoch 1/80\n",
      "208/208 - 6s - loss: 1.5561 - accuracy: 0.2981 - precision: 0.6154 - recall: 0.0385 - val_loss: 1.4307 - val_accuracy: 0.2319 - val_precision: 0.9091 - val_recall: 0.1449\n",
      "Epoch 2/80\n",
      "208/208 - 0s - loss: 1.3895 - accuracy: 0.4087 - precision: 0.9474 - recall: 0.0865 - val_loss: 1.3137 - val_accuracy: 0.3623 - val_precision: 0.7500 - val_recall: 0.1739\n",
      "Epoch 3/80\n",
      "208/208 - 0s - loss: 1.2339 - accuracy: 0.4423 - precision: 0.8077 - recall: 0.2019 - val_loss: 1.2004 - val_accuracy: 0.3478 - val_precision: 1.0000 - val_recall: 0.1159\n",
      "Epoch 4/80\n",
      "208/208 - 0s - loss: 1.1144 - accuracy: 0.4183 - precision: 0.9250 - recall: 0.1779 - val_loss: 1.1099 - val_accuracy: 0.5217 - val_precision: 0.7368 - val_recall: 0.2029\n",
      "Epoch 5/80\n",
      "208/208 - 0s - loss: 1.0482 - accuracy: 0.4808 - precision: 0.8077 - recall: 0.2019 - val_loss: 1.0696 - val_accuracy: 0.4928 - val_precision: 1.0000 - val_recall: 0.1594\n",
      "Epoch 6/80\n",
      "208/208 - 0s - loss: 1.0055 - accuracy: 0.4808 - precision: 0.8627 - recall: 0.2115 - val_loss: 0.9471 - val_accuracy: 0.5217 - val_precision: 0.8261 - val_recall: 0.2754\n",
      "Epoch 7/80\n",
      "208/208 - 0s - loss: 0.9280 - accuracy: 0.5288 - precision: 0.8507 - recall: 0.2740 - val_loss: 0.8375 - val_accuracy: 0.5797 - val_precision: 0.8276 - val_recall: 0.3478\n",
      "Epoch 8/80\n",
      "208/208 - 0s - loss: 0.9391 - accuracy: 0.5721 - precision: 0.6966 - recall: 0.2981 - val_loss: 0.7548 - val_accuracy: 0.6667 - val_precision: 0.8710 - val_recall: 0.3913\n",
      "Epoch 9/80\n",
      "208/208 - 0s - loss: 0.8655 - accuracy: 0.5673 - precision: 0.8068 - recall: 0.3413 - val_loss: 0.8617 - val_accuracy: 0.5652 - val_precision: 0.8929 - val_recall: 0.3623\n",
      "Epoch 10/80\n",
      "208/208 - 0s - loss: 0.8977 - accuracy: 0.5529 - precision: 0.5973 - recall: 0.4279 - val_loss: 0.9852 - val_accuracy: 0.4783 - val_precision: 0.8636 - val_recall: 0.2754\n",
      "Epoch 11/80\n",
      "208/208 - 0s - loss: 0.9054 - accuracy: 0.5481 - precision: 0.8451 - recall: 0.2885 - val_loss: 0.8362 - val_accuracy: 0.5652 - val_precision: 0.8621 - val_recall: 0.3623\n",
      "Epoch 12/80\n",
      "208/208 - 0s - loss: 0.8492 - accuracy: 0.5913 - precision: 0.8043 - recall: 0.3558 - val_loss: 0.7538 - val_accuracy: 0.6957 - val_precision: 0.9062 - val_recall: 0.4203\n",
      "Epoch 13/80\n",
      "208/208 - 0s - loss: 0.8528 - accuracy: 0.5913 - precision: 0.8391 - recall: 0.3510 - val_loss: 0.7901 - val_accuracy: 0.6667 - val_precision: 0.9000 - val_recall: 0.3913\n",
      "Epoch 14/80\n",
      "208/208 - 0s - loss: 0.8572 - accuracy: 0.5529 - precision: 0.8171 - recall: 0.3221 - val_loss: 1.0226 - val_accuracy: 0.4638 - val_precision: 0.8182 - val_recall: 0.2609\n",
      "Epoch 15/80\n",
      "208/208 - 0s - loss: 0.9596 - accuracy: 0.5240 - precision: 0.7941 - recall: 0.2596 - val_loss: 1.0382 - val_accuracy: 0.4348 - val_precision: 0.7619 - val_recall: 0.2319\n",
      "Epoch 16/80\n",
      "208/208 - 0s - loss: 0.9563 - accuracy: 0.5096 - precision: 0.8000 - recall: 0.2500 - val_loss: 0.9654 - val_accuracy: 0.4638 - val_precision: 0.8571 - val_recall: 0.2609\n",
      "Epoch 17/80\n",
      "208/208 - 0s - loss: 0.9502 - accuracy: 0.5096 - precision: 0.8387 - recall: 0.2500 - val_loss: 0.9606 - val_accuracy: 0.5072 - val_precision: 0.8571 - val_recall: 0.2609\n",
      "Epoch 18/80\n",
      "208/208 - 0s - loss: 0.9747 - accuracy: 0.5288 - precision: 0.8852 - recall: 0.2596 - val_loss: 1.0079 - val_accuracy: 0.4493 - val_precision: 0.7895 - val_recall: 0.2174\n",
      "Epoch 19/80\n",
      "208/208 - 0s - loss: 0.9730 - accuracy: 0.5240 - precision: 0.8983 - recall: 0.2548 - val_loss: 1.0139 - val_accuracy: 0.4203 - val_precision: 0.7895 - val_recall: 0.2174\n",
      "Epoch 20/80\n",
      "208/208 - 0s - loss: 0.9825 - accuracy: 0.5577 - precision: 0.7738 - recall: 0.3125 - val_loss: 1.0359 - val_accuracy: 0.5942 - val_precision: 0.7436 - val_recall: 0.4203\n",
      "Epoch 21/80\n",
      "208/208 - 0s - loss: 1.1471 - accuracy: 0.5385 - precision: 0.6421 - recall: 0.2933 - val_loss: 1.0967 - val_accuracy: 0.4203 - val_precision: 0.7222 - val_recall: 0.1884\n",
      "Epoch 22/80\n",
      "208/208 - 0s - loss: 1.0256 - accuracy: 0.4904 - precision: 0.8269 - recall: 0.2067 - val_loss: 1.1958 - val_accuracy: 0.4493 - val_precision: 0.7500 - val_recall: 0.2174\n",
      "Epoch 23/80\n",
      "208/208 - 0s - loss: 1.0294 - accuracy: 0.5144 - precision: 0.8246 - recall: 0.2260 - val_loss: 1.0805 - val_accuracy: 0.4058 - val_precision: 0.8125 - val_recall: 0.1884\n",
      "Epoch 24/80\n",
      "208/208 - 0s - loss: 1.0201 - accuracy: 0.4856 - precision: 0.8750 - recall: 0.2019 - val_loss: 1.0217 - val_accuracy: 0.5362 - val_precision: 0.7917 - val_recall: 0.2754\n",
      "Epoch 25/80\n",
      "208/208 - 0s - loss: 0.9838 - accuracy: 0.5433 - precision: 0.8056 - recall: 0.2788 - val_loss: 0.9526 - val_accuracy: 0.4928 - val_precision: 0.8571 - val_recall: 0.2609\n",
      "Epoch 26/80\n",
      "208/208 - 0s - loss: 0.9310 - accuracy: 0.5721 - precision: 0.8873 - recall: 0.3029 - val_loss: 0.8944 - val_accuracy: 0.5652 - val_precision: 0.8148 - val_recall: 0.3188\n",
      "Epoch 27/80\n",
      "208/208 - 0s - loss: 0.8849 - accuracy: 0.5721 - precision: 0.8250 - recall: 0.3173 - val_loss: 0.8364 - val_accuracy: 0.5942 - val_precision: 0.8966 - val_recall: 0.3768\n",
      "Epoch 28/80\n",
      "208/208 - 0s - loss: 0.8370 - accuracy: 0.5865 - precision: 0.7841 - recall: 0.3317 - val_loss: 0.9588 - val_accuracy: 0.4928 - val_precision: 0.7250 - val_recall: 0.4203\n",
      "Epoch 29/80\n",
      "208/208 - 0s - loss: 0.9041 - accuracy: 0.5481 - precision: 0.8000 - recall: 0.3462 - val_loss: 0.7992 - val_accuracy: 0.5652 - val_precision: 0.8571 - val_recall: 0.3478\n",
      "Epoch 30/80\n",
      "208/208 - 0s - loss: 0.7872 - accuracy: 0.5817 - precision: 0.7558 - recall: 0.3125 - val_loss: 0.7414 - val_accuracy: 0.6812 - val_precision: 0.8667 - val_recall: 0.3768\n",
      "Epoch 31/80\n",
      "208/208 - 0s - loss: 0.7213 - accuracy: 0.6538 - precision: 0.8511 - recall: 0.3846 - val_loss: 0.6754 - val_accuracy: 0.6522 - val_precision: 0.9091 - val_recall: 0.4348\n",
      "Epoch 32/80\n",
      "208/208 - 0s - loss: 0.6793 - accuracy: 0.6346 - precision: 0.7890 - recall: 0.4135 - val_loss: 0.6832 - val_accuracy: 0.6377 - val_precision: 0.9091 - val_recall: 0.4348\n",
      "Epoch 33/80\n",
      "208/208 - 0s - loss: 0.6958 - accuracy: 0.6538 - precision: 0.7101 - recall: 0.4712 - val_loss: 0.6485 - val_accuracy: 0.6377 - val_precision: 0.8788 - val_recall: 0.4203\n",
      "Epoch 34/80\n",
      "208/208 - 0s - loss: 0.6684 - accuracy: 0.6683 - precision: 0.6887 - recall: 0.5000 - val_loss: 0.6795 - val_accuracy: 0.6377 - val_precision: 0.9355 - val_recall: 0.4203\n",
      "Epoch 35/80\n",
      "208/208 - 0s - loss: 0.6710 - accuracy: 0.6442 - precision: 0.6742 - recall: 0.5769 - val_loss: 0.7264 - val_accuracy: 0.6232 - val_precision: 0.6364 - val_recall: 0.6087\n",
      "Epoch 36/80\n",
      "208/208 - 0s - loss: 0.7949 - accuracy: 0.6202 - precision: 0.6914 - recall: 0.5385 - val_loss: 0.6949 - val_accuracy: 0.6522 - val_precision: 0.9118 - val_recall: 0.4493\n",
      "Epoch 37/80\n",
      "208/208 - 0s - loss: 0.6943 - accuracy: 0.6731 - precision: 0.7627 - recall: 0.4327 - val_loss: 0.7493 - val_accuracy: 0.6232 - val_precision: 0.8438 - val_recall: 0.3913\n",
      "Epoch 38/80\n",
      "208/208 - 0s - loss: 0.7170 - accuracy: 0.6394 - precision: 0.6522 - recall: 0.5048 - val_loss: 0.7715 - val_accuracy: 0.6087 - val_precision: 0.6119 - val_recall: 0.5942\n",
      "Epoch 39/80\n",
      "208/208 - 0s - loss: 0.6821 - accuracy: 0.6298 - precision: 0.6755 - recall: 0.6106 - val_loss: 0.6769 - val_accuracy: 0.6812 - val_precision: 0.7400 - val_recall: 0.5362\n",
      "Epoch 40/80\n",
      "208/208 - 0s - loss: 0.6552 - accuracy: 0.6779 - precision: 0.7500 - recall: 0.5913 - val_loss: 0.6358 - val_accuracy: 0.6667 - val_precision: 0.6825 - val_recall: 0.6232\n",
      "Epoch 41/80\n",
      "208/208 - 0s - loss: 0.6088 - accuracy: 0.6923 - precision: 0.7225 - recall: 0.6635 - val_loss: 0.6407 - val_accuracy: 0.6377 - val_precision: 0.6377 - val_recall: 0.6377\n",
      "Epoch 42/80\n",
      "208/208 - 0s - loss: 0.5829 - accuracy: 0.6875 - precision: 0.7056 - recall: 0.6683 - val_loss: 0.6256 - val_accuracy: 0.6522 - val_precision: 0.6522 - val_recall: 0.6522\n",
      "Epoch 43/80\n",
      "208/208 - 0s - loss: 0.5794 - accuracy: 0.6875 - precision: 0.7026 - recall: 0.6587 - val_loss: 0.6206 - val_accuracy: 0.6667 - val_precision: 0.6667 - val_recall: 0.6377\n",
      "Epoch 44/80\n",
      "208/208 - 0s - loss: 0.5623 - accuracy: 0.6971 - precision: 0.7050 - recall: 0.6779 - val_loss: 0.6122 - val_accuracy: 0.7246 - val_precision: 0.7313 - val_recall: 0.7101\n",
      "Epoch 45/80\n",
      "208/208 - 0s - loss: 0.5595 - accuracy: 0.6923 - precision: 0.7044 - recall: 0.6875 - val_loss: 0.7814 - val_accuracy: 0.7101 - val_precision: 0.7059 - val_recall: 0.6957\n"
     ]
    },
    {
     "name": "stdout",
     "output_type": "stream",
     "text": [
      "Epoch 46/80\n",
      "208/208 - 0s - loss: 0.6328 - accuracy: 0.6971 - precision: 0.7015 - recall: 0.6779 - val_loss: 0.6672 - val_accuracy: 0.6667 - val_precision: 0.6515 - val_recall: 0.6232\n",
      "Epoch 47/80\n",
      "208/208 - 0s - loss: 0.5804 - accuracy: 0.7596 - precision: 0.7551 - recall: 0.7115 - val_loss: 0.5843 - val_accuracy: 0.7971 - val_precision: 0.7971 - val_recall: 0.7971\n",
      "Epoch 48/80\n",
      "208/208 - 0s - loss: 0.5804 - accuracy: 0.7212 - precision: 0.7387 - recall: 0.7067 - val_loss: 0.6091 - val_accuracy: 0.7391 - val_precision: 0.7705 - val_recall: 0.6812\n",
      "Epoch 49/80\n",
      "208/208 - 0s - loss: 0.5486 - accuracy: 0.7740 - precision: 0.7868 - recall: 0.7452 - val_loss: 0.6272 - val_accuracy: 0.7681 - val_precision: 0.7812 - val_recall: 0.7246\n",
      "Epoch 50/80\n",
      "208/208 - 0s - loss: 0.5180 - accuracy: 0.8077 - precision: 0.8159 - recall: 0.7885 - val_loss: 0.5456 - val_accuracy: 0.8406 - val_precision: 0.8507 - val_recall: 0.8261\n",
      "Epoch 51/80\n",
      "208/208 - 0s - loss: 0.5130 - accuracy: 0.7788 - precision: 0.7794 - recall: 0.7644 - val_loss: 0.5418 - val_accuracy: 0.8551 - val_precision: 0.8551 - val_recall: 0.8551\n",
      "Epoch 52/80\n",
      "208/208 - 0s - loss: 0.4695 - accuracy: 0.8317 - precision: 0.8341 - recall: 0.8221 - val_loss: 0.5485 - val_accuracy: 0.8261 - val_precision: 0.8261 - val_recall: 0.8261\n",
      "Epoch 53/80\n",
      "208/208 - 0s - loss: 0.5231 - accuracy: 0.7933 - precision: 0.7941 - recall: 0.7788 - val_loss: 0.6339 - val_accuracy: 0.7536 - val_precision: 0.7727 - val_recall: 0.7391\n",
      "Epoch 54/80\n",
      "208/208 - 0s - loss: 0.5637 - accuracy: 0.7644 - precision: 0.7778 - recall: 0.7404 - val_loss: 0.6605 - val_accuracy: 0.7536 - val_precision: 0.7833 - val_recall: 0.6812\n",
      "Epoch 55/80\n",
      "208/208 - 0s - loss: 0.5170 - accuracy: 0.7885 - precision: 0.7970 - recall: 0.7548 - val_loss: 0.6046 - val_accuracy: 0.7971 - val_precision: 0.7941 - val_recall: 0.7826\n",
      "Epoch 56/80\n",
      "208/208 - 0s - loss: 0.4924 - accuracy: 0.7885 - precision: 0.8141 - recall: 0.7788 - val_loss: 0.5955 - val_accuracy: 0.8116 - val_precision: 0.8116 - val_recall: 0.8116\n",
      "Epoch 57/80\n",
      "208/208 - 0s - loss: 0.4746 - accuracy: 0.8173 - precision: 0.8209 - recall: 0.7933 - val_loss: 0.5681 - val_accuracy: 0.8261 - val_precision: 0.8261 - val_recall: 0.8261\n",
      "Epoch 58/80\n",
      "208/208 - 0s - loss: 0.4604 - accuracy: 0.8221 - precision: 0.8177 - recall: 0.7981 - val_loss: 0.6004 - val_accuracy: 0.8261 - val_precision: 0.8182 - val_recall: 0.7826\n",
      "Epoch 59/80\n",
      "208/208 - 0s - loss: 0.4556 - accuracy: 0.8221 - precision: 0.8333 - recall: 0.7933 - val_loss: 0.5831 - val_accuracy: 0.8696 - val_precision: 0.8696 - val_recall: 0.8696\n",
      "Epoch 60/80\n",
      "208/208 - 0s - loss: 0.4569 - accuracy: 0.8510 - precision: 0.8488 - recall: 0.8365 - val_loss: 0.6573 - val_accuracy: 0.7246 - val_precision: 0.7353 - val_recall: 0.7246\n",
      "Epoch 61/80\n",
      "208/208 - 0s - loss: 0.5193 - accuracy: 0.7452 - precision: 0.7427 - recall: 0.7356 - val_loss: 0.6294 - val_accuracy: 0.8406 - val_precision: 0.8529 - val_recall: 0.8406\n",
      "Epoch 62/80\n",
      "208/208 - 0s - loss: 0.4443 - accuracy: 0.8462 - precision: 0.8488 - recall: 0.8365 - val_loss: 0.5160 - val_accuracy: 0.8696 - val_precision: 0.8788 - val_recall: 0.8406\n",
      "Epoch 63/80\n",
      "208/208 - 0s - loss: 0.4019 - accuracy: 0.8798 - precision: 0.8798 - recall: 0.8798 - val_loss: 0.5105 - val_accuracy: 0.8551 - val_precision: 0.8676 - val_recall: 0.8551\n",
      "Epoch 64/80\n",
      "208/208 - 0s - loss: 0.3476 - accuracy: 0.8894 - precision: 0.8894 - recall: 0.8894 - val_loss: 0.7946 - val_accuracy: 0.6957 - val_precision: 0.7164 - val_recall: 0.6957\n",
      "Epoch 65/80\n",
      "208/208 - 0s - loss: 0.4028 - accuracy: 0.8606 - precision: 0.8732 - recall: 0.8606 - val_loss: 0.5187 - val_accuracy: 0.8841 - val_precision: 0.8841 - val_recall: 0.8841\n",
      "Epoch 66/80\n",
      "208/208 - 0s - loss: 0.3373 - accuracy: 0.8846 - precision: 0.8878 - recall: 0.8750 - val_loss: 0.8732 - val_accuracy: 0.6957 - val_precision: 0.7059 - val_recall: 0.6957\n",
      "Epoch 67/80\n",
      "208/208 - 0s - loss: 0.6342 - accuracy: 0.7548 - precision: 0.7621 - recall: 0.7548 - val_loss: 0.9051 - val_accuracy: 0.6522 - val_precision: 0.6522 - val_recall: 0.6522\n",
      "Epoch 68/80\n",
      "208/208 - 0s - loss: 0.6122 - accuracy: 0.7404 - precision: 0.7488 - recall: 0.7308 - val_loss: 0.8437 - val_accuracy: 0.7246 - val_precision: 0.7077 - val_recall: 0.6667\n",
      "Epoch 69/80\n",
      "208/208 - 0s - loss: 0.6476 - accuracy: 0.7452 - precision: 0.7566 - recall: 0.6875 - val_loss: 0.5401 - val_accuracy: 0.8696 - val_precision: 0.8788 - val_recall: 0.8406\n",
      "Epoch 70/80\n",
      "208/208 - 0s - loss: 0.5242 - accuracy: 0.7885 - precision: 0.8020 - recall: 0.7596 - val_loss: 0.5861 - val_accuracy: 0.8261 - val_precision: 0.8485 - val_recall: 0.8116\n",
      "Epoch 71/80\n",
      "208/208 - 0s - loss: 0.4281 - accuracy: 0.8413 - precision: 0.8614 - recall: 0.8365 - val_loss: 0.4579 - val_accuracy: 0.8986 - val_precision: 0.8986 - val_recall: 0.8986\n",
      "Epoch 72/80\n",
      "208/208 - 0s - loss: 0.3583 - accuracy: 0.9135 - precision: 0.9126 - recall: 0.9038 - val_loss: 0.4451 - val_accuracy: 0.9130 - val_precision: 0.9130 - val_recall: 0.9130\n",
      "Epoch 73/80\n",
      "208/208 - 0s - loss: 0.3212 - accuracy: 0.9038 - precision: 0.9034 - recall: 0.8990 - val_loss: 0.5062 - val_accuracy: 0.8696 - val_precision: 0.8806 - val_recall: 0.8551\n",
      "Epoch 74/80\n",
      "208/208 - 0s - loss: 0.4144 - accuracy: 0.8654 - precision: 0.8654 - recall: 0.8654 - val_loss: 0.4630 - val_accuracy: 0.8696 - val_precision: 0.8696 - val_recall: 0.8696\n",
      "Epoch 75/80\n",
      "208/208 - 0s - loss: 0.3594 - accuracy: 0.8990 - precision: 0.8986 - recall: 0.8942 - val_loss: 0.5245 - val_accuracy: 0.8696 - val_precision: 0.8696 - val_recall: 0.8696\n",
      "Epoch 76/80\n",
      "208/208 - 0s - loss: 0.3239 - accuracy: 0.8942 - precision: 0.8986 - recall: 0.8942 - val_loss: 0.4759 - val_accuracy: 0.8696 - val_precision: 0.8696 - val_recall: 0.8696\n",
      "Epoch 77/80\n",
      "208/208 - 0s - loss: 0.3404 - accuracy: 0.8894 - precision: 0.8927 - recall: 0.8798 - val_loss: 0.4849 - val_accuracy: 0.8696 - val_precision: 0.8696 - val_recall: 0.8696\n",
      "Epoch 78/80\n",
      "208/208 - 0s - loss: 0.3297 - accuracy: 0.8846 - precision: 0.8841 - recall: 0.8798 - val_loss: 0.4162 - val_accuracy: 0.8841 - val_precision: 0.8841 - val_recall: 0.8841\n",
      "Epoch 79/80\n",
      "208/208 - 0s - loss: 0.3392 - accuracy: 0.9038 - precision: 0.9034 - recall: 0.8990 - val_loss: 0.4403 - val_accuracy: 0.8841 - val_precision: 0.8841 - val_recall: 0.8841\n",
      "Epoch 80/80\n",
      "208/208 - 0s - loss: 0.2836 - accuracy: 0.9087 - precision: 0.9087 - recall: 0.9087 - val_loss: 0.4469 - val_accuracy: 0.8841 - val_precision: 0.8841 - val_recall: 0.8841\n"
     ]
    }
   ],
   "source": [
    "tmp_chekpoints= \"tmp\\epoch{epoch:02d}-{val_accuracy:.2f}-{val_loss:.2f}.hdf5\"\n",
    "\n",
    "csv_log = tf.keras.callbacks.CSVLogger(\"log.csv\", separator=',', append=False)\n",
    "tb = tf.keras.callbacks.TensorBoard(log_dir='logs', histogram_freq=1, write_graph=False, write_images=False, update_freq='epoch', profile_batch=2, embeddings_freq=1, embeddings_metadata=None)\n",
    "es = tf.keras.callbacks.EarlyStopping(monitor='val_accuracy', min_delta=0.001, patience=20, verbose=0, mode='max', baseline=None, restore_best_weights=True)\n",
    "chk= tf.keras.callbacks.ModelCheckpoint(tmp_chekpoints, monitor='val_accuracy', verbose=0, save_best_only=False, save_weights_only=False, mode='max', save_freq='epoch')\n",
    "\n",
    "\n",
    "\n",
    "history = bestmodel.fit(x_train,y_train,epochs=80,batch_size=32, validation_data=(x_val,y_val),shuffle=False, verbose=2, callbacks=[csv_log, tb, chk])\n"
   ]
  },
  {
   "cell_type": "markdown",
   "metadata": {},
   "source": [
    "### Diagnostic Plots"
   ]
  },
  {
   "cell_type": "markdown",
   "metadata": {},
   "source": [
    "The training history of your LSTM models can be used to diagnose the behavior of your model.\n",
    "\n",
    "You can plot the performance of your model using the Matplotlib library. For example, you can plot training loss vs test loss as follows:"
   ]
  },
  {
   "cell_type": "code",
   "execution_count": 14,
   "metadata": {},
   "outputs": [
    {
     "data": {
      "image/png": "[encoded data removed]",
      "text/plain": [
       "<Figure size 432x288 with 1 Axes>"
      ]
     },
     "metadata": {
      "needs_background": "light"
     },
     "output_type": "display_data"
    },
    {
     "data": {
      "image/png": "[encoded data removed]",
      "text/plain": [
       "<Figure size 432x288 with 1 Axes>"
      ]
     },
     "metadata": {
      "needs_background": "light"
     },
     "output_type": "display_data"
    }
   ],
   "source": [
    "pyplot.plot(history.history['loss'])\n",
    "pyplot.plot(history.history['val_loss'])\n",
    "pyplot.title('model train vs validation loss')\n",
    "pyplot.ylabel('loss')\n",
    "pyplot.xlabel('epoch')\n",
    "pyplot.legend(['train', 'validation'], loc='upper right')\n",
    "pyplot.savefig(\"C:/ML/loss\"f\"{starttime}.png\")\n",
    "pyplot.show()\n",
    "\n",
    "pyplot.plot(history.history['accuracy'])\n",
    "pyplot.plot(history.history['val_accuracy'])\n",
    "pyplot.title('model train vs validation accuracy')\n",
    "pyplot.ylabel('accuracy')\n",
    "pyplot.xlabel('epoch')\n",
    "pyplot.legend(['train', 'validation'], loc='lower right')\n",
    "pyplot.savefig(\"C:/ML/accuracy_\"f\"{starttime}.png\")\n",
    "pyplot.show()"
   ]
  },
  {
   "cell_type": "markdown",
   "metadata": {},
   "source": [
    "#### Underfit Example\n",
    "Running this example produces a plot of train and validation loss showing the characteristic of an underfit model. In this case, performance may be improved by increasing the number of training epochs.\n",
    "\n",
    "\n",
    "<img src=\"assets/Diagnostic-Line-Plot-Showing-an-Underfit-Model.png\" width=\"400\">\n",
    "\n",
    "\n",
    "Running this example shows the characteristic of an underfit model that appears under-provisioned.\n",
    "In this case, performance may be improved by increasing the capacity of the model, such as the number of memory cells in a hidden layer or number of hidden layers.\n",
    "\n",
    "<img src=\"assets/Diagnostic-Line-Plot-Showing-an-Underfit-Model-via-Status.png\" width=\"400\">\n",
    "\n",
    "#### Good Fit Example\n",
    "Running the example creates a line plot showing the train and validation loss meeting.\n",
    "Ideally, we would like to see model performance like this if possible, although this may not be possible on challenging problems with a lot of data.\n",
    "\n",
    "<img src=\"assets/Diagnostic-Line-Plot-Showing-a-Good-Fit-for-a-Model.png\" width=\"400\">\n",
    "\n",
    "#### Overfit Example\n",
    "Running this example creates a plot showing the characteristic inflection point in validation loss of an overfit model.\n",
    "This may be a sign of too many training epochs.\n",
    "In this case, the model training could be stopped at the inflection point. Alternately, the number of training examples could be increased.\n",
    "\n",
    "<img src=\"assets/Diagnostic-Line-Plot-Showing-an-Overfit-Model.png\" width=\"400\">"
   ]
  },
  {
   "cell_type": "markdown",
   "metadata": {},
   "source": [
    "### Evaluate"
   ]
  },
  {
   "cell_type": "code",
   "execution_count": null,
   "metadata": {},
   "outputs": [],
   "source": [
    "#model = tf.keras.models.load_model('./tmp/epoch49-0.90-0.39.hdf5')\n",
    "\n",
    "\n",
    "bestmodel.evaluate(x=x_test, y=y_test, verbose=2)\n",
    "#model.evaluate(x=x_test, y=y_test, verbose=2)\n"
   ]
  },
  {
   "cell_type": "markdown",
   "metadata": {},
   "source": [
    "### Save model"
   ]
  },
  {
   "cell_type": "code",
   "execution_count": null,
   "metadata": {},
   "outputs": [],
   "source": [
    "model.save(\"sign_lang_recognition_tuned.h5\")"
   ]
  }
 ],
 "metadata": {
  "kernelspec": {
   "display_name": "tensor-gpu",
   "language": "python",
   "name": "tensor-gpu"
  },
  "language_info": {
   "codemirror_mode": {
    "name": "ipython",
    "version": 3
   },
   "file_extension": ".py",
   "mimetype": "text/x-python",
   "name": "python",
   "nbconvert_exporter": "python",
   "pygments_lexer": "ipython3",
   "version": "3.7.7"
  }
 },
 "nbformat": 4,
 "nbformat_minor": 2
}
