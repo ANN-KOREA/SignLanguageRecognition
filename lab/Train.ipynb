{
 "cells": [
  {
   "cell_type": "code",
   "execution_count": 1,
   "metadata": {},
   "outputs": [],
   "source": [
    "# Imports\n",
    "import os\n",
    "import warnings\n",
    "import tensorflow as tf\n",
    "import sklearn\n",
    "import numpy as np\n",
    "from sklearn.metrics import confusion_matrix\n",
    "from tensorflow.keras.utils import to_categorical\n",
    "from tensorflow.keras.preprocessing import sequence\n",
    "from tensorflow.keras import layers, models\n",
    "from tensorflow.keras.models import Sequential\n",
    "from tensorflow import keras\n",
    "from tensorflow.keras import layers\n",
    "from tensorflow.keras import optimizers\n",
    "from tensorflow.keras.layers import SimpleRNN, Dense\n",
    "from tensorflow.keras.layers import Bidirectional\n",
    "from tensorflow.compat.v1 import ConfigProto\n",
    "from tensorflow.compat.v1 import InteractiveSession\n",
    "from matplotlib import pyplot\n",
    "from data_repository import DataRepository\n",
    "import sys\n",
    "import tensorflow.keras as K\n",
    "\n",
    "np.set_printoptions(threshold=sys.maxsize)\n",
    "\n",
    "# Ignore future warnings\n",
    "warnings.simplefilter(action='ignore', category=FutureWarning)\n",
    "\n",
    "# Root CSV files directory\n",
    "dirname = './data/absolute/2D/'\n",
    "unseen_dirname = './data/absolute/2D_unknown/'\n",
    "\n"
   ]
  },
  {
   "cell_type": "code",
   "execution_count": 2,
   "metadata": {},
   "outputs": [
    {
     "name": "stdout",
     "output_type": "stream",
     "text": [
      "Num GPUs: 1\n"
     ]
    }
   ],
   "source": [
    "# GPU-initialization\n",
    "session = None\n",
    "if (session):\n",
    "    session.close()\n",
    "physical_devices = tf.config.list_physical_devices('GPU') \n",
    "print(\"Num GPUs:\", len(physical_devices)) \n",
    "\n",
    "config = ConfigProto()\n",
    "config.gpu_options.per_process_gpu_memory_fraction = 0.3\n",
    "config.gpu_options.allow_growth = True\n",
    "session = InteractiveSession(config=config)"
   ]
  },
  {
   "cell_type": "code",
   "execution_count": 4,
   "metadata": {},
   "outputs": [
    {
     "name": "stdout",
     "output_type": "stream",
     "text": [
      "['Computer', 'Deutschland', 'du', 'Haben', 'Hallo', 'ich', 'Mainz', 'Software', 'unser', 'Welt', 'zeigen']\n",
      "['unknown']\n",
      "num_classes 11\n"
     ]
    }
   ],
   "source": [
    "# Load data and print summary, if desired\n",
    "repo = DataRepository(dirname)\n",
    "X_train, X_val, X_test, y_train, y_val, y_test, labels = repo.getForTraining()\n",
    "X_unseen = repo.getUnseenX(unseen_dirname)\n",
    "num_classes = repo.numClasses\n",
    "print('num_classes', num_classes)"
   ]
  },
  {
   "cell_type": "code",
   "execution_count": 5,
   "metadata": {},
   "outputs": [
    {
     "name": "stdout",
     "output_type": "stream",
     "text": [
      "{0: 'Computer', 1: 'Deutschland', 2: 'du', 3: 'Haben', 4: 'Hallo', 5: 'ich', 6: 'Mainz', 7: 'Software', 8: 'unser', 9: 'Welt', 10: 'zeigen'}\n"
     ]
    }
   ],
   "source": [
    "#load tokens\n",
    "tokens = os.listdir(dirname)\n",
    "tokens = sorted(tokens, key=str.casefold) \n",
    "token_labels = {i:tokens[i] for i in range(0, len(tokens))}\n",
    "print(token_labels)"
   ]
  },
  {
   "cell_type": "code",
   "execution_count": 6,
   "metadata": {},
   "outputs": [
    {
     "name": "stdout",
     "output_type": "stream",
     "text": [
      "Model: \"model\"\n",
      "__________________________________________________________________________________________________\n",
      "Layer (type)                    Output Shape         Param #     Connected to                     \n",
      "==================================================================================================\n",
      "input_1 (InputLayer)            [(None, 100, 86)]    0                                            \n",
      "__________________________________________________________________________________________________\n",
      "bidirectional (Bidirectional)   (None, 100, 256)     220160      input_1[0][0]                    \n",
      "__________________________________________________________________________________________________\n",
      "dropout (Dropout)               (None, 100, 256)     0           bidirectional[0][0]              \n",
      "__________________________________________________________________________________________________\n",
      "bidirectional_1 (Bidirectional) (None, 100, 512)     1050624     dropout[0][0]                    \n",
      "__________________________________________________________________________________________________\n",
      "dropout_1 (Dropout)             (None, 100, 512)     0           bidirectional_1[0][0]            \n",
      "__________________________________________________________________________________________________\n",
      "bidirectional_2 (Bidirectional) (None, 100, 512)     1574912     dropout_1[0][0]                  \n",
      "__________________________________________________________________________________________________\n",
      "dropout_2 (Dropout)             (None, 100, 512)     0           bidirectional_2[0][0]            \n",
      "__________________________________________________________________________________________________\n",
      "bidirectional_3 (Bidirectional) (None, 100, 256)     656384      dropout_2[0][0]                  \n",
      "__________________________________________________________________________________________________\n",
      "dropout_3 (Dropout)             (None, 100, 256)     0           bidirectional_3[0][0]            \n",
      "__________________________________________________________________________________________________\n",
      "bidirectional_4 (Bidirectional) (None, 512)          1050624     dropout_3[0][0]                  \n",
      "__________________________________________________________________________________________________\n",
      "dropout_4 (Dropout)             (None, 512)          0           bidirectional_4[0][0]            \n",
      "__________________________________________________________________________________________________\n",
      "class_output (Dense)            (None, 11)           5643        dropout_4[0][0]                  \n",
      "__________________________________________________________________________________________________\n",
      "reject_output (Dense)           (None, 11)           5643        dropout_4[0][0]                  \n",
      "==================================================================================================\n",
      "Total params: 4,563,990\n",
      "Trainable params: 4,563,990\n",
      "Non-trainable params: 0\n",
      "__________________________________________________________________________________________________\n"
     ]
    }
   ],
   "source": [
    "# Model\n",
    "dropout = 0.2\n",
    "nodesizes = [256, 256, 128]\n",
    "\n",
    "inputs = keras.Input(shape=(X_train.shape[1], X_train.shape[2]))\n",
    "\n",
    "lstm = Bidirectional(layers.LSTM(128, return_sequences=True))(inputs)\n",
    "lstm = layers.Dropout(rate=dropout)(lstm)  \n",
    "\n",
    "for i in range(0,3):    #number of layers random between 1 an 3\n",
    "    lstm = Bidirectional(layers.LSTM(nodesizes[i],return_sequences=True))(lstm)\n",
    "    lstm = layers.Dropout(rate=dropout)(lstm)\n",
    "\n",
    "lstm = Bidirectional(layers.LSTM(256))(lstm)\n",
    "lstm = layers.Dropout(rate=dropout)(lstm)\n",
    "class_output = layers.Dense(num_classes, activation='softmax', name='class_output')(lstm)\n",
    "\n",
    "reject_output = layers.Dense(num_classes, activation='sigmoid', name='reject_output')(lstm)\n",
    "\n",
    "model = keras.models.Model(inputs=inputs, outputs=[class_output, reject_output])\n",
    "# Plot the model graph\n",
    "# keras.utils.plot_model(model, 'nn_graph.png', show_shapes=True)\n",
    "\n",
    "model.compile(loss={\n",
    "    'class_output': 'categorical_crossentropy', \n",
    "    'reject_output': 'binary_crossentropy'\n",
    "    },\n",
    "    optimizer='Adamax',\n",
    "    metrics=['accuracy',tf.keras.metrics.Precision(),tf.keras.metrics.Recall()])\n",
    "\n",
    "model.summary()\n"
   ]
  },
  {
   "cell_type": "code",
   "execution_count": 8,
   "metadata": {},
   "outputs": [
    {
     "name": "stdout",
     "output_type": "stream",
     "text": [
      "Epoch 1/10\n",
      "19/19 [==============================] - 1s 64ms/step - loss: 0.3225 - class_output_loss: 0.2572 - reject_output_loss: 0.0653 - class_output_accuracy: 0.9138 - class_output_precision: 0.9327 - class_output_recall: 0.8959 - reject_output_accuracy: 0.8959 - reject_output_precision: 0.9134 - reject_output_recall: 0.8330 - val_loss: 0.8731 - val_class_output_loss: 0.7650 - val_reject_output_loss: 0.1080 - val_class_output_accuracy: 0.7366 - val_class_output_precision: 0.7473 - val_class_output_recall: 0.7312 - val_reject_output_accuracy: 0.7419 - val_reject_output_precision: 0.7542 - val_reject_output_recall: 0.7258\n",
      "Epoch 2/10\n",
      "19/19 [==============================] - 1s 64ms/step - loss: 0.3921 - class_output_loss: 0.3210 - reject_output_loss: 0.0711 - class_output_accuracy: 0.8869 - class_output_precision: 0.8981 - class_output_recall: 0.8707 - reject_output_accuracy: 0.8564 - reject_output_precision: 0.8832 - reject_output_recall: 0.8007 - val_loss: 0.7839 - val_class_output_loss: 0.6903 - val_reject_output_loss: 0.0936 - val_class_output_accuracy: 0.7957 - val_class_output_precision: 0.8132 - val_class_output_recall: 0.7957 - val_reject_output_accuracy: 0.8118 - val_reject_output_precision: 0.8268 - val_reject_output_recall: 0.7957\n",
      "Epoch 3/10\n",
      "19/19 [==============================] - 1s 64ms/step - loss: 0.3466 - class_output_loss: 0.2805 - reject_output_loss: 0.0661 - class_output_accuracy: 0.9013 - class_output_precision: 0.9188 - class_output_recall: 0.8941 - reject_output_accuracy: 0.8887 - reject_output_precision: 0.9052 - reject_output_recall: 0.8402 - val_loss: 0.8169 - val_class_output_loss: 0.7150 - val_reject_output_loss: 0.1019 - val_class_output_accuracy: 0.7849 - val_class_output_precision: 0.7989 - val_class_output_recall: 0.7688 - val_reject_output_accuracy: 0.7849 - val_reject_output_precision: 0.7901 - val_reject_output_recall: 0.7688\n",
      "Epoch 4/10\n",
      "19/19 [==============================] - 1s 65ms/step - loss: 0.3297 - class_output_loss: 0.2663 - reject_output_loss: 0.0634 - class_output_accuracy: 0.8959 - class_output_precision: 0.9024 - class_output_recall: 0.8797 - reject_output_accuracy: 0.8707 - reject_output_precision: 0.9061 - reject_output_recall: 0.8492 - val_loss: 0.7095 - val_class_output_loss: 0.6154 - val_reject_output_loss: 0.0940 - val_class_output_accuracy: 0.8011 - val_class_output_precision: 0.8087 - val_class_output_recall: 0.7957 - val_reject_output_accuracy: 0.7903 - val_reject_output_precision: 0.7784 - val_reject_output_recall: 0.7742\n",
      "Epoch 5/10\n",
      "19/19 [==============================] - 1s 64ms/step - loss: 0.3596 - class_output_loss: 0.2935 - reject_output_loss: 0.0661 - class_output_accuracy: 0.9031 - class_output_precision: 0.9103 - class_output_recall: 0.8923 - reject_output_accuracy: 0.8671 - reject_output_precision: 0.8881 - reject_output_recall: 0.8546 - val_loss: 0.9602 - val_class_output_loss: 0.8495 - val_reject_output_loss: 0.1107 - val_class_output_accuracy: 0.7796 - val_class_output_precision: 0.7955 - val_class_output_recall: 0.7527 - val_reject_output_accuracy: 0.7957 - val_reject_output_precision: 0.7833 - val_reject_output_recall: 0.7581\n",
      "Epoch 6/10\n",
      "19/19 [==============================] - 1s 65ms/step - loss: 0.3198 - class_output_loss: 0.2590 - reject_output_loss: 0.0608 - class_output_accuracy: 0.9031 - class_output_precision: 0.9173 - class_output_recall: 0.8959 - reject_output_accuracy: 0.8923 - reject_output_precision: 0.9004 - reject_output_recall: 0.8438 - val_loss: 0.7625 - val_class_output_loss: 0.6661 - val_reject_output_loss: 0.0964 - val_class_output_accuracy: 0.7688 - val_class_output_precision: 0.7772 - val_class_output_recall: 0.7688 - val_reject_output_accuracy: 0.8065 - val_reject_output_precision: 0.8011 - val_reject_output_recall: 0.7796\n",
      "Epoch 7/10\n",
      "19/19 [==============================] - 1s 64ms/step - loss: 0.2951 - class_output_loss: 0.2400 - reject_output_loss: 0.0551 - class_output_accuracy: 0.9174 - class_output_precision: 0.9220 - class_output_recall: 0.9120 - reject_output_accuracy: 0.9031 - reject_output_precision: 0.9226 - reject_output_recall: 0.8779 - val_loss: 0.7968 - val_class_output_loss: 0.7020 - val_reject_output_loss: 0.0948 - val_class_output_accuracy: 0.8172 - val_class_output_precision: 0.8483 - val_class_output_recall: 0.8118 - val_reject_output_accuracy: 0.8226 - val_reject_output_precision: 0.8483 - val_reject_output_recall: 0.8118\n",
      "Epoch 8/10\n",
      "19/19 [==============================] - 1s 64ms/step - loss: 0.2742 - class_output_loss: 0.2213 - reject_output_loss: 0.0529 - class_output_accuracy: 0.9318 - class_output_precision: 0.9378 - class_output_recall: 0.9210 - reject_output_accuracy: 0.9210 - reject_output_precision: 0.9241 - reject_output_recall: 0.8743 - val_loss: 0.6043 - val_class_output_loss: 0.5251 - val_reject_output_loss: 0.0792 - val_class_output_accuracy: 0.8387 - val_class_output_precision: 0.8470 - val_class_output_recall: 0.8333 - val_reject_output_accuracy: 0.8441 - val_reject_output_precision: 0.8444 - val_reject_output_recall: 0.8172\n",
      "Epoch 9/10\n",
      "19/19 [==============================] - 1s 65ms/step - loss: 0.2097 - class_output_loss: 0.1657 - reject_output_loss: 0.0439 - class_output_accuracy: 0.9425 - class_output_precision: 0.9455 - class_output_recall: 0.9336 - reject_output_accuracy: 0.9336 - reject_output_precision: 0.9547 - reject_output_recall: 0.9084 - val_loss: 0.7206 - val_class_output_loss: 0.6299 - val_reject_output_loss: 0.0908 - val_class_output_accuracy: 0.8118 - val_class_output_precision: 0.8297 - val_class_output_recall: 0.8118 - val_reject_output_accuracy: 0.8226 - val_reject_output_precision: 0.8362 - val_reject_output_recall: 0.7957\n",
      "Epoch 10/10\n",
      "19/19 [==============================] - 1s 64ms/step - loss: 0.2090 - class_output_loss: 0.1640 - reject_output_loss: 0.0450 - class_output_accuracy: 0.9497 - class_output_precision: 0.9529 - class_output_recall: 0.9443 - reject_output_accuracy: 0.9300 - reject_output_precision: 0.9292 - reject_output_recall: 0.8959 - val_loss: 0.6380 - val_class_output_loss: 0.5541 - val_reject_output_loss: 0.0839 - val_class_output_accuracy: 0.8495 - val_class_output_precision: 0.8533 - val_class_output_recall: 0.8441 - val_reject_output_accuracy: 0.8387 - val_reject_output_precision: 0.8424 - val_reject_output_recall: 0.8333\n"
     ]
    }
   ],
   "source": [
    "# Train\n",
    "history = model.fit(\n",
    "    X_train, [y_train, y_train], \n",
    "    epochs=10, \n",
    "    batch_size=30, \n",
    "    validation_data=(X_val,[y_val, y_val]), \n",
    "    shuffle=False)"
   ]
  },
  {
   "cell_type": "code",
   "execution_count": 9,
   "metadata": {},
   "outputs": [
    {
     "name": "stdout",
     "output_type": "stream",
     "text": [
      "6/6 - 0s - loss: 0.7448 - class_output_loss: 0.6487 - reject_output_loss: 0.0961 - class_output_accuracy: 0.8172 - class_output_precision: 0.8251 - class_output_recall: 0.8118 - reject_output_accuracy: 0.8118 - reject_output_precision: 0.8462 - reject_output_recall: 0.7688\n"
     ]
    }
   ],
   "source": [
    "#Test accuracy\n",
    "y_eval = model.evaluate(X_test, [y_test, y_test], verbose=2)"
   ]
  },
  {
   "cell_type": "code",
   "execution_count": 10,
   "metadata": {},
   "outputs": [],
   "source": [
    "# Decode one_hot\n",
    "\n",
    "y_train_dec = [np.argmax(encoded) for encoded in y_train]\n",
    "y_train_dec = np.array(y_train_dec)"
   ]
  },
  {
   "cell_type": "code",
   "execution_count": 11,
   "metadata": {},
   "outputs": [
    {
     "name": "stdout",
     "output_type": "stream",
     "text": [
      "(557, 11)\n",
      "0\n"
     ]
    }
   ],
   "source": [
    "# predict on training examples for calculate standard deviation\n",
    "seen_train_X_pred = np.array(model.predict(X_train)[1])\n",
    "print(seen_train_X_pred.shape)\n",
    "print(y_train_dec[0])"
   ]
  },
  {
   "cell_type": "code",
   "execution_count": 12,
   "metadata": {},
   "outputs": [],
   "source": [
    "# Fit gaussian model\n",
    "from scipy.stats import norm as dist_model\n",
    "def fit(prob_pos_X):\n",
    "    prob_pos = [p for p in prob_pos_X]+[2-p for p in prob_pos_X]\n",
    "    pos_mu, pos_std = dist_model.fit(prob_pos)\n",
    "    return pos_mu, pos_std"
   ]
  },
  {
   "cell_type": "code",
   "execution_count": 20,
   "metadata": {},
   "outputs": [],
   "source": [
    "mu_stds = []\n",
    "for i in range(num_classes):\n",
    "    pos_mu, pos_std = fit(seen_train_X_pred[y_train_dec==i,i])\n",
    "    mu_stds.append([pos_mu, pos_std])"
   ]
  },
  {
   "cell_type": "code",
   "execution_count": 22,
   "metadata": {},
   "outputs": [
    {
     "name": "stdout",
     "output_type": "stream",
     "text": [
      "[[1.0, 0.07194689174619102], [1.0, 0.07220374510364298], [1.0, 0.36278156781648496], [1.0, 0.13213593837784884], [1.0, 0.282475697317373], [1.0, 0.21665540518354512], [1.0, 0.3476015016078202], [1.0, 0.33441150390775776], [1.0, 0.6170896046740595], [1.0, 0.2509725077925654], [1.0, 0.23270635965707956]]\n"
     ]
    }
   ],
   "source": [
    "print(mu_stds)"
   ]
  },
  {
   "cell_type": "code",
   "execution_count": 23,
   "metadata": {},
   "outputs": [],
   "source": [
    "# Predict on test examples\n",
    "test_X_pred = model.predict(np.concatenate([X_test, X_unseen], axis=0))[1]\n",
    "test_y_gt = np.concatenate([[np.argmax(encoded) for encoded in y_test], [num_classes for _ in X_unseen]], axis=0)"
   ]
  },
  {
   "cell_type": "code",
   "execution_count": 24,
   "metadata": {},
   "outputs": [],
   "source": [
    "# get reject prediction based on threshold\n",
    "test_y_pred = []\n",
    "scale = 1.\n",
    "for p in test_X_pred:\n",
    "    max_class = np.argmax(p)\n",
    "    max_value = np.max(p)\n",
    "    threshold = max(0.5, 1. - scale * mu_stds[max_class][1])\n",
    "    if max_value > threshold:\n",
    "        test_y_pred.append(max_class)\n",
    "    else:\n",
    "        test_y_pred.append(num_classes)"
   ]
  },
  {
   "cell_type": "code",
   "execution_count": 25,
   "metadata": {},
   "outputs": [],
   "source": [
    "from sklearn.metrics import precision_recall_fscore_support"
   ]
  },
  {
   "cell_type": "code",
   "execution_count": 26,
   "metadata": {},
   "outputs": [
    {
     "name": "stdout",
     "output_type": "stream",
     "text": [
      "macro fscore: 0.1976192520606971\n"
     ]
    }
   ],
   "source": [
    "precision, recall, fscore, _ = precision_recall_fscore_support(test_y_gt, test_y_pred)\n",
    "print('macro fscore:', np.mean(fscore))"
   ]
  }
 ],
 "metadata": {
  "kernelspec": {
   "display_name": "Python 3",
   "language": "python",
   "name": "python3"
  },
  "language_info": {
   "codemirror_mode": {
    "name": "ipython",
    "version": 3
   },
   "file_extension": ".py",
   "mimetype": "text/x-python",
   "name": "python",
   "nbconvert_exporter": "python",
   "pygments_lexer": "ipython3",
   "version": "3.8.3"
  }
 },
 "nbformat": 4,
 "nbformat_minor": 4
}
